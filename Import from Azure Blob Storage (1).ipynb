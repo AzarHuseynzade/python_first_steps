{
 "cells": [
  {
   "cell_type": "markdown",
   "metadata": {
    "application/vnd.databricks.v1+cell": {
     "cellMetadata": {
      "byteLimit": 2048000,
      "rowLimit": 10000
     },
     "inputWidgets": {},
     "nuid": "96816ed7-b08a-4ca3-abb9-f99880c3535d",
     "showTitle": false,
     "title": ""
    },
    "jupyter": {
     "outputs_hidden": true
    }
   },
   "source": [
    "\n",
    "This notebook shows you how to create and query a table or DataFrame loaded from data stored in Azure Blob storage."
   ]
  },
  {
   "cell_type": "markdown",
   "metadata": {
    "application/vnd.databricks.v1+cell": {
     "cellMetadata": {
      "byteLimit": 2048000,
      "rowLimit": 10000
     },
     "inputWidgets": {},
     "nuid": "84d079e4-93e8-460d-9d95-54a3fa326ca1",
     "showTitle": false,
     "title": ""
    }
   },
   "source": [
    "\n",
    "### Step 1: Set the data location and type\n",
    "\n",
    "There are two ways to access Azure Blob storage: account keys and shared access signatures (SAS).\n",
    "\n",
    "To get started, we need to set the location and type of the file."
   ]
  },
  {
   "cell_type": "code",
   "execution_count": 0,
   "metadata": {
    "application/vnd.databricks.v1+cell": {
     "cellMetadata": {
      "byteLimit": 2048000,
      "rowLimit": 10000
     },
     "inputWidgets": {},
     "nuid": "c760fc54-dbf0-4715-8df6-8fdff699c029",
     "showTitle": false,
     "title": ""
    }
   },
   "outputs": [
    {
     "output_type": "display_data",
     "data": {
      "text/html": [
       "<style scoped>\n",
       "  .ansiout {\n",
       "    display: block;\n",
       "    unicode-bidi: embed;\n",
       "    white-space: pre-wrap;\n",
       "    word-wrap: break-word;\n",
       "    word-break: break-all;\n",
       "    font-family: \"Source Code Pro\", \"Menlo\", monospace;;\n",
       "    font-size: 13px;\n",
       "    color: #555;\n",
       "    margin-left: 4px;\n",
       "    line-height: 19px;\n",
       "  }\n",
       "</style>\n",
       "<div class=\"ansiout\"></div>"
      ]
     },
     "metadata": {
      "application/vnd.databricks.v1+output": {
       "addedWidgets": {},
       "arguments": {},
       "data": "<div class=\"ansiout\"></div>",
       "datasetInfos": [],
       "metadata": {},
       "removedWidgets": [],
       "type": "html"
      }
     },
     "output_type": "display_data"
    }
   ],
   "source": [
    "storage_account_name = \"account4st0rage\"\n",
    "storage_account_access_key = \"fcuu0k4uRz+0pKs4wtVqpfqwBah25BBZ3vV9Q+t6cQcoR/coBZkIXvC3M/HQ94zOSYBcRi3aWZoW+AStQcrrPw==\""
   ]
  },
  {
   "cell_type": "code",
   "execution_count": 0,
   "metadata": {
    "application/vnd.databricks.v1+cell": {
     "cellMetadata": {
      "byteLimit": 2048000,
      "rowLimit": 10000
     },
     "inputWidgets": {},
     "nuid": "6482be4c-f067-47c9-b0ac-35c938b94601",
     "showTitle": false,
     "title": ""
    }
   },
   "outputs": [
    {
     "output_type": "display_data",
     "data": {
      "text/html": [
       "<style scoped>\n",
       "  .ansiout {\n",
       "    display: block;\n",
       "    unicode-bidi: embed;\n",
       "    white-space: pre-wrap;\n",
       "    word-wrap: break-word;\n",
       "    word-break: break-all;\n",
       "    font-family: \"Source Code Pro\", \"Menlo\", monospace;;\n",
       "    font-size: 13px;\n",
       "    color: #555;\n",
       "    margin-left: 4px;\n",
       "    line-height: 19px;\n",
       "  }\n",
       "</style>\n",
       "<div class=\"ansiout\"></div>"
      ]
     },
     "metadata": {
      "application/vnd.databricks.v1+output": {
       "addedWidgets": {},
       "arguments": {},
       "data": "<div class=\"ansiout\"></div>",
       "datasetInfos": [],
       "metadata": {},
       "removedWidgets": [],
       "type": "html"
      }
     },
     "output_type": "display_data"
    }
   ],
   "source": [
    "file_location = \"wasbs://input@account4st0rage.blob.core.windows.net/organizations-100.csv\"\n",
    "file_type = \"csv\""
   ]
  },
  {
   "cell_type": "code",
   "execution_count": 0,
   "metadata": {
    "application/vnd.databricks.v1+cell": {
     "cellMetadata": {
      "byteLimit": 2048000,
      "rowLimit": 10000
     },
     "inputWidgets": {},
     "nuid": "8acc0dda-69e3-4817-bf5d-450562afe113",
     "showTitle": false,
     "title": ""
    }
   },
   "outputs": [
    {
     "output_type": "display_data",
     "data": {
      "text/html": [
       "<style scoped>\n",
       "  .ansiout {\n",
       "    display: block;\n",
       "    unicode-bidi: embed;\n",
       "    white-space: pre-wrap;\n",
       "    word-wrap: break-word;\n",
       "    word-break: break-all;\n",
       "    font-family: \"Source Code Pro\", \"Menlo\", monospace;;\n",
       "    font-size: 13px;\n",
       "    color: #555;\n",
       "    margin-left: 4px;\n",
       "    line-height: 19px;\n",
       "  }\n",
       "</style>\n",
       "<div class=\"ansiout\"></div>"
      ]
     },
     "metadata": {
      "application/vnd.databricks.v1+output": {
       "addedWidgets": {},
       "arguments": {},
       "data": "<div class=\"ansiout\"></div>",
       "datasetInfos": [],
       "metadata": {},
       "removedWidgets": [],
       "type": "html"
      }
     },
     "output_type": "display_data"
    }
   ],
   "source": [
    "spark.conf.set(\n",
    "  \"fs.azure.account.key.account4st0rage.blob.core.windows.net\",\n",
    "  storage_account_access_key)"
   ]
  },
  {
   "cell_type": "markdown",
   "metadata": {
    "application/vnd.databricks.v1+cell": {
     "cellMetadata": {
      "byteLimit": 2048000,
      "rowLimit": 10000
     },
     "inputWidgets": {},
     "nuid": "51114086-25f5-4c9c-8bb3-64ff28b0f0f4",
     "showTitle": false,
     "title": ""
    }
   },
   "source": [
    "\n",
    "### Step 2: Read the data\n",
    "\n",
    "Now that we have specified our file metadata, we can create a DataFrame. Notice that we use an *option* to specify that we want to infer the schema from the file. We can also explicitly set this to a particular schema if we have one already.\n",
    "\n",
    "First, let's create a DataFrame in Python."
   ]
  },
  {
   "cell_type": "code",
   "execution_count": 0,
   "metadata": {
    "application/vnd.databricks.v1+cell": {
     "cellMetadata": {
      "byteLimit": 2048000,
      "rowLimit": 10000
     },
     "inputWidgets": {},
     "nuid": "f6366891-7da1-478e-8094-4291f4fca976",
     "showTitle": false,
     "title": ""
    }
   },
   "outputs": [
    {
     "output_type": "display_data",
     "data": {
      "text/html": [
       "<style scoped>\n",
       "  .ansiout {\n",
       "    display: block;\n",
       "    unicode-bidi: embed;\n",
       "    white-space: pre-wrap;\n",
       "    word-wrap: break-word;\n",
       "    word-break: break-all;\n",
       "    font-family: \"Source Code Pro\", \"Menlo\", monospace;;\n",
       "    font-size: 13px;\n",
       "    color: #555;\n",
       "    margin-left: 4px;\n",
       "    line-height: 19px;\n",
       "  }\n",
       "</style>\n",
       "<div class=\"ansiout\"></div>"
      ]
     },
     "metadata": {
      "application/vnd.databricks.v1+output": {
       "addedWidgets": {},
       "arguments": {},
       "data": "<div class=\"ansiout\"></div>",
       "datasetInfos": [
        {
         "name": "df",
         "schema": {
          "fields": [
           {
            "metadata": {},
            "name": "Index",
            "nullable": true,
            "type": "string"
           },
           {
            "metadata": {},
            "name": "Organization Id",
            "nullable": true,
            "type": "string"
           },
           {
            "metadata": {},
            "name": "Name",
            "nullable": true,
            "type": "string"
           },
           {
            "metadata": {},
            "name": "Website",
            "nullable": true,
            "type": "string"
           },
           {
            "metadata": {},
            "name": "Country",
            "nullable": true,
            "type": "string"
           },
           {
            "metadata": {},
            "name": "Description",
            "nullable": true,
            "type": "string"
           },
           {
            "metadata": {},
            "name": "Founded",
            "nullable": true,
            "type": "string"
           },
           {
            "metadata": {},
            "name": "Industry",
            "nullable": true,
            "type": "string"
           },
           {
            "metadata": {},
            "name": "Number of employees",
            "nullable": true,
            "type": "string"
           }
          ],
          "type": "struct"
         },
         "tableIdentifier": null,
         "typeStr": "pyspark.sql.dataframe.DataFrame"
        }
       ],
       "metadata": {},
       "removedWidgets": [],
       "type": "html"
      }
     },
     "output_type": "display_data"
    }
   ],
   "source": [
    "df = spark.read.csv(file_location, header=True)"
   ]
  },
  {
   "cell_type": "markdown",
   "metadata": {
    "application/vnd.databricks.v1+cell": {
     "cellMetadata": {
      "byteLimit": 2048000,
      "rowLimit": 10000
     },
     "inputWidgets": {},
     "nuid": "92108b48-e8f5-4d0d-9d24-3775b36ca207",
     "showTitle": false,
     "title": ""
    }
   },
   "source": [
    "\n",
    "### Step 3: Query the data\n",
    "\n",
    "Now that we have created our DataFrame, we can query it. For instance, you can identify particular columns to select and display."
   ]
  },
  {
   "cell_type": "markdown",
   "metadata": {
    "application/vnd.databricks.v1+cell": {
     "cellMetadata": {
      "byteLimit": 2048000,
      "rowLimit": 10000
     },
     "inputWidgets": {},
     "nuid": "8abe7239-0632-4b90-baf0-38549b038a38",
     "showTitle": false,
     "title": ""
    }
   },
   "source": [
    "\n",
    "### Step 4: (Optional) Create a view or table\n",
    "\n",
    "If you want to query this data as a table, you can simply register it as a *view* or a table."
   ]
  },
  {
   "cell_type": "code",
   "execution_count": 0,
   "metadata": {
    "application/vnd.databricks.v1+cell": {
     "cellMetadata": {
      "byteLimit": 2048000,
      "rowLimit": 10000
     },
     "inputWidgets": {},
     "nuid": "f9ac9f95-11ac-4e02-b209-66d34efeb834",
     "showTitle": false,
     "title": ""
    }
   },
   "outputs": [
    {
     "output_type": "display_data",
     "data": {
      "text/html": [
       "<style scoped>\n",
       "  .ansiout {\n",
       "    display: block;\n",
       "    unicode-bidi: embed;\n",
       "    white-space: pre-wrap;\n",
       "    word-wrap: break-word;\n",
       "    word-break: break-all;\n",
       "    font-family: \"Source Code Pro\", \"Menlo\", monospace;;\n",
       "    font-size: 13px;\n",
       "    color: #555;\n",
       "    margin-left: 4px;\n",
       "    line-height: 19px;\n",
       "  }\n",
       "</style>\n",
       "<div class=\"ansiout\">+-------+------------------+---------------+--------------------+--------------------+--------+--------------------+-----------------+-----------------+-------------------+\n",
       "summary|             Index|Organization Id|                Name|             Website| Country|         Description|          Founded|         Industry|Number of employees|\n",
       "+-------+------------------+---------------+--------------------+--------------------+--------+--------------------+-----------------+-----------------+-------------------+\n",
       "  count|               100|            100|                 100|                 100|     100|                 100|              100|              100|                100|\n",
       "   mean|              50.5|           null|                null|                null|    null|                null|          1995.41|             null|            4964.86|\n",
       " stddev|29.011491975882016|           null|                null|                null|    null|                null|15.74422773814921|             null|  2850.859799492714|\n",
       "    min|                 1|055ffEfB2Dd95B0|          Arroyo Inc| http://aguilar.org/|Anguilla|Adaptive bi-direc...|             1970|       Accounting|               1046|\n",
       "    max|                99|fdFbecbadcdCdf1|Wilkinson, Charle...|https://zimmerman...|Zimbabwe|Vision-oriented s...|             2021|Writing / Editing|               9995|\n",
       "+-------+------------------+---------------+--------------------+--------------------+--------+--------------------+-----------------+-----------------+-------------------+\n",
       "\n",
       "</div>"
      ]
     },
     "metadata": {
      "application/vnd.databricks.v1+output": {
       "addedWidgets": {},
       "arguments": {},
       "data": "<div class=\"ansiout\">+-------+------------------+---------------+--------------------+--------------------+--------+--------------------+-----------------+-----------------+-------------------+\n|summary|             Index|Organization Id|                Name|             Website| Country|         Description|          Founded|         Industry|Number of employees|\n+-------+------------------+---------------+--------------------+--------------------+--------+--------------------+-----------------+-----------------+-------------------+\n|  count|               100|            100|                 100|                 100|     100|                 100|              100|              100|                100|\n|   mean|              50.5|           null|                null|                null|    null|                null|          1995.41|             null|            4964.86|\n| stddev|29.011491975882016|           null|                null|                null|    null|                null|15.74422773814921|             null|  2850.859799492714|\n|    min|                 1|055ffEfB2Dd95B0|          Arroyo Inc| http://aguilar.org/|Anguilla|Adaptive bi-direc...|             1970|       Accounting|               1046|\n|    max|                99|fdFbecbadcdCdf1|Wilkinson, Charle...|https://zimmerman...|Zimbabwe|Vision-oriented s...|             2021|Writing / Editing|               9995|\n+-------+------------------+---------------+--------------------+--------------------+--------+--------------------+-----------------+-----------------+-------------------+\n\n</div>",
       "datasetInfos": [],
       "metadata": {},
       "removedWidgets": [],
       "type": "html"
      }
     },
     "output_type": "display_data"
    }
   ],
   "source": [
    "df.describe().show()"
   ]
  },
  {
   "cell_type": "code",
   "execution_count": 0,
   "metadata": {
    "application/vnd.databricks.v1+cell": {
     "cellMetadata": {
      "byteLimit": 2048000,
      "rowLimit": 10000
     },
     "inputWidgets": {},
     "nuid": "fec0eb47-1220-48a6-81b4-adb261a7265a",
     "showTitle": false,
     "title": ""
    }
   },
   "outputs": [
    {
     "output_type": "display_data",
     "data": {
      "text/html": [
       "<style scoped>\n",
       "  .table-result-container {\n",
       "    max-height: 300px;\n",
       "    overflow: auto;\n",
       "  }\n",
       "  table, th, td {\n",
       "    border: 1px solid black;\n",
       "    border-collapse: collapse;\n",
       "  }\n",
       "  th, td {\n",
       "    padding: 5px;\n",
       "  }\n",
       "  th {\n",
       "    text-align: left;\n",
       "  }\n",
       "</style><div class='table-result-container'><table class='table-result'><thead style='background-color: white'><tr><th>Index</th><th>Organization Id</th><th>Name</th><th>Website</th><th>Country</th><th>Description</th><th>Founded</th><th>Industry</th><th>Number of employees</th></tr></thead><tbody><tr><td>1</td><td>FAB0d41d5b5d22c</td><td>Ferrell LLC</td><td>https://price.net/</td><td>Papua New Guinea</td><td>Horizontal empowering knowledgebase</td><td>1990</td><td>Plastics</td><td>3498</td></tr><tr><td>2</td><td>6A7EdDEA9FaDC52</td><td>Mckinney, Riley and Day</td><td>http://www.hall-buchanan.info/</td><td>Finland</td><td>User-centric system-worthy leverage</td><td>2015</td><td>Glass / Ceramics / Concrete</td><td>4952</td></tr><tr><td>3</td><td>0bFED1ADAE4bcC1</td><td>Hester Ltd</td><td>http://sullivan-reed.com/</td><td>China</td><td>Switchable scalable moratorium</td><td>1971</td><td>Public Safety</td><td>5287</td></tr><tr><td>4</td><td>2bFC1Be8a4ce42f</td><td>Holder-Sellers</td><td>https://becker.com/</td><td>Turkmenistan</td><td>De-engineered systemic artificial intelligence</td><td>2004</td><td>Automotive</td><td>921</td></tr><tr><td>5</td><td>9eE8A6a4Eb96C24</td><td>Mayer Group</td><td>http://www.brewer.com/</td><td>Mauritius</td><td>Synchronized needs-based challenge</td><td>1991</td><td>Transportation</td><td>7870</td></tr><tr><td>6</td><td>cC757116fe1C085</td><td>Henry-Thompson</td><td>http://morse.net/</td><td>Bahamas</td><td>Face-to-face well-modulated customer loyalty</td><td>1992</td><td>Primary / Secondary Education</td><td>4914</td></tr><tr><td>7</td><td>219233e8aFF1BC3</td><td>Hansen-Everett</td><td>https://www.kidd.org/</td><td>Pakistan</td><td>Seamless disintermediate collaboration</td><td>2018</td><td>Publishing Industry</td><td>7832</td></tr><tr><td>8</td><td>ccc93DCF81a31CD</td><td>Mcintosh-Mora</td><td>https://www.brooks.com/</td><td>Heard Island and McDonald Islands</td><td>Centralized attitude-oriented capability</td><td>1970</td><td>Import / Export</td><td>4389</td></tr><tr><td>9</td><td>0B4F93aA06ED03e</td><td>Carr Inc</td><td>http://ross.com/</td><td>Kuwait</td><td>Distributed impactful customer loyalty</td><td>1996</td><td>Plastics</td><td>8167</td></tr><tr><td>10</td><td>738b5aDe6B1C6A5</td><td>Gaines Inc</td><td>http://sandoval-hooper.com/</td><td>Uzbekistan</td><td>Multi-lateral scalable protocol</td><td>1997</td><td>Outsourcing / Offshoring</td><td>9698</td></tr></tbody></table></div>"
      ]
     },
     "metadata": {
      "application/vnd.databricks.v1+output": {
       "addedWidgets": {},
       "aggData": [],
       "aggError": "",
       "aggOverflow": false,
       "aggSchema": [],
       "aggSeriesLimitReached": false,
       "aggType": "",
       "arguments": {},
       "columnCustomDisplayInfos": {},
       "data": [
        [
         "1",
         "FAB0d41d5b5d22c",
         "Ferrell LLC",
         "https://price.net/",
         "Papua New Guinea",
         "Horizontal empowering knowledgebase",
         "1990",
         "Plastics",
         "3498"
        ],
        [
         "2",
         "6A7EdDEA9FaDC52",
         "Mckinney, Riley and Day",
         "http://www.hall-buchanan.info/",
         "Finland",
         "User-centric system-worthy leverage",
         "2015",
         "Glass / Ceramics / Concrete",
         "4952"
        ],
        [
         "3",
         "0bFED1ADAE4bcC1",
         "Hester Ltd",
         "http://sullivan-reed.com/",
         "China",
         "Switchable scalable moratorium",
         "1971",
         "Public Safety",
         "5287"
        ],
        [
         "4",
         "2bFC1Be8a4ce42f",
         "Holder-Sellers",
         "https://becker.com/",
         "Turkmenistan",
         "De-engineered systemic artificial intelligence",
         "2004",
         "Automotive",
         "921"
        ],
        [
         "5",
         "9eE8A6a4Eb96C24",
         "Mayer Group",
         "http://www.brewer.com/",
         "Mauritius",
         "Synchronized needs-based challenge",
         "1991",
         "Transportation",
         "7870"
        ],
        [
         "6",
         "cC757116fe1C085",
         "Henry-Thompson",
         "http://morse.net/",
         "Bahamas",
         "Face-to-face well-modulated customer loyalty",
         "1992",
         "Primary / Secondary Education",
         "4914"
        ],
        [
         "7",
         "219233e8aFF1BC3",
         "Hansen-Everett",
         "https://www.kidd.org/",
         "Pakistan",
         "Seamless disintermediate collaboration",
         "2018",
         "Publishing Industry",
         "7832"
        ],
        [
         "8",
         "ccc93DCF81a31CD",
         "Mcintosh-Mora",
         "https://www.brooks.com/",
         "Heard Island and McDonald Islands",
         "Centralized attitude-oriented capability",
         "1970",
         "Import / Export",
         "4389"
        ],
        [
         "9",
         "0B4F93aA06ED03e",
         "Carr Inc",
         "http://ross.com/",
         "Kuwait",
         "Distributed impactful customer loyalty",
         "1996",
         "Plastics",
         "8167"
        ],
        [
         "10",
         "738b5aDe6B1C6A5",
         "Gaines Inc",
         "http://sandoval-hooper.com/",
         "Uzbekistan",
         "Multi-lateral scalable protocol",
         "1997",
         "Outsourcing / Offshoring",
         "9698"
        ]
       ],
       "datasetInfos": [],
       "dbfsResultPath": null,
       "isJsonSchema": true,
       "metadata": {},
       "overflow": false,
       "plotOptions": {
        "customPlotOptions": {},
        "displayType": "table",
        "pivotAggregation": null,
        "pivotColumns": null,
        "xColumns": null,
        "yColumns": null
       },
       "removedWidgets": [],
       "schema": [
        {
         "metadata": "{}",
         "name": "Index",
         "type": "\"string\""
        },
        {
         "metadata": "{}",
         "name": "Organization Id",
         "type": "\"string\""
        },
        {
         "metadata": "{}",
         "name": "Name",
         "type": "\"string\""
        },
        {
         "metadata": "{}",
         "name": "Website",
         "type": "\"string\""
        },
        {
         "metadata": "{}",
         "name": "Country",
         "type": "\"string\""
        },
        {
         "metadata": "{}",
         "name": "Description",
         "type": "\"string\""
        },
        {
         "metadata": "{}",
         "name": "Founded",
         "type": "\"string\""
        },
        {
         "metadata": "{}",
         "name": "Industry",
         "type": "\"string\""
        },
        {
         "metadata": "{}",
         "name": "Number of employees",
         "type": "\"string\""
        }
       ],
       "type": "table"
      }
     },
     "output_type": "display_data"
    }
   ],
   "source": [
    "display(df.head(10))"
   ]
  },
  {
   "cell_type": "code",
   "execution_count": 0,
   "metadata": {
    "application/vnd.databricks.v1+cell": {
     "cellMetadata": {
      "byteLimit": 2048000,
      "rowLimit": 10000
     },
     "inputWidgets": {},
     "nuid": "9f5bd2a1-c7a8-4ad0-a86f-dc2f26529a75",
     "showTitle": false,
     "title": ""
    }
   },
   "outputs": [
    {
     "output_type": "display_data",
     "data": {
      "text/html": [
       "<style scoped>\n",
       "  .table-result-container {\n",
       "    max-height: 300px;\n",
       "    overflow: auto;\n",
       "  }\n",
       "  table, th, td {\n",
       "    border: 1px solid black;\n",
       "    border-collapse: collapse;\n",
       "  }\n",
       "  th, td {\n",
       "    padding: 5px;\n",
       "  }\n",
       "  th {\n",
       "    text-align: left;\n",
       "  }\n",
       "</style><div class='table-result-container'><table class='table-result'><thead style='background-color: white'><tr><th>Index</th><th>Organization Id</th><th>Name</th><th>Website</th><th>Country</th><th>Description</th><th>Founded</th><th>Industry</th><th>Number of employees</th></tr></thead><tbody><tr><td>91</td><td>7ABc3c7ecA03B34</td><td>Sampson-Griffith</td><td>http://hendricks.org/</td><td>Benin</td><td>Multi-layered composite paradigm</td><td>1972</td><td>Textiles</td><td>3881</td></tr><tr><td>92</td><td>4e0719FBE38e0aB</td><td>Miles-Dominguez</td><td>http://www.turner.com/</td><td>Gibraltar</td><td>Organized empowering forecast</td><td>1996</td><td>Civic / Social Organization</td><td>897</td></tr><tr><td>93</td><td>dEbDAAeDfaed00A</td><td>Rowe and Sons</td><td>https://www.simpson.org/</td><td>El Salvador</td><td>Balanced multimedia knowledgebase</td><td>1978</td><td>Facilities Services</td><td>8172</td></tr><tr><td>94</td><td>61BDeCfeFD0cEF5</td><td>Valenzuela, Holmes and Rowland</td><td>https://www.dorsey.net/</td><td>Taiwan</td><td>Persistent tertiary focus group</td><td>1999</td><td>Transportation</td><td>1483</td></tr><tr><td>95</td><td>4e91eD25f486110</td><td>Best, Wade and Shepard</td><td>https://zimmerman.com/</td><td>Zimbabwe</td><td>Innovative background definition</td><td>1991</td><td>Gambling / Casinos</td><td>4873</td></tr><tr><td>96</td><td>0a0bfFbBbB8eC7c</td><td>Holmes Group</td><td>https://mcdowell.org/</td><td>Ethiopia</td><td>Right-sized zero tolerance focus group</td><td>1975</td><td>Photography</td><td>2988</td></tr><tr><td>97</td><td>BA6Cd9Dae2Efd62</td><td>Good Ltd</td><td>http://duffy.com/</td><td>Anguilla</td><td>Reverse-engineered composite moratorium</td><td>1971</td><td>Consumer Services</td><td>4292</td></tr><tr><td>98</td><td>E7df80C60Abd7f9</td><td>Clements-Espinoza</td><td>http://www.flowers.net/</td><td>Falkland Islands (Malvinas)</td><td>Progressive modular hub</td><td>1991</td><td>Broadcast Media</td><td>236</td></tr><tr><td>99</td><td>AFc285dbE2fEd24</td><td>Mendez Inc</td><td>https://www.burke.net/</td><td>Kyrgyz Republic</td><td>User-friendly exuding migration</td><td>1993</td><td>Education Management</td><td>339</td></tr><tr><td>100</td><td>e9eB5A60Cef8354</td><td>Watkins-Kaiser</td><td>http://www.herring.com/</td><td>Togo</td><td>Synergistic background access</td><td>2009</td><td>Financial Services</td><td>2785</td></tr></tbody></table></div>"
      ]
     },
     "metadata": {
      "application/vnd.databricks.v1+output": {
       "addedWidgets": {},
       "aggData": [],
       "aggError": "",
       "aggOverflow": false,
       "aggSchema": [],
       "aggSeriesLimitReached": false,
       "aggType": "",
       "arguments": {},
       "columnCustomDisplayInfos": {},
       "data": [
        [
         "91",
         "7ABc3c7ecA03B34",
         "Sampson-Griffith",
         "http://hendricks.org/",
         "Benin",
         "Multi-layered composite paradigm",
         "1972",
         "Textiles",
         "3881"
        ],
        [
         "92",
         "4e0719FBE38e0aB",
         "Miles-Dominguez",
         "http://www.turner.com/",
         "Gibraltar",
         "Organized empowering forecast",
         "1996",
         "Civic / Social Organization",
         "897"
        ],
        [
         "93",
         "dEbDAAeDfaed00A",
         "Rowe and Sons",
         "https://www.simpson.org/",
         "El Salvador",
         "Balanced multimedia knowledgebase",
         "1978",
         "Facilities Services",
         "8172"
        ],
        [
         "94",
         "61BDeCfeFD0cEF5",
         "Valenzuela, Holmes and Rowland",
         "https://www.dorsey.net/",
         "Taiwan",
         "Persistent tertiary focus group",
         "1999",
         "Transportation",
         "1483"
        ],
        [
         "95",
         "4e91eD25f486110",
         "Best, Wade and Shepard",
         "https://zimmerman.com/",
         "Zimbabwe",
         "Innovative background definition",
         "1991",
         "Gambling / Casinos",
         "4873"
        ],
        [
         "96",
         "0a0bfFbBbB8eC7c",
         "Holmes Group",
         "https://mcdowell.org/",
         "Ethiopia",
         "Right-sized zero tolerance focus group",
         "1975",
         "Photography",
         "2988"
        ],
        [
         "97",
         "BA6Cd9Dae2Efd62",
         "Good Ltd",
         "http://duffy.com/",
         "Anguilla",
         "Reverse-engineered composite moratorium",
         "1971",
         "Consumer Services",
         "4292"
        ],
        [
         "98",
         "E7df80C60Abd7f9",
         "Clements-Espinoza",
         "http://www.flowers.net/",
         "Falkland Islands (Malvinas)",
         "Progressive modular hub",
         "1991",
         "Broadcast Media",
         "236"
        ],
        [
         "99",
         "AFc285dbE2fEd24",
         "Mendez Inc",
         "https://www.burke.net/",
         "Kyrgyz Republic",
         "User-friendly exuding migration",
         "1993",
         "Education Management",
         "339"
        ],
        [
         "100",
         "e9eB5A60Cef8354",
         "Watkins-Kaiser",
         "http://www.herring.com/",
         "Togo",
         "Synergistic background access",
         "2009",
         "Financial Services",
         "2785"
        ]
       ],
       "datasetInfos": [],
       "dbfsResultPath": null,
       "isJsonSchema": true,
       "metadata": {},
       "overflow": false,
       "plotOptions": {
        "customPlotOptions": {},
        "displayType": "table",
        "pivotAggregation": null,
        "pivotColumns": null,
        "xColumns": null,
        "yColumns": null
       },
       "removedWidgets": [],
       "schema": [
        {
         "metadata": "{}",
         "name": "Index",
         "type": "\"string\""
        },
        {
         "metadata": "{}",
         "name": "Organization Id",
         "type": "\"string\""
        },
        {
         "metadata": "{}",
         "name": "Name",
         "type": "\"string\""
        },
        {
         "metadata": "{}",
         "name": "Website",
         "type": "\"string\""
        },
        {
         "metadata": "{}",
         "name": "Country",
         "type": "\"string\""
        },
        {
         "metadata": "{}",
         "name": "Description",
         "type": "\"string\""
        },
        {
         "metadata": "{}",
         "name": "Founded",
         "type": "\"string\""
        },
        {
         "metadata": "{}",
         "name": "Industry",
         "type": "\"string\""
        },
        {
         "metadata": "{}",
         "name": "Number of employees",
         "type": "\"string\""
        }
       ],
       "type": "table"
      }
     },
     "output_type": "display_data"
    }
   ],
   "source": [
    "display(df.tail(10))"
   ]
  },
  {
   "cell_type": "code",
   "execution_count": 0,
   "metadata": {
    "application/vnd.databricks.v1+cell": {
     "cellMetadata": {
      "byteLimit": 2048000,
      "rowLimit": 10000
     },
     "inputWidgets": {},
     "nuid": "88f300bc-d77c-4cea-b950-fdebb696a3a3",
     "showTitle": false,
     "title": ""
    }
   },
   "outputs": [
    {
     "output_type": "display_data",
     "data": {
      "text/html": [
       "<style scoped>\n",
       "  .table-result-container {\n",
       "    max-height: 300px;\n",
       "    overflow: auto;\n",
       "  }\n",
       "  table, th, td {\n",
       "    border: 1px solid black;\n",
       "    border-collapse: collapse;\n",
       "  }\n",
       "  th, td {\n",
       "    padding: 5px;\n",
       "  }\n",
       "  th {\n",
       "    text-align: left;\n",
       "  }\n",
       "</style><div class='table-result-container'><table class='table-result'><thead style='background-color: white'><tr><th>Index</th><th>Organization Id</th><th>Name</th><th>Website</th><th>Country</th><th>Description</th><th>Founded</th><th>Industry</th><th>Number of employees</th></tr></thead><tbody><tr><td>95</td><td>4e91eD25f486110</td><td>Best, Wade and Shepard</td><td>https://zimmerman.com/</td><td>Zimbabwe</td><td>Innovative background definition</td><td>1991</td><td>Gambling / Casinos</td><td>4873</td></tr><tr><td>32</td><td>f5afd686b3d05F5</td><td>Durham, Allen and Barnes</td><td>http://chan-stafford.org/</td><td>Zimbabwe</td><td>Synergistic web-enabled framework</td><td>1993</td><td>Mechanical or Industrial Engineering</td><td>6135</td></tr><tr><td>46</td><td>1eD64cFe986BBbE</td><td>Walton-Barnett</td><td>https://ashley-schaefer.com/</td><td>Western Sahara</td><td>Right-sized clear-thinking flexibility</td><td>2001</td><td>Luxury Goods / Jewelry</td><td>1746</td></tr><tr><td>62</td><td>EB9f456e8b7022a</td><td>Soto Group</td><td>https://norris.info/</td><td>Vietnam</td><td>Enterprise-wide executive installation</td><td>1988</td><td>Business Supplies / Equipment</td><td>9097</td></tr><tr><td>10</td><td>738b5aDe6B1C6A5</td><td>Gaines Inc</td><td>http://sandoval-hooper.com/</td><td>Uzbekistan</td><td>Multi-lateral scalable protocol</td><td>1997</td><td>Outsourcing / Offshoring</td><td>9698</td></tr><tr><td>72</td><td>adcB0afbE58bAe3</td><td>Wagner LLC</td><td>https://decker-esparza.com/</td><td>Uruguay</td><td>Reactive attitude-oriented toolset</td><td>1987</td><td>International Affairs</td><td>6874</td></tr><tr><td>88</td><td>8cC1bDa330a5871</td><td>Pineda-Morton</td><td>https://www.carr.com/</td><td>United States Virgin Islands</td><td>Grass-roots methodical info-mediaries</td><td>1991</td><td>Printing</td><td>6168</td></tr><tr><td>66</td><td>fdFbecbadcdCdf1</td><td>Wilkinson, Charles and Arroyo</td><td>http://hunter-mcfarland.com/</td><td>United States Virgin Islands</td><td>Assimilated 24/7 archive</td><td>1996</td><td>Building Materials</td><td>602</td></tr><tr><td>14</td><td>D2c91cc03CA394c</td><td>Glover-Pope</td><td>http://www.silva.biz/</td><td>United Arab Emirates</td><td>Persevering contextually-based approach</td><td>2013</td><td>Medical Practice</td><td>9079</td></tr><tr><td>17</td><td>68139b5C4De03B4</td><td>Bowers, Guerra and Krause</td><td>http://www.carrillo-nicholson.com/</td><td>Uganda</td><td>De-engineered transitional strategy</td><td>1972</td><td>Primary / Secondary Education</td><td>6986</td></tr><tr><td>4</td><td>2bFC1Be8a4ce42f</td><td>Holder-Sellers</td><td>https://becker.com/</td><td>Turkmenistan</td><td>De-engineered systemic artificial intelligence</td><td>2004</td><td>Automotive</td><td>921</td></tr><tr><td>60</td><td>aAeb29ad43886C6</td><td>Potter-Walsh</td><td>http://thomas-french.org/</td><td>Turkey</td><td>Optional non-volatile open system</td><td>2008</td><td>Human Resources / HR</td><td>6923</td></tr><tr><td>43</td><td>A2D89Ab9bCcAd4e</td><td>Mitchell, Warren and Schneider</td><td>https://fox.biz/</td><td>Trinidad and Tobago</td><td>Enhanced intangible time-frame</td><td>2021</td><td>Capital Markets / Hedge Fund / Private Equity</td><td>3816</td></tr><tr><td>50</td><td>c6DedA82A8aef7E</td><td>Gonzales Ltd</td><td>http://bird.com/</td><td>Tonga</td><td>Managed human-resource policy</td><td>1988</td><td>Consumer Goods</td><td>9069</td></tr><tr><td>78</td><td>dd6CA3d0bc3cAfc</td><td>Beasley, Greene and Mahoney</td><td>http://www.petersen-lawrence.com/</td><td>Togo</td><td>Extended content-based methodology</td><td>1976</td><td>Religious Institutions</td><td>869</td></tr><tr><td>100</td><td>e9eB5A60Cef8354</td><td>Watkins-Kaiser</td><td>http://www.herring.com/</td><td>Togo</td><td>Synergistic background access</td><td>2009</td><td>Financial Services</td><td>2785</td></tr><tr><td>61</td><td>bD1bc6bB6d1FeD3</td><td>Freeman-Chen</td><td>https://mathis.com/</td><td>Timor-Leste</td><td>Phased next generation adapter</td><td>1973</td><td>International Trade / Development</td><td>346</td></tr><tr><td>34</td><td>5Cd7efccCcba38f</td><td>Burch-Ewing</td><td>http://cline.net/</td><td>Taiwan</td><td>User-centric 4thgeneration system engine</td><td>1981</td><td>Venture Capital / VC</td><td>7443</td></tr><tr><td>94</td><td>61BDeCfeFD0cEF5</td><td>Valenzuela, Holmes and Rowland</td><td>https://www.dorsey.net/</td><td>Taiwan</td><td>Persistent tertiary focus group</td><td>1999</td><td>Transportation</td><td>1483</td></tr><tr><td>15</td><td>C8AC1eaf9C036F4</td><td>Pacheco-Spears</td><td>https://aguilar.com/</td><td>Sweden</td><td>Secured logistical synergy</td><td>1984</td><td>Maritime</td><td>769</td></tr><tr><td>85</td><td>e0E8e27eAc9CAd5</td><td>George, Russo and Guerra</td><td>https://drake.com/</td><td>Sweden</td><td>Centralized non-volatile capability</td><td>1989</td><td>Military Industry</td><td>2880</td></tr><tr><td>44</td><td>77aDc905434a49f</td><td>Prince PLC</td><td>https://www.watts.com/</td><td>Sweden</td><td>Profit-focused coherent installation</td><td>2016</td><td>Individual / Family Services</td><td>7645</td></tr><tr><td>77</td><td>DDB19Be7eeB56B4</td><td>Cummings-Rojas</td><td>https://simon-pearson.com/</td><td>Svalbard & Jan Mayen Islands</td><td>User-centric modular customer loyalty</td><td>2012</td><td>Financial Services</td><td>7529</td></tr><tr><td>74</td><td>208044AC2fe52F3</td><td>Massey LLC</td><td>https://frazier.biz/</td><td>Suriname</td><td>Configurable zero administration Graphical User Interface</td><td>1986</td><td>Accounting</td><td>5004</td></tr><tr><td>25</td><td>5fDBeA8BB91a000</td><td>Jenkins Inc</td><td>http://www.kirk.biz/</td><td>South Africa</td><td>Front-line systematic help-desk</td><td>2002</td><td>Insurance</td><td>1215</td></tr><tr><td>26</td><td>dFfD6a6F9AC2d9C</td><td>Greene, Benjamin and Novak</td><td>http://www.kent.net/</td><td>Romania</td><td>Centralized leadingedge moratorium</td><td>2012</td><td>Museums / Institutions</td><td>4941</td></tr><tr><td>63</td><td>Dfef38C51D8DAe3</td><td>Poole, Cruz and Whitney</td><td>https://reed.info/</td><td>Reunion</td><td>Balanced analyzing groupware</td><td>1978</td><td>Marketing / Advertising / Sales</td><td>2992</td></tr><tr><td>29</td><td>f9F7bBCAEeC360F</td><td>Ayala LLC</td><td>http://www.zhang.com/</td><td>Philippines</td><td>Open-source zero administration hierarchy</td><td>2021</td><td>Legal Services</td><td>7664</td></tr><tr><td>1</td><td>FAB0d41d5b5d22c</td><td>Ferrell LLC</td><td>https://price.net/</td><td>Papua New Guinea</td><td>Horizontal empowering knowledgebase</td><td>1990</td><td>Plastics</td><td>3498</td></tr><tr><td>59</td><td>aeBe26B80a7a23c</td><td>Melton-Nichols</td><td>https://kennedy.com/</td><td>Palau</td><td>User-friendly clear-thinking productivity</td><td>2021</td><td>Legislative Office</td><td>8741</td></tr><tr><td>75</td><td>f3C365f0c1A0623</td><td>Hicks LLC</td><td>http://alvarez.biz/</td><td>Pakistan</td><td>Quality-focused client-server Graphical User Interface</td><td>1970</td><td>Computer Software / Engineering</td><td>8480</td></tr><tr><td>7</td><td>219233e8aFF1BC3</td><td>Hansen-Everett</td><td>https://www.kidd.org/</td><td>Pakistan</td><td>Seamless disintermediate collaboration</td><td>2018</td><td>Publishing Industry</td><td>7832</td></tr><tr><td>69</td><td>5aaD187dc929371</td><td>Frazier-Butler</td><td>https://www.daugherty-farley.info/</td><td>Northern Mariana Islands</td><td>Persistent interactive circuit</td><td>1972</td><td>Outsourcing / Offshoring</td><td>5130</td></tr><tr><td>47</td><td>CbBbFcdd0eaE2cF</td><td>Bartlett-Arroyo</td><td>https://cruz.com/</td><td>Northern Mariana Islands</td><td>Realigned didactic function</td><td>1976</td><td>Civic / Social Organization</td><td>3987</td></tr><tr><td>57</td><td>2a74D6f3D3B268e</td><td>Cherry, Le and Callahan</td><td>https://waller-delacruz.biz/</td><td>Nigeria</td><td>Universal human-resource collaboration</td><td>2017</td><td>Entertainment / Movie Production</td><td>7202</td></tr><tr><td>70</td><td>902D7Ac8b6d476b</td><td>Newton Inc</td><td>https://www.richmond-manning.info/</td><td>Netherlands Antilles</td><td>Fundamental stable info-mediaries</td><td>1976</td><td>Military Industry</td><td>563</td></tr><tr><td>33</td><td>38C6cfC5074Fa5e</td><td>Fritz-Franklin</td><td>http://www.lambert.com/</td><td>Nepal</td><td>Automated 4thgeneration website</td><td>1972</td><td>Hospitality</td><td>4516</td></tr><tr><td>76</td><td>ec5Bdd3CBAfaB93</td><td>Cole, Russell and Avery</td><td>http://www.blankenship.com/</td><td>Mongolia</td><td>De-engineered fault-tolerant challenge</td><td>2000</td><td>Law Enforcement</td><td>7012</td></tr><tr><td>23</td><td>22aC3FFd64fD703</td><td>Eaton, Reynolds and Vargas</td><td>http://www.freeman.biz/</td><td>Monaco</td><td>Self-enabling multi-tasking process improvement</td><td>2014</td><td>Luxury Goods / Jewelry</td><td>8987</td></tr><tr><td>83</td><td>c89b9b59BC4baa1</td><td>Eaton-Morales</td><td>https://www.reeves-graham.com/</td><td>Micronesia</td><td>Customer-focused explicit frame</td><td>1990</td><td>Capital Markets / Hedge Fund / Private Equity</td><td>7013</td></tr><tr><td>55</td><td>e24D21BFd3bF1E5</td><td>Richard PLC</td><td>https://holden-coleman.net/</td><td>Mayotte</td><td>Object-based optimizing model</td><td>1971</td><td>Broadcast Media</td><td>4942</td></tr><tr><td>5</td><td>9eE8A6a4Eb96C24</td><td>Mayer Group</td><td>http://www.brewer.com/</td><td>Mauritius</td><td>Synchronized needs-based challenge</td><td>1991</td><td>Transportation</td><td>7870</td></tr><tr><td>58</td><td>Bf3F3f62c8aBC33</td><td>Cherry PLC</td><td>https://www.avila.info/</td><td>Marshall Islands</td><td>Persistent tertiary website</td><td>1980</td><td>Plastics</td><td>8245</td></tr><tr><td>87</td><td>a0a6f9b3DbcBEb5</td><td>Mays-Preston</td><td>http://www.browning-key.com/</td><td>Mali</td><td>User-centric heuristic focus group</td><td>2006</td><td>Military Industry</td><td>5786</td></tr><tr><td>21</td><td>8de40AC4e6EaCa4</td><td>Velez, Payne and Coffey</td><td>http://burton.com/</td><td>Luxembourg</td><td>Mandatory coherent synergy</td><td>1986</td><td>Wholesale</td><td>5010</td></tr><tr><td>68</td><td>ce57DCbcFD6d618</td><td>Newman-Galloway</td><td>https://www.scott.com/</td><td>Luxembourg</td><td>Enhanced foreground collaboration</td><td>1987</td><td>Information Technology / IT</td><td>3934</td></tr><tr><td>81</td><td>Ea3f6D52Ec73563</td><td>Montes-Hensley</td><td>https://krueger.org/</td><td>Liechtenstein</td><td>Multi-tiered secondary productivity</td><td>2009</td><td>Printing</td><td>8433</td></tr><tr><td>13</td><td>8D0c29189C9798B</td><td>Keller, Campos and Black</td><td>https://www.garner.info/</td><td>Liberia</td><td>Ameliorated directional emulation</td><td>2020</td><td>Museums / Institutions</td><td>2862</td></tr><tr><td>79</td><td>A0B9d56e61070e3</td><td>Beasley, Sims and Allison</td><td>http://burke.info/</td><td>Latvia</td><td>Secured zero tolerance hub</td><td>1972</td><td>Facilities Services</td><td>6182</td></tr><tr><td>99</td><td>AFc285dbE2fEd24</td><td>Mendez Inc</td><td>https://www.burke.net/</td><td>Kyrgyz Republic</td><td>User-friendly exuding migration</td><td>1993</td><td>Education Management</td><td>339</td></tr><tr><td>35</td><td>9E6Acb51e3F9d6F</td><td>Glass, Barrera and Turner</td><td>https://dunlap.com/</td><td>Kyrgyz Republic</td><td>Multi-channeled 3rdgeneration open system</td><td>2020</td><td>Utilities</td><td>2610</td></tr><tr><td>9</td><td>0B4F93aA06ED03e</td><td>Carr Inc</td><td>http://ross.com/</td><td>Kuwait</td><td>Distributed impactful customer loyalty</td><td>1996</td><td>Plastics</td><td>8167</td></tr><tr><td>52</td><td>7dd18Fb7cB07b65</td><td>Mcguire, Mcconnell and Olsen</td><td>https://melton-briggs.com/</td><td>Korea</td><td>Profound client-server frame</td><td>1988</td><td>Printing</td><td>8445</td></tr><tr><td>20</td><td>c1Ce9B350BAc66b</td><td>Weiss and Sons</td><td>https://barrett.com/</td><td>Korea</td><td>Sharable optimal functionalities</td><td>2011</td><td>Plastics</td><td>5984</td></tr><tr><td>37</td><td>485f5d06B938F2b</td><td>Baker, Mccann and Macdonald</td><td>http://www.anderson-barker.com/</td><td>Kenya</td><td>Cross-group user-facing focus group</td><td>2013</td><td>Legislative Office</td><td>1638</td></tr><tr><td>40</td><td>AC5B7AA74Aa4A2E</td><td>Valentine, Ferguson and Kramer</td><td>http://stuart.net/</td><td>Jersey</td><td>Centralized secondary time-frame</td><td>1997</td><td>Non - Profit / Volunteering</td><td>3585</td></tr><tr><td>18</td><td>5c2EffEfdba2BdF</td><td>Mckenzie-Melton</td><td>http://montoya-thompson.com/</td><td>Hong Kong</td><td>Reverse-engineered heuristic alliance</td><td>1998</td><td>Investment Management / Hedge Fund / Private Equity</td><td>4589</td></tr><tr><td>16</td><td>b5D10A14f7a8AfE</td><td>Hodge-Ayers</td><td>http://www.archer-elliott.com/</td><td>Honduras</td><td>Future-proofed radical implementation</td><td>1990</td><td>Facilities Services</td><td>8508</td></tr><tr><td>8</td><td>ccc93DCF81a31CD</td><td>Mcintosh-Mora</td><td>https://www.brooks.com/</td><td>Heard Island and McDonald Islands</td><td>Centralized attitude-oriented capability</td><td>1970</td><td>Import / Export</td><td>4389</td></tr><tr><td>71</td><td>32BB9Ff4d939788</td><td>Duffy-Levy</td><td>https://www.potter.com/</td><td>Guernsey</td><td>Diverse exuding installation</td><td>1982</td><td>Wireless</td><td>6146</td></tr><tr><td>38</td><td>19E3a5Bf6dBDc4F</td><td>Cuevas-Moss</td><td>https://dodson-castaneda.net/</td><td>Guatemala</td><td>Extended human-resource intranet</td><td>1994</td><td>Music</td><td>9995</td></tr><tr><td>22</td><td>Aad86a4F0385F2d</td><td>Harrell LLC</td><td>http://www.frey-rosario.com/</td><td>Guadeloupe</td><td>Reverse-engineered mission-critical moratorium</td><td>2018</td><td>Construction</td><td>2185</td></tr><tr><td>41</td><td>decab0D5027CA6a</td><td>Arroyo Inc</td><td>https://www.turner.com/</td><td>Grenada</td><td>Managed demand-driven website</td><td>2006</td><td>Writing / Editing</td><td>9067</td></tr><tr><td>92</td><td>4e0719FBE38e0aB</td><td>Miles-Dominguez</td><td>http://www.turner.com/</td><td>Gibraltar</td><td>Organized empowering forecast</td><td>1996</td><td>Civic / Social Organization</td><td>897</td></tr><tr><td>48</td><td>49aECbDaE6aBD53</td><td>Wallace, Madden and Morris</td><td>http://www.blevins-fernandez.biz/</td><td>Germany</td><td>Persistent real-time customer loyalty</td><td>2016</td><td>Pharmaceuticals</td><td>9443</td></tr><tr><td>51</td><td>7D9FBF85cdC3871</td><td>Lawson and Sons</td><td>https://www.wong.com/</td><td>French Southern Territories</td><td>Compatible analyzing intranet</td><td>2021</td><td>Arts / Crafts</td><td>3527</td></tr><tr><td>2</td><td>6A7EdDEA9FaDC52</td><td>Mckinney, Riley and Day</td><td>http://www.hall-buchanan.info/</td><td>Finland</td><td>User-centric system-worthy leverage</td><td>2015</td><td>Glass / Ceramics / Concrete</td><td>4952</td></tr><tr><td>98</td><td>E7df80C60Abd7f9</td><td>Clements-Espinoza</td><td>http://www.flowers.net/</td><td>Falkland Islands (Malvinas)</td><td>Progressive modular hub</td><td>1991</td><td>Broadcast Media</td><td>236</td></tr><tr><td>67</td><td>5DCb8A5a5ca03c0</td><td>Floyd Ltd</td><td>http://www.whitney.com/</td><td>Falkland Islands (Malvinas)</td><td>Function-based fault-tolerant concept</td><td>2017</td><td>Public Relations / PR</td><td>2911</td></tr><tr><td>96</td><td>0a0bfFbBbB8eC7c</td><td>Holmes Group</td><td>https://mcdowell.org/</td><td>Ethiopia</td><td>Right-sized zero tolerance focus group</td><td>1975</td><td>Photography</td><td>2988</td></tr><tr><td>89</td><td>ED889CB2FE9cbd3</td><td>Huang and Sons</td><td>https://www.bolton.com/</td><td>Eritrea</td><td>Re-contextualized dynamic hierarchy</td><td>1981</td><td>Semiconductors</td><td>7484</td></tr><tr><td>65</td><td>cBfe4dbAE1699da</td><td>Erickson, Andrews and Bailey</td><td>https://www.hobbs-grant.com/</td><td>Eritrea</td><td>Vision-oriented secondary project</td><td>2014</td><td>Consumer Electronics</td><td>7829</td></tr><tr><td>93</td><td>dEbDAAeDfaed00A</td><td>Rowe and Sons</td><td>https://www.simpson.org/</td><td>El Salvador</td><td>Balanced multimedia knowledgebase</td><td>1978</td><td>Facilities Services</td><td>8172</td></tr><tr><td>82</td><td>bC0CEd48A8000E0</td><td>Velazquez-Odom</td><td>https://stokes.com/</td><td>Djibouti</td><td>Streamlined 6thgeneration function</td><td>2002</td><td>Alternative Dispute Resolution</td><td>4044</td></tr><tr><td>12</td><td>eb3B7D06cCdD609</td><td>Crane-Clarke</td><td>https://www.sandoval.com/</td><td>Denmark</td><td>Front-line clear-thinking encryption</td><td>2014</td><td>Food / Beverages</td><td>9011</td></tr><tr><td>27</td><td>4B217cC5a0674C5</td><td>Dickson, Richmond and Clay</td><td>http://everett.com/</td><td>Czech Republic</td><td>Team-oriented tangible complexity</td><td>1980</td><td>Real Estate / Mortgage</td><td>3122</td></tr><tr><td>80</td><td>cBa7EFe5D05Adaf</td><td>Crawford-Rivera</td><td>https://black-ramirez.org/</td><td>Cuba</td><td>Persevering exuding budgetary management</td><td>1999</td><td>Online Publishing</td><td>7805</td></tr><tr><td>53</td><td>EF5B55FadccB8Fe</td><td>Charles-Phillips</td><td>https://bowman.com/</td><td>Cote d'Ivoire</td><td>Monitored client-server implementation</td><td>2012</td><td>Mental Health Care</td><td>3450</td></tr><tr><td>54</td><td>f8D4B99e11fAF5D</td><td>Odom Ltd</td><td>https://www.humphrey-hess.com/</td><td>Cote d'Ivoire</td><td>Advanced static process improvement</td><td>2012</td><td>Management Consulting</td><td>1825</td></tr><tr><td>86</td><td>B97a6CF9bf5983C</td><td>Davila Inc</td><td>https://mcconnell.info/</td><td>Cocos (Keeling) Islands</td><td>Profit-focused dedicated frame</td><td>2017</td><td>Consumer Electronics</td><td>2215</td></tr><tr><td>28</td><td>88b1f1cDcf59a37</td><td>Prince-David</td><td>http://thompson.com/</td><td>Christmas Island</td><td>Virtual holistic methodology</td><td>1970</td><td>Banking / Mortgage</td><td>1046</td></tr><tr><td>3</td><td>0bFED1ADAE4bcC1</td><td>Hester Ltd</td><td>http://sullivan-reed.com/</td><td>China</td><td>Switchable scalable moratorium</td><td>1971</td><td>Public Safety</td><td>5287</td></tr><tr><td>31</td><td>ccBcC32adcbc530</td><td>Sloan, Mays and Whitehead</td><td>http://lawson.com/</td><td>Chad</td><td>Face-to-face high-level conglomeration</td><td>1997</td><td>Civil Engineering</td><td>365</td></tr><tr><td>56</td><td>B9BdfEB6D3Ca44E</td><td>Sampson Ltd</td><td>https://blevins.com/</td><td>Cayman Islands</td><td>Intuitive local adapter</td><td>2005</td><td>Farming</td><td>1418</td></tr><tr><td>42</td><td>dF084FbBb613eea</td><td>Walls LLC</td><td>http://www.reese-vasquez.biz/</td><td>Cape Verde</td><td>Self-enabling fresh-thinking installation</td><td>1989</td><td>Investment Management / Hedge Fund / Private Equity</td><td>1678</td></tr><tr><td>49</td><td>7b3fe6e7E72bFa4</td><td>Berg-Sparks</td><td>https://cisneros-love.com/</td><td>Canada</td><td>Stand-alone static implementation</td><td>1974</td><td>Arts / Crafts</td><td>2073</td></tr><tr><td>84</td><td>FEC51bce8421a7b</td><td>Roberson, Pennington and Palmer</td><td>http://www.keith-fisher.com/</td><td>Cameroon</td><td>Adaptive bi-directional hierarchy</td><td>1993</td><td>Telecommunications</td><td>5571</td></tr><tr><td>90</td><td>F4Dc1417BC6cb8f</td><td>Gilbert-Simon</td><td>https://www.bradford.biz/</td><td>Burundi</td><td>Grass-roots radical parallelism</td><td>1973</td><td>Newspapers / Journalism</td><td>1927</td></tr><tr><td>64</td><td>055ffEfB2Dd95B0</td><td>Riley Ltd</td><td>http://wiley.com/</td><td>Brazil</td><td>Optional exuding superstructure</td><td>1986</td><td>Textiles</td><td>9315</td></tr><tr><td>11</td><td>AE61b8Ffebbc476</td><td>Kidd Group</td><td>http://www.lyons.com/</td><td>Bouvet Island (Bouvetoya)</td><td>Proactive foreground paradigm</td><td>2001</td><td>Primary / Secondary Education</td><td>7473</td></tr><tr><td>19</td><td>ba179F19F7925f5</td><td>Branch-Mann</td><td>http://www.lozano.com/</td><td>Botswana</td><td>Adaptive intangible frame</td><td>1999</td><td>Architecture / Planning</td><td>7961</td></tr><tr><td>36</td><td>4D4d7E18321eaeC</td><td>Pineda-Cox</td><td>http://aguilar.org/</td><td>Bolivia</td><td>Fundamental asynchronous capability</td><td>2010</td><td>Human Resources / HR</td><td>1312</td></tr><tr><td>91</td><td>7ABc3c7ecA03B34</td><td>Sampson-Griffith</td><td>http://hendricks.org/</td><td>Benin</td><td>Multi-layered composite paradigm</td><td>1972</td><td>Textiles</td><td>3881</td></tr><tr><td>45</td><td>235fdEFE2cfDa5F</td><td>Brock-Blackwell</td><td>http://www.small.com/</td><td>Benin</td><td>Secured foreground emulation</td><td>1986</td><td>Online Publishing</td><td>7034</td></tr><tr><td>73</td><td>dfcA1c84AdB61Ac</td><td>Mccall-Holmes</td><td>http://www.dean.com/</td><td>Benin</td><td>Object-based value-added database</td><td>2009</td><td>Legal Services</td><td>696</td></tr><tr><td>24</td><td>5Ec4C272bCf085c</td><td>Robbins-Cummings</td><td>http://donaldson-wilkins.com/</td><td>Belgium</td><td>Organic non-volatile hierarchy</td><td>1991</td><td>Pharmaceuticals</td><td>5038</td></tr><tr><td>39</td><td>6883A965c7b68F7</td><td>Hahn PLC</td><td>http://newman.com/</td><td>Belarus</td><td>Organic logistical leverage</td><td>2012</td><td>Electrical / Electronic Manufacturing</td><td>3715</td></tr><tr><td>6</td><td>cC757116fe1C085</td><td>Henry-Thompson</td><td>http://morse.net/</td><td>Bahamas</td><td>Face-to-face well-modulated customer loyalty</td><td>1992</td><td>Primary / Secondary Education</td><td>4914</td></tr><tr><td>30</td><td>7Cb3AeFcE4Ba31e</td><td>Rivas Group</td><td>https://hebert.org/</td><td>Australia</td><td>Open-architected well-modulated capacity</td><td>1998</td><td>Logistics / Procurement</td><td>4155</td></tr><tr><td>97</td><td>BA6Cd9Dae2Efd62</td><td>Good Ltd</td><td>http://duffy.com/</td><td>Anguilla</td><td>Reverse-engineered composite moratorium</td><td>1971</td><td>Consumer Services</td><td>4292</td></tr></tbody></table></div>"
      ]
     },
     "metadata": {
      "application/vnd.databricks.v1+output": {
       "addedWidgets": {},
       "aggData": [],
       "aggError": "",
       "aggOverflow": false,
       "aggSchema": [],
       "aggSeriesLimitReached": false,
       "aggType": "",
       "arguments": {},
       "columnCustomDisplayInfos": {},
       "data": [
        [
         "95",
         "4e91eD25f486110",
         "Best, Wade and Shepard",
         "https://zimmerman.com/",
         "Zimbabwe",
         "Innovative background definition",
         "1991",
         "Gambling / Casinos",
         "4873"
        ],
        [
         "32",
         "f5afd686b3d05F5",
         "Durham, Allen and Barnes",
         "http://chan-stafford.org/",
         "Zimbabwe",
         "Synergistic web-enabled framework",
         "1993",
         "Mechanical or Industrial Engineering",
         "6135"
        ],
        [
         "46",
         "1eD64cFe986BBbE",
         "Walton-Barnett",
         "https://ashley-schaefer.com/",
         "Western Sahara",
         "Right-sized clear-thinking flexibility",
         "2001",
         "Luxury Goods / Jewelry",
         "1746"
        ],
        [
         "62",
         "EB9f456e8b7022a",
         "Soto Group",
         "https://norris.info/",
         "Vietnam",
         "Enterprise-wide executive installation",
         "1988",
         "Business Supplies / Equipment",
         "9097"
        ],
        [
         "10",
         "738b5aDe6B1C6A5",
         "Gaines Inc",
         "http://sandoval-hooper.com/",
         "Uzbekistan",
         "Multi-lateral scalable protocol",
         "1997",
         "Outsourcing / Offshoring",
         "9698"
        ],
        [
         "72",
         "adcB0afbE58bAe3",
         "Wagner LLC",
         "https://decker-esparza.com/",
         "Uruguay",
         "Reactive attitude-oriented toolset",
         "1987",
         "International Affairs",
         "6874"
        ],
        [
         "88",
         "8cC1bDa330a5871",
         "Pineda-Morton",
         "https://www.carr.com/",
         "United States Virgin Islands",
         "Grass-roots methodical info-mediaries",
         "1991",
         "Printing",
         "6168"
        ],
        [
         "66",
         "fdFbecbadcdCdf1",
         "Wilkinson, Charles and Arroyo",
         "http://hunter-mcfarland.com/",
         "United States Virgin Islands",
         "Assimilated 24/7 archive",
         "1996",
         "Building Materials",
         "602"
        ],
        [
         "14",
         "D2c91cc03CA394c",
         "Glover-Pope",
         "http://www.silva.biz/",
         "United Arab Emirates",
         "Persevering contextually-based approach",
         "2013",
         "Medical Practice",
         "9079"
        ],
        [
         "17",
         "68139b5C4De03B4",
         "Bowers, Guerra and Krause",
         "http://www.carrillo-nicholson.com/",
         "Uganda",
         "De-engineered transitional strategy",
         "1972",
         "Primary / Secondary Education",
         "6986"
        ],
        [
         "4",
         "2bFC1Be8a4ce42f",
         "Holder-Sellers",
         "https://becker.com/",
         "Turkmenistan",
         "De-engineered systemic artificial intelligence",
         "2004",
         "Automotive",
         "921"
        ],
        [
         "60",
         "aAeb29ad43886C6",
         "Potter-Walsh",
         "http://thomas-french.org/",
         "Turkey",
         "Optional non-volatile open system",
         "2008",
         "Human Resources / HR",
         "6923"
        ],
        [
         "43",
         "A2D89Ab9bCcAd4e",
         "Mitchell, Warren and Schneider",
         "https://fox.biz/",
         "Trinidad and Tobago",
         "Enhanced intangible time-frame",
         "2021",
         "Capital Markets / Hedge Fund / Private Equity",
         "3816"
        ],
        [
         "50",
         "c6DedA82A8aef7E",
         "Gonzales Ltd",
         "http://bird.com/",
         "Tonga",
         "Managed human-resource policy",
         "1988",
         "Consumer Goods",
         "9069"
        ],
        [
         "78",
         "dd6CA3d0bc3cAfc",
         "Beasley, Greene and Mahoney",
         "http://www.petersen-lawrence.com/",
         "Togo",
         "Extended content-based methodology",
         "1976",
         "Religious Institutions",
         "869"
        ],
        [
         "100",
         "e9eB5A60Cef8354",
         "Watkins-Kaiser",
         "http://www.herring.com/",
         "Togo",
         "Synergistic background access",
         "2009",
         "Financial Services",
         "2785"
        ],
        [
         "61",
         "bD1bc6bB6d1FeD3",
         "Freeman-Chen",
         "https://mathis.com/",
         "Timor-Leste",
         "Phased next generation adapter",
         "1973",
         "International Trade / Development",
         "346"
        ],
        [
         "34",
         "5Cd7efccCcba38f",
         "Burch-Ewing",
         "http://cline.net/",
         "Taiwan",
         "User-centric 4thgeneration system engine",
         "1981",
         "Venture Capital / VC",
         "7443"
        ],
        [
         "94",
         "61BDeCfeFD0cEF5",
         "Valenzuela, Holmes and Rowland",
         "https://www.dorsey.net/",
         "Taiwan",
         "Persistent tertiary focus group",
         "1999",
         "Transportation",
         "1483"
        ],
        [
         "15",
         "C8AC1eaf9C036F4",
         "Pacheco-Spears",
         "https://aguilar.com/",
         "Sweden",
         "Secured logistical synergy",
         "1984",
         "Maritime",
         "769"
        ],
        [
         "85",
         "e0E8e27eAc9CAd5",
         "George, Russo and Guerra",
         "https://drake.com/",
         "Sweden",
         "Centralized non-volatile capability",
         "1989",
         "Military Industry",
         "2880"
        ],
        [
         "44",
         "77aDc905434a49f",
         "Prince PLC",
         "https://www.watts.com/",
         "Sweden",
         "Profit-focused coherent installation",
         "2016",
         "Individual / Family Services",
         "7645"
        ],
        [
         "77",
         "DDB19Be7eeB56B4",
         "Cummings-Rojas",
         "https://simon-pearson.com/",
         "Svalbard & Jan Mayen Islands",
         "User-centric modular customer loyalty",
         "2012",
         "Financial Services",
         "7529"
        ],
        [
         "74",
         "208044AC2fe52F3",
         "Massey LLC",
         "https://frazier.biz/",
         "Suriname",
         "Configurable zero administration Graphical User Interface",
         "1986",
         "Accounting",
         "5004"
        ],
        [
         "25",
         "5fDBeA8BB91a000",
         "Jenkins Inc",
         "http://www.kirk.biz/",
         "South Africa",
         "Front-line systematic help-desk",
         "2002",
         "Insurance",
         "1215"
        ],
        [
         "26",
         "dFfD6a6F9AC2d9C",
         "Greene, Benjamin and Novak",
         "http://www.kent.net/",
         "Romania",
         "Centralized leadingedge moratorium",
         "2012",
         "Museums / Institutions",
         "4941"
        ],
        [
         "63",
         "Dfef38C51D8DAe3",
         "Poole, Cruz and Whitney",
         "https://reed.info/",
         "Reunion",
         "Balanced analyzing groupware",
         "1978",
         "Marketing / Advertising / Sales",
         "2992"
        ],
        [
         "29",
         "f9F7bBCAEeC360F",
         "Ayala LLC",
         "http://www.zhang.com/",
         "Philippines",
         "Open-source zero administration hierarchy",
         "2021",
         "Legal Services",
         "7664"
        ],
        [
         "1",
         "FAB0d41d5b5d22c",
         "Ferrell LLC",
         "https://price.net/",
         "Papua New Guinea",
         "Horizontal empowering knowledgebase",
         "1990",
         "Plastics",
         "3498"
        ],
        [
         "59",
         "aeBe26B80a7a23c",
         "Melton-Nichols",
         "https://kennedy.com/",
         "Palau",
         "User-friendly clear-thinking productivity",
         "2021",
         "Legislative Office",
         "8741"
        ],
        [
         "75",
         "f3C365f0c1A0623",
         "Hicks LLC",
         "http://alvarez.biz/",
         "Pakistan",
         "Quality-focused client-server Graphical User Interface",
         "1970",
         "Computer Software / Engineering",
         "8480"
        ],
        [
         "7",
         "219233e8aFF1BC3",
         "Hansen-Everett",
         "https://www.kidd.org/",
         "Pakistan",
         "Seamless disintermediate collaboration",
         "2018",
         "Publishing Industry",
         "7832"
        ],
        [
         "69",
         "5aaD187dc929371",
         "Frazier-Butler",
         "https://www.daugherty-farley.info/",
         "Northern Mariana Islands",
         "Persistent interactive circuit",
         "1972",
         "Outsourcing / Offshoring",
         "5130"
        ],
        [
         "47",
         "CbBbFcdd0eaE2cF",
         "Bartlett-Arroyo",
         "https://cruz.com/",
         "Northern Mariana Islands",
         "Realigned didactic function",
         "1976",
         "Civic / Social Organization",
         "3987"
        ],
        [
         "57",
         "2a74D6f3D3B268e",
         "Cherry, Le and Callahan",
         "https://waller-delacruz.biz/",
         "Nigeria",
         "Universal human-resource collaboration",
         "2017",
         "Entertainment / Movie Production",
         "7202"
        ],
        [
         "70",
         "902D7Ac8b6d476b",
         "Newton Inc",
         "https://www.richmond-manning.info/",
         "Netherlands Antilles",
         "Fundamental stable info-mediaries",
         "1976",
         "Military Industry",
         "563"
        ],
        [
         "33",
         "38C6cfC5074Fa5e",
         "Fritz-Franklin",
         "http://www.lambert.com/",
         "Nepal",
         "Automated 4thgeneration website",
         "1972",
         "Hospitality",
         "4516"
        ],
        [
         "76",
         "ec5Bdd3CBAfaB93",
         "Cole, Russell and Avery",
         "http://www.blankenship.com/",
         "Mongolia",
         "De-engineered fault-tolerant challenge",
         "2000",
         "Law Enforcement",
         "7012"
        ],
        [
         "23",
         "22aC3FFd64fD703",
         "Eaton, Reynolds and Vargas",
         "http://www.freeman.biz/",
         "Monaco",
         "Self-enabling multi-tasking process improvement",
         "2014",
         "Luxury Goods / Jewelry",
         "8987"
        ],
        [
         "83",
         "c89b9b59BC4baa1",
         "Eaton-Morales",
         "https://www.reeves-graham.com/",
         "Micronesia",
         "Customer-focused explicit frame",
         "1990",
         "Capital Markets / Hedge Fund / Private Equity",
         "7013"
        ],
        [
         "55",
         "e24D21BFd3bF1E5",
         "Richard PLC",
         "https://holden-coleman.net/",
         "Mayotte",
         "Object-based optimizing model",
         "1971",
         "Broadcast Media",
         "4942"
        ],
        [
         "5",
         "9eE8A6a4Eb96C24",
         "Mayer Group",
         "http://www.brewer.com/",
         "Mauritius",
         "Synchronized needs-based challenge",
         "1991",
         "Transportation",
         "7870"
        ],
        [
         "58",
         "Bf3F3f62c8aBC33",
         "Cherry PLC",
         "https://www.avila.info/",
         "Marshall Islands",
         "Persistent tertiary website",
         "1980",
         "Plastics",
         "8245"
        ],
        [
         "87",
         "a0a6f9b3DbcBEb5",
         "Mays-Preston",
         "http://www.browning-key.com/",
         "Mali",
         "User-centric heuristic focus group",
         "2006",
         "Military Industry",
         "5786"
        ],
        [
         "21",
         "8de40AC4e6EaCa4",
         "Velez, Payne and Coffey",
         "http://burton.com/",
         "Luxembourg",
         "Mandatory coherent synergy",
         "1986",
         "Wholesale",
         "5010"
        ],
        [
         "68",
         "ce57DCbcFD6d618",
         "Newman-Galloway",
         "https://www.scott.com/",
         "Luxembourg",
         "Enhanced foreground collaboration",
         "1987",
         "Information Technology / IT",
         "3934"
        ],
        [
         "81",
         "Ea3f6D52Ec73563",
         "Montes-Hensley",
         "https://krueger.org/",
         "Liechtenstein",
         "Multi-tiered secondary productivity",
         "2009",
         "Printing",
         "8433"
        ],
        [
         "13",
         "8D0c29189C9798B",
         "Keller, Campos and Black",
         "https://www.garner.info/",
         "Liberia",
         "Ameliorated directional emulation",
         "2020",
         "Museums / Institutions",
         "2862"
        ],
        [
         "79",
         "A0B9d56e61070e3",
         "Beasley, Sims and Allison",
         "http://burke.info/",
         "Latvia",
         "Secured zero tolerance hub",
         "1972",
         "Facilities Services",
         "6182"
        ],
        [
         "99",
         "AFc285dbE2fEd24",
         "Mendez Inc",
         "https://www.burke.net/",
         "Kyrgyz Republic",
         "User-friendly exuding migration",
         "1993",
         "Education Management",
         "339"
        ],
        [
         "35",
         "9E6Acb51e3F9d6F",
         "Glass, Barrera and Turner",
         "https://dunlap.com/",
         "Kyrgyz Republic",
         "Multi-channeled 3rdgeneration open system",
         "2020",
         "Utilities",
         "2610"
        ],
        [
         "9",
         "0B4F93aA06ED03e",
         "Carr Inc",
         "http://ross.com/",
         "Kuwait",
         "Distributed impactful customer loyalty",
         "1996",
         "Plastics",
         "8167"
        ],
        [
         "52",
         "7dd18Fb7cB07b65",
         "Mcguire, Mcconnell and Olsen",
         "https://melton-briggs.com/",
         "Korea",
         "Profound client-server frame",
         "1988",
         "Printing",
         "8445"
        ],
        [
         "20",
         "c1Ce9B350BAc66b",
         "Weiss and Sons",
         "https://barrett.com/",
         "Korea",
         "Sharable optimal functionalities",
         "2011",
         "Plastics",
         "5984"
        ],
        [
         "37",
         "485f5d06B938F2b",
         "Baker, Mccann and Macdonald",
         "http://www.anderson-barker.com/",
         "Kenya",
         "Cross-group user-facing focus group",
         "2013",
         "Legislative Office",
         "1638"
        ],
        [
         "40",
         "AC5B7AA74Aa4A2E",
         "Valentine, Ferguson and Kramer",
         "http://stuart.net/",
         "Jersey",
         "Centralized secondary time-frame",
         "1997",
         "Non - Profit / Volunteering",
         "3585"
        ],
        [
         "18",
         "5c2EffEfdba2BdF",
         "Mckenzie-Melton",
         "http://montoya-thompson.com/",
         "Hong Kong",
         "Reverse-engineered heuristic alliance",
         "1998",
         "Investment Management / Hedge Fund / Private Equity",
         "4589"
        ],
        [
         "16",
         "b5D10A14f7a8AfE",
         "Hodge-Ayers",
         "http://www.archer-elliott.com/",
         "Honduras",
         "Future-proofed radical implementation",
         "1990",
         "Facilities Services",
         "8508"
        ],
        [
         "8",
         "ccc93DCF81a31CD",
         "Mcintosh-Mora",
         "https://www.brooks.com/",
         "Heard Island and McDonald Islands",
         "Centralized attitude-oriented capability",
         "1970",
         "Import / Export",
         "4389"
        ],
        [
         "71",
         "32BB9Ff4d939788",
         "Duffy-Levy",
         "https://www.potter.com/",
         "Guernsey",
         "Diverse exuding installation",
         "1982",
         "Wireless",
         "6146"
        ],
        [
         "38",
         "19E3a5Bf6dBDc4F",
         "Cuevas-Moss",
         "https://dodson-castaneda.net/",
         "Guatemala",
         "Extended human-resource intranet",
         "1994",
         "Music",
         "9995"
        ],
        [
         "22",
         "Aad86a4F0385F2d",
         "Harrell LLC",
         "http://www.frey-rosario.com/",
         "Guadeloupe",
         "Reverse-engineered mission-critical moratorium",
         "2018",
         "Construction",
         "2185"
        ],
        [
         "41",
         "decab0D5027CA6a",
         "Arroyo Inc",
         "https://www.turner.com/",
         "Grenada",
         "Managed demand-driven website",
         "2006",
         "Writing / Editing",
         "9067"
        ],
        [
         "92",
         "4e0719FBE38e0aB",
         "Miles-Dominguez",
         "http://www.turner.com/",
         "Gibraltar",
         "Organized empowering forecast",
         "1996",
         "Civic / Social Organization",
         "897"
        ],
        [
         "48",
         "49aECbDaE6aBD53",
         "Wallace, Madden and Morris",
         "http://www.blevins-fernandez.biz/",
         "Germany",
         "Persistent real-time customer loyalty",
         "2016",
         "Pharmaceuticals",
         "9443"
        ],
        [
         "51",
         "7D9FBF85cdC3871",
         "Lawson and Sons",
         "https://www.wong.com/",
         "French Southern Territories",
         "Compatible analyzing intranet",
         "2021",
         "Arts / Crafts",
         "3527"
        ],
        [
         "2",
         "6A7EdDEA9FaDC52",
         "Mckinney, Riley and Day",
         "http://www.hall-buchanan.info/",
         "Finland",
         "User-centric system-worthy leverage",
         "2015",
         "Glass / Ceramics / Concrete",
         "4952"
        ],
        [
         "98",
         "E7df80C60Abd7f9",
         "Clements-Espinoza",
         "http://www.flowers.net/",
         "Falkland Islands (Malvinas)",
         "Progressive modular hub",
         "1991",
         "Broadcast Media",
         "236"
        ],
        [
         "67",
         "5DCb8A5a5ca03c0",
         "Floyd Ltd",
         "http://www.whitney.com/",
         "Falkland Islands (Malvinas)",
         "Function-based fault-tolerant concept",
         "2017",
         "Public Relations / PR",
         "2911"
        ],
        [
         "96",
         "0a0bfFbBbB8eC7c",
         "Holmes Group",
         "https://mcdowell.org/",
         "Ethiopia",
         "Right-sized zero tolerance focus group",
         "1975",
         "Photography",
         "2988"
        ],
        [
         "89",
         "ED889CB2FE9cbd3",
         "Huang and Sons",
         "https://www.bolton.com/",
         "Eritrea",
         "Re-contextualized dynamic hierarchy",
         "1981",
         "Semiconductors",
         "7484"
        ],
        [
         "65",
         "cBfe4dbAE1699da",
         "Erickson, Andrews and Bailey",
         "https://www.hobbs-grant.com/",
         "Eritrea",
         "Vision-oriented secondary project",
         "2014",
         "Consumer Electronics",
         "7829"
        ],
        [
         "93",
         "dEbDAAeDfaed00A",
         "Rowe and Sons",
         "https://www.simpson.org/",
         "El Salvador",
         "Balanced multimedia knowledgebase",
         "1978",
         "Facilities Services",
         "8172"
        ],
        [
         "82",
         "bC0CEd48A8000E0",
         "Velazquez-Odom",
         "https://stokes.com/",
         "Djibouti",
         "Streamlined 6thgeneration function",
         "2002",
         "Alternative Dispute Resolution",
         "4044"
        ],
        [
         "12",
         "eb3B7D06cCdD609",
         "Crane-Clarke",
         "https://www.sandoval.com/",
         "Denmark",
         "Front-line clear-thinking encryption",
         "2014",
         "Food / Beverages",
         "9011"
        ],
        [
         "27",
         "4B217cC5a0674C5",
         "Dickson, Richmond and Clay",
         "http://everett.com/",
         "Czech Republic",
         "Team-oriented tangible complexity",
         "1980",
         "Real Estate / Mortgage",
         "3122"
        ],
        [
         "80",
         "cBa7EFe5D05Adaf",
         "Crawford-Rivera",
         "https://black-ramirez.org/",
         "Cuba",
         "Persevering exuding budgetary management",
         "1999",
         "Online Publishing",
         "7805"
        ],
        [
         "53",
         "EF5B55FadccB8Fe",
         "Charles-Phillips",
         "https://bowman.com/",
         "Cote d'Ivoire",
         "Monitored client-server implementation",
         "2012",
         "Mental Health Care",
         "3450"
        ],
        [
         "54",
         "f8D4B99e11fAF5D",
         "Odom Ltd",
         "https://www.humphrey-hess.com/",
         "Cote d'Ivoire",
         "Advanced static process improvement",
         "2012",
         "Management Consulting",
         "1825"
        ],
        [
         "86",
         "B97a6CF9bf5983C",
         "Davila Inc",
         "https://mcconnell.info/",
         "Cocos (Keeling) Islands",
         "Profit-focused dedicated frame",
         "2017",
         "Consumer Electronics",
         "2215"
        ],
        [
         "28",
         "88b1f1cDcf59a37",
         "Prince-David",
         "http://thompson.com/",
         "Christmas Island",
         "Virtual holistic methodology",
         "1970",
         "Banking / Mortgage",
         "1046"
        ],
        [
         "3",
         "0bFED1ADAE4bcC1",
         "Hester Ltd",
         "http://sullivan-reed.com/",
         "China",
         "Switchable scalable moratorium",
         "1971",
         "Public Safety",
         "5287"
        ],
        [
         "31",
         "ccBcC32adcbc530",
         "Sloan, Mays and Whitehead",
         "http://lawson.com/",
         "Chad",
         "Face-to-face high-level conglomeration",
         "1997",
         "Civil Engineering",
         "365"
        ],
        [
         "56",
         "B9BdfEB6D3Ca44E",
         "Sampson Ltd",
         "https://blevins.com/",
         "Cayman Islands",
         "Intuitive local adapter",
         "2005",
         "Farming",
         "1418"
        ],
        [
         "42",
         "dF084FbBb613eea",
         "Walls LLC",
         "http://www.reese-vasquez.biz/",
         "Cape Verde",
         "Self-enabling fresh-thinking installation",
         "1989",
         "Investment Management / Hedge Fund / Private Equity",
         "1678"
        ],
        [
         "49",
         "7b3fe6e7E72bFa4",
         "Berg-Sparks",
         "https://cisneros-love.com/",
         "Canada",
         "Stand-alone static implementation",
         "1974",
         "Arts / Crafts",
         "2073"
        ],
        [
         "84",
         "FEC51bce8421a7b",
         "Roberson, Pennington and Palmer",
         "http://www.keith-fisher.com/",
         "Cameroon",
         "Adaptive bi-directional hierarchy",
         "1993",
         "Telecommunications",
         "5571"
        ],
        [
         "90",
         "F4Dc1417BC6cb8f",
         "Gilbert-Simon",
         "https://www.bradford.biz/",
         "Burundi",
         "Grass-roots radical parallelism",
         "1973",
         "Newspapers / Journalism",
         "1927"
        ],
        [
         "64",
         "055ffEfB2Dd95B0",
         "Riley Ltd",
         "http://wiley.com/",
         "Brazil",
         "Optional exuding superstructure",
         "1986",
         "Textiles",
         "9315"
        ],
        [
         "11",
         "AE61b8Ffebbc476",
         "Kidd Group",
         "http://www.lyons.com/",
         "Bouvet Island (Bouvetoya)",
         "Proactive foreground paradigm",
         "2001",
         "Primary / Secondary Education",
         "7473"
        ],
        [
         "19",
         "ba179F19F7925f5",
         "Branch-Mann",
         "http://www.lozano.com/",
         "Botswana",
         "Adaptive intangible frame",
         "1999",
         "Architecture / Planning",
         "7961"
        ],
        [
         "36",
         "4D4d7E18321eaeC",
         "Pineda-Cox",
         "http://aguilar.org/",
         "Bolivia",
         "Fundamental asynchronous capability",
         "2010",
         "Human Resources / HR",
         "1312"
        ],
        [
         "91",
         "7ABc3c7ecA03B34",
         "Sampson-Griffith",
         "http://hendricks.org/",
         "Benin",
         "Multi-layered composite paradigm",
         "1972",
         "Textiles",
         "3881"
        ],
        [
         "45",
         "235fdEFE2cfDa5F",
         "Brock-Blackwell",
         "http://www.small.com/",
         "Benin",
         "Secured foreground emulation",
         "1986",
         "Online Publishing",
         "7034"
        ],
        [
         "73",
         "dfcA1c84AdB61Ac",
         "Mccall-Holmes",
         "http://www.dean.com/",
         "Benin",
         "Object-based value-added database",
         "2009",
         "Legal Services",
         "696"
        ],
        [
         "24",
         "5Ec4C272bCf085c",
         "Robbins-Cummings",
         "http://donaldson-wilkins.com/",
         "Belgium",
         "Organic non-volatile hierarchy",
         "1991",
         "Pharmaceuticals",
         "5038"
        ],
        [
         "39",
         "6883A965c7b68F7",
         "Hahn PLC",
         "http://newman.com/",
         "Belarus",
         "Organic logistical leverage",
         "2012",
         "Electrical / Electronic Manufacturing",
         "3715"
        ],
        [
         "6",
         "cC757116fe1C085",
         "Henry-Thompson",
         "http://morse.net/",
         "Bahamas",
         "Face-to-face well-modulated customer loyalty",
         "1992",
         "Primary / Secondary Education",
         "4914"
        ],
        [
         "30",
         "7Cb3AeFcE4Ba31e",
         "Rivas Group",
         "https://hebert.org/",
         "Australia",
         "Open-architected well-modulated capacity",
         "1998",
         "Logistics / Procurement",
         "4155"
        ],
        [
         "97",
         "BA6Cd9Dae2Efd62",
         "Good Ltd",
         "http://duffy.com/",
         "Anguilla",
         "Reverse-engineered composite moratorium",
         "1971",
         "Consumer Services",
         "4292"
        ]
       ],
       "datasetInfos": [],
       "dbfsResultPath": null,
       "isJsonSchema": true,
       "metadata": {},
       "overflow": false,
       "plotOptions": {
        "customPlotOptions": {},
        "displayType": "table",
        "pivotAggregation": null,
        "pivotColumns": null,
        "xColumns": null,
        "yColumns": null
       },
       "removedWidgets": [],
       "schema": [
        {
         "metadata": "{}",
         "name": "Index",
         "type": "\"string\""
        },
        {
         "metadata": "{}",
         "name": "Organization Id",
         "type": "\"string\""
        },
        {
         "metadata": "{}",
         "name": "Name",
         "type": "\"string\""
        },
        {
         "metadata": "{}",
         "name": "Website",
         "type": "\"string\""
        },
        {
         "metadata": "{}",
         "name": "Country",
         "type": "\"string\""
        },
        {
         "metadata": "{}",
         "name": "Description",
         "type": "\"string\""
        },
        {
         "metadata": "{}",
         "name": "Founded",
         "type": "\"string\""
        },
        {
         "metadata": "{}",
         "name": "Industry",
         "type": "\"string\""
        },
        {
         "metadata": "{}",
         "name": "Number of employees",
         "type": "\"string\""
        }
       ],
       "type": "table"
      }
     },
     "output_type": "display_data"
    }
   ],
   "source": [
    " display(df.orderBy([\"Country\", \"Founded\" ],ascending=[0,1], index_ignore=True))"
   ]
  },
  {
   "cell_type": "code",
   "execution_count": 0,
   "metadata": {
    "application/vnd.databricks.v1+cell": {
     "cellMetadata": {
      "byteLimit": 2048000,
      "implicitDf": true,
      "rowLimit": 10000
     },
     "inputWidgets": {},
     "nuid": "a41b3f47-6033-4512-816a-1bff6b94fae4",
     "showTitle": false,
     "title": ""
    }
   },
   "outputs": [
    {
     "output_type": "display_data",
     "data": {
      "text/html": [
       "<style scoped>\n",
       "  .table-result-container {\n",
       "    max-height: 300px;\n",
       "    overflow: auto;\n",
       "  }\n",
       "  table, th, td {\n",
       "    border: 1px solid black;\n",
       "    border-collapse: collapse;\n",
       "  }\n",
       "  th, td {\n",
       "    padding: 5px;\n",
       "  }\n",
       "  th {\n",
       "    text-align: left;\n",
       "  }\n",
       "</style><div class='table-result-container'><table class='table-result'><thead style='background-color: white'><tr><th>Name</th><th>Country</th><th>Founded</th><th>Industry</th></tr></thead><tbody><tr><td>Ferrell LLC</td><td>Papua New Guinea</td><td>1990</td><td>Plastics</td></tr><tr><td>Mckinney, Riley and Day</td><td>Finland</td><td>2015</td><td>Glass / Ceramics / Concrete</td></tr><tr><td>Hester Ltd</td><td>China</td><td>1971</td><td>Public Safety</td></tr><tr><td>Holder-Sellers</td><td>Turkmenistan</td><td>2004</td><td>Automotive</td></tr><tr><td>Mayer Group</td><td>Mauritius</td><td>1991</td><td>Transportation</td></tr><tr><td>Henry-Thompson</td><td>Bahamas</td><td>1992</td><td>Primary / Secondary Education</td></tr><tr><td>Hansen-Everett</td><td>Pakistan</td><td>2018</td><td>Publishing Industry</td></tr><tr><td>Mcintosh-Mora</td><td>Heard Island and McDonald Islands</td><td>1970</td><td>Import / Export</td></tr><tr><td>Carr Inc</td><td>Kuwait</td><td>1996</td><td>Plastics</td></tr><tr><td>Gaines Inc</td><td>Uzbekistan</td><td>1997</td><td>Outsourcing / Offshoring</td></tr><tr><td>Kidd Group</td><td>Bouvet Island (Bouvetoya)</td><td>2001</td><td>Primary / Secondary Education</td></tr><tr><td>Crane-Clarke</td><td>Denmark</td><td>2014</td><td>Food / Beverages</td></tr><tr><td>Keller, Campos and Black</td><td>Liberia</td><td>2020</td><td>Museums / Institutions</td></tr><tr><td>Glover-Pope</td><td>United Arab Emirates</td><td>2013</td><td>Medical Practice</td></tr><tr><td>Pacheco-Spears</td><td>Sweden</td><td>1984</td><td>Maritime</td></tr><tr><td>Hodge-Ayers</td><td>Honduras</td><td>1990</td><td>Facilities Services</td></tr><tr><td>Bowers, Guerra and Krause</td><td>Uganda</td><td>1972</td><td>Primary / Secondary Education</td></tr><tr><td>Mckenzie-Melton</td><td>Hong Kong</td><td>1998</td><td>Investment Management / Hedge Fund / Private Equity</td></tr><tr><td>Branch-Mann</td><td>Botswana</td><td>1999</td><td>Architecture / Planning</td></tr><tr><td>Weiss and Sons</td><td>Korea</td><td>2011</td><td>Plastics</td></tr><tr><td>Velez, Payne and Coffey</td><td>Luxembourg</td><td>1986</td><td>Wholesale</td></tr><tr><td>Harrell LLC</td><td>Guadeloupe</td><td>2018</td><td>Construction</td></tr><tr><td>Eaton, Reynolds and Vargas</td><td>Monaco</td><td>2014</td><td>Luxury Goods / Jewelry</td></tr><tr><td>Robbins-Cummings</td><td>Belgium</td><td>1991</td><td>Pharmaceuticals</td></tr><tr><td>Jenkins Inc</td><td>South Africa</td><td>2002</td><td>Insurance</td></tr><tr><td>Greene, Benjamin and Novak</td><td>Romania</td><td>2012</td><td>Museums / Institutions</td></tr><tr><td>Dickson, Richmond and Clay</td><td>Czech Republic</td><td>1980</td><td>Real Estate / Mortgage</td></tr><tr><td>Prince-David</td><td>Christmas Island</td><td>1970</td><td>Banking / Mortgage</td></tr><tr><td>Ayala LLC</td><td>Philippines</td><td>2021</td><td>Legal Services</td></tr><tr><td>Rivas Group</td><td>Australia</td><td>1998</td><td>Logistics / Procurement</td></tr><tr><td>Sloan, Mays and Whitehead</td><td>Chad</td><td>1997</td><td>Civil Engineering</td></tr><tr><td>Durham, Allen and Barnes</td><td>Zimbabwe</td><td>1993</td><td>Mechanical or Industrial Engineering</td></tr><tr><td>Fritz-Franklin</td><td>Nepal</td><td>1972</td><td>Hospitality</td></tr><tr><td>Burch-Ewing</td><td>Taiwan</td><td>1981</td><td>Venture Capital / VC</td></tr><tr><td>Glass, Barrera and Turner</td><td>Kyrgyz Republic</td><td>2020</td><td>Utilities</td></tr><tr><td>Pineda-Cox</td><td>Bolivia</td><td>2010</td><td>Human Resources / HR</td></tr><tr><td>Baker, Mccann and Macdonald</td><td>Kenya</td><td>2013</td><td>Legislative Office</td></tr><tr><td>Cuevas-Moss</td><td>Guatemala</td><td>1994</td><td>Music</td></tr><tr><td>Hahn PLC</td><td>Belarus</td><td>2012</td><td>Electrical / Electronic Manufacturing</td></tr><tr><td>Valentine, Ferguson and Kramer</td><td>Jersey</td><td>1997</td><td>Non - Profit / Volunteering</td></tr><tr><td>Arroyo Inc</td><td>Grenada</td><td>2006</td><td>Writing / Editing</td></tr><tr><td>Walls LLC</td><td>Cape Verde</td><td>1989</td><td>Investment Management / Hedge Fund / Private Equity</td></tr><tr><td>Mitchell, Warren and Schneider</td><td>Trinidad and Tobago</td><td>2021</td><td>Capital Markets / Hedge Fund / Private Equity</td></tr><tr><td>Prince PLC</td><td>Sweden</td><td>2016</td><td>Individual / Family Services</td></tr><tr><td>Brock-Blackwell</td><td>Benin</td><td>1986</td><td>Online Publishing</td></tr><tr><td>Walton-Barnett</td><td>Western Sahara</td><td>2001</td><td>Luxury Goods / Jewelry</td></tr><tr><td>Bartlett-Arroyo</td><td>Northern Mariana Islands</td><td>1976</td><td>Civic / Social Organization</td></tr><tr><td>Wallace, Madden and Morris</td><td>Germany</td><td>2016</td><td>Pharmaceuticals</td></tr><tr><td>Berg-Sparks</td><td>Canada</td><td>1974</td><td>Arts / Crafts</td></tr><tr><td>Gonzales Ltd</td><td>Tonga</td><td>1988</td><td>Consumer Goods</td></tr><tr><td>Lawson and Sons</td><td>French Southern Territories</td><td>2021</td><td>Arts / Crafts</td></tr><tr><td>Mcguire, Mcconnell and Olsen</td><td>Korea</td><td>1988</td><td>Printing</td></tr><tr><td>Charles-Phillips</td><td>Cote d'Ivoire</td><td>2012</td><td>Mental Health Care</td></tr><tr><td>Odom Ltd</td><td>Cote d'Ivoire</td><td>2012</td><td>Management Consulting</td></tr><tr><td>Richard PLC</td><td>Mayotte</td><td>1971</td><td>Broadcast Media</td></tr><tr><td>Sampson Ltd</td><td>Cayman Islands</td><td>2005</td><td>Farming</td></tr><tr><td>Cherry, Le and Callahan</td><td>Nigeria</td><td>2017</td><td>Entertainment / Movie Production</td></tr><tr><td>Cherry PLC</td><td>Marshall Islands</td><td>1980</td><td>Plastics</td></tr><tr><td>Melton-Nichols</td><td>Palau</td><td>2021</td><td>Legislative Office</td></tr><tr><td>Potter-Walsh</td><td>Turkey</td><td>2008</td><td>Human Resources / HR</td></tr><tr><td>Freeman-Chen</td><td>Timor-Leste</td><td>1973</td><td>International Trade / Development</td></tr><tr><td>Soto Group</td><td>Vietnam</td><td>1988</td><td>Business Supplies / Equipment</td></tr><tr><td>Poole, Cruz and Whitney</td><td>Reunion</td><td>1978</td><td>Marketing / Advertising / Sales</td></tr><tr><td>Riley Ltd</td><td>Brazil</td><td>1986</td><td>Textiles</td></tr><tr><td>Erickson, Andrews and Bailey</td><td>Eritrea</td><td>2014</td><td>Consumer Electronics</td></tr><tr><td>Wilkinson, Charles and Arroyo</td><td>United States Virgin Islands</td><td>1996</td><td>Building Materials</td></tr><tr><td>Floyd Ltd</td><td>Falkland Islands (Malvinas)</td><td>2017</td><td>Public Relations / PR</td></tr><tr><td>Newman-Galloway</td><td>Luxembourg</td><td>1987</td><td>Information Technology / IT</td></tr><tr><td>Frazier-Butler</td><td>Northern Mariana Islands</td><td>1972</td><td>Outsourcing / Offshoring</td></tr><tr><td>Newton Inc</td><td>Netherlands Antilles</td><td>1976</td><td>Military Industry</td></tr><tr><td>Duffy-Levy</td><td>Guernsey</td><td>1982</td><td>Wireless</td></tr><tr><td>Wagner LLC</td><td>Uruguay</td><td>1987</td><td>International Affairs</td></tr><tr><td>Mccall-Holmes</td><td>Benin</td><td>2009</td><td>Legal Services</td></tr><tr><td>Massey LLC</td><td>Suriname</td><td>1986</td><td>Accounting</td></tr><tr><td>Hicks LLC</td><td>Pakistan</td><td>1970</td><td>Computer Software / Engineering</td></tr><tr><td>Cole, Russell and Avery</td><td>Mongolia</td><td>2000</td><td>Law Enforcement</td></tr><tr><td>Cummings-Rojas</td><td>Svalbard & Jan Mayen Islands</td><td>2012</td><td>Financial Services</td></tr><tr><td>Beasley, Greene and Mahoney</td><td>Togo</td><td>1976</td><td>Religious Institutions</td></tr><tr><td>Beasley, Sims and Allison</td><td>Latvia</td><td>1972</td><td>Facilities Services</td></tr><tr><td>Crawford-Rivera</td><td>Cuba</td><td>1999</td><td>Online Publishing</td></tr><tr><td>Montes-Hensley</td><td>Liechtenstein</td><td>2009</td><td>Printing</td></tr><tr><td>Velazquez-Odom</td><td>Djibouti</td><td>2002</td><td>Alternative Dispute Resolution</td></tr><tr><td>Eaton-Morales</td><td>Micronesia</td><td>1990</td><td>Capital Markets / Hedge Fund / Private Equity</td></tr><tr><td>Roberson, Pennington and Palmer</td><td>Cameroon</td><td>1993</td><td>Telecommunications</td></tr><tr><td>George, Russo and Guerra</td><td>Sweden</td><td>1989</td><td>Military Industry</td></tr><tr><td>Davila Inc</td><td>Cocos (Keeling) Islands</td><td>2017</td><td>Consumer Electronics</td></tr><tr><td>Mays-Preston</td><td>Mali</td><td>2006</td><td>Military Industry</td></tr><tr><td>Pineda-Morton</td><td>United States Virgin Islands</td><td>1991</td><td>Printing</td></tr><tr><td>Huang and Sons</td><td>Eritrea</td><td>1981</td><td>Semiconductors</td></tr><tr><td>Gilbert-Simon</td><td>Burundi</td><td>1973</td><td>Newspapers / Journalism</td></tr><tr><td>Sampson-Griffith</td><td>Benin</td><td>1972</td><td>Textiles</td></tr><tr><td>Miles-Dominguez</td><td>Gibraltar</td><td>1996</td><td>Civic / Social Organization</td></tr><tr><td>Rowe and Sons</td><td>El Salvador</td><td>1978</td><td>Facilities Services</td></tr><tr><td>Valenzuela, Holmes and Rowland</td><td>Taiwan</td><td>1999</td><td>Transportation</td></tr><tr><td>Best, Wade and Shepard</td><td>Zimbabwe</td><td>1991</td><td>Gambling / Casinos</td></tr><tr><td>Holmes Group</td><td>Ethiopia</td><td>1975</td><td>Photography</td></tr><tr><td>Good Ltd</td><td>Anguilla</td><td>1971</td><td>Consumer Services</td></tr><tr><td>Clements-Espinoza</td><td>Falkland Islands (Malvinas)</td><td>1991</td><td>Broadcast Media</td></tr><tr><td>Mendez Inc</td><td>Kyrgyz Republic</td><td>1993</td><td>Education Management</td></tr><tr><td>Watkins-Kaiser</td><td>Togo</td><td>2009</td><td>Financial Services</td></tr></tbody></table></div>"
      ]
     },
     "metadata": {
      "application/vnd.databricks.v1+output": {
       "addedWidgets": {},
       "aggData": [],
       "aggError": "",
       "aggOverflow": false,
       "aggSchema": [],
       "aggSeriesLimitReached": false,
       "aggType": "",
       "arguments": {},
       "columnCustomDisplayInfos": {},
       "data": [
        [
         "Ferrell LLC",
         "Papua New Guinea",
         "1990",
         "Plastics"
        ],
        [
         "Mckinney, Riley and Day",
         "Finland",
         "2015",
         "Glass / Ceramics / Concrete"
        ],
        [
         "Hester Ltd",
         "China",
         "1971",
         "Public Safety"
        ],
        [
         "Holder-Sellers",
         "Turkmenistan",
         "2004",
         "Automotive"
        ],
        [
         "Mayer Group",
         "Mauritius",
         "1991",
         "Transportation"
        ],
        [
         "Henry-Thompson",
         "Bahamas",
         "1992",
         "Primary / Secondary Education"
        ],
        [
         "Hansen-Everett",
         "Pakistan",
         "2018",
         "Publishing Industry"
        ],
        [
         "Mcintosh-Mora",
         "Heard Island and McDonald Islands",
         "1970",
         "Import / Export"
        ],
        [
         "Carr Inc",
         "Kuwait",
         "1996",
         "Plastics"
        ],
        [
         "Gaines Inc",
         "Uzbekistan",
         "1997",
         "Outsourcing / Offshoring"
        ],
        [
         "Kidd Group",
         "Bouvet Island (Bouvetoya)",
         "2001",
         "Primary / Secondary Education"
        ],
        [
         "Crane-Clarke",
         "Denmark",
         "2014",
         "Food / Beverages"
        ],
        [
         "Keller, Campos and Black",
         "Liberia",
         "2020",
         "Museums / Institutions"
        ],
        [
         "Glover-Pope",
         "United Arab Emirates",
         "2013",
         "Medical Practice"
        ],
        [
         "Pacheco-Spears",
         "Sweden",
         "1984",
         "Maritime"
        ],
        [
         "Hodge-Ayers",
         "Honduras",
         "1990",
         "Facilities Services"
        ],
        [
         "Bowers, Guerra and Krause",
         "Uganda",
         "1972",
         "Primary / Secondary Education"
        ],
        [
         "Mckenzie-Melton",
         "Hong Kong",
         "1998",
         "Investment Management / Hedge Fund / Private Equity"
        ],
        [
         "Branch-Mann",
         "Botswana",
         "1999",
         "Architecture / Planning"
        ],
        [
         "Weiss and Sons",
         "Korea",
         "2011",
         "Plastics"
        ],
        [
         "Velez, Payne and Coffey",
         "Luxembourg",
         "1986",
         "Wholesale"
        ],
        [
         "Harrell LLC",
         "Guadeloupe",
         "2018",
         "Construction"
        ],
        [
         "Eaton, Reynolds and Vargas",
         "Monaco",
         "2014",
         "Luxury Goods / Jewelry"
        ],
        [
         "Robbins-Cummings",
         "Belgium",
         "1991",
         "Pharmaceuticals"
        ],
        [
         "Jenkins Inc",
         "South Africa",
         "2002",
         "Insurance"
        ],
        [
         "Greene, Benjamin and Novak",
         "Romania",
         "2012",
         "Museums / Institutions"
        ],
        [
         "Dickson, Richmond and Clay",
         "Czech Republic",
         "1980",
         "Real Estate / Mortgage"
        ],
        [
         "Prince-David",
         "Christmas Island",
         "1970",
         "Banking / Mortgage"
        ],
        [
         "Ayala LLC",
         "Philippines",
         "2021",
         "Legal Services"
        ],
        [
         "Rivas Group",
         "Australia",
         "1998",
         "Logistics / Procurement"
        ],
        [
         "Sloan, Mays and Whitehead",
         "Chad",
         "1997",
         "Civil Engineering"
        ],
        [
         "Durham, Allen and Barnes",
         "Zimbabwe",
         "1993",
         "Mechanical or Industrial Engineering"
        ],
        [
         "Fritz-Franklin",
         "Nepal",
         "1972",
         "Hospitality"
        ],
        [
         "Burch-Ewing",
         "Taiwan",
         "1981",
         "Venture Capital / VC"
        ],
        [
         "Glass, Barrera and Turner",
         "Kyrgyz Republic",
         "2020",
         "Utilities"
        ],
        [
         "Pineda-Cox",
         "Bolivia",
         "2010",
         "Human Resources / HR"
        ],
        [
         "Baker, Mccann and Macdonald",
         "Kenya",
         "2013",
         "Legislative Office"
        ],
        [
         "Cuevas-Moss",
         "Guatemala",
         "1994",
         "Music"
        ],
        [
         "Hahn PLC",
         "Belarus",
         "2012",
         "Electrical / Electronic Manufacturing"
        ],
        [
         "Valentine, Ferguson and Kramer",
         "Jersey",
         "1997",
         "Non - Profit / Volunteering"
        ],
        [
         "Arroyo Inc",
         "Grenada",
         "2006",
         "Writing / Editing"
        ],
        [
         "Walls LLC",
         "Cape Verde",
         "1989",
         "Investment Management / Hedge Fund / Private Equity"
        ],
        [
         "Mitchell, Warren and Schneider",
         "Trinidad and Tobago",
         "2021",
         "Capital Markets / Hedge Fund / Private Equity"
        ],
        [
         "Prince PLC",
         "Sweden",
         "2016",
         "Individual / Family Services"
        ],
        [
         "Brock-Blackwell",
         "Benin",
         "1986",
         "Online Publishing"
        ],
        [
         "Walton-Barnett",
         "Western Sahara",
         "2001",
         "Luxury Goods / Jewelry"
        ],
        [
         "Bartlett-Arroyo",
         "Northern Mariana Islands",
         "1976",
         "Civic / Social Organization"
        ],
        [
         "Wallace, Madden and Morris",
         "Germany",
         "2016",
         "Pharmaceuticals"
        ],
        [
         "Berg-Sparks",
         "Canada",
         "1974",
         "Arts / Crafts"
        ],
        [
         "Gonzales Ltd",
         "Tonga",
         "1988",
         "Consumer Goods"
        ],
        [
         "Lawson and Sons",
         "French Southern Territories",
         "2021",
         "Arts / Crafts"
        ],
        [
         "Mcguire, Mcconnell and Olsen",
         "Korea",
         "1988",
         "Printing"
        ],
        [
         "Charles-Phillips",
         "Cote d'Ivoire",
         "2012",
         "Mental Health Care"
        ],
        [
         "Odom Ltd",
         "Cote d'Ivoire",
         "2012",
         "Management Consulting"
        ],
        [
         "Richard PLC",
         "Mayotte",
         "1971",
         "Broadcast Media"
        ],
        [
         "Sampson Ltd",
         "Cayman Islands",
         "2005",
         "Farming"
        ],
        [
         "Cherry, Le and Callahan",
         "Nigeria",
         "2017",
         "Entertainment / Movie Production"
        ],
        [
         "Cherry PLC",
         "Marshall Islands",
         "1980",
         "Plastics"
        ],
        [
         "Melton-Nichols",
         "Palau",
         "2021",
         "Legislative Office"
        ],
        [
         "Potter-Walsh",
         "Turkey",
         "2008",
         "Human Resources / HR"
        ],
        [
         "Freeman-Chen",
         "Timor-Leste",
         "1973",
         "International Trade / Development"
        ],
        [
         "Soto Group",
         "Vietnam",
         "1988",
         "Business Supplies / Equipment"
        ],
        [
         "Poole, Cruz and Whitney",
         "Reunion",
         "1978",
         "Marketing / Advertising / Sales"
        ],
        [
         "Riley Ltd",
         "Brazil",
         "1986",
         "Textiles"
        ],
        [
         "Erickson, Andrews and Bailey",
         "Eritrea",
         "2014",
         "Consumer Electronics"
        ],
        [
         "Wilkinson, Charles and Arroyo",
         "United States Virgin Islands",
         "1996",
         "Building Materials"
        ],
        [
         "Floyd Ltd",
         "Falkland Islands (Malvinas)",
         "2017",
         "Public Relations / PR"
        ],
        [
         "Newman-Galloway",
         "Luxembourg",
         "1987",
         "Information Technology / IT"
        ],
        [
         "Frazier-Butler",
         "Northern Mariana Islands",
         "1972",
         "Outsourcing / Offshoring"
        ],
        [
         "Newton Inc",
         "Netherlands Antilles",
         "1976",
         "Military Industry"
        ],
        [
         "Duffy-Levy",
         "Guernsey",
         "1982",
         "Wireless"
        ],
        [
         "Wagner LLC",
         "Uruguay",
         "1987",
         "International Affairs"
        ],
        [
         "Mccall-Holmes",
         "Benin",
         "2009",
         "Legal Services"
        ],
        [
         "Massey LLC",
         "Suriname",
         "1986",
         "Accounting"
        ],
        [
         "Hicks LLC",
         "Pakistan",
         "1970",
         "Computer Software / Engineering"
        ],
        [
         "Cole, Russell and Avery",
         "Mongolia",
         "2000",
         "Law Enforcement"
        ],
        [
         "Cummings-Rojas",
         "Svalbard & Jan Mayen Islands",
         "2012",
         "Financial Services"
        ],
        [
         "Beasley, Greene and Mahoney",
         "Togo",
         "1976",
         "Religious Institutions"
        ],
        [
         "Beasley, Sims and Allison",
         "Latvia",
         "1972",
         "Facilities Services"
        ],
        [
         "Crawford-Rivera",
         "Cuba",
         "1999",
         "Online Publishing"
        ],
        [
         "Montes-Hensley",
         "Liechtenstein",
         "2009",
         "Printing"
        ],
        [
         "Velazquez-Odom",
         "Djibouti",
         "2002",
         "Alternative Dispute Resolution"
        ],
        [
         "Eaton-Morales",
         "Micronesia",
         "1990",
         "Capital Markets / Hedge Fund / Private Equity"
        ],
        [
         "Roberson, Pennington and Palmer",
         "Cameroon",
         "1993",
         "Telecommunications"
        ],
        [
         "George, Russo and Guerra",
         "Sweden",
         "1989",
         "Military Industry"
        ],
        [
         "Davila Inc",
         "Cocos (Keeling) Islands",
         "2017",
         "Consumer Electronics"
        ],
        [
         "Mays-Preston",
         "Mali",
         "2006",
         "Military Industry"
        ],
        [
         "Pineda-Morton",
         "United States Virgin Islands",
         "1991",
         "Printing"
        ],
        [
         "Huang and Sons",
         "Eritrea",
         "1981",
         "Semiconductors"
        ],
        [
         "Gilbert-Simon",
         "Burundi",
         "1973",
         "Newspapers / Journalism"
        ],
        [
         "Sampson-Griffith",
         "Benin",
         "1972",
         "Textiles"
        ],
        [
         "Miles-Dominguez",
         "Gibraltar",
         "1996",
         "Civic / Social Organization"
        ],
        [
         "Rowe and Sons",
         "El Salvador",
         "1978",
         "Facilities Services"
        ],
        [
         "Valenzuela, Holmes and Rowland",
         "Taiwan",
         "1999",
         "Transportation"
        ],
        [
         "Best, Wade and Shepard",
         "Zimbabwe",
         "1991",
         "Gambling / Casinos"
        ],
        [
         "Holmes Group",
         "Ethiopia",
         "1975",
         "Photography"
        ],
        [
         "Good Ltd",
         "Anguilla",
         "1971",
         "Consumer Services"
        ],
        [
         "Clements-Espinoza",
         "Falkland Islands (Malvinas)",
         "1991",
         "Broadcast Media"
        ],
        [
         "Mendez Inc",
         "Kyrgyz Republic",
         "1993",
         "Education Management"
        ],
        [
         "Watkins-Kaiser",
         "Togo",
         "2009",
         "Financial Services"
        ]
       ],
       "datasetInfos": [],
       "dbfsResultPath": null,
       "isJsonSchema": true,
       "metadata": {},
       "overflow": false,
       "plotOptions": {
        "customPlotOptions": {},
        "displayType": "table",
        "pivotAggregation": null,
        "pivotColumns": null,
        "xColumns": null,
        "yColumns": null
       },
       "removedWidgets": [],
       "schema": [
        {
         "metadata": "{}",
         "name": "Name",
         "type": "\"string\""
        },
        {
         "metadata": "{}",
         "name": "Country",
         "type": "\"string\""
        },
        {
         "metadata": "{}",
         "name": "Founded",
         "type": "\"string\""
        },
        {
         "metadata": "{}",
         "name": "Industry",
         "type": "\"string\""
        }
       ],
       "type": "table"
      }
     },
     "output_type": "display_data"
    }
   ],
   "source": [
    "df.select(\"Name\", \"Country\", \"Founded\", \"Industry\").display()"
   ]
  },
  {
   "cell_type": "code",
   "execution_count": 0,
   "metadata": {
    "application/vnd.databricks.v1+cell": {
     "cellMetadata": {
      "byteLimit": 2048000,
      "rowLimit": 10000
     },
     "inputWidgets": {},
     "nuid": "b43dd3fb-2e2d-4fec-8b0e-ef42628b5b88",
     "showTitle": false,
     "title": ""
    }
   },
   "outputs": [
    {
     "output_type": "display_data",
     "data": {
      "text/html": [
       "<style scoped>\n",
       "  .ansiout {\n",
       "    display: block;\n",
       "    unicode-bidi: embed;\n",
       "    white-space: pre-wrap;\n",
       "    word-wrap: break-word;\n",
       "    word-break: break-all;\n",
       "    font-family: \"Source Code Pro\", \"Menlo\", monospace;;\n",
       "    font-size: 13px;\n",
       "    color: #555;\n",
       "    margin-left: 4px;\n",
       "    line-height: 19px;\n",
       "  }\n",
       "</style>\n",
       "<div class=\"ansiout\"></div>"
      ]
     },
     "metadata": {
      "application/vnd.databricks.v1+output": {
       "addedWidgets": {},
       "arguments": {},
       "data": "<div class=\"ansiout\"></div>",
       "datasetInfos": [],
       "metadata": {},
       "removedWidgets": [],
       "type": "html"
      }
     },
     "output_type": "display_data"
    }
   ],
   "source": [
    "df.select(\"Name\",\"Country\", \"Founded\", \"Industry\").write.format(\"csv\").option(\"header\",True).option(\"sep\",\",\").save(\"wasbs://output@account4st0rage.blob.core.windows.net/outputfile.csv\")"
   ]
  },
  {
   "cell_type": "code",
   "execution_count": 0,
   "metadata": {
    "application/vnd.databricks.v1+cell": {
     "cellMetadata": {
      "byteLimit": 2048000,
      "rowLimit": 10000
     },
     "inputWidgets": {},
     "nuid": "f3853647-f1bc-472a-ac98-c7cef5080772",
     "showTitle": false,
     "title": ""
    }
   },
   "outputs": [
    {
     "output_type": "display_data",
     "data": {
      "text/html": [
       "<style scoped>\n",
       "  .table-result-container {\n",
       "    max-height: 300px;\n",
       "    overflow: auto;\n",
       "  }\n",
       "  table, th, td {\n",
       "    border: 1px solid black;\n",
       "    border-collapse: collapse;\n",
       "  }\n",
       "  th, td {\n",
       "    padding: 5px;\n",
       "  }\n",
       "  th {\n",
       "    text-align: left;\n",
       "  }\n",
       "</style><div class='table-result-container'><table class='table-result'><thead style='background-color: white'><tr><th>Index</th><th>Organization Id</th><th>Name</th><th>Country</th><th>Description</th><th>Founded</th><th>Industry</th><th>Number of employees</th></tr></thead><tbody><tr><td>1</td><td>FAB0d41d5b5d22c</td><td>Ferrell LLC</td><td>Papua New Guinea</td><td>Horizontal empowering knowledgebase</td><td>1990</td><td>Plastics</td><td>3498</td></tr><tr><td>2</td><td>6A7EdDEA9FaDC52</td><td>Mckinney, Riley and Day</td><td>Finland</td><td>User-centric system-worthy leverage</td><td>2015</td><td>Glass / Ceramics / Concrete</td><td>4952</td></tr><tr><td>3</td><td>0bFED1ADAE4bcC1</td><td>Hester Ltd</td><td>China</td><td>Switchable scalable moratorium</td><td>1971</td><td>Public Safety</td><td>5287</td></tr><tr><td>4</td><td>2bFC1Be8a4ce42f</td><td>Holder-Sellers</td><td>Turkmenistan</td><td>De-engineered systemic artificial intelligence</td><td>2004</td><td>Automotive</td><td>921</td></tr><tr><td>5</td><td>9eE8A6a4Eb96C24</td><td>Mayer Group</td><td>Mauritius</td><td>Synchronized needs-based challenge</td><td>1991</td><td>Transportation</td><td>7870</td></tr><tr><td>6</td><td>cC757116fe1C085</td><td>Henry-Thompson</td><td>Bahamas</td><td>Face-to-face well-modulated customer loyalty</td><td>1992</td><td>Primary / Secondary Education</td><td>4914</td></tr><tr><td>7</td><td>219233e8aFF1BC3</td><td>Hansen-Everett</td><td>Pakistan</td><td>Seamless disintermediate collaboration</td><td>2018</td><td>Publishing Industry</td><td>7832</td></tr><tr><td>8</td><td>ccc93DCF81a31CD</td><td>Mcintosh-Mora</td><td>Heard Island and McDonald Islands</td><td>Centralized attitude-oriented capability</td><td>1970</td><td>Import / Export</td><td>4389</td></tr><tr><td>9</td><td>0B4F93aA06ED03e</td><td>Carr Inc</td><td>Kuwait</td><td>Distributed impactful customer loyalty</td><td>1996</td><td>Plastics</td><td>8167</td></tr><tr><td>10</td><td>738b5aDe6B1C6A5</td><td>Gaines Inc</td><td>Uzbekistan</td><td>Multi-lateral scalable protocol</td><td>1997</td><td>Outsourcing / Offshoring</td><td>9698</td></tr><tr><td>11</td><td>AE61b8Ffebbc476</td><td>Kidd Group</td><td>Bouvet Island (Bouvetoya)</td><td>Proactive foreground paradigm</td><td>2001</td><td>Primary / Secondary Education</td><td>7473</td></tr><tr><td>12</td><td>eb3B7D06cCdD609</td><td>Crane-Clarke</td><td>Denmark</td><td>Front-line clear-thinking encryption</td><td>2014</td><td>Food / Beverages</td><td>9011</td></tr><tr><td>13</td><td>8D0c29189C9798B</td><td>Keller, Campos and Black</td><td>Liberia</td><td>Ameliorated directional emulation</td><td>2020</td><td>Museums / Institutions</td><td>2862</td></tr><tr><td>14</td><td>D2c91cc03CA394c</td><td>Glover-Pope</td><td>United Arab Emirates</td><td>Persevering contextually-based approach</td><td>2013</td><td>Medical Practice</td><td>9079</td></tr><tr><td>15</td><td>C8AC1eaf9C036F4</td><td>Pacheco-Spears</td><td>Sweden</td><td>Secured logistical synergy</td><td>1984</td><td>Maritime</td><td>769</td></tr><tr><td>16</td><td>b5D10A14f7a8AfE</td><td>Hodge-Ayers</td><td>Honduras</td><td>Future-proofed radical implementation</td><td>1990</td><td>Facilities Services</td><td>8508</td></tr><tr><td>17</td><td>68139b5C4De03B4</td><td>Bowers, Guerra and Krause</td><td>Uganda</td><td>De-engineered transitional strategy</td><td>1972</td><td>Primary / Secondary Education</td><td>6986</td></tr><tr><td>18</td><td>5c2EffEfdba2BdF</td><td>Mckenzie-Melton</td><td>Hong Kong</td><td>Reverse-engineered heuristic alliance</td><td>1998</td><td>Investment Management / Hedge Fund / Private Equity</td><td>4589</td></tr><tr><td>19</td><td>ba179F19F7925f5</td><td>Branch-Mann</td><td>Botswana</td><td>Adaptive intangible frame</td><td>1999</td><td>Architecture / Planning</td><td>7961</td></tr><tr><td>20</td><td>c1Ce9B350BAc66b</td><td>Weiss and Sons</td><td>Korea</td><td>Sharable optimal functionalities</td><td>2011</td><td>Plastics</td><td>5984</td></tr><tr><td>21</td><td>8de40AC4e6EaCa4</td><td>Velez, Payne and Coffey</td><td>Luxembourg</td><td>Mandatory coherent synergy</td><td>1986</td><td>Wholesale</td><td>5010</td></tr><tr><td>22</td><td>Aad86a4F0385F2d</td><td>Harrell LLC</td><td>Guadeloupe</td><td>Reverse-engineered mission-critical moratorium</td><td>2018</td><td>Construction</td><td>2185</td></tr><tr><td>23</td><td>22aC3FFd64fD703</td><td>Eaton, Reynolds and Vargas</td><td>Monaco</td><td>Self-enabling multi-tasking process improvement</td><td>2014</td><td>Luxury Goods / Jewelry</td><td>8987</td></tr><tr><td>24</td><td>5Ec4C272bCf085c</td><td>Robbins-Cummings</td><td>Belgium</td><td>Organic non-volatile hierarchy</td><td>1991</td><td>Pharmaceuticals</td><td>5038</td></tr><tr><td>25</td><td>5fDBeA8BB91a000</td><td>Jenkins Inc</td><td>South Africa</td><td>Front-line systematic help-desk</td><td>2002</td><td>Insurance</td><td>1215</td></tr><tr><td>26</td><td>dFfD6a6F9AC2d9C</td><td>Greene, Benjamin and Novak</td><td>Romania</td><td>Centralized leadingedge moratorium</td><td>2012</td><td>Museums / Institutions</td><td>4941</td></tr><tr><td>27</td><td>4B217cC5a0674C5</td><td>Dickson, Richmond and Clay</td><td>Czech Republic</td><td>Team-oriented tangible complexity</td><td>1980</td><td>Real Estate / Mortgage</td><td>3122</td></tr><tr><td>28</td><td>88b1f1cDcf59a37</td><td>Prince-David</td><td>Christmas Island</td><td>Virtual holistic methodology</td><td>1970</td><td>Banking / Mortgage</td><td>1046</td></tr><tr><td>29</td><td>f9F7bBCAEeC360F</td><td>Ayala LLC</td><td>Philippines</td><td>Open-source zero administration hierarchy</td><td>2021</td><td>Legal Services</td><td>7664</td></tr><tr><td>30</td><td>7Cb3AeFcE4Ba31e</td><td>Rivas Group</td><td>Australia</td><td>Open-architected well-modulated capacity</td><td>1998</td><td>Logistics / Procurement</td><td>4155</td></tr><tr><td>31</td><td>ccBcC32adcbc530</td><td>Sloan, Mays and Whitehead</td><td>Chad</td><td>Face-to-face high-level conglomeration</td><td>1997</td><td>Civil Engineering</td><td>365</td></tr><tr><td>32</td><td>f5afd686b3d05F5</td><td>Durham, Allen and Barnes</td><td>Zimbabwe</td><td>Synergistic web-enabled framework</td><td>1993</td><td>Mechanical or Industrial Engineering</td><td>6135</td></tr><tr><td>33</td><td>38C6cfC5074Fa5e</td><td>Fritz-Franklin</td><td>Nepal</td><td>Automated 4thgeneration website</td><td>1972</td><td>Hospitality</td><td>4516</td></tr><tr><td>34</td><td>5Cd7efccCcba38f</td><td>Burch-Ewing</td><td>Taiwan</td><td>User-centric 4thgeneration system engine</td><td>1981</td><td>Venture Capital / VC</td><td>7443</td></tr><tr><td>35</td><td>9E6Acb51e3F9d6F</td><td>Glass, Barrera and Turner</td><td>Kyrgyz Republic</td><td>Multi-channeled 3rdgeneration open system</td><td>2020</td><td>Utilities</td><td>2610</td></tr><tr><td>36</td><td>4D4d7E18321eaeC</td><td>Pineda-Cox</td><td>Bolivia</td><td>Fundamental asynchronous capability</td><td>2010</td><td>Human Resources / HR</td><td>1312</td></tr><tr><td>37</td><td>485f5d06B938F2b</td><td>Baker, Mccann and Macdonald</td><td>Kenya</td><td>Cross-group user-facing focus group</td><td>2013</td><td>Legislative Office</td><td>1638</td></tr><tr><td>38</td><td>19E3a5Bf6dBDc4F</td><td>Cuevas-Moss</td><td>Guatemala</td><td>Extended human-resource intranet</td><td>1994</td><td>Music</td><td>9995</td></tr><tr><td>39</td><td>6883A965c7b68F7</td><td>Hahn PLC</td><td>Belarus</td><td>Organic logistical leverage</td><td>2012</td><td>Electrical / Electronic Manufacturing</td><td>3715</td></tr><tr><td>40</td><td>AC5B7AA74Aa4A2E</td><td>Valentine, Ferguson and Kramer</td><td>Jersey</td><td>Centralized secondary time-frame</td><td>1997</td><td>Non - Profit / Volunteering</td><td>3585</td></tr><tr><td>41</td><td>decab0D5027CA6a</td><td>Arroyo Inc</td><td>Grenada</td><td>Managed demand-driven website</td><td>2006</td><td>Writing / Editing</td><td>9067</td></tr><tr><td>42</td><td>dF084FbBb613eea</td><td>Walls LLC</td><td>Cape Verde</td><td>Self-enabling fresh-thinking installation</td><td>1989</td><td>Investment Management / Hedge Fund / Private Equity</td><td>1678</td></tr><tr><td>43</td><td>A2D89Ab9bCcAd4e</td><td>Mitchell, Warren and Schneider</td><td>Trinidad and Tobago</td><td>Enhanced intangible time-frame</td><td>2021</td><td>Capital Markets / Hedge Fund / Private Equity</td><td>3816</td></tr><tr><td>44</td><td>77aDc905434a49f</td><td>Prince PLC</td><td>Sweden</td><td>Profit-focused coherent installation</td><td>2016</td><td>Individual / Family Services</td><td>7645</td></tr><tr><td>45</td><td>235fdEFE2cfDa5F</td><td>Brock-Blackwell</td><td>Benin</td><td>Secured foreground emulation</td><td>1986</td><td>Online Publishing</td><td>7034</td></tr><tr><td>46</td><td>1eD64cFe986BBbE</td><td>Walton-Barnett</td><td>Western Sahara</td><td>Right-sized clear-thinking flexibility</td><td>2001</td><td>Luxury Goods / Jewelry</td><td>1746</td></tr><tr><td>47</td><td>CbBbFcdd0eaE2cF</td><td>Bartlett-Arroyo</td><td>Northern Mariana Islands</td><td>Realigned didactic function</td><td>1976</td><td>Civic / Social Organization</td><td>3987</td></tr><tr><td>48</td><td>49aECbDaE6aBD53</td><td>Wallace, Madden and Morris</td><td>Germany</td><td>Persistent real-time customer loyalty</td><td>2016</td><td>Pharmaceuticals</td><td>9443</td></tr><tr><td>49</td><td>7b3fe6e7E72bFa4</td><td>Berg-Sparks</td><td>Canada</td><td>Stand-alone static implementation</td><td>1974</td><td>Arts / Crafts</td><td>2073</td></tr><tr><td>50</td><td>c6DedA82A8aef7E</td><td>Gonzales Ltd</td><td>Tonga</td><td>Managed human-resource policy</td><td>1988</td><td>Consumer Goods</td><td>9069</td></tr><tr><td>51</td><td>7D9FBF85cdC3871</td><td>Lawson and Sons</td><td>French Southern Territories</td><td>Compatible analyzing intranet</td><td>2021</td><td>Arts / Crafts</td><td>3527</td></tr><tr><td>52</td><td>7dd18Fb7cB07b65</td><td>Mcguire, Mcconnell and Olsen</td><td>Korea</td><td>Profound client-server frame</td><td>1988</td><td>Printing</td><td>8445</td></tr><tr><td>53</td><td>EF5B55FadccB8Fe</td><td>Charles-Phillips</td><td>Cote d'Ivoire</td><td>Monitored client-server implementation</td><td>2012</td><td>Mental Health Care</td><td>3450</td></tr><tr><td>54</td><td>f8D4B99e11fAF5D</td><td>Odom Ltd</td><td>Cote d'Ivoire</td><td>Advanced static process improvement</td><td>2012</td><td>Management Consulting</td><td>1825</td></tr><tr><td>55</td><td>e24D21BFd3bF1E5</td><td>Richard PLC</td><td>Mayotte</td><td>Object-based optimizing model</td><td>1971</td><td>Broadcast Media</td><td>4942</td></tr><tr><td>56</td><td>B9BdfEB6D3Ca44E</td><td>Sampson Ltd</td><td>Cayman Islands</td><td>Intuitive local adapter</td><td>2005</td><td>Farming</td><td>1418</td></tr><tr><td>57</td><td>2a74D6f3D3B268e</td><td>Cherry, Le and Callahan</td><td>Nigeria</td><td>Universal human-resource collaboration</td><td>2017</td><td>Entertainment / Movie Production</td><td>7202</td></tr><tr><td>58</td><td>Bf3F3f62c8aBC33</td><td>Cherry PLC</td><td>Marshall Islands</td><td>Persistent tertiary website</td><td>1980</td><td>Plastics</td><td>8245</td></tr><tr><td>59</td><td>aeBe26B80a7a23c</td><td>Melton-Nichols</td><td>Palau</td><td>User-friendly clear-thinking productivity</td><td>2021</td><td>Legislative Office</td><td>8741</td></tr><tr><td>60</td><td>aAeb29ad43886C6</td><td>Potter-Walsh</td><td>Turkey</td><td>Optional non-volatile open system</td><td>2008</td><td>Human Resources / HR</td><td>6923</td></tr><tr><td>61</td><td>bD1bc6bB6d1FeD3</td><td>Freeman-Chen</td><td>Timor-Leste</td><td>Phased next generation adapter</td><td>1973</td><td>International Trade / Development</td><td>346</td></tr><tr><td>62</td><td>EB9f456e8b7022a</td><td>Soto Group</td><td>Vietnam</td><td>Enterprise-wide executive installation</td><td>1988</td><td>Business Supplies / Equipment</td><td>9097</td></tr><tr><td>63</td><td>Dfef38C51D8DAe3</td><td>Poole, Cruz and Whitney</td><td>Reunion</td><td>Balanced analyzing groupware</td><td>1978</td><td>Marketing / Advertising / Sales</td><td>2992</td></tr><tr><td>64</td><td>055ffEfB2Dd95B0</td><td>Riley Ltd</td><td>Brazil</td><td>Optional exuding superstructure</td><td>1986</td><td>Textiles</td><td>9315</td></tr><tr><td>65</td><td>cBfe4dbAE1699da</td><td>Erickson, Andrews and Bailey</td><td>Eritrea</td><td>Vision-oriented secondary project</td><td>2014</td><td>Consumer Electronics</td><td>7829</td></tr><tr><td>66</td><td>fdFbecbadcdCdf1</td><td>Wilkinson, Charles and Arroyo</td><td>United States Virgin Islands</td><td>Assimilated 24/7 archive</td><td>1996</td><td>Building Materials</td><td>602</td></tr><tr><td>67</td><td>5DCb8A5a5ca03c0</td><td>Floyd Ltd</td><td>Falkland Islands (Malvinas)</td><td>Function-based fault-tolerant concept</td><td>2017</td><td>Public Relations / PR</td><td>2911</td></tr><tr><td>68</td><td>ce57DCbcFD6d618</td><td>Newman-Galloway</td><td>Luxembourg</td><td>Enhanced foreground collaboration</td><td>1987</td><td>Information Technology / IT</td><td>3934</td></tr><tr><td>69</td><td>5aaD187dc929371</td><td>Frazier-Butler</td><td>Northern Mariana Islands</td><td>Persistent interactive circuit</td><td>1972</td><td>Outsourcing / Offshoring</td><td>5130</td></tr><tr><td>70</td><td>902D7Ac8b6d476b</td><td>Newton Inc</td><td>Netherlands Antilles</td><td>Fundamental stable info-mediaries</td><td>1976</td><td>Military Industry</td><td>563</td></tr><tr><td>71</td><td>32BB9Ff4d939788</td><td>Duffy-Levy</td><td>Guernsey</td><td>Diverse exuding installation</td><td>1982</td><td>Wireless</td><td>6146</td></tr><tr><td>72</td><td>adcB0afbE58bAe3</td><td>Wagner LLC</td><td>Uruguay</td><td>Reactive attitude-oriented toolset</td><td>1987</td><td>International Affairs</td><td>6874</td></tr><tr><td>73</td><td>dfcA1c84AdB61Ac</td><td>Mccall-Holmes</td><td>Benin</td><td>Object-based value-added database</td><td>2009</td><td>Legal Services</td><td>696</td></tr><tr><td>74</td><td>208044AC2fe52F3</td><td>Massey LLC</td><td>Suriname</td><td>Configurable zero administration Graphical User Interface</td><td>1986</td><td>Accounting</td><td>5004</td></tr><tr><td>75</td><td>f3C365f0c1A0623</td><td>Hicks LLC</td><td>Pakistan</td><td>Quality-focused client-server Graphical User Interface</td><td>1970</td><td>Computer Software / Engineering</td><td>8480</td></tr><tr><td>76</td><td>ec5Bdd3CBAfaB93</td><td>Cole, Russell and Avery</td><td>Mongolia</td><td>De-engineered fault-tolerant challenge</td><td>2000</td><td>Law Enforcement</td><td>7012</td></tr><tr><td>77</td><td>DDB19Be7eeB56B4</td><td>Cummings-Rojas</td><td>Svalbard & Jan Mayen Islands</td><td>User-centric modular customer loyalty</td><td>2012</td><td>Financial Services</td><td>7529</td></tr><tr><td>78</td><td>dd6CA3d0bc3cAfc</td><td>Beasley, Greene and Mahoney</td><td>Togo</td><td>Extended content-based methodology</td><td>1976</td><td>Religious Institutions</td><td>869</td></tr><tr><td>79</td><td>A0B9d56e61070e3</td><td>Beasley, Sims and Allison</td><td>Latvia</td><td>Secured zero tolerance hub</td><td>1972</td><td>Facilities Services</td><td>6182</td></tr><tr><td>80</td><td>cBa7EFe5D05Adaf</td><td>Crawford-Rivera</td><td>Cuba</td><td>Persevering exuding budgetary management</td><td>1999</td><td>Online Publishing</td><td>7805</td></tr><tr><td>81</td><td>Ea3f6D52Ec73563</td><td>Montes-Hensley</td><td>Liechtenstein</td><td>Multi-tiered secondary productivity</td><td>2009</td><td>Printing</td><td>8433</td></tr><tr><td>82</td><td>bC0CEd48A8000E0</td><td>Velazquez-Odom</td><td>Djibouti</td><td>Streamlined 6thgeneration function</td><td>2002</td><td>Alternative Dispute Resolution</td><td>4044</td></tr><tr><td>83</td><td>c89b9b59BC4baa1</td><td>Eaton-Morales</td><td>Micronesia</td><td>Customer-focused explicit frame</td><td>1990</td><td>Capital Markets / Hedge Fund / Private Equity</td><td>7013</td></tr><tr><td>84</td><td>FEC51bce8421a7b</td><td>Roberson, Pennington and Palmer</td><td>Cameroon</td><td>Adaptive bi-directional hierarchy</td><td>1993</td><td>Telecommunications</td><td>5571</td></tr><tr><td>85</td><td>e0E8e27eAc9CAd5</td><td>George, Russo and Guerra</td><td>Sweden</td><td>Centralized non-volatile capability</td><td>1989</td><td>Military Industry</td><td>2880</td></tr><tr><td>86</td><td>B97a6CF9bf5983C</td><td>Davila Inc</td><td>Cocos (Keeling) Islands</td><td>Profit-focused dedicated frame</td><td>2017</td><td>Consumer Electronics</td><td>2215</td></tr><tr><td>87</td><td>a0a6f9b3DbcBEb5</td><td>Mays-Preston</td><td>Mali</td><td>User-centric heuristic focus group</td><td>2006</td><td>Military Industry</td><td>5786</td></tr><tr><td>88</td><td>8cC1bDa330a5871</td><td>Pineda-Morton</td><td>United States Virgin Islands</td><td>Grass-roots methodical info-mediaries</td><td>1991</td><td>Printing</td><td>6168</td></tr><tr><td>89</td><td>ED889CB2FE9cbd3</td><td>Huang and Sons</td><td>Eritrea</td><td>Re-contextualized dynamic hierarchy</td><td>1981</td><td>Semiconductors</td><td>7484</td></tr><tr><td>90</td><td>F4Dc1417BC6cb8f</td><td>Gilbert-Simon</td><td>Burundi</td><td>Grass-roots radical parallelism</td><td>1973</td><td>Newspapers / Journalism</td><td>1927</td></tr><tr><td>91</td><td>7ABc3c7ecA03B34</td><td>Sampson-Griffith</td><td>Benin</td><td>Multi-layered composite paradigm</td><td>1972</td><td>Textiles</td><td>3881</td></tr><tr><td>92</td><td>4e0719FBE38e0aB</td><td>Miles-Dominguez</td><td>Gibraltar</td><td>Organized empowering forecast</td><td>1996</td><td>Civic / Social Organization</td><td>897</td></tr><tr><td>93</td><td>dEbDAAeDfaed00A</td><td>Rowe and Sons</td><td>El Salvador</td><td>Balanced multimedia knowledgebase</td><td>1978</td><td>Facilities Services</td><td>8172</td></tr><tr><td>94</td><td>61BDeCfeFD0cEF5</td><td>Valenzuela, Holmes and Rowland</td><td>Taiwan</td><td>Persistent tertiary focus group</td><td>1999</td><td>Transportation</td><td>1483</td></tr><tr><td>95</td><td>4e91eD25f486110</td><td>Best, Wade and Shepard</td><td>Zimbabwe</td><td>Innovative background definition</td><td>1991</td><td>Gambling / Casinos</td><td>4873</td></tr><tr><td>96</td><td>0a0bfFbBbB8eC7c</td><td>Holmes Group</td><td>Ethiopia</td><td>Right-sized zero tolerance focus group</td><td>1975</td><td>Photography</td><td>2988</td></tr><tr><td>97</td><td>BA6Cd9Dae2Efd62</td><td>Good Ltd</td><td>Anguilla</td><td>Reverse-engineered composite moratorium</td><td>1971</td><td>Consumer Services</td><td>4292</td></tr><tr><td>98</td><td>E7df80C60Abd7f9</td><td>Clements-Espinoza</td><td>Falkland Islands (Malvinas)</td><td>Progressive modular hub</td><td>1991</td><td>Broadcast Media</td><td>236</td></tr><tr><td>99</td><td>AFc285dbE2fEd24</td><td>Mendez Inc</td><td>Kyrgyz Republic</td><td>User-friendly exuding migration</td><td>1993</td><td>Education Management</td><td>339</td></tr><tr><td>100</td><td>e9eB5A60Cef8354</td><td>Watkins-Kaiser</td><td>Togo</td><td>Synergistic background access</td><td>2009</td><td>Financial Services</td><td>2785</td></tr></tbody></table></div>"
      ]
     },
     "metadata": {
      "application/vnd.databricks.v1+output": {
       "addedWidgets": {},
       "aggData": [],
       "aggError": "",
       "aggOverflow": false,
       "aggSchema": [],
       "aggSeriesLimitReached": false,
       "aggType": "",
       "arguments": {},
       "columnCustomDisplayInfos": {},
       "data": [
        [
         "1",
         "FAB0d41d5b5d22c",
         "Ferrell LLC",
         "Papua New Guinea",
         "Horizontal empowering knowledgebase",
         "1990",
         "Plastics",
         "3498"
        ],
        [
         "2",
         "6A7EdDEA9FaDC52",
         "Mckinney, Riley and Day",
         "Finland",
         "User-centric system-worthy leverage",
         "2015",
         "Glass / Ceramics / Concrete",
         "4952"
        ],
        [
         "3",
         "0bFED1ADAE4bcC1",
         "Hester Ltd",
         "China",
         "Switchable scalable moratorium",
         "1971",
         "Public Safety",
         "5287"
        ],
        [
         "4",
         "2bFC1Be8a4ce42f",
         "Holder-Sellers",
         "Turkmenistan",
         "De-engineered systemic artificial intelligence",
         "2004",
         "Automotive",
         "921"
        ],
        [
         "5",
         "9eE8A6a4Eb96C24",
         "Mayer Group",
         "Mauritius",
         "Synchronized needs-based challenge",
         "1991",
         "Transportation",
         "7870"
        ],
        [
         "6",
         "cC757116fe1C085",
         "Henry-Thompson",
         "Bahamas",
         "Face-to-face well-modulated customer loyalty",
         "1992",
         "Primary / Secondary Education",
         "4914"
        ],
        [
         "7",
         "219233e8aFF1BC3",
         "Hansen-Everett",
         "Pakistan",
         "Seamless disintermediate collaboration",
         "2018",
         "Publishing Industry",
         "7832"
        ],
        [
         "8",
         "ccc93DCF81a31CD",
         "Mcintosh-Mora",
         "Heard Island and McDonald Islands",
         "Centralized attitude-oriented capability",
         "1970",
         "Import / Export",
         "4389"
        ],
        [
         "9",
         "0B4F93aA06ED03e",
         "Carr Inc",
         "Kuwait",
         "Distributed impactful customer loyalty",
         "1996",
         "Plastics",
         "8167"
        ],
        [
         "10",
         "738b5aDe6B1C6A5",
         "Gaines Inc",
         "Uzbekistan",
         "Multi-lateral scalable protocol",
         "1997",
         "Outsourcing / Offshoring",
         "9698"
        ],
        [
         "11",
         "AE61b8Ffebbc476",
         "Kidd Group",
         "Bouvet Island (Bouvetoya)",
         "Proactive foreground paradigm",
         "2001",
         "Primary / Secondary Education",
         "7473"
        ],
        [
         "12",
         "eb3B7D06cCdD609",
         "Crane-Clarke",
         "Denmark",
         "Front-line clear-thinking encryption",
         "2014",
         "Food / Beverages",
         "9011"
        ],
        [
         "13",
         "8D0c29189C9798B",
         "Keller, Campos and Black",
         "Liberia",
         "Ameliorated directional emulation",
         "2020",
         "Museums / Institutions",
         "2862"
        ],
        [
         "14",
         "D2c91cc03CA394c",
         "Glover-Pope",
         "United Arab Emirates",
         "Persevering contextually-based approach",
         "2013",
         "Medical Practice",
         "9079"
        ],
        [
         "15",
         "C8AC1eaf9C036F4",
         "Pacheco-Spears",
         "Sweden",
         "Secured logistical synergy",
         "1984",
         "Maritime",
         "769"
        ],
        [
         "16",
         "b5D10A14f7a8AfE",
         "Hodge-Ayers",
         "Honduras",
         "Future-proofed radical implementation",
         "1990",
         "Facilities Services",
         "8508"
        ],
        [
         "17",
         "68139b5C4De03B4",
         "Bowers, Guerra and Krause",
         "Uganda",
         "De-engineered transitional strategy",
         "1972",
         "Primary / Secondary Education",
         "6986"
        ],
        [
         "18",
         "5c2EffEfdba2BdF",
         "Mckenzie-Melton",
         "Hong Kong",
         "Reverse-engineered heuristic alliance",
         "1998",
         "Investment Management / Hedge Fund / Private Equity",
         "4589"
        ],
        [
         "19",
         "ba179F19F7925f5",
         "Branch-Mann",
         "Botswana",
         "Adaptive intangible frame",
         "1999",
         "Architecture / Planning",
         "7961"
        ],
        [
         "20",
         "c1Ce9B350BAc66b",
         "Weiss and Sons",
         "Korea",
         "Sharable optimal functionalities",
         "2011",
         "Plastics",
         "5984"
        ],
        [
         "21",
         "8de40AC4e6EaCa4",
         "Velez, Payne and Coffey",
         "Luxembourg",
         "Mandatory coherent synergy",
         "1986",
         "Wholesale",
         "5010"
        ],
        [
         "22",
         "Aad86a4F0385F2d",
         "Harrell LLC",
         "Guadeloupe",
         "Reverse-engineered mission-critical moratorium",
         "2018",
         "Construction",
         "2185"
        ],
        [
         "23",
         "22aC3FFd64fD703",
         "Eaton, Reynolds and Vargas",
         "Monaco",
         "Self-enabling multi-tasking process improvement",
         "2014",
         "Luxury Goods / Jewelry",
         "8987"
        ],
        [
         "24",
         "5Ec4C272bCf085c",
         "Robbins-Cummings",
         "Belgium",
         "Organic non-volatile hierarchy",
         "1991",
         "Pharmaceuticals",
         "5038"
        ],
        [
         "25",
         "5fDBeA8BB91a000",
         "Jenkins Inc",
         "South Africa",
         "Front-line systematic help-desk",
         "2002",
         "Insurance",
         "1215"
        ],
        [
         "26",
         "dFfD6a6F9AC2d9C",
         "Greene, Benjamin and Novak",
         "Romania",
         "Centralized leadingedge moratorium",
         "2012",
         "Museums / Institutions",
         "4941"
        ],
        [
         "27",
         "4B217cC5a0674C5",
         "Dickson, Richmond and Clay",
         "Czech Republic",
         "Team-oriented tangible complexity",
         "1980",
         "Real Estate / Mortgage",
         "3122"
        ],
        [
         "28",
         "88b1f1cDcf59a37",
         "Prince-David",
         "Christmas Island",
         "Virtual holistic methodology",
         "1970",
         "Banking / Mortgage",
         "1046"
        ],
        [
         "29",
         "f9F7bBCAEeC360F",
         "Ayala LLC",
         "Philippines",
         "Open-source zero administration hierarchy",
         "2021",
         "Legal Services",
         "7664"
        ],
        [
         "30",
         "7Cb3AeFcE4Ba31e",
         "Rivas Group",
         "Australia",
         "Open-architected well-modulated capacity",
         "1998",
         "Logistics / Procurement",
         "4155"
        ],
        [
         "31",
         "ccBcC32adcbc530",
         "Sloan, Mays and Whitehead",
         "Chad",
         "Face-to-face high-level conglomeration",
         "1997",
         "Civil Engineering",
         "365"
        ],
        [
         "32",
         "f5afd686b3d05F5",
         "Durham, Allen and Barnes",
         "Zimbabwe",
         "Synergistic web-enabled framework",
         "1993",
         "Mechanical or Industrial Engineering",
         "6135"
        ],
        [
         "33",
         "38C6cfC5074Fa5e",
         "Fritz-Franklin",
         "Nepal",
         "Automated 4thgeneration website",
         "1972",
         "Hospitality",
         "4516"
        ],
        [
         "34",
         "5Cd7efccCcba38f",
         "Burch-Ewing",
         "Taiwan",
         "User-centric 4thgeneration system engine",
         "1981",
         "Venture Capital / VC",
         "7443"
        ],
        [
         "35",
         "9E6Acb51e3F9d6F",
         "Glass, Barrera and Turner",
         "Kyrgyz Republic",
         "Multi-channeled 3rdgeneration open system",
         "2020",
         "Utilities",
         "2610"
        ],
        [
         "36",
         "4D4d7E18321eaeC",
         "Pineda-Cox",
         "Bolivia",
         "Fundamental asynchronous capability",
         "2010",
         "Human Resources / HR",
         "1312"
        ],
        [
         "37",
         "485f5d06B938F2b",
         "Baker, Mccann and Macdonald",
         "Kenya",
         "Cross-group user-facing focus group",
         "2013",
         "Legislative Office",
         "1638"
        ],
        [
         "38",
         "19E3a5Bf6dBDc4F",
         "Cuevas-Moss",
         "Guatemala",
         "Extended human-resource intranet",
         "1994",
         "Music",
         "9995"
        ],
        [
         "39",
         "6883A965c7b68F7",
         "Hahn PLC",
         "Belarus",
         "Organic logistical leverage",
         "2012",
         "Electrical / Electronic Manufacturing",
         "3715"
        ],
        [
         "40",
         "AC5B7AA74Aa4A2E",
         "Valentine, Ferguson and Kramer",
         "Jersey",
         "Centralized secondary time-frame",
         "1997",
         "Non - Profit / Volunteering",
         "3585"
        ],
        [
         "41",
         "decab0D5027CA6a",
         "Arroyo Inc",
         "Grenada",
         "Managed demand-driven website",
         "2006",
         "Writing / Editing",
         "9067"
        ],
        [
         "42",
         "dF084FbBb613eea",
         "Walls LLC",
         "Cape Verde",
         "Self-enabling fresh-thinking installation",
         "1989",
         "Investment Management / Hedge Fund / Private Equity",
         "1678"
        ],
        [
         "43",
         "A2D89Ab9bCcAd4e",
         "Mitchell, Warren and Schneider",
         "Trinidad and Tobago",
         "Enhanced intangible time-frame",
         "2021",
         "Capital Markets / Hedge Fund / Private Equity",
         "3816"
        ],
        [
         "44",
         "77aDc905434a49f",
         "Prince PLC",
         "Sweden",
         "Profit-focused coherent installation",
         "2016",
         "Individual / Family Services",
         "7645"
        ],
        [
         "45",
         "235fdEFE2cfDa5F",
         "Brock-Blackwell",
         "Benin",
         "Secured foreground emulation",
         "1986",
         "Online Publishing",
         "7034"
        ],
        [
         "46",
         "1eD64cFe986BBbE",
         "Walton-Barnett",
         "Western Sahara",
         "Right-sized clear-thinking flexibility",
         "2001",
         "Luxury Goods / Jewelry",
         "1746"
        ],
        [
         "47",
         "CbBbFcdd0eaE2cF",
         "Bartlett-Arroyo",
         "Northern Mariana Islands",
         "Realigned didactic function",
         "1976",
         "Civic / Social Organization",
         "3987"
        ],
        [
         "48",
         "49aECbDaE6aBD53",
         "Wallace, Madden and Morris",
         "Germany",
         "Persistent real-time customer loyalty",
         "2016",
         "Pharmaceuticals",
         "9443"
        ],
        [
         "49",
         "7b3fe6e7E72bFa4",
         "Berg-Sparks",
         "Canada",
         "Stand-alone static implementation",
         "1974",
         "Arts / Crafts",
         "2073"
        ],
        [
         "50",
         "c6DedA82A8aef7E",
         "Gonzales Ltd",
         "Tonga",
         "Managed human-resource policy",
         "1988",
         "Consumer Goods",
         "9069"
        ],
        [
         "51",
         "7D9FBF85cdC3871",
         "Lawson and Sons",
         "French Southern Territories",
         "Compatible analyzing intranet",
         "2021",
         "Arts / Crafts",
         "3527"
        ],
        [
         "52",
         "7dd18Fb7cB07b65",
         "Mcguire, Mcconnell and Olsen",
         "Korea",
         "Profound client-server frame",
         "1988",
         "Printing",
         "8445"
        ],
        [
         "53",
         "EF5B55FadccB8Fe",
         "Charles-Phillips",
         "Cote d'Ivoire",
         "Monitored client-server implementation",
         "2012",
         "Mental Health Care",
         "3450"
        ],
        [
         "54",
         "f8D4B99e11fAF5D",
         "Odom Ltd",
         "Cote d'Ivoire",
         "Advanced static process improvement",
         "2012",
         "Management Consulting",
         "1825"
        ],
        [
         "55",
         "e24D21BFd3bF1E5",
         "Richard PLC",
         "Mayotte",
         "Object-based optimizing model",
         "1971",
         "Broadcast Media",
         "4942"
        ],
        [
         "56",
         "B9BdfEB6D3Ca44E",
         "Sampson Ltd",
         "Cayman Islands",
         "Intuitive local adapter",
         "2005",
         "Farming",
         "1418"
        ],
        [
         "57",
         "2a74D6f3D3B268e",
         "Cherry, Le and Callahan",
         "Nigeria",
         "Universal human-resource collaboration",
         "2017",
         "Entertainment / Movie Production",
         "7202"
        ],
        [
         "58",
         "Bf3F3f62c8aBC33",
         "Cherry PLC",
         "Marshall Islands",
         "Persistent tertiary website",
         "1980",
         "Plastics",
         "8245"
        ],
        [
         "59",
         "aeBe26B80a7a23c",
         "Melton-Nichols",
         "Palau",
         "User-friendly clear-thinking productivity",
         "2021",
         "Legislative Office",
         "8741"
        ],
        [
         "60",
         "aAeb29ad43886C6",
         "Potter-Walsh",
         "Turkey",
         "Optional non-volatile open system",
         "2008",
         "Human Resources / HR",
         "6923"
        ],
        [
         "61",
         "bD1bc6bB6d1FeD3",
         "Freeman-Chen",
         "Timor-Leste",
         "Phased next generation adapter",
         "1973",
         "International Trade / Development",
         "346"
        ],
        [
         "62",
         "EB9f456e8b7022a",
         "Soto Group",
         "Vietnam",
         "Enterprise-wide executive installation",
         "1988",
         "Business Supplies / Equipment",
         "9097"
        ],
        [
         "63",
         "Dfef38C51D8DAe3",
         "Poole, Cruz and Whitney",
         "Reunion",
         "Balanced analyzing groupware",
         "1978",
         "Marketing / Advertising / Sales",
         "2992"
        ],
        [
         "64",
         "055ffEfB2Dd95B0",
         "Riley Ltd",
         "Brazil",
         "Optional exuding superstructure",
         "1986",
         "Textiles",
         "9315"
        ],
        [
         "65",
         "cBfe4dbAE1699da",
         "Erickson, Andrews and Bailey",
         "Eritrea",
         "Vision-oriented secondary project",
         "2014",
         "Consumer Electronics",
         "7829"
        ],
        [
         "66",
         "fdFbecbadcdCdf1",
         "Wilkinson, Charles and Arroyo",
         "United States Virgin Islands",
         "Assimilated 24/7 archive",
         "1996",
         "Building Materials",
         "602"
        ],
        [
         "67",
         "5DCb8A5a5ca03c0",
         "Floyd Ltd",
         "Falkland Islands (Malvinas)",
         "Function-based fault-tolerant concept",
         "2017",
         "Public Relations / PR",
         "2911"
        ],
        [
         "68",
         "ce57DCbcFD6d618",
         "Newman-Galloway",
         "Luxembourg",
         "Enhanced foreground collaboration",
         "1987",
         "Information Technology / IT",
         "3934"
        ],
        [
         "69",
         "5aaD187dc929371",
         "Frazier-Butler",
         "Northern Mariana Islands",
         "Persistent interactive circuit",
         "1972",
         "Outsourcing / Offshoring",
         "5130"
        ],
        [
         "70",
         "902D7Ac8b6d476b",
         "Newton Inc",
         "Netherlands Antilles",
         "Fundamental stable info-mediaries",
         "1976",
         "Military Industry",
         "563"
        ],
        [
         "71",
         "32BB9Ff4d939788",
         "Duffy-Levy",
         "Guernsey",
         "Diverse exuding installation",
         "1982",
         "Wireless",
         "6146"
        ],
        [
         "72",
         "adcB0afbE58bAe3",
         "Wagner LLC",
         "Uruguay",
         "Reactive attitude-oriented toolset",
         "1987",
         "International Affairs",
         "6874"
        ],
        [
         "73",
         "dfcA1c84AdB61Ac",
         "Mccall-Holmes",
         "Benin",
         "Object-based value-added database",
         "2009",
         "Legal Services",
         "696"
        ],
        [
         "74",
         "208044AC2fe52F3",
         "Massey LLC",
         "Suriname",
         "Configurable zero administration Graphical User Interface",
         "1986",
         "Accounting",
         "5004"
        ],
        [
         "75",
         "f3C365f0c1A0623",
         "Hicks LLC",
         "Pakistan",
         "Quality-focused client-server Graphical User Interface",
         "1970",
         "Computer Software / Engineering",
         "8480"
        ],
        [
         "76",
         "ec5Bdd3CBAfaB93",
         "Cole, Russell and Avery",
         "Mongolia",
         "De-engineered fault-tolerant challenge",
         "2000",
         "Law Enforcement",
         "7012"
        ],
        [
         "77",
         "DDB19Be7eeB56B4",
         "Cummings-Rojas",
         "Svalbard & Jan Mayen Islands",
         "User-centric modular customer loyalty",
         "2012",
         "Financial Services",
         "7529"
        ],
        [
         "78",
         "dd6CA3d0bc3cAfc",
         "Beasley, Greene and Mahoney",
         "Togo",
         "Extended content-based methodology",
         "1976",
         "Religious Institutions",
         "869"
        ],
        [
         "79",
         "A0B9d56e61070e3",
         "Beasley, Sims and Allison",
         "Latvia",
         "Secured zero tolerance hub",
         "1972",
         "Facilities Services",
         "6182"
        ],
        [
         "80",
         "cBa7EFe5D05Adaf",
         "Crawford-Rivera",
         "Cuba",
         "Persevering exuding budgetary management",
         "1999",
         "Online Publishing",
         "7805"
        ],
        [
         "81",
         "Ea3f6D52Ec73563",
         "Montes-Hensley",
         "Liechtenstein",
         "Multi-tiered secondary productivity",
         "2009",
         "Printing",
         "8433"
        ],
        [
         "82",
         "bC0CEd48A8000E0",
         "Velazquez-Odom",
         "Djibouti",
         "Streamlined 6thgeneration function",
         "2002",
         "Alternative Dispute Resolution",
         "4044"
        ],
        [
         "83",
         "c89b9b59BC4baa1",
         "Eaton-Morales",
         "Micronesia",
         "Customer-focused explicit frame",
         "1990",
         "Capital Markets / Hedge Fund / Private Equity",
         "7013"
        ],
        [
         "84",
         "FEC51bce8421a7b",
         "Roberson, Pennington and Palmer",
         "Cameroon",
         "Adaptive bi-directional hierarchy",
         "1993",
         "Telecommunications",
         "5571"
        ],
        [
         "85",
         "e0E8e27eAc9CAd5",
         "George, Russo and Guerra",
         "Sweden",
         "Centralized non-volatile capability",
         "1989",
         "Military Industry",
         "2880"
        ],
        [
         "86",
         "B97a6CF9bf5983C",
         "Davila Inc",
         "Cocos (Keeling) Islands",
         "Profit-focused dedicated frame",
         "2017",
         "Consumer Electronics",
         "2215"
        ],
        [
         "87",
         "a0a6f9b3DbcBEb5",
         "Mays-Preston",
         "Mali",
         "User-centric heuristic focus group",
         "2006",
         "Military Industry",
         "5786"
        ],
        [
         "88",
         "8cC1bDa330a5871",
         "Pineda-Morton",
         "United States Virgin Islands",
         "Grass-roots methodical info-mediaries",
         "1991",
         "Printing",
         "6168"
        ],
        [
         "89",
         "ED889CB2FE9cbd3",
         "Huang and Sons",
         "Eritrea",
         "Re-contextualized dynamic hierarchy",
         "1981",
         "Semiconductors",
         "7484"
        ],
        [
         "90",
         "F4Dc1417BC6cb8f",
         "Gilbert-Simon",
         "Burundi",
         "Grass-roots radical parallelism",
         "1973",
         "Newspapers / Journalism",
         "1927"
        ],
        [
         "91",
         "7ABc3c7ecA03B34",
         "Sampson-Griffith",
         "Benin",
         "Multi-layered composite paradigm",
         "1972",
         "Textiles",
         "3881"
        ],
        [
         "92",
         "4e0719FBE38e0aB",
         "Miles-Dominguez",
         "Gibraltar",
         "Organized empowering forecast",
         "1996",
         "Civic / Social Organization",
         "897"
        ],
        [
         "93",
         "dEbDAAeDfaed00A",
         "Rowe and Sons",
         "El Salvador",
         "Balanced multimedia knowledgebase",
         "1978",
         "Facilities Services",
         "8172"
        ],
        [
         "94",
         "61BDeCfeFD0cEF5",
         "Valenzuela, Holmes and Rowland",
         "Taiwan",
         "Persistent tertiary focus group",
         "1999",
         "Transportation",
         "1483"
        ],
        [
         "95",
         "4e91eD25f486110",
         "Best, Wade and Shepard",
         "Zimbabwe",
         "Innovative background definition",
         "1991",
         "Gambling / Casinos",
         "4873"
        ],
        [
         "96",
         "0a0bfFbBbB8eC7c",
         "Holmes Group",
         "Ethiopia",
         "Right-sized zero tolerance focus group",
         "1975",
         "Photography",
         "2988"
        ],
        [
         "97",
         "BA6Cd9Dae2Efd62",
         "Good Ltd",
         "Anguilla",
         "Reverse-engineered composite moratorium",
         "1971",
         "Consumer Services",
         "4292"
        ],
        [
         "98",
         "E7df80C60Abd7f9",
         "Clements-Espinoza",
         "Falkland Islands (Malvinas)",
         "Progressive modular hub",
         "1991",
         "Broadcast Media",
         "236"
        ],
        [
         "99",
         "AFc285dbE2fEd24",
         "Mendez Inc",
         "Kyrgyz Republic",
         "User-friendly exuding migration",
         "1993",
         "Education Management",
         "339"
        ],
        [
         "100",
         "e9eB5A60Cef8354",
         "Watkins-Kaiser",
         "Togo",
         "Synergistic background access",
         "2009",
         "Financial Services",
         "2785"
        ]
       ],
       "datasetInfos": [],
       "dbfsResultPath": null,
       "isJsonSchema": true,
       "metadata": {},
       "overflow": false,
       "plotOptions": {
        "customPlotOptions": {},
        "displayType": "table",
        "pivotAggregation": null,
        "pivotColumns": null,
        "xColumns": null,
        "yColumns": null
       },
       "removedWidgets": [],
       "schema": [
        {
         "metadata": "{}",
         "name": "Index",
         "type": "\"string\""
        },
        {
         "metadata": "{}",
         "name": "Organization Id",
         "type": "\"string\""
        },
        {
         "metadata": "{}",
         "name": "Name",
         "type": "\"string\""
        },
        {
         "metadata": "{}",
         "name": "Country",
         "type": "\"string\""
        },
        {
         "metadata": "{}",
         "name": "Description",
         "type": "\"string\""
        },
        {
         "metadata": "{}",
         "name": "Founded",
         "type": "\"string\""
        },
        {
         "metadata": "{}",
         "name": "Industry",
         "type": "\"string\""
        },
        {
         "metadata": "{}",
         "name": "Number of employees",
         "type": "\"string\""
        }
       ],
       "type": "table"
      }
     },
     "output_type": "display_data"
    }
   ],
   "source": [
    "df.drop(\"Website\").display()"
   ]
  },
  {
   "cell_type": "code",
   "execution_count": 0,
   "metadata": {
    "application/vnd.databricks.v1+cell": {
     "cellMetadata": {
      "byteLimit": 2048000,
      "rowLimit": 10000
     },
     "inputWidgets": {},
     "nuid": "e4f8b4d8-965e-4433-bbb9-52122c464fcb",
     "showTitle": false,
     "title": ""
    }
   },
   "outputs": [
    {
     "output_type": "display_data",
     "data": {
      "text/html": [
       "<style scoped>\n",
       "  .table-result-container {\n",
       "    max-height: 300px;\n",
       "    overflow: auto;\n",
       "  }\n",
       "  table, th, td {\n",
       "    border: 1px solid black;\n",
       "    border-collapse: collapse;\n",
       "  }\n",
       "  th, td {\n",
       "    padding: 5px;\n",
       "  }\n",
       "  th {\n",
       "    text-align: left;\n",
       "  }\n",
       "</style><div class='table-result-container'><table class='table-result'><thead style='background-color: white'><tr><th>Founded</th><th>count</th></tr></thead><tbody><tr><td>1987</td><td>2</td></tr><tr><td>2016</td><td>2</td></tr><tr><td>2020</td><td>2</td></tr><tr><td>2012</td><td>5</td></tr><tr><td>1972</td><td>5</td></tr><tr><td>1988</td><td>3</td></tr><tr><td>2017</td><td>3</td></tr><tr><td>1971</td><td>3</td></tr><tr><td>2014</td><td>3</td></tr><tr><td>1984</td><td>1</td></tr><tr><td>2013</td><td>2</td></tr><tr><td>1982</td><td>1</td></tr><tr><td>2005</td><td>1</td></tr><tr><td>2000</td><td>1</td></tr><tr><td>1981</td><td>2</td></tr><tr><td>1978</td><td>2</td></tr><tr><td>1974</td><td>1</td></tr><tr><td>2002</td><td>2</td></tr><tr><td>2018</td><td>2</td></tr><tr><td>2009</td><td>3</td></tr><tr><td>2006</td><td>2</td></tr><tr><td>1976</td><td>3</td></tr><tr><td>2004</td><td>1</td></tr><tr><td>2011</td><td>1</td></tr><tr><td>1989</td><td>2</td></tr><tr><td>1992</td><td>1</td></tr><tr><td>2008</td><td>1</td></tr><tr><td>1999</td><td>3</td></tr><tr><td>1994</td><td>1</td></tr><tr><td>1997</td><td>3</td></tr><tr><td>1973</td><td>2</td></tr><tr><td>1996</td><td>3</td></tr><tr><td>1980</td><td>2</td></tr><tr><td>2021</td><td>4</td></tr><tr><td>1986</td><td>4</td></tr><tr><td>2015</td><td>1</td></tr><tr><td>1998</td><td>2</td></tr><tr><td>1993</td><td>3</td></tr><tr><td>2001</td><td>2</td></tr><tr><td>2010</td><td>1</td></tr><tr><td>1990</td><td>3</td></tr><tr><td>1991</td><td>5</td></tr><tr><td>1975</td><td>1</td></tr><tr><td>1970</td><td>3</td></tr></tbody></table></div>"
      ]
     },
     "metadata": {
      "application/vnd.databricks.v1+output": {
       "addedWidgets": {},
       "aggData": [],
       "aggError": "",
       "aggOverflow": false,
       "aggSchema": [],
       "aggSeriesLimitReached": false,
       "aggType": "",
       "arguments": {},
       "columnCustomDisplayInfos": {},
       "data": [
        [
         "1987",
         2
        ],
        [
         "2016",
         2
        ],
        [
         "2020",
         2
        ],
        [
         "2012",
         5
        ],
        [
         "1972",
         5
        ],
        [
         "1988",
         3
        ],
        [
         "2017",
         3
        ],
        [
         "1971",
         3
        ],
        [
         "2014",
         3
        ],
        [
         "1984",
         1
        ],
        [
         "2013",
         2
        ],
        [
         "1982",
         1
        ],
        [
         "2005",
         1
        ],
        [
         "2000",
         1
        ],
        [
         "1981",
         2
        ],
        [
         "1978",
         2
        ],
        [
         "1974",
         1
        ],
        [
         "2002",
         2
        ],
        [
         "2018",
         2
        ],
        [
         "2009",
         3
        ],
        [
         "2006",
         2
        ],
        [
         "1976",
         3
        ],
        [
         "2004",
         1
        ],
        [
         "2011",
         1
        ],
        [
         "1989",
         2
        ],
        [
         "1992",
         1
        ],
        [
         "2008",
         1
        ],
        [
         "1999",
         3
        ],
        [
         "1994",
         1
        ],
        [
         "1997",
         3
        ],
        [
         "1973",
         2
        ],
        [
         "1996",
         3
        ],
        [
         "1980",
         2
        ],
        [
         "2021",
         4
        ],
        [
         "1986",
         4
        ],
        [
         "2015",
         1
        ],
        [
         "1998",
         2
        ],
        [
         "1993",
         3
        ],
        [
         "2001",
         2
        ],
        [
         "2010",
         1
        ],
        [
         "1990",
         3
        ],
        [
         "1991",
         5
        ],
        [
         "1975",
         1
        ],
        [
         "1970",
         3
        ]
       ],
       "datasetInfos": [],
       "dbfsResultPath": null,
       "isJsonSchema": true,
       "metadata": {},
       "overflow": false,
       "plotOptions": {
        "customPlotOptions": {},
        "displayType": "table",
        "pivotAggregation": null,
        "pivotColumns": null,
        "xColumns": null,
        "yColumns": null
       },
       "removedWidgets": [],
       "schema": [
        {
         "metadata": "{}",
         "name": "Founded",
         "type": "\"string\""
        },
        {
         "metadata": "{}",
         "name": "count",
         "type": "\"long\""
        }
       ],
       "type": "table"
      }
     },
     "output_type": "display_data"
    }
   ],
   "source": [
    "df.groupBy(\"Founded\").count().display()"
   ]
  },
  {
   "cell_type": "code",
   "execution_count": 0,
   "metadata": {
    "application/vnd.databricks.v1+cell": {
     "cellMetadata": {
      "byteLimit": 2048000,
      "rowLimit": 10000
     },
     "inputWidgets": {},
     "nuid": "052503b9-3890-473a-957c-a5966cf9b955",
     "showTitle": false,
     "title": ""
    }
   },
   "outputs": [
    {
     "output_type": "display_data",
     "data": {
      "text/html": [
       "<style scoped>\n",
       "  .ansiout {\n",
       "    display: block;\n",
       "    unicode-bidi: embed;\n",
       "    white-space: pre-wrap;\n",
       "    word-wrap: break-word;\n",
       "    word-break: break-all;\n",
       "    font-family: \"Source Code Pro\", \"Menlo\", monospace;;\n",
       "    font-size: 13px;\n",
       "    color: #555;\n",
       "    margin-left: 4px;\n",
       "    line-height: 19px;\n",
       "  }\n",
       "</style>"
      ]
     },
     "metadata": {
      "application/vnd.databricks.v1+output": {
       "arguments": {},
       "data": "",
       "errorSummary": "The spark context has stopped and the driver is restarting. Your notebook will be automatically reattached.",
       "errorTraceType": "html",
       "metadata": {},
       "type": "ipynbError"
      }
     },
     "output_type": "display_data"
    }
   ],
   "source": [
    "spark.stop()"
   ]
  }
 ],
 "metadata": {
  "application/vnd.databricks.v1+notebook": {
   "dashboards": [],
   "language": "python",
   "notebookMetadata": {
    "mostRecentlyExecutedCommandWithImplicitDF": {
     "commandId": -1,
     "dataframes": [
      "_sqldf"
     ]
    },
    "pythonIndentUnit": 2
   },
   "notebookName": "Import from Azure Blob Storage",
   "widgets": {}
  }
 },
 "nbformat": 4,
 "nbformat_minor": 0
}
