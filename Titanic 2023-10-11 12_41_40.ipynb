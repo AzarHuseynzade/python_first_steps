{
 "cells": [
  {
   "cell_type": "code",
   "execution_count": 0,
   "metadata": {
    "application/vnd.databricks.v1+cell": {
     "cellMetadata": {
      "byteLimit": 2048000,
      "rowLimit": 10000
     },
     "inputWidgets": {},
     "nuid": "5f61d126-2323-4a9c-b75c-f051b34d3481",
     "showTitle": false,
     "title": ""
    }
   },
   "outputs": [],
   "source": [
    "storage_account_name = \"account4st0rage\"\n",
    "storage_account_access_key = \"fcuu0k4uRz+0pKs4wtVqpfqwBah25BBZ3vV9Q+t6cQcoR/coBZkIXvC3M/HQ94zOSYBcRi3aWZoW+AStQcrrPw==\"\n",
    "file_location = \"wasbs://input@account4st0rage.blob.core.windows.net/titanic.csv\"\n",
    "file_type = \"csv\"\n",
    "spark.conf.set(\n",
    "  \"fs.azure.account.key.account4st0rage.blob.core.windows.net\",\n",
    "  storage_account_access_key)"
   ]
  },
  {
   "cell_type": "code",
   "execution_count": 0,
   "metadata": {
    "application/vnd.databricks.v1+cell": {
     "cellMetadata": {
      "byteLimit": 2048000,
      "rowLimit": 10000
     },
     "inputWidgets": {},
     "nuid": "390f60f0-f127-4f5f-885a-41aa13189ffa",
     "showTitle": false,
     "title": ""
    }
   },
   "outputs": [],
   "source": [
    "df = spark.read.csv(file_location, header=True)"
   ]
  },
  {
   "cell_type": "code",
   "execution_count": 0,
   "metadata": {
    "application/vnd.databricks.v1+cell": {
     "cellMetadata": {
      "byteLimit": 2048000,
      "rowLimit": 10000
     },
     "inputWidgets": {},
     "nuid": "826ec11b-83da-42cc-bca7-9cb446fa6116",
     "showTitle": false,
     "title": ""
    }
   },
   "outputs": [
    {
     "output_type": "display_data",
     "data": {
      "text/html": [
       "<style scoped>\n",
       "  .table-result-container {\n",
       "    max-height: 300px;\n",
       "    overflow: auto;\n",
       "  }\n",
       "  table, th, td {\n",
       "    border: 1px solid black;\n",
       "    border-collapse: collapse;\n",
       "  }\n",
       "  th, td {\n",
       "    padding: 5px;\n",
       "  }\n",
       "  th {\n",
       "    text-align: left;\n",
       "  }\n",
       "</style><div class='table-result-container'><table class='table-result'><thead style='background-color: white'><tr><th>summary</th><th>PassengerId</th><th>Survived</th><th>Pclass</th><th>Name</th><th>Sex</th><th>Age</th><th>SibSp</th><th>Parch</th><th>Ticket</th><th>Fare</th><th>Cabin</th><th>Embarked</th></tr></thead><tbody><tr><td>count</td><td>891</td><td>891</td><td>891</td><td>891</td><td>891</td><td>714</td><td>891</td><td>891</td><td>891</td><td>891</td><td>204</td><td>889</td></tr><tr><td>mean</td><td>446.0</td><td>0.3838383838383838</td><td>2.308641975308642</td><td>null</td><td>null</td><td>29.69911764705882</td><td>0.5230078563411896</td><td>0.38159371492704824</td><td>260318.54916792738</td><td>32.2042079685746</td><td>null</td><td>null</td></tr><tr><td>stddev</td><td>257.3538420152301</td><td>0.4865924542648585</td><td>0.8360712409770513</td><td>null</td><td>null</td><td>14.526497332334044</td><td>1.1027434322934275</td><td>0.8060572211299559</td><td>471609.26868834946</td><td>49.6934285971809</td><td>null</td><td>null</td></tr><tr><td>min</td><td>1</td><td>0</td><td>1</td><td>\"Andersson, Mr. August Edvard (\"\"Wennerstrom\"\")\"</td><td>female</td><td>0.42</td><td>0</td><td>0</td><td>110152</td><td>0</td><td>A10</td><td>C</td></tr><tr><td>max</td><td>99</td><td>1</td><td>3</td><td>van Melkebeke, Mr. Philemon</td><td>male</td><td>9</td><td>8</td><td>6</td><td>WE/P 5735</td><td>93.5</td><td>T</td><td>S</td></tr></tbody></table></div>"
      ]
     },
     "metadata": {
      "application/vnd.databricks.v1+output": {
       "addedWidgets": {},
       "aggData": [],
       "aggError": "",
       "aggOverflow": false,
       "aggSchema": [],
       "aggSeriesLimitReached": false,
       "aggType": "",
       "arguments": {},
       "columnCustomDisplayInfos": {},
       "data": [
        [
         "count",
         "891",
         "891",
         "891",
         "891",
         "891",
         "714",
         "891",
         "891",
         "891",
         "891",
         "204",
         "889"
        ],
        [
         "mean",
         "446.0",
         "0.3838383838383838",
         "2.308641975308642",
         null,
         null,
         "29.69911764705882",
         "0.5230078563411896",
         "0.38159371492704824",
         "260318.54916792738",
         "32.2042079685746",
         null,
         null
        ],
        [
         "stddev",
         "257.3538420152301",
         "0.4865924542648585",
         "0.8360712409770513",
         null,
         null,
         "14.526497332334044",
         "1.1027434322934275",
         "0.8060572211299559",
         "471609.26868834946",
         "49.6934285971809",
         null,
         null
        ],
        [
         "min",
         "1",
         "0",
         "1",
         "\"Andersson, Mr. August Edvard (\"\"Wennerstrom\"\")\"",
         "female",
         "0.42",
         "0",
         "0",
         "110152",
         "0",
         "A10",
         "C"
        ],
        [
         "max",
         "99",
         "1",
         "3",
         "van Melkebeke, Mr. Philemon",
         "male",
         "9",
         "8",
         "6",
         "WE/P 5735",
         "93.5",
         "T",
         "S"
        ]
       ],
       "datasetInfos": [],
       "dbfsResultPath": null,
       "isJsonSchema": true,
       "metadata": {},
       "overflow": false,
       "plotOptions": {
        "customPlotOptions": {},
        "displayType": "table",
        "pivotAggregation": null,
        "pivotColumns": null,
        "xColumns": null,
        "yColumns": null
       },
       "removedWidgets": [],
       "schema": [
        {
         "metadata": "{}",
         "name": "summary",
         "type": "\"string\""
        },
        {
         "metadata": "{}",
         "name": "PassengerId",
         "type": "\"string\""
        },
        {
         "metadata": "{}",
         "name": "Survived",
         "type": "\"string\""
        },
        {
         "metadata": "{}",
         "name": "Pclass",
         "type": "\"string\""
        },
        {
         "metadata": "{}",
         "name": "Name",
         "type": "\"string\""
        },
        {
         "metadata": "{}",
         "name": "Sex",
         "type": "\"string\""
        },
        {
         "metadata": "{}",
         "name": "Age",
         "type": "\"string\""
        },
        {
         "metadata": "{}",
         "name": "SibSp",
         "type": "\"string\""
        },
        {
         "metadata": "{}",
         "name": "Parch",
         "type": "\"string\""
        },
        {
         "metadata": "{}",
         "name": "Ticket",
         "type": "\"string\""
        },
        {
         "metadata": "{}",
         "name": "Fare",
         "type": "\"string\""
        },
        {
         "metadata": "{}",
         "name": "Cabin",
         "type": "\"string\""
        },
        {
         "metadata": "{}",
         "name": "Embarked",
         "type": "\"string\""
        }
       ],
       "type": "table"
      }
     },
     "output_type": "display_data"
    }
   ],
   "source": [
    "df.describe().display()"
   ]
  },
  {
   "cell_type": "code",
   "execution_count": 0,
   "metadata": {
    "application/vnd.databricks.v1+cell": {
     "cellMetadata": {
      "byteLimit": 2048000,
      "rowLimit": 10000
     },
     "inputWidgets": {},
     "nuid": "25e2057b-876f-485a-8cb3-589bca6465d1",
     "showTitle": false,
     "title": ""
    }
   },
   "outputs": [
    {
     "output_type": "stream",
     "name": "stdout",
     "output_type": "stream",
     "text": [
      "+-----------+--------+------+--------------------+------+----+-----+-----+----------------+-------+-----+--------+\n|PassengerId|Survived|Pclass|                Name|   Sex| Age|SibSp|Parch|          Ticket|   Fare|Cabin|Embarked|\n+-----------+--------+------+--------------------+------+----+-----+-----+----------------+-------+-----+--------+\n|          1|       0|     3|Braund, Mr. Owen ...|  male|  22|    1|    0|       A/5 21171|   7.25| NULL|       S|\n|          2|       1|     1|Cumings, Mrs. Joh...|female|  38|    1|    0|        PC 17599|71.2833|  C85|       C|\n|          3|       1|     3|Heikkinen, Miss. ...|female|  26|    0|    0|STON/O2. 3101282|  7.925| NULL|       S|\n|          4|       1|     1|Futrelle, Mrs. Ja...|female|  35|    1|    0|          113803|   53.1| C123|       S|\n|          5|       0|     3|Allen, Mr. Willia...|  male|  35|    0|    0|          373450|   8.05| NULL|       S|\n|          6|       0|     3|    Moran, Mr. James|  male|NULL|    0|    0|          330877| 8.4583| NULL|       Q|\n|          7|       0|     1|McCarthy, Mr. Tim...|  male|  54|    0|    0|           17463|51.8625|  E46|       S|\n|          8|       0|     3|Palsson, Master. ...|  male|   2|    3|    1|          349909| 21.075| NULL|       S|\n|          9|       1|     3|Johnson, Mrs. Osc...|female|  27|    0|    2|          347742|11.1333| NULL|       S|\n|         10|       1|     2|Nasser, Mrs. Nich...|female|  14|    1|    0|          237736|30.0708| NULL|       C|\n|         11|       1|     3|Sandstrom, Miss. ...|female|   4|    1|    1|         PP 9549|   16.7|   G6|       S|\n|         12|       1|     1|Bonnell, Miss. El...|female|  58|    0|    0|          113783|  26.55| C103|       S|\n|         13|       0|     3|Saundercock, Mr. ...|  male|  20|    0|    0|       A/5. 2151|   8.05| NULL|       S|\n|         14|       0|     3|Andersson, Mr. An...|  male|  39|    1|    5|          347082| 31.275| NULL|       S|\n|         15|       0|     3|Vestrom, Miss. Hu...|female|  14|    0|    0|          350406| 7.8542| NULL|       S|\n|         16|       1|     2|Hewlett, Mrs. (Ma...|female|  55|    0|    0|          248706|     16| NULL|       S|\n|         17|       0|     3|Rice, Master. Eugene|  male|   2|    4|    1|          382652| 29.125| NULL|       Q|\n|         18|       1|     2|Williams, Mr. Cha...|  male|NULL|    0|    0|          244373|     13| NULL|       S|\n|         19|       0|     3|Vander Planke, Mr...|female|  31|    1|    0|          345763|     18| NULL|       S|\n|         20|       1|     3|Masselmani, Mrs. ...|female|NULL|    0|    0|            2649|  7.225| NULL|       C|\n+-----------+--------+------+--------------------+------+----+-----+-----+----------------+-------+-----+--------+\nonly showing top 20 rows\n\n"
     ]
    }
   ],
   "source": [
    "df.show()"
   ]
  },
  {
   "cell_type": "code",
   "execution_count": 0,
   "metadata": {
    "application/vnd.databricks.v1+cell": {
     "cellMetadata": {
      "byteLimit": 2048000,
      "rowLimit": 10000
     },
     "inputWidgets": {},
     "nuid": "9904c44c-a475-4e94-b729-8c9b992f4da1",
     "showTitle": false,
     "title": ""
    }
   },
   "outputs": [
    {
     "output_type": "stream",
     "name": "stdout",
     "output_type": "stream",
     "text": [
      "+-----------+--------+------+--------------------+------+---+-----+-----+------------+-------+-----------+--------+\n|PassengerId|Survived|Pclass|                Name|   Sex|Age|SibSp|Parch|      Ticket|   Fare|      Cabin|Embarked|\n+-----------+--------+------+--------------------+------+---+-----+-----+------------+-------+-----------+--------+\n|          1|       0|     3|Braund, Mr. Owen ...|  male| 22|    1|    0|   A/5 21171|   7.25|       NULL|       S|\n|         13|       0|     3|Saundercock, Mr. ...|  male| 20|    0|    0|   A/5. 2151|   8.05|       NULL|       S|\n|         28|       0|     1|Fortune, Mr. Char...|  male| 19|    3|    2|       19950|    263|C23 C25 C27|       S|\n|         38|       0|     3|Cann, Mr. Ernest ...|  male| 21|    0|    0|  A./5. 2152|   8.05|       NULL|       S|\n|         39|       0|     3|Vander Planke, Mi...|female| 18|    2|    0|      345764|     18|       NULL|       S|\n|         45|       1|     3|Devaney, Miss. Ma...|female| 19|    0|    0|      330958| 7.8792|       NULL|       Q|\n|         50|       0|     3|Arnold-Franchi, M...|female| 18|    1|    0|      349237|   17.8|       NULL|       S|\n|         52|       0|     3|Nosworthy, Mr. Ri...|  male| 21|    0|    0|  A/4. 39886|    7.8|       NULL|       S|\n|         57|       1|     2|   Rugg, Miss. Emily|female| 21|    0|    0|  C.A. 31026|   10.5|       NULL|       S|\n|         61|       0|     3|Sirayanian, Mr. O...|  male| 22|    0|    0|        2669| 7.2292|       NULL|       C|\n|         68|       0|     3|Crease, Mr. Ernes...|  male| 19|    0|    0|   S.P. 3464| 8.1583|       NULL|       S|\n|         73|       0|     2|Hood, Mr. Ambrose Jr|  male| 21|    0|    0|S.O.C. 14879|   73.5|       NULL|       S|\n|         76|       0|     3|Moen, Mr. Sigurd ...|  male| 25|    0|    0|      348123|   7.65|      F G73|       S|\n|         81|       0|     3|Waelens, Mr. Achille|  male| 22|    0|    0|      345767|      9|       NULL|       S|\n|         89|       1|     1|Fortune, Miss. Ma...|female| 23|    3|    2|       19950|    263|C23 C25 C27|       S|\n|         90|       0|     3|Celotti, Mr. Fran...|  male| 24|    0|    0|      343275|   8.05|       NULL|       S|\n|         92|       0|     3|Andreasson, Mr. P...|  male| 20|    0|    0|      347466| 7.8542|       NULL|       S|\n|         98|       1|     1|Greenfield, Mr. W...|  male| 23|    0|    1|    PC 17759|63.3583|    D10 D12|       C|\n|        103|       0|     1|White, Mr. Richar...|  male| 21|    0|    1|       35281|77.2875|        D26|       S|\n|        107|       1|     3|Salkjelsvik, Miss...|female| 21|    0|    0|      343120|   7.65|       NULL|       S|\n+-----------+--------+------+--------------------+------+---+-----+-----+------------+-------+-----------+--------+\nonly showing top 20 rows\n\n"
     ]
    }
   ],
   "source": [
    "df.filter(df.Age.between(18,25)).show()"
   ]
  },
  {
   "cell_type": "code",
   "execution_count": 0,
   "metadata": {
    "application/vnd.databricks.v1+cell": {
     "cellMetadata": {
      "byteLimit": 2048000,
      "rowLimit": 10000
     },
     "inputWidgets": {},
     "nuid": "7260c2eb-e7b7-46a2-9460-3bf536b3d9d3",
     "showTitle": false,
     "title": ""
    }
   },
   "outputs": [
    {
     "output_type": "stream",
     "name": "stdout",
     "output_type": "stream",
     "text": [
      "+-----------+--------+------+--------------------+------+----+-----+-----+-----------+-------+-----------+--------+\n|PassengerId|Survived|Pclass|                Name|   Sex| Age|SibSp|Parch|     Ticket|   Fare|      Cabin|Embarked|\n+-----------+--------+------+--------------------+------+----+-----+-----+-----------+-------+-----------+--------+\n|         34|       0|     2|Wheadon, Mr. Edwa...|  male|  66|    0|    0| C.A. 24579|   10.5|       NULL|       S|\n|         55|       0|     1|Ostby, Mr. Engelh...|  male|  65|    0|    1|     113509|61.9792|        B30|       C|\n|         97|       0|     1|Goldschmidt, Mr. ...|  male|  71|    0|    0|   PC 17754|34.6542|         A5|       C|\n|        117|       0|     3|Connors, Mr. Patrick|  male|70.5|    0|    0|     370369|   7.75|       NULL|       Q|\n|        171|       0|     1|Van der hoef, Mr....|  male|  61|    0|    0|     111240|   33.5|        B19|       S|\n|        253|       0|     1|Stead, Mr. Willia...|  male|  62|    0|    0|     113514|  26.55|        C87|       S|\n|        276|       1|     1|Andrews, Miss. Ko...|female|  63|    1|    0|      13502|77.9583|         D7|       S|\n|        281|       0|     3|    Duane, Mr. Frank|  male|  65|    0|    0|     336439|   7.75|       NULL|       Q|\n|        327|       0|     3|Nysveen, Mr. Joha...|  male|  61|    0|    0|     345364| 6.2375|       NULL|       S|\n|        439|       0|     1|   Fortune, Mr. Mark|  male|  64|    1|    4|      19950|    263|C23 C25 C27|       S|\n|        457|       0|     1|Millet, Mr. Franc...|  male|  65|    0|    0|      13509|  26.55|        E38|       S|\n|        484|       1|     3|Turkula, Mrs. (He...|female|  63|    0|    0|       4134| 9.5875|       NULL|       S|\n|        494|       0|     1|Artagaveytia, Mr....|  male|  71|    0|    0|   PC 17609|49.5042|       NULL|       C|\n|        546|       0|     1|Nicholson, Mr. Ar...|  male|  64|    0|    0|        693|     26|       NULL|       S|\n|        556|       0|     1|  Wright, Mr. George|  male|  62|    0|    0|     113807|  26.55|       NULL|       S|\n|        571|       1|     2|  Harris, Mr. George|  male|  62|    0|    0|S.W./PP 752|   10.5|       NULL|       S|\n|        626|       0|     1|Sutton, Mr. Frede...|  male|  61|    0|    0|      36963|32.3208|        D50|       S|\n|        631|       1|     1|Barkworth, Mr. Al...|  male|  80|    0|    0|      27042|     30|        A23|       S|\n|        673|       0|     2|Mitchell, Mr. Hen...|  male|  70|    0|    0| C.A. 24580|   10.5|       NULL|       S|\n|        746|       0|     1|Crosby, Capt. Edw...|  male|  70|    1|    1|  WE/P 5735|     71|        B22|       S|\n+-----------+--------+------+--------------------+------+----+-----+-----+-----------+-------+-----------+--------+\nonly showing top 20 rows\n\n"
     ]
    }
   ],
   "source": [
    "df.filter(df.Age>60).show()"
   ]
  },
  {
   "cell_type": "code",
   "execution_count": 0,
   "metadata": {
    "application/vnd.databricks.v1+cell": {
     "cellMetadata": {
      "byteLimit": 2048000,
      "rowLimit": 10000
     },
     "inputWidgets": {},
     "nuid": "b7ca3a76-5339-4cbc-b2f7-e95e64d6684a",
     "showTitle": false,
     "title": ""
    }
   },
   "outputs": [
    {
     "output_type": "stream",
     "name": "stdout",
     "output_type": "stream",
     "text": [
      "+-----------+--------+------+--------------------+------+----+-----+-----+----------------+-------+\n|PassengerId|Survived|Pclass|                Name|   Sex| Age|SibSp|Parch|          Ticket|   Fare|\n+-----------+--------+------+--------------------+------+----+-----+-----+----------------+-------+\n|          1|       0|     3|Braund, Mr. Owen ...|  male|  22|    1|    0|       A/5 21171|   7.25|\n|          2|       1|     1|Cumings, Mrs. Joh...|female|  38|    1|    0|        PC 17599|71.2833|\n|          3|       1|     3|Heikkinen, Miss. ...|female|  26|    0|    0|STON/O2. 3101282|  7.925|\n|          4|       1|     1|Futrelle, Mrs. Ja...|female|  35|    1|    0|          113803|   53.1|\n|          5|       0|     3|Allen, Mr. Willia...|  male|  35|    0|    0|          373450|   8.05|\n|          6|       0|     3|    Moran, Mr. James|  male|NULL|    0|    0|          330877| 8.4583|\n|          7|       0|     1|McCarthy, Mr. Tim...|  male|  54|    0|    0|           17463|51.8625|\n|          8|       0|     3|Palsson, Master. ...|  male|   2|    3|    1|          349909| 21.075|\n|          9|       1|     3|Johnson, Mrs. Osc...|female|  27|    0|    2|          347742|11.1333|\n|         10|       1|     2|Nasser, Mrs. Nich...|female|  14|    1|    0|          237736|30.0708|\n|         11|       1|     3|Sandstrom, Miss. ...|female|   4|    1|    1|         PP 9549|   16.7|\n|         12|       1|     1|Bonnell, Miss. El...|female|  58|    0|    0|          113783|  26.55|\n|         13|       0|     3|Saundercock, Mr. ...|  male|  20|    0|    0|       A/5. 2151|   8.05|\n|         14|       0|     3|Andersson, Mr. An...|  male|  39|    1|    5|          347082| 31.275|\n|         15|       0|     3|Vestrom, Miss. Hu...|female|  14|    0|    0|          350406| 7.8542|\n|         16|       1|     2|Hewlett, Mrs. (Ma...|female|  55|    0|    0|          248706|     16|\n|         17|       0|     3|Rice, Master. Eugene|  male|   2|    4|    1|          382652| 29.125|\n|         18|       1|     2|Williams, Mr. Cha...|  male|NULL|    0|    0|          244373|     13|\n|         19|       0|     3|Vander Planke, Mr...|female|  31|    1|    0|          345763|     18|\n|         20|       1|     3|Masselmani, Mrs. ...|female|NULL|    0|    0|            2649|  7.225|\n+-----------+--------+------+--------------------+------+----+-----+-----+----------------+-------+\nonly showing top 20 rows\n\n"
     ]
    }
   ],
   "source": [
    "df.drop(\"Cabin\",\"Embarked\").show()"
   ]
  },
  {
   "cell_type": "code",
   "execution_count": 0,
   "metadata": {
    "application/vnd.databricks.v1+cell": {
     "cellMetadata": {
      "byteLimit": 2048000,
      "rowLimit": 10000
     },
     "inputWidgets": {},
     "nuid": "727345bf-ebd0-4828-9f33-67a0f64fd97f",
     "showTitle": false,
     "title": ""
    }
   },
   "outputs": [
    {
     "output_type": "display_data",
     "data": {
      "text/html": [
       "<style scoped>\n",
       "  .table-result-container {\n",
       "    max-height: 300px;\n",
       "    overflow: auto;\n",
       "  }\n",
       "  table, th, td {\n",
       "    border: 1px solid black;\n",
       "    border-collapse: collapse;\n",
       "  }\n",
       "  th, td {\n",
       "    padding: 5px;\n",
       "  }\n",
       "  th {\n",
       "    text-align: left;\n",
       "  }\n",
       "</style><div class='table-result-container'><table class='table-result'><thead style='background-color: white'><tr><th>PassengerId</th><th>Survived</th><th>Pclass</th><th>Name</th><th>Sex</th><th>Age</th><th>SibSp</th><th>Parch</th><th>Ticket</th><th>Fare</th><th>Cabin</th><th>Embarked</th></tr></thead><tbody><tr><td>521</td><td>1</td><td>1</td><td>Perreault, Miss. Anne</td><td>female</td><td>30</td><td>0</td><td>0</td><td>12749</td><td>93.5</td><td>B73</td><td>S</td></tr><tr><td>821</td><td>1</td><td>1</td><td>Hays, Mrs. Charles Melville (Clara Jennings Gregg)</td><td>female</td><td>52</td><td>1</td><td>1</td><td>12749</td><td>93.5</td><td>B69</td><td>S</td></tr><tr><td>485</td><td>1</td><td>1</td><td>Bishop, Mr. Dickinson H</td><td>male</td><td>25</td><td>1</td><td>0</td><td>11967</td><td>91.0792</td><td>B49</td><td>C</td></tr><tr><td>292</td><td>1</td><td>1</td><td>Bishop, Mrs. Dickinson H (Helen Walton)</td><td>female</td><td>19</td><td>1</td><td>0</td><td>11967</td><td>91.0792</td><td>B49</td><td>C</td></tr><tr><td>487</td><td>1</td><td>1</td><td>Hoyt, Mrs. Frederick Maxfield (Jane Anne Forby)</td><td>female</td><td>35</td><td>1</td><td>0</td><td>19943</td><td>90</td><td>C93</td><td>S</td></tr><tr><td>413</td><td>1</td><td>1</td><td>Minahan, Miss. Daisy E</td><td>female</td><td>33</td><td>1</td><td>0</td><td>19928</td><td>90</td><td>C78</td><td>Q</td></tr><tr><td>225</td><td>1</td><td>1</td><td>Hoyt, Mr. Frederick Maxfield</td><td>male</td><td>38</td><td>1</td><td>0</td><td>19943</td><td>90</td><td>C93</td><td>S</td></tr><tr><td>246</td><td>0</td><td>1</td><td>Minahan, Dr. William Edward</td><td>male</td><td>44</td><td>2</td><td>0</td><td>19928</td><td>90</td><td>C78</td><td>Q</td></tr><tr><td>877</td><td>0</td><td>3</td><td>Gustafsson, Mr. Alfred Ossian</td><td>male</td><td>20</td><td>0</td><td>0</td><td>7534</td><td>9.8458</td><td>null</td><td>S</td></tr><tr><td>678</td><td>1</td><td>3</td><td>Turja, Miss. Anna Sofia</td><td>female</td><td>18</td><td>0</td><td>0</td><td>4138</td><td>9.8417</td><td>null</td><td>S</td></tr><tr><td>475</td><td>0</td><td>3</td><td>Strandberg, Miss. Ida Sofia</td><td>female</td><td>22</td><td>0</td><td>0</td><td>7553</td><td>9.8375</td><td>null</td><td>S</td></tr><tr><td>403</td><td>0</td><td>3</td><td>Jussila, Miss. Mari Aina</td><td>female</td><td>21</td><td>1</td><td>0</td><td>4137</td><td>9.825</td><td>null</td><td>S</td></tr><tr><td>114</td><td>0</td><td>3</td><td>Jussila, Miss. Katriina</td><td>female</td><td>20</td><td>1</td><td>0</td><td>4136</td><td>9.825</td><td>null</td><td>S</td></tr><tr><td>484</td><td>1</td><td>3</td><td>Turkula, Mrs. (Hedwig)</td><td>female</td><td>63</td><td>0</td><td>0</td><td>4134</td><td>9.5875</td><td>null</td><td>S</td></tr><tr><td>504</td><td>0</td><td>3</td><td>Laitinen, Miss. Kristina Sofia</td><td>female</td><td>37</td><td>0</td><td>0</td><td>4135</td><td>9.5875</td><td>null</td><td>S</td></tr><tr><td>442</td><td>0</td><td>3</td><td>Hampe, Mr. Leon</td><td>male</td><td>20</td><td>0</td><td>0</td><td>345769</td><td>9.5</td><td>null</td><td>S</td></tr><tr><td>356</td><td>0</td><td>3</td><td>Vanden Steen, Mr. Leo Peter</td><td>male</td><td>28</td><td>0</td><td>0</td><td>345783</td><td>9.5</td><td>null</td><td>S</td></tr><tr><td>771</td><td>0</td><td>3</td><td>Lievens, Mr. Rene Aime</td><td>male</td><td>24</td><td>0</td><td>0</td><td>345781</td><td>9.5</td><td>null</td><td>S</td></tr><tr><td>201</td><td>0</td><td>3</td><td>Vande Walle, Mr. Nestor Cyriel</td><td>male</td><td>28</td><td>0</td><td>0</td><td>345770</td><td>9.5</td><td>null</td><td>S</td></tr><tr><td>283</td><td>0</td><td>3</td><td>de Pelsmaeker, Mr. Alfons</td><td>male</td><td>16</td><td>0</td><td>0</td><td>345778</td><td>9.5</td><td>null</td><td>S</td></tr><tr><td>869</td><td>0</td><td>3</td><td>van Melkebeke, Mr. Philemon</td><td>male</td><td>null</td><td>0</td><td>0</td><td>345777</td><td>9.5</td><td>null</td><td>S</td></tr><tr><td>753</td><td>0</td><td>3</td><td>Vande Velde, Mr. Johannes Joseph</td><td>male</td><td>33</td><td>0</td><td>0</td><td>345780</td><td>9.5</td><td>null</td><td>S</td></tr><tr><td>82</td><td>1</td><td>3</td><td>Sheerlinck, Mr. Jan Baptist</td><td>male</td><td>29</td><td>0</td><td>0</td><td>345779</td><td>9.5</td><td>null</td><td>S</td></tr><tr><td>287</td><td>1</td><td>3</td><td>de Mulder, Mr. Theodore</td><td>male</td><td>30</td><td>0</td><td>0</td><td>345774</td><td>9.5</td><td>null</td><td>S</td></tr><tr><td>714</td><td>0</td><td>3</td><td>Larsson, Mr. August Viktor</td><td>male</td><td>29</td><td>0</td><td>0</td><td>7545</td><td>9.4833</td><td>null</td><td>S</td></tr><tr><td>41</td><td>0</td><td>3</td><td>Ahlin, Mrs. Johan (Johanna Persdotter Larsson)</td><td>female</td><td>40</td><td>1</td><td>0</td><td>7546</td><td>9.475</td><td>null</td><td>S</td></tr><tr><td>226</td><td>0</td><td>3</td><td>Berglund, Mr. Karl Ivar Sven</td><td>male</td><td>22</td><td>0</td><td>0</td><td>PP 4348</td><td>9.35</td><td>null</td><td>S</td></tr><tr><td>856</td><td>1</td><td>3</td><td>Aks, Mrs. Sam (Leah Rosen)</td><td>female</td><td>18</td><td>0</td><td>1</td><td>392091</td><td>9.35</td><td>null</td><td>S</td></tr><tr><td>683</td><td>0</td><td>3</td><td>Olsvigen, Mr. Thor Anderson</td><td>male</td><td>20</td><td>0</td><td>0</td><td>6563</td><td>9.225</td><td>null</td><td>S</td></tr><tr><td>351</td><td>0</td><td>3</td><td>Odahl, Mr. Nils Martin</td><td>male</td><td>23</td><td>0</td><td>0</td><td>7267</td><td>9.225</td><td>null</td><td>S</td></tr><tr><td>139</td><td>0</td><td>3</td><td>Osen, Mr. Olaf Elon</td><td>male</td><td>16</td><td>0</td><td>0</td><td>7534</td><td>9.2167</td><td>null</td><td>S</td></tr><tr><td>874</td><td>0</td><td>3</td><td>Vander Cruyssen, Mr. Victor</td><td>male</td><td>47</td><td>0</td><td>0</td><td>345765</td><td>9</td><td>null</td><td>S</td></tr><tr><td>81</td><td>0</td><td>3</td><td>Waelens, Mr. Achille</td><td>male</td><td>22</td><td>0</td><td>0</td><td>345767</td><td>9</td><td>null</td><td>S</td></tr><tr><td>454</td><td>1</td><td>1</td><td>Goldenberg, Mr. Samuel L</td><td>male</td><td>49</td><td>1</td><td>0</td><td>17453</td><td>89.1042</td><td>C92</td><td>C</td></tr><tr><td>850</td><td>1</td><td>1</td><td>Goldenberg, Mrs. Samuel L (Edwiga Grabowska)</td><td>female</td><td>null</td><td>1</td><td>0</td><td>17453</td><td>89.1042</td><td>C92</td><td>C</td></tr><tr><td>505</td><td>1</td><td>1</td><td>Maioni, Miss. Roberta</td><td>female</td><td>16</td><td>0</td><td>0</td><td>110152</td><td>86.5</td><td>B79</td><td>S</td></tr><tr><td>258</td><td>1</td><td>1</td><td>Cherry, Miss. Gladys</td><td>female</td><td>30</td><td>0</td><td>0</td><td>110152</td><td>86.5</td><td>B77</td><td>S</td></tr><tr><td>760</td><td>1</td><td>1</td><td>Rothes, the Countess. of (Lucy Noel Martha Dyer-Edwards)</td><td>female</td><td>33</td><td>0</td><td>0</td><td>110152</td><td>86.5</td><td>B77</td><td>S</td></tr><tr><td>231</td><td>1</td><td>1</td><td>Harris, Mrs. Henry Birkhardt (Irene Wallach)</td><td>female</td><td>35</td><td>1</td><td>0</td><td>36973</td><td>83.475</td><td>C83</td><td>S</td></tr><tr><td>63</td><td>0</td><td>1</td><td>Harris, Mr. Henry Birkhardt</td><td>male</td><td>45</td><td>1</td><td>0</td><td>36973</td><td>83.475</td><td>C83</td><td>S</td></tr><tr><td>836</td><td>1</td><td>1</td><td>Compton, Miss. Sara Rebecca</td><td>female</td><td>39</td><td>1</td><td>1</td><td>PC 17756</td><td>83.1583</td><td>E49</td><td>C</td></tr><tr><td>311</td><td>1</td><td>1</td><td>Hays, Miss. Margaret Bechstein</td><td>female</td><td>24</td><td>0</td><td>0</td><td>11767</td><td>83.1583</td><td>C54</td><td>C</td></tr><tr><td>880</td><td>1</td><td>1</td><td>Potter, Mrs. Thomas Jr (Lily Alexenia Wilson)</td><td>female</td><td>56</td><td>0</td><td>1</td><td>11767</td><td>83.1583</td><td>C50</td><td>C</td></tr><tr><td>35</td><td>0</td><td>1</td><td>Meyer, Mr. Edgar Joseph</td><td>male</td><td>28</td><td>1</td><td>0</td><td>PC 17604</td><td>82.1708</td><td>null</td><td>C</td></tr><tr><td>376</td><td>1</td><td>1</td><td>Meyer, Mrs. Edgar Joseph (Leila Saks)</td><td>female</td><td>null</td><td>1</td><td>0</td><td>PC 17604</td><td>82.1708</td><td>null</td><td>C</td></tr><tr><td>446</td><td>1</td><td>1</td><td>Dodge, Master. Washington</td><td>male</td><td>4</td><td>0</td><td>2</td><td>33638</td><td>81.8583</td><td>A34</td><td>S</td></tr><tr><td>62</td><td>1</td><td>1</td><td>Icard, Miss. Amelie</td><td>female</td><td>38</td><td>0</td><td>0</td><td>113572</td><td>80</td><td>B28</td><td>null</td></tr><tr><td>830</td><td>1</td><td>1</td><td>Stone, Mrs. George Nelson (Martha Evelyn)</td><td>female</td><td>62</td><td>0</td><td>0</td><td>113572</td><td>80</td><td>B28</td><td>null</td></tr><tr><td>294</td><td>0</td><td>3</td><td>Haas, Miss. Aloisia</td><td>female</td><td>24</td><td>0</td><td>0</td><td>349236</td><td>8.85</td><td>null</td><td>S</td></tr><tr><td>585</td><td>0</td><td>3</td><td>Paulner, Mr. Uscher</td><td>male</td><td>null</td><td>0</td><td>0</td><td>3411</td><td>8.7125</td><td>null</td><td>C</td></tr><tr><td>798</td><td>1</td><td>3</td><td>Osman, Mrs. Mara</td><td>female</td><td>31</td><td>0</td><td>0</td><td>349244</td><td>8.6833</td><td>null</td><td>S</td></tr><tr><td>535</td><td>0</td><td>3</td><td>Cacic, Miss. Marija</td><td>female</td><td>30</td><td>0</td><td>0</td><td>315084</td><td>8.6625</td><td>null</td><td>S</td></tr><tr><td>837</td><td>0</td><td>3</td><td>Pasic, Mr. Jakob</td><td>male</td><td>21</td><td>0</td><td>0</td><td>315097</td><td>8.6625</td><td>null</td><td>S</td></tr><tr><td>350</td><td>0</td><td>3</td><td>Dimic, Mr. Jovan</td><td>male</td><td>42</td><td>0</td><td>0</td><td>315088</td><td>8.6625</td><td>null</td><td>S</td></tr><tr><td>845</td><td>0</td><td>3</td><td>Culumovic, Mr. Jeso</td><td>male</td><td>17</td><td>0</td><td>0</td><td>315090</td><td>8.6625</td><td>null</td><td>S</td></tr><tr><td>472</td><td>0</td><td>3</td><td>Cacic, Mr. Luka</td><td>male</td><td>38</td><td>0</td><td>0</td><td>315089</td><td>8.6625</td><td>null</td><td>S</td></tr><tr><td>405</td><td>0</td><td>3</td><td>Oreskovic, Miss. Marija</td><td>female</td><td>20</td><td>0</td><td>0</td><td>315096</td><td>8.6625</td><td>null</td><td>S</td></tr><tr><td>70</td><td>0</td><td>3</td><td>Kink, Mr. Vincenz</td><td>male</td><td>26</td><td>2</td><td>0</td><td>315151</td><td>8.6625</td><td>null</td><td>S</td></tr><tr><td>501</td><td>0</td><td>3</td><td>Calic, Mr. Petar</td><td>male</td><td>17</td><td>0</td><td>0</td><td>315086</td><td>8.6625</td><td>null</td><td>S</td></tr><tr><td>726</td><td>0</td><td>3</td><td>Oreskovic, Mr. Luka</td><td>male</td><td>20</td><td>0</td><td>0</td><td>315094</td><td>8.6625</td><td>null</td><td>S</td></tr><tr><td>159</td><td>0</td><td>3</td><td>Smiljanic, Mr. Mile</td><td>male</td><td>null</td><td>0</td><td>0</td><td>315037</td><td>8.6625</td><td>null</td><td>S</td></tr><tr><td>822</td><td>1</td><td>3</td><td>Lulic, Mr. Nikola</td><td>male</td><td>27</td><td>0</td><td>0</td><td>315098</td><td>8.6625</td><td>null</td><td>S</td></tr><tr><td>164</td><td>0</td><td>3</td><td>Calic, Mr. Jovo</td><td>male</td><td>17</td><td>0</td><td>0</td><td>315093</td><td>8.6625</td><td>null</td><td>S</td></tr><tr><td>286</td><td>0</td><td>3</td><td>Stankovic, Mr. Ivan</td><td>male</td><td>33</td><td>0</td><td>0</td><td>349239</td><td>8.6625</td><td>null</td><td>C</td></tr><tr><td>104</td><td>0</td><td>3</td><td>Johansson, Mr. Gustaf Joel</td><td>male</td><td>33</td><td>0</td><td>0</td><td>7540</td><td>8.6542</td><td>null</td><td>S</td></tr><tr><td>804</td><td>1</td><td>3</td><td>Thomas, Master. Assad Alexander</td><td>male</td><td>0.42</td><td>0</td><td>1</td><td>2625</td><td>8.5167</td><td>null</td><td>C</td></tr><tr><td>6</td><td>0</td><td>3</td><td>Moran, Mr. James</td><td>male</td><td>null</td><td>0</td><td>0</td><td>330877</td><td>8.4583</td><td>null</td><td>Q</td></tr><tr><td>653</td><td>0</td><td>3</td><td>Kalvik, Mr. Johannes Halvorsen</td><td>male</td><td>21</td><td>0</td><td>0</td><td>8475</td><td>8.4333</td><td>null</td><td>S</td></tr><tr><td>198</td><td>0</td><td>3</td><td>Olsen, Mr. Karl Siegwart Andreas</td><td>male</td><td>42</td><td>0</td><td>1</td><td>4579</td><td>8.4042</td><td>null</td><td>S</td></tr><tr><td>770</td><td>0</td><td>3</td><td>Gronnestad, Mr. Daniel Danielsen</td><td>male</td><td>32</td><td>0</td><td>0</td><td>8471</td><td>8.3625</td><td>null</td><td>S</td></tr><tr><td>835</td><td>0</td><td>3</td><td>Allum, Mr. Owen George</td><td>male</td><td>18</td><td>0</td><td>0</td><td>2223</td><td>8.3</td><td>null</td><td>S</td></tr><tr><td>68</td><td>0</td><td>3</td><td>Crease, Mr. Ernest James</td><td>male</td><td>19</td><td>0</td><td>0</td><td>S.P. 3464</td><td>8.1583</td><td>null</td><td>S</td></tr><tr><td>681</td><td>0</td><td>3</td><td>Peters, Miss. Katie</td><td>female</td><td>null</td><td>0</td><td>0</td><td>330935</td><td>8.1375</td><td>null</td><td>Q</td></tr><tr><td>445</td><td>1</td><td>3</td><td>Johannesen-Bratthammer, Mr. Bernt</td><td>male</td><td>null</td><td>0</td><td>0</td><td>65306</td><td>8.1125</td><td>null</td><td>S</td></tr><tr><td>402</td><td>0</td><td>3</td><td>Adams, Mr. John</td><td>male</td><td>26</td><td>0</td><td>0</td><td>341826</td><td>8.05</td><td>null</td><td>S</td></tr><tr><td>91</td><td>0</td><td>3</td><td>Christmann, Mr. Emil</td><td>male</td><td>29</td><td>0</td><td>0</td><td>343276</td><td>8.05</td><td>null</td><td>S</td></tr><tr><td>38</td><td>0</td><td>3</td><td>Cann, Mr. Ernest Charles</td><td>male</td><td>21</td><td>0</td><td>0</td><td>A./5. 2152</td><td>8.05</td><td>null</td><td>S</td></tr><tr><td>575</td><td>0</td><td>3</td><td>Rush, Mr. Alfred George John</td><td>male</td><td>16</td><td>0</td><td>0</td><td>A/4. 20589</td><td>8.05</td><td>null</td><td>S</td></tr><tr><td>615</td><td>0</td><td>3</td><td>Brocklebank, Mr. William Alfred</td><td>male</td><td>35</td><td>0</td><td>0</td><td>364512</td><td>8.05</td><td>null</td><td>S</td></tr><tr><td>284</td><td>1</td><td>3</td><td>Dorking, Mr. Edward Arthur</td><td>male</td><td>19</td><td>0</td><td>0</td><td>A/5. 10482</td><td>8.05</td><td>null</td><td>S</td></tr><tr><td>838</td><td>0</td><td>3</td><td>Sirota, Mr. Maurice</td><td>male</td><td>null</td><td>0</td><td>0</td><td>392092</td><td>8.05</td><td>null</td><td>S</td></tr><tr><td>339</td><td>1</td><td>3</td><td>Dahl, Mr. Karl Edwart</td><td>male</td><td>45</td><td>0</td><td>0</td><td>7598</td><td>8.05</td><td>null</td><td>S</td></tr><tr><td>78</td><td>0</td><td>3</td><td>Moutal, Mr. Rahamin Haim</td><td>male</td><td>null</td><td>0</td><td>0</td><td>374746</td><td>8.05</td><td>null</td><td>S</td></tr><tr><td>677</td><td>0</td><td>3</td><td>Sawyer, Mr. Frederick Charles</td><td>male</td><td>24.5</td><td>0</td><td>0</td><td>342826</td><td>8.05</td><td>null</td><td>S</td></tr><tr><td>5</td><td>0</td><td>3</td><td>Allen, Mr. William Henry</td><td>male</td><td>35</td><td>0</td><td>0</td><td>373450</td><td>8.05</td><td>null</td><td>S</td></tr><tr><td>305</td><td>0</td><td>3</td><td>\"Williams, Mr. Howard Hugh \"\"Harry\"\"\"</td><td>male</td><td>null</td><td>0</td><td>0</td><td>A/5 2466</td><td>8.05</td><td>null</td><td>S</td></tr><tr><td>564</td><td>0</td><td>3</td><td>Simmons, Mr. John</td><td>male</td><td>null</td><td>0</td><td>0</td><td>SOTON/OQ 392082</td><td>8.05</td><td>null</td><td>S</td></tr><tr><td>153</td><td>0</td><td>3</td><td>Meo, Mr. Alfonzo</td><td>male</td><td>55.5</td><td>0</td><td>0</td><td>A.5. 11206</td><td>8.05</td><td>null</td><td>S</td></tr><tr><td>416</td><td>0</td><td>3</td><td>Meek, Mrs. Thomas (Annie Louise Rowley)</td><td>female</td><td>null</td><td>0</td><td>0</td><td>343095</td><td>8.05</td><td>null</td><td>S</td></tr><tr><td>759</td><td>0</td><td>3</td><td>Theobald, Mr. Thomas Leonard</td><td>male</td><td>34</td><td>0</td><td>0</td><td>363294</td><td>8.05</td><td>null</td><td>S</td></tr><tr><td>483</td><td>0</td><td>3</td><td>Rouse, Mr. Richard Henry</td><td>male</td><td>50</td><td>0</td><td>0</td><td>A/5 3594</td><td>8.05</td><td>null</td><td>S</td></tr><tr><td>590</td><td>0</td><td>3</td><td>Murdlin, Mr. Joseph</td><td>male</td><td>null</td><td>0</td><td>0</td><td>A./5. 3235</td><td>8.05</td><td>null</td><td>S</td></tr><tr><td>455</td><td>0</td><td>3</td><td>Peduzzi, Mr. Joseph</td><td>male</td><td>null</td><td>0</td><td>0</td><td>A/5 2817</td><td>8.05</td><td>null</td><td>S</td></tr><tr><td>589</td><td>0</td><td>3</td><td>Gilinski, Mr. Eliezer</td><td>male</td><td>22</td><td>0</td><td>0</td><td>14973</td><td>8.05</td><td>null</td><td>S</td></tr><tr><td>90</td><td>0</td><td>3</td><td>Celotti, Mr. Francesco</td><td>male</td><td>24</td><td>0</td><td>0</td><td>343275</td><td>8.05</td><td>null</td><td>S</td></tr><tr><td>465</td><td>0</td><td>3</td><td>Maisner, Mr. Simon</td><td>male</td><td>null</td><td>0</td><td>0</td><td>A/S 2816</td><td>8.05</td><td>null</td><td>S</td></tr><tr><td>221</td><td>1</td><td>3</td><td>Sunderland, Mr. Victor Francis</td><td>male</td><td>16</td><td>0</td><td>0</td><td>SOTON/OQ 392089</td><td>8.05</td><td>null</td><td>S</td></tr><tr><td>495</td><td>0</td><td>3</td><td>Stanley, Mr. Edward Roland</td><td>male</td><td>21</td><td>0</td><td>0</td><td>A/4 45380</td><td>8.05</td><td>null</td><td>S</td></tr><tr><td>430</td><td>1</td><td>3</td><td>Pickard, Mr. Berk (Berk Trembisky)</td><td>male</td><td>32</td><td>0</td><td>0</td><td>SOTON/O.Q. 392078</td><td>8.05</td><td>E10</td><td>S</td></tr><tr><td>604</td><td>0</td><td>3</td><td>Torber, Mr. Ernst William</td><td>male</td><td>44</td><td>0</td><td>0</td><td>364511</td><td>8.05</td><td>null</td><td>S</td></tr><tr><td>13</td><td>0</td><td>3</td><td>Saundercock, Mr. William Henry</td><td>male</td><td>20</td><td>0</td><td>0</td><td>A/5. 2151</td><td>8.05</td><td>null</td><td>S</td></tr><tr><td>565</td><td>0</td><td>3</td><td>Meanwell, Miss. (Marion Ogden)</td><td>female</td><td>null</td><td>0</td><td>0</td><td>SOTON/O.Q. 392087</td><td>8.05</td><td>null</td><td>S</td></tr><tr><td>462</td><td>0</td><td>3</td><td>Morley, Mr. William</td><td>male</td><td>34</td><td>0</td><td>0</td><td>364506</td><td>8.05</td><td>null</td><td>S</td></tr><tr><td>669</td><td>0</td><td>3</td><td>Cook, Mr. Jacob</td><td>male</td><td>43</td><td>0</td><td>0</td><td>A/5 3536</td><td>8.05</td><td>null</td><td>S</td></tr><tr><td>373</td><td>0</td><td>3</td><td>Beavan, Mr. William Thomas</td><td>male</td><td>19</td><td>0</td><td>0</td><td>323951</td><td>8.05</td><td>null</td><td>S</td></tr><tr><td>205</td><td>1</td><td>3</td><td>\"Cohen, Mr. Gurshon \"\"Gus\"\"\"</td><td>male</td><td>18</td><td>0</td><td>0</td><td>A/5 3540</td><td>8.05</td><td>null</td><td>S</td></tr><tr><td>46</td><td>0</td><td>3</td><td>Rogers, Mr. William John</td><td>male</td><td>null</td><td>0</td><td>0</td><td>S.C./A.4. 23567</td><td>8.05</td><td>null</td><td>S</td></tr><tr><td>489</td><td>0</td><td>3</td><td>Somerton, Mr. Francis William</td><td>male</td><td>30</td><td>0</td><td>0</td><td>A.5. 18509</td><td>8.05</td><td>null</td><td>S</td></tr><tr><td>512</td><td>0</td><td>3</td><td>Webber, Mr. James</td><td>male</td><td>null</td><td>0</td><td>0</td><td>SOTON/OQ 3101316</td><td>8.05</td><td>null</td><td>S</td></tr><tr><td>697</td><td>0</td><td>3</td><td>Kelly, Mr. James</td><td>male</td><td>44</td><td>0</td><td>0</td><td>363592</td><td>8.05</td><td>null</td><td>S</td></tr><tr><td>815</td><td>0</td><td>3</td><td>Tomlin, Mr. Ernest Portage</td><td>male</td><td>30.5</td><td>0</td><td>0</td><td>364499</td><td>8.05</td><td>null</td><td>S</td></tr><tr><td>223</td><td>0</td><td>3</td><td>Green, Mr. George Henry</td><td>male</td><td>51</td><td>0</td><td>0</td><td>21440</td><td>8.05</td><td>null</td><td>S</td></tr><tr><td>96</td><td>0</td><td>3</td><td>Shorney, Mr. Charles Joseph</td><td>male</td><td>null</td><td>0</td><td>0</td><td>374910</td><td>8.05</td><td>null</td><td>S</td></tr><tr><td>88</td><td>0</td><td>3</td><td>Slocovski, Mr. Selman Francis</td><td>male</td><td>null</td><td>0</td><td>0</td><td>SOTON/OQ 392086</td><td>8.05</td><td>null</td><td>S</td></tr><tr><td>122</td><td>0</td><td>3</td><td>Moore, Mr. Leonard Charles</td><td>male</td><td>null</td><td>0</td><td>0</td><td>A4. 54510</td><td>8.05</td><td>null</td><td>S</td></tr><tr><td>158</td><td>0</td><td>3</td><td>Corn, Mr. Harry</td><td>male</td><td>30</td><td>0</td><td>0</td><td>SOTON/OQ 392090</td><td>8.05</td><td>null</td><td>S</td></tr><tr><td>113</td><td>0</td><td>3</td><td>Barton, Mr. David John</td><td>male</td><td>22</td><td>0</td><td>0</td><td>324669</td><td>8.05</td><td>null</td><td>S</td></tr><tr><td>23</td><td>1</td><td>3</td><td>\"McGowan, Miss. Anna \"\"Annie\"\"\"</td><td>female</td><td>15</td><td>0</td><td>0</td><td>330923</td><td>8.0292</td><td>null</td><td>Q</td></tr><tr><td>559</td><td>1</td><td>1</td><td>Taussig, Mrs. Emil (Tillie Mandelbaum)</td><td>female</td><td>39</td><td>1</td><td>1</td><td>110413</td><td>79.65</td><td>E67</td><td>S</td></tr><tr><td>263</td><td>0</td><td>1</td><td>Taussig, Mr. Emil</td><td>male</td><td>52</td><td>1</td><td>1</td><td>110413</td><td>79.65</td><td>E67</td><td>S</td></tr><tr><td>586</td><td>1</td><td>1</td><td>Taussig, Miss. Ruth</td><td>female</td><td>18</td><td>0</td><td>2</td><td>110413</td><td>79.65</td><td>E68</td><td>S</td></tr><tr><td>790</td><td>0</td><td>1</td><td>Guggenheim, Mr. Benjamin</td><td>male</td><td>46</td><td>0</td><td>0</td><td>PC 17593</td><td>79.2</td><td>B82 B84</td><td>C</td></tr><tr><td>588</td><td>1</td><td>1</td><td>Frolicher-Stehli, Mr. Maxmillian</td><td>male</td><td>60</td><td>1</td><td>1</td><td>13567</td><td>79.2</td><td>B41</td><td>C</td></tr><tr><td>140</td><td>0</td><td>1</td><td>Giglio, Mr. Victor</td><td>male</td><td>24</td><td>0</td><td>0</td><td>PC 17593</td><td>79.2</td><td>B86</td><td>C</td></tr><tr><td>257</td><td>1</td><td>1</td><td>Thorne, Mrs. Gertrude Maybelle</td><td>female</td><td>null</td><td>0</td><td>0</td><td>PC 17585</td><td>79.2</td><td>null</td><td>C</td></tr><tr><td>291</td><td>1</td><td>1</td><td>\"Barber, Miss. Ellen \"\"Nellie\"\"\"</td><td>female</td><td>26</td><td>0</td><td>0</td><td>19877</td><td>78.85</td><td>null</td><td>S</td></tr><tr><td>742</td><td>0</td><td>1</td><td>Cavendish, Mr. Tyrell William</td><td>male</td><td>36</td><td>1</td><td>0</td><td>19877</td><td>78.85</td><td>C46</td><td>S</td></tr><tr><td>592</td><td>1</td><td>1</td><td>Stephenson, Mrs. Walter Bertram (Martha Eustis)</td><td>female</td><td>52</td><td>1</td><td>0</td><td>36947</td><td>78.2667</td><td>D20</td><td>C</td></tr><tr><td>497</td><td>1</td><td>1</td><td>Eustis, Miss. Elizabeth Mussey</td><td>female</td><td>54</td><td>1</td><td>0</td><td>36947</td><td>78.2667</td><td>D20</td><td>C</td></tr><tr><td>766</td><td>1</td><td>1</td><td>Hogeboom, Mrs. John C (Anna Andrews)</td><td>female</td><td>51</td><td>1</td><td>0</td><td>13502</td><td>77.9583</td><td>D11</td><td>S</td></tr><tr><td>628</td><td>1</td><td>1</td><td>Longley, Miss. Gretchen Fiske</td><td>female</td><td>21</td><td>0</td><td>0</td><td>13502</td><td>77.9583</td><td>D9</td><td>S</td></tr><tr><td>276</td><td>1</td><td>1</td><td>Andrews, Miss. Kornelia Theodosia</td><td>female</td><td>63</td><td>1</td><td>0</td><td>13502</td><td>77.9583</td><td>D7</td><td>S</td></tr><tr><td>125</td><td>0</td><td>1</td><td>White, Mr. Percival Wayland</td><td>male</td><td>54</td><td>0</td><td>1</td><td>35281</td><td>77.2875</td><td>D26</td><td>S</td></tr><tr><td>103</td><td>0</td><td>1</td><td>White, Mr. Richard Frasar</td><td>male</td><td>21</td><td>0</td><td>1</td><td>35281</td><td>77.2875</td><td>D26</td><td>S</td></tr><tr><td>682</td><td>1</td><td>1</td><td>Hassab, Mr. Hammad</td><td>male</td><td>27</td><td>0</td><td>0</td><td>PC 17572</td><td>76.7292</td><td>D49</td><td>C</td></tr><tr><td>646</td><td>1</td><td>1</td><td>Harper, Mr. Henry Sleeper</td><td>male</td><td>48</td><td>1</td><td>0</td><td>PC 17572</td><td>76.7292</td><td>D33</td><td>C</td></tr><tr><td>53</td><td>1</td><td>1</td><td>Harper, Mrs. Henry Sleeper (Myna Haxtun)</td><td>female</td><td>49</td><td>1</td><td>0</td><td>PC 17572</td><td>76.7292</td><td>D33</td><td>C</td></tr><tr><td>219</td><td>1</td><td>1</td><td>Bazzani, Miss. Albina</td><td>female</td><td>32</td><td>0</td><td>0</td><td>11813</td><td>76.2917</td><td>D15</td><td>C</td></tr><tr><td>367</td><td>1</td><td>1</td><td>Warren, Mrs. Frank Manley (Anna Sophia Atkinson)</td><td>female</td><td>60</td><td>1</td><td>0</td><td>110813</td><td>75.25</td><td>D37</td><td>C</td></tr><tr><td>656</td><td>0</td><td>2</td><td>Hickman, Mr. Leonard Mark</td><td>male</td><td>24</td><td>2</td><td>0</td><td>S.O.C. 14879</td><td>73.5</td><td>null</td><td>S</td></tr><tr><td>121</td><td>0</td><td>2</td><td>Hickman, Mr. Stanley George</td><td>male</td><td>21</td><td>2</td><td>0</td><td>S.O.C. 14879</td><td>73.5</td><td>null</td><td>S</td></tr><tr><td>386</td><td>0</td><td>2</td><td>Davies, Mr. Charles Henry</td><td>male</td><td>18</td><td>0</td><td>0</td><td>S.O.C. 14879</td><td>73.5</td><td>null</td><td>S</td></tr><tr><td>666</td><td>0</td><td>2</td><td>Hickman, Mr. Lewis</td><td>male</td><td>32</td><td>2</td><td>0</td><td>S.O.C. 14879</td><td>73.5</td><td>null</td><td>S</td></tr><tr><td>73</td><td>0</td><td>2</td><td>Hood, Mr. Ambrose Jr</td><td>male</td><td>21</td><td>0</td><td>0</td><td>S.O.C. 14879</td><td>73.5</td><td>null</td><td>S</td></tr><tr><td>2</td><td>1</td><td>1</td><td>Cumings, Mrs. John Bradley (Florence Briggs Thayer)</td><td>female</td><td>38</td><td>1</td><td>0</td><td>PC 17599</td><td>71.2833</td><td>C85</td><td>C</td></tr><tr><td>541</td><td>1</td><td>1</td><td>Crosby, Miss. Harriet R</td><td>female</td><td>36</td><td>0</td><td>2</td><td>WE/P 5735</td><td>71</td><td>B22</td><td>S</td></tr><tr><td>746</td><td>0</td><td>1</td><td>Crosby, Capt. Edward Gifford</td><td>male</td><td>70</td><td>1</td><td>1</td><td>WE/P 5735</td><td>71</td><td>B22</td><td>S</td></tr><tr><td>745</td><td>1</td><td>3</td><td>Stranden, Mr. Juho</td><td>male</td><td>31</td><td>0</td><td>0</td><td>STON/O 2. 3101288</td><td>7.925</td><td>null</td><td>S</td></tr><tr><td>730</td><td>0</td><td>3</td><td>Ilmakangas, Miss. Pieta Sofia</td><td>female</td><td>25</td><td>1</td><td>0</td><td>STON/O2. 3101271</td><td>7.925</td><td>null</td><td>S</td></tr><tr><td>817</td><td>0</td><td>3</td><td>Heininen, Miss. Wendla Maria</td><td>female</td><td>23</td><td>0</td><td>0</td><td>STON/O2. 3101290</td><td>7.925</td><td>null</td><td>S</td></tr><tr><td>217</td><td>1</td><td>3</td><td>Honkanen, Miss. Eliina</td><td>female</td><td>27</td><td>0</td><td>0</td><td>STON/O2. 3101283</td><td>7.925</td><td>null</td><td>S</td></tr><tr><td>529</td><td>0</td><td>3</td><td>Salonen, Mr. Johan Werner</td><td>male</td><td>39</td><td>0</td><td>0</td><td>3101296</td><td>7.925</td><td>null</td><td>S</td></tr><tr><td>383</td><td>0</td><td>3</td><td>Tikkanen, Mr. Juho</td><td>male</td><td>32</td><td>0</td><td>0</td><td>STON/O 2. 3101293</td><td>7.925</td><td>null</td><td>S</td></tr><tr><td>116</td><td>0</td><td>3</td><td>Pekoniemi, Mr. Edvard</td><td>male</td><td>21</td><td>0</td><td>0</td><td>STON/O 2. 3101294</td><td>7.925</td><td>null</td><td>S</td></tr><tr><td>580</td><td>1</td><td>3</td><td>Jussila, Mr. Eiriik</td><td>male</td><td>32</td><td>0</td><td>0</td><td>STON/O 2. 3101286</td><td>7.925</td><td>null</td><td>S</td></tr><tr><td>841</td><td>0</td><td>3</td><td>Alhomaki, Mr. Ilmari Rudolf</td><td>male</td><td>20</td><td>0</td><td>0</td><td>SOTON/O2 3101287</td><td>7.925</td><td>null</td><td>S</td></tr><tr><td>665</td><td>1</td><td>3</td><td>Lindqvist, Mr. Eino William</td><td>male</td><td>20</td><td>1</td><td>0</td><td>STON/O 2. 3101285</td><td>7.925</td><td>null</td><td>S</td></tr><tr><td>393</td><td>0</td><td>3</td><td>Gustafsson, Mr. Johan Birger</td><td>male</td><td>28</td><td>2</td><td>0</td><td>3101277</td><td>7.925</td><td>null</td><td>S</td></tr><tr><td>3</td><td>1</td><td>3</td><td>Heikkinen, Miss. Laina</td><td>female</td><td>26</td><td>0</td><td>0</td><td>STON/O2. 3101282</td><td>7.925</td><td>null</td><td>S</td></tr><tr><td>415</td><td>1</td><td>3</td><td>Sundman, Mr. Johan Julian</td><td>male</td><td>44</td><td>0</td><td>0</td><td>STON/O 2. 3101269</td><td>7.925</td><td>null</td><td>S</td></tr><tr><td>637</td><td>0</td><td>3</td><td>Leinonen, Mr. Antti Gustaf</td><td>male</td><td>32</td><td>0</td><td>0</td><td>STON/O 2. 3101292</td><td>7.925</td><td>null</td><td>S</td></tr><tr><td>105</td><td>0</td><td>3</td><td>Gustafsson, Mr. Anders Vilhelm</td><td>male</td><td>37</td><td>2</td><td>0</td><td>3101276</td><td>7.925</td><td>null</td><td>S</td></tr><tr><td>69</td><td>1</td><td>3</td><td>Andersson, Miss. Erna Alexandra</td><td>female</td><td>17</td><td>4</td><td>2</td><td>3101281</td><td>7.925</td><td>null</td><td>S</td></tr><tr><td>401</td><td>1</td><td>3</td><td>Niskanen, Mr. Juha</td><td>male</td><td>39</td><td>0</td><td>0</td><td>STON/O 2. 3101289</td><td>7.925</td><td>null</td><td>S</td></tr><tr><td>174</td><td>0</td><td>3</td><td>Sivola, Mr. Antti Wilhelm</td><td>male</td><td>21</td><td>0</td><td>0</td><td>STON/O 2. 3101280</td><td>7.925</td><td>null</td><td>S</td></tr><tr><td>607</td><td>0</td><td>3</td><td>Karaic, Mr. Milan</td><td>male</td><td>30</td><td>0</td><td>0</td><td>349246</td><td>7.8958</td><td>null</td><td>S</td></tr><tr><td>739</td><td>0</td><td>3</td><td>Ivanoff, Mr. Kanio</td><td>male</td><td>null</td><td>0</td><td>0</td><td>349201</td><td>7.8958</td><td>null</td><td>S</td></tr><tr><td>421</td><td>0</td><td>3</td><td>Gheorgheff, Mr. Stanio</td><td>male</td><td>null</td><td>0</td><td>0</td><td>349254</td><td>7.8958</td><td>null</td><td>C</td></tr><tr><td>43</td><td>0</td><td>3</td><td>Kraeff, Mr. Theodor</td><td>male</td><td>null</td><td>0</td><td>0</td><td>349253</td><td>7.8958</td><td>null</td><td>C</td></tr><tr><td>602</td><td>0</td><td>3</td><td>Slabenoff, Mr. Petco</td><td>male</td><td>null</td><td>0</td><td>0</td><td>349214</td><td>7.8958</td><td>null</td><td>S</td></tr><tr><td>562</td><td>0</td><td>3</td><td>Sivic, Mr. Husein</td><td>male</td><td>40</td><td>0</td><td>0</td><td>349251</td><td>7.8958</td><td>null</td><td>S</td></tr><tr><td>629</td><td>0</td><td>3</td><td>Bostandyeff, Mr. Guentcho</td><td>male</td><td>26</td><td>0</td><td>0</td><td>349224</td><td>7.8958</td><td>null</td><td>S</td></tr><tr><td>740</td><td>0</td><td>3</td><td>Nankoff, Mr. Minko</td><td>male</td><td>null</td><td>0</td><td>0</td><td>349218</td><td>7.8958</td><td>null</td><td>S</td></tr><tr><td>131</td><td>0</td><td>3</td><td>Drazenoic, Mr. Jozef</td><td>male</td><td>33</td><td>0</td><td>0</td><td>349241</td><td>7.8958</td><td>null</td><td>C</td></tr><tr><td>288</td><td>0</td><td>3</td><td>Naidenoff, Mr. Penko</td><td>male</td><td>22</td><td>0</td><td>0</td><td>349206</td><td>7.8958</td><td>null</td><td>S</td></tr><tr><td>520</td><td>0</td><td>3</td><td>Pavlovic, Mr. Stefo</td><td>male</td><td>32</td><td>0</td><td>0</td><td>349242</td><td>7.8958</td><td>null</td><td>S</td></tr><tr><td>567</td><td>0</td><td>3</td><td>Stoytcheff, Mr. Ilia</td><td>male</td><td>19</td><td>0</td><td>0</td><td>349205</td><td>7.8958</td><td>null</td><td>S</td></tr><tr><td>882</td><td>0</td><td>3</td><td>Markun, Mr. Johann</td><td>male</td><td>33</td><td>0</td><td>0</td><td>349257</td><td>7.8958</td><td>null</td><td>S</td></tr><tr><td>878</td><td>0</td><td>3</td><td>Petroff, Mr. Nedelio</td><td>male</td><td>19</td><td>0</td><td>0</td><td>349212</td><td>7.8958</td><td>null</td><td>S</td></tr><tr><td>522</td><td>0</td><td>3</td><td>Vovk, Mr. Janko</td><td>male</td><td>22</td><td>0</td><td>0</td><td>349252</td><td>7.8958</td><td>null</td><td>S</td></tr><tr><td>795</td><td>0</td><td>3</td><td>Dantcheff, Mr. Ristiu</td><td>male</td><td>25</td><td>0</td><td>0</td><td>349203</td><td>7.8958</td><td>null</td><td>S</td></tr><tr><td>754</td><td>0</td><td>3</td><td>Jonkoff, Mr. Lalio</td><td>male</td><td>23</td><td>0</td><td>0</td><td>349204</td><td>7.8958</td><td>null</td><td>S</td></tr><tr><td>647</td><td>0</td><td>3</td><td>Cor, Mr. Liudevit</td><td>male</td><td>19</td><td>0</td><td>0</td><td>349231</td><td>7.8958</td><td>null</td><td>S</td></tr><tr><td>322</td><td>0</td><td>3</td><td>Danoff, Mr. Yoto</td><td>male</td><td>27</td><td>0</td><td>0</td><td>349219</td><td>7.8958</td><td>null</td><td>S</td></tr><tr><td>102</td><td>0</td><td>3</td><td>\"Petroff, Mr. Pastcho (\"\"Pentcho\"\")\"</td><td>male</td><td>null</td><td>0</td><td>0</td><td>349215</td><td>7.8958</td><td>null</td><td>S</td></tr><tr><td>651</td><td>0</td><td>3</td><td>Mitkoff, Mr. Mito</td><td>male</td><td>null</td><td>0</td><td>0</td><td>349221</td><td>7.8958</td><td>null</td><td>S</td></tr><tr><td>879</td><td>0</td><td>3</td><td>Laleff, Mr. Kristo</td><td>male</td><td>null</td><td>0</td><td>0</td><td>349217</td><td>7.8958</td><td>null</td><td>S</td></tr><tr><td>77</td><td>0</td><td>3</td><td>Staneff, Mr. Ivan</td><td>male</td><td>null</td><td>0</td><td>0</td><td>349208</td><td>7.8958</td><td>null</td><td>S</td></tr><tr><td>385</td><td>0</td><td>3</td><td>Plotcharsky, Mr. Vasil</td><td>male</td><td>null</td><td>0</td><td>0</td><td>349227</td><td>7.8958</td><td>null</td><td>S</td></tr><tr><td>295</td><td>0</td><td>3</td><td>Mineff, Mr. Ivan</td><td>male</td><td>24</td><td>0</td><td>0</td><td>349233</td><td>7.8958</td><td>null</td><td>S</td></tr><tr><td>411</td><td>0</td><td>3</td><td>Sdycoff, Mr. Todor</td><td>male</td><td>null</td><td>0</td><td>0</td><td>349222</td><td>7.8958</td><td>null</td><td>S</td></tr><tr><td>30</td><td>0</td><td>3</td><td>Todoroff, Mr. Lalio</td><td>male</td><td>null</td><td>0</td><td>0</td><td>349216</td><td>7.8958</td><td>null</td><td>S</td></tr><tr><td>871</td><td>0</td><td>3</td><td>Balkic, Mr. Cerin</td><td>male</td><td>26</td><td>0</td><td>0</td><td>349248</td><td>7.8958</td><td>null</td><td>S</td></tr><tr><td>224</td><td>0</td><td>3</td><td>Nenkoff, Mr. Christo</td><td>male</td><td>null</td><td>0</td><td>0</td><td>349234</td><td>7.8958</td><td>null</td><td>S</td></tr><tr><td>109</td><td>0</td><td>3</td><td>Rekic, Mr. Tido</td><td>male</td><td>38</td><td>0</td><td>0</td><td>349249</td><td>7.8958</td><td>null</td><td>S</td></tr><tr><td>106</td><td>0</td><td>3</td><td>Mionoff, Mr. Stoytcho</td><td>male</td><td>28</td><td>0</td><td>0</td><td>349207</td><td>7.8958</td><td>null</td><td>S</td></tr><tr><td>101</td><td>0</td><td>3</td><td>Petranec, Miss. Matilda</td><td>female</td><td>28</td><td>0</td><td>0</td><td>349245</td><td>7.8958</td><td>null</td><td>S</td></tr><tr><td>336</td><td>0</td><td>3</td><td>Denkoff, Mr. Mitto</td><td>male</td><td>null</td><td>0</td><td>0</td><td>349225</td><td>7.8958</td><td>null</td><td>S</td></tr><tr><td>456</td><td>1</td><td>3</td><td>Jalsevac, Mr. Ivan</td><td>male</td><td>29</td><td>0</td><td>0</td><td>349240</td><td>7.8958</td><td>null</td><td>C</td></tr><tr><td>848</td><td>0</td><td>3</td><td>Markoff, Mr. Marin</td><td>male</td><td>35</td><td>0</td><td>0</td><td>349213</td><td>7.8958</td><td>null</td><td>C</td></tr><tr><td>314</td><td>0</td><td>3</td><td>Hendekovic, Mr. Ignjac</td><td>male</td><td>28</td><td>0</td><td>0</td><td>349243</td><td>7.8958</td><td>null</td><td>S</td></tr><tr><td>657</td><td>0</td><td>3</td><td>Radeff, Mr. Alexander</td><td>male</td><td>null</td><td>0</td><td>0</td><td>349223</td><td>7.8958</td><td>null</td><td>S</td></tr><tr><td>190</td><td>0</td><td>3</td><td>Turcin, Mr. Stjepan</td><td>male</td><td>36</td><td>0</td><td>0</td><td>349247</td><td>7.8958</td><td>null</td><td>S</td></tr><tr><td>811</td><td>0</td><td>3</td><td>Alexander, Mr. William</td><td>male</td><td>26</td><td>0</td><td>0</td><td>3474</td><td>7.8875</td><td>null</td><td>S</td></tr><tr><td>359</td><td>1</td><td>3</td><td>McGovern, Miss. Mary</td><td>female</td><td>null</td><td>0</td><td>0</td><td>330931</td><td>7.8792</td><td>null</td><td>Q</td></tr><tr><td>45</td><td>1</td><td>3</td><td>Devaney, Miss. Margaret Delia</td><td>female</td><td>19</td><td>0</td><td>0</td><td>330958</td><td>7.8792</td><td>null</td><td>Q</td></tr><tr><td>29</td><td>1</td><td>3</td><td>\"O'Dwyer, Miss. Ellen \"\"Nellie\"\"\"</td><td>female</td><td>null</td><td>0</td><td>0</td><td>330959</td><td>7.8792</td><td>null</td><td>Q</td></tr><tr><td>360</td><td>1</td><td>3</td><td>\"Mockler, Miss. Helen Mary \"\"Ellie\"\"\"</td><td>female</td><td>null</td><td>0</td><td>0</td><td>330980</td><td>7.8792</td><td>null</td><td>Q</td></tr><tr><td>423</td><td>0</td><td>3</td><td>Zimmerman, Mr. Leo</td><td>male</td><td>29</td><td>0</td><td>0</td><td>315082</td><td>7.875</td><td>null</td><td>S</td></tr><tr><td>282</td><td>0</td><td>3</td><td>Olsson, Mr. Nils Johan Goransson</td><td>male</td><td>28</td><td>0</td><td>0</td><td>347464</td><td>7.8542</td><td>null</td><td>S</td></tr><tr><td>624</td><td>0</td><td>3</td><td>Hansen, Mr. Henry Damsgaard</td><td>male</td><td>21</td><td>0</td><td>0</td><td>350029</td><td>7.8542</td><td>null</td><td>S</td></tr><tr><td>316</td><td>1</td><td>3</td><td>Nilsson, Miss. Helmina Josefina</td><td>female</td><td>26</td><td>0</td><td>0</td><td>347470</td><td>7.8542</td><td>null</td><td>S</td></tr><tr><td>570</td><td>1</td><td>3</td><td>Jonsson, Mr. Carl</td><td>male</td><td>32</td><td>0</td><td>0</td><td>350417</td><td>7.8542</td><td>null</td><td>S</td></tr><tr><td>834</td><td>0</td><td>3</td><td>Augustsson, Mr. Albert</td><td>male</td><td>23</td><td>0</td><td>0</td><td>347468</td><td>7.8542</td><td>null</td><td>S</td></tr><tr><td>705</td><td>0</td><td>3</td><td>Hansen, Mr. Henrik Juul</td><td>male</td><td>26</td><td>1</td><td>0</td><td>350025</td><td>7.8542</td><td>null</td><td>S</td></tr><tr><td>397</td><td>0</td><td>3</td><td>Olsson, Miss. Elina</td><td>female</td><td>31</td><td>0</td><td>0</td><td>350407</td><td>7.8542</td><td>null</td><td>S</td></tr><tr><td>193</td><td>1</td><td>3</td><td>Andersen-Jensen, Miss. Carla Christine Nielsine</td><td>female</td><td>19</td><td>1</td><td>0</td><td>350046</td><td>7.8542</td><td>null</td><td>S</td></tr><tr><td>176</td><td>0</td><td>3</td><td>Klasen, Mr. Klas Albin</td><td>male</td><td>18</td><td>1</td><td>1</td><td>350404</td><td>7.8542</td><td>null</td><td>S</td></tr><tr><td>15</td><td>0</td><td>3</td><td>Vestrom, Miss. Hulda Amanda Adolfina</td><td>female</td><td>14</td><td>0</td><td>0</td><td>350406</td><td>7.8542</td><td>null</td><td>S</td></tr><tr><td>772</td><td>0</td><td>3</td><td>Jensen, Mr. Niels Peder</td><td>male</td><td>48</td><td>0</td><td>0</td><td>350047</td><td>7.8542</td><td>null</td><td>S</td></tr><tr><td>92</td><td>0</td><td>3</td><td>Andreasson, Mr. Paul Edvin</td><td>male</td><td>20</td><td>0</td><td>0</td><td>347466</td><td>7.8542</td><td>null</td><td>S</td></tr><tr><td>641</td><td>0</td><td>3</td><td>Jensen, Mr. Hans Peder</td><td>male</td><td>20</td><td>0</td><td>0</td><td>350050</td><td>7.8542</td><td>null</td><td>S</td></tr><tr><td>654</td><td>1</td><td>3</td><td>\"O'Leary, Miss. Hanora \"\"Norah\"\"\"</td><td>female</td><td>null</td><td>0</td><td>0</td><td>330919</td><td>7.8292</td><td>null</td><td>Q</td></tr><tr><td>553</td><td>0</td><td>3</td><td>O'Brien, Mr. Timothy</td><td>male</td><td>null</td><td>0</td><td>0</td><td>330979</td><td>7.8292</td><td>null</td><td>Q</td></tr><tr><td>52</td><td>0</td><td>3</td><td>Nosworthy, Mr. Richard Cater</td><td>male</td><td>21</td><td>0</td><td>0</td><td>A/4. 39886</td><td>7.8</td><td>null</td><td>S</td></tr><tr><td>147</td><td>1</td><td>3</td><td>\"Andersson, Mr. August Edvard (\"\"Wennerstrom\"\")\"</td><td>male</td><td>27</td><td>0</td><td>0</td><td>350043</td><td>7.7958</td><td>null</td><td>S</td></tr><tr><td>392</td><td>1</td><td>3</td><td>Jansson, Mr. Carl Olof</td><td>male</td><td>21</td><td>0</td><td>0</td><td>350034</td><td>7.7958</td><td>null</td><td>S</td></tr><tr><td>396</td><td>0</td><td>3</td><td>Johansson, Mr. Erik</td><td>male</td><td>22</td><td>0</td><td>0</td><td>350052</td><td>7.7958</td><td>null</td><td>S</td></tr><tr><td>757</td><td>0</td><td>3</td><td>Carlsson, Mr. August Sigfrid</td><td>male</td><td>28</td><td>0</td><td>0</td><td>350042</td><td>7.7958</td><td>null</td><td>S</td></tr><tr><td>500</td><td>0</td><td>3</td><td>Svensson, Mr. Olof</td><td>male</td><td>24</td><td>0</td><td>0</td><td>350035</td><td>7.7958</td><td>null</td><td>S</td></tr><tr><td>689</td><td>0</td><td>3</td><td>Fischer, Mr. Eberhard Thelander</td><td>male</td><td>18</td><td>0</td><td>0</td><td>350036</td><td>7.7958</td><td>null</td><td>S</td></tr><tr><td>83</td><td>1</td><td>3</td><td>McDermott, Miss. Brigdet Delia</td><td>female</td><td>null</td><td>0</td><td>0</td><td>330932</td><td>7.7875</td><td>null</td><td>Q</td></tr><tr><td>443</td><td>0</td><td>3</td><td>Petterson, Mr. Johan Emil</td><td>male</td><td>25</td><td>1</td><td>0</td><td>347076</td><td>7.775</td><td>null</td><td>S</td></tr><tr><td>108</td><td>1</td><td>3</td><td>Moss, Mr. Albert Johan</td><td>male</td><td>null</td><td>0</td><td>0</td><td>312991</td><td>7.775</td><td>null</td><td>S</td></tr><tr><td>555</td><td>1</td><td>3</td><td>Ohman, Miss. Velin</td><td>female</td><td>22</td><td>0</td><td>0</td><td>347085</td><td>7.775</td><td>null</td><td>S</td></tr><tr><td>765</td><td>0</td><td>3</td><td>Eklund, Mr. Hans Linus</td><td>male</td><td>16</td><td>0</td><td>0</td><td>347074</td><td>7.775</td><td>null</td><td>S</td></tr><tr><td>268</td><td>1</td><td>3</td><td>Persson, Mr. Ernst Ulrik</td><td>male</td><td>25</td><td>1</td><td>0</td><td>347083</td><td>7.775</td><td>null</td><td>S</td></tr><tr><td>806</td><td>0</td><td>3</td><td>Johansson, Mr. Karl Johan</td><td>male</td><td>31</td><td>0</td><td>0</td><td>347063</td><td>7.775</td><td>null</td><td>S</td></tr><tr><td>852</td><td>0</td><td>3</td><td>Svensson, Mr. Johan</td><td>male</td><td>74</td><td>0</td><td>0</td><td>347060</td><td>7.775</td><td>null</td><td>S</td></tr><tr><td>163</td><td>0</td><td>3</td><td>Bengtsson, Mr. John Viktor</td><td>male</td><td>26</td><td>0</td><td>0</td><td>347068</td><td>7.775</td><td>null</td><td>S</td></tr><tr><td>409</td><td>0</td><td>3</td><td>Birkeland, Mr. Hans Martin Monsen</td><td>male</td><td>21</td><td>0</td><td>0</td><td>312992</td><td>7.775</td><td>null</td><td>S</td></tr><tr><td>808</td><td>0</td><td>3</td><td>Pettersson, Miss. Ellen Natalia</td><td>female</td><td>18</td><td>0</td><td>0</td><td>347087</td><td>7.775</td><td>null</td><td>S</td></tr><tr><td>720</td><td>0</td><td>3</td><td>Johnson, Mr. Malkolm Joackim</td><td>male</td><td>33</td><td>0</td><td>0</td><td>347062</td><td>7.775</td><td>null</td><td>S</td></tr><tr><td>668</td><td>0</td><td>3</td><td>Rommetvedt, Mr. Knud Paust</td><td>male</td><td>null</td><td>0</td><td>0</td><td>312993</td><td>7.775</td><td>null</td><td>S</td></tr><tr><td>247</td><td>0</td><td>3</td><td>Lindahl, Miss. Agda Thorilda Viktoria</td><td>female</td><td>25</td><td>0</td><td>0</td><td>347071</td><td>7.775</td><td>null</td><td>S</td></tr><tr><td>380</td><td>0</td><td>3</td><td>Gustafsson, Mr. Karl Gideon</td><td>male</td><td>19</td><td>0</td><td>0</td><td>347069</td><td>7.775</td><td>null</td><td>S</td></tr><tr><td>232</td><td>0</td><td>3</td><td>Larsson, Mr. Bengt Edvin</td><td>male</td><td>29</td><td>0</td><td>0</td><td>347067</td><td>7.775</td><td>null</td><td>S</td></tr><tr><td>676</td><td>0</td><td>3</td><td>Edvardsson, Mr. Gustaf Hjalmar</td><td>male</td><td>18</td><td>0</td><td>0</td><td>349912</td><td>7.775</td><td>null</td><td>S</td></tr><tr><td>511</td><td>1</td><td>3</td><td>Daly, Mr. Eugene Patrick</td><td>male</td><td>29</td><td>0</td><td>0</td><td>382651</td><td>7.75</td><td>null</td><td>Q</td></tr><tr><td>127</td><td>0</td><td>3</td><td>McMahon, Mr. Martin</td><td>male</td><td>null</td><td>0</td><td>0</td><td>370372</td><td>7.75</td><td>null</td><td>Q</td></tr><tr><td>502</td><td>0</td><td>3</td><td>Canavan, Miss. Mary</td><td>female</td><td>21</td><td>0</td><td>0</td><td>364846</td><td>7.75</td><td>null</td><td>Q</td></tr><tr><td>829</td><td>1</td><td>3</td><td>McCormack, Mr. Thomas Joseph</td><td>male</td><td>null</td><td>0</td><td>0</td><td>367228</td><td>7.75</td><td>null</td><td>Q</td></tr><tr><td>117</td><td>0</td><td>3</td><td>Connors, Mr. Patrick</td><td>male</td><td>70.5</td><td>0</td><td>0</td><td>370369</td><td>7.75</td><td>null</td><td>Q</td></tr><tr><td>460</td><td>0</td><td>3</td><td>O'Connor, Mr. Maurice</td><td>male</td><td>null</td><td>0</td><td>0</td><td>371060</td><td>7.75</td><td>null</td><td>Q</td></tr><tr><td>261</td><td>0</td><td>3</td><td>Smith, Mr. Thomas</td><td>male</td><td>null</td><td>0</td><td>0</td><td>384461</td><td>7.75</td><td>null</td><td>Q</td></tr><tr><td>791</td><td>0</td><td>3</td><td>\"Keane, Mr. Andrew \"\"Andy\"\"\"</td><td>male</td><td>null</td><td>0</td><td>0</td><td>12460</td><td>7.75</td><td>null</td><td>Q</td></tr><tr><td>33</td><td>1</td><td>3</td><td>Glynn, Miss. Mary Agatha</td><td>female</td><td>null</td><td>0</td><td>0</td><td>335677</td><td>7.75</td><td>null</td><td>Q</td></tr><tr><td>301</td><td>1</td><td>3</td><td>\"Kelly, Miss. Anna Katherine \"\"Annie Kate\"\"\"</td><td>female</td><td>null</td><td>0</td><td>0</td><td>9234</td><td>7.75</td><td>null</td><td>Q</td></tr><tr><td>209</td><td>1</td><td>3</td><td>\"Carr, Miss. Helen \"\"Ellen\"\"\"</td><td>female</td><td>16</td><td>0</td><td>0</td><td>367231</td><td>7.75</td><td>null</td><td>Q</td></tr><tr><td>275</td><td>1</td><td>3</td><td>\"Healy, Miss. Hanora \"\"Nora\"\"\"</td><td>female</td><td>null</td><td>0</td><td>0</td><td>370375</td><td>7.75</td><td>null</td><td>Q</td></tr><tr><td>142</td><td>1</td><td>3</td><td>Nysten, Miss. Anna Sofia</td><td>female</td><td>22</td><td>0</td><td>0</td><td>347081</td><td>7.75</td><td>null</td><td>S</td></tr><tr><td>290</td><td>1</td><td>3</td><td>Connolly, Miss. Kate</td><td>female</td><td>22</td><td>0</td><td>0</td><td>370373</td><td>7.75</td><td>null</td><td>Q</td></tr><tr><td>281</td><td>0</td><td>3</td><td>Duane, Mr. Frank</td><td>male</td><td>65</td><td>0</td><td>0</td><td>336439</td><td>7.75</td><td>null</td><td>Q</td></tr><tr><td>891</td><td>0</td><td>3</td><td>Dooley, Mr. Patrick</td><td>male</td><td>32</td><td>0</td><td>0</td><td>370376</td><td>7.75</td><td>null</td><td>Q</td></tr><tr><td>614</td><td>0</td><td>3</td><td>Horgan, Mr. John</td><td>male</td><td>null</td><td>0</td><td>0</td><td>370377</td><td>7.75</td><td>null</td><td>Q</td></tr><tr><td>561</td><td>0</td><td>3</td><td>Morrow, Mr. Thomas Rowan</td><td>male</td><td>null</td><td>0</td><td>0</td><td>372622</td><td>7.75</td><td>null</td><td>Q</td></tr><tr><td>265</td><td>0</td><td>3</td><td>Henry, Miss. Delia</td><td>female</td><td>null</td><td>0</td><td>0</td><td>382649</td><td>7.75</td><td>null</td><td>Q</td></tr><tr><td>215</td><td>0</td><td>3</td><td>Kiernan, Mr. Philip</td><td>male</td><td>null</td><td>1</td><td>0</td><td>367229</td><td>7.75</td><td>null</td><td>Q</td></tr><tr><td>369</td><td>1</td><td>3</td><td>Jermyn, Miss. Annie</td><td>female</td><td>null</td><td>0</td><td>0</td><td>14313</td><td>7.75</td><td>null</td><td>Q</td></tr><tr><td>750</td><td>0</td><td>3</td><td>Connaghton, Mr. Michael</td><td>male</td><td>31</td><td>0</td><td>0</td><td>335097</td><td>7.75</td><td>null</td><td>Q</td></tr><tr><td>407</td><td>0</td><td>3</td><td>Widegren, Mr. Carl/Charles Peter</td><td>male</td><td>51</td><td>0</td><td>0</td><td>347064</td><td>7.75</td><td>null</td><td>S</td></tr><tr><td>777</td><td>0</td><td>3</td><td>Tobin, Mr. Roger</td><td>male</td><td>null</td><td>0</td><td>0</td><td>383121</td><td>7.75</td><td>F38</td><td>Q</td></tr><tr><td>526</td><td>0</td><td>3</td><td>Farrell, Mr. James</td><td>male</td><td>40.5</td><td>0</td><td>0</td><td>367232</td><td>7.75</td><td>null</td><td>Q</td></tr><tr><td>197</td><td>0</td><td>3</td><td>Mernagh, Mr. Robert</td><td>male</td><td>null</td><td>0</td><td>0</td><td>368703</td><td>7.75</td><td>null</td><td>Q</td></tr><tr><td>768</td><td>0</td><td>3</td><td>Mangan, Miss. Mary</td><td>female</td><td>30.5</td><td>0</td><td>0</td><td>364850</td><td>7.75</td><td>null</td><td>Q</td></tr><tr><td>277</td><td>0</td><td>3</td><td>Lindblom, Miss. Augusta Charlotta</td><td>female</td><td>45</td><td>0</td><td>0</td><td>347073</td><td>7.75</td><td>null</td><td>S</td></tr><tr><td>776</td><td>0</td><td>3</td><td>Myhrman, Mr. Pehr Fabian Oliver Malkolm</td><td>male</td><td>18</td><td>0</td><td>0</td><td>347078</td><td>7.75</td><td>null</td><td>S</td></tr><tr><td>574</td><td>1</td><td>3</td><td>Kelly, Miss. Mary</td><td>female</td><td>null</td><td>0</td><td>0</td><td>14312</td><td>7.75</td><td>null</td><td>Q</td></tr><tr><td>429</td><td>0</td><td>3</td><td>Flynn, Mr. James</td><td>male</td><td>null</td><td>0</td><td>0</td><td>364851</td><td>7.75</td><td>null</td><td>Q</td></tr><tr><td>48</td><td>1</td><td>3</td><td>O'Driscoll, Miss. Bridget</td><td>female</td><td>null</td><td>0</td><td>0</td><td>14311</td><td>7.75</td><td>null</td><td>Q</td></tr><tr><td>594</td><td>0</td><td>3</td><td>Bourke, Miss. Mary</td><td>female</td><td>null</td><td>0</td><td>2</td><td>364848</td><td>7.75</td><td>null</td><td>Q</td></tr><tr><td>199</td><td>1</td><td>3</td><td>\"Madigan, Miss. Margaret \"\"Maggie\"\"\"</td><td>female</td><td>null</td><td>0</td><td>0</td><td>370370</td><td>7.75</td><td>null</td><td>Q</td></tr><tr><td>704</td><td>0</td><td>3</td><td>Gallagher, Mr. Martin</td><td>male</td><td>25</td><td>0</td><td>0</td><td>36864</td><td>7.7417</td><td>null</td><td>Q</td></tr><tr><td>728</td><td>1</td><td>3</td><td>Mannion, Miss. Margareth</td><td>female</td><td>null</td><td>0</td><td>0</td><td>36866</td><td>7.7375</td><td>null</td><td>Q</td></tr><tr><td>779</td><td>0</td><td>3</td><td>Kilgannon, Mr. Thomas J</td><td>male</td><td>null</td><td>0</td><td>0</td><td>36865</td><td>7.7375</td><td>null</td><td>Q</td></tr><tr><td>422</td><td>0</td><td>3</td><td>Charters, Mr. David</td><td>male</td><td>21</td><td>0</td><td>0</td><td>A/5. 13032</td><td>7.7333</td><td>null</td><td>Q</td></tr><tr><td>157</td><td>1</td><td>3</td><td>\"Gilnagh, Miss. Katherine \"\"Katie\"\"\"</td><td>female</td><td>16</td><td>0</td><td>0</td><td>35851</td><td>7.7333</td><td>null</td><td>Q</td></tr><tr><td>630</td><td>0</td><td>3</td><td>O'Connell, Mr. Patrick D</td><td>male</td><td>null</td><td>0</td><td>0</td><td>334912</td><td>7.7333</td><td>null</td><td>Q</td></tr><tr><td>698</td><td>1</td><td>3</td><td>\"Mullens, Miss. Katherine \"\"Katie\"\"\"</td><td>female</td><td>null</td><td>0</td><td>0</td><td>35852</td><td>7.7333</td><td>null</td><td>Q</td></tr><tr><td>389</td><td>0</td><td>3</td><td>Sadlier, Mr. Matthew</td><td>male</td><td>null</td><td>0</td><td>0</td><td>367655</td><td>7.7292</td><td>null</td><td>Q</td></tr><tr><td>469</td><td>0</td><td>3</td><td>Scanlan, Mr. James</td><td>male</td><td>null</td><td>0</td><td>0</td><td>36209</td><td>7.725</td><td>null</td><td>Q</td></tr><tr><td>76</td><td>0</td><td>3</td><td>Moen, Mr. Sigurd Hansen</td><td>male</td><td>25</td><td>0</td><td>0</td><td>348123</td><td>7.65</td><td>F G73</td><td>S</td></tr><tr><td>107</td><td>1</td><td>3</td><td>Salkjelsvik, Miss. Anna Kristine</td><td>female</td><td>21</td><td>0</td><td>0</td><td>343120</td><td>7.65</td><td>null</td><td>S</td></tr><tr><td>700</td><td>0</td><td>3</td><td>Humblen, Mr. Adolf Mathias Nicolai Olsen</td><td>male</td><td>42</td><td>0</td><td>0</td><td>348121</td><td>7.65</td><td>F G63</td><td>S</td></tr><tr><td>716</td><td>0</td><td>3</td><td>Soholt, Mr. Peter Andreas Lauritz Andersen</td><td>male</td><td>19</td><td>0</td><td>0</td><td>348124</td><td>7.65</td><td>F G73</td><td>S</td></tr><tr><td>503</td><td>0</td><td>3</td><td>O'Sullivan, Miss. Bridget Mary</td><td>female</td><td>null</td><td>0</td><td>0</td><td>330909</td><td>7.6292</td><td>null</td><td>Q</td></tr><tr><td>846</td><td>0</td><td>3</td><td>Abbing, Mr. Anthony</td><td>male</td><td>42</td><td>0</td><td>0</td><td>C.A. 5547</td><td>7.55</td><td>null</td><td>S</td></tr><tr><td>236</td><td>0</td><td>3</td><td>Harknett, Miss. Alice Phoebe</td><td>female</td><td>null</td><td>0</td><td>0</td><td>W./C. 6609</td><td>7.55</td><td>null</td><td>S</td></tr><tr><td>650</td><td>1</td><td>3</td><td>Stanley, Miss. Amy Zillah Elsie</td><td>female</td><td>23</td><td>0</td><td>0</td><td>CA. 2314</td><td>7.55</td><td>null</td><td>S</td></tr><tr><td>649</td><td>0</td><td>3</td><td>Willey, Mr. Edward</td><td>male</td><td>null</td><td>0</td><td>0</td><td>S.O./P.P. 751</td><td>7.55</td><td>null</td><td>S</td></tr><tr><td>479</td><td>0</td><td>3</td><td>Karlsson, Mr. Nils August</td><td>male</td><td>22</td><td>0</td><td>0</td><td>350060</td><td>7.5208</td><td>null</td><td>S</td></tr><tr><td>664</td><td>0</td><td>3</td><td>Coleff, Mr. Peju</td><td>male</td><td>36</td><td>0</td><td>0</td><td>349210</td><td>7.4958</td><td>null</td><td>S</td></tr><tr><td>515</td><td>0</td><td>3</td><td>Coleff, Mr. Satio</td><td>male</td><td>24</td><td>0</td><td>0</td><td>349209</td><td>7.4958</td><td>null</td><td>S</td></tr><tr><td>787</td><td>1</td><td>3</td><td>Sjoblom, Miss. Anna Sofia</td><td>female</td><td>18</td><td>0</td><td>0</td><td>3101265</td><td>7.4958</td><td>null</td><td>S</td></tr><tr><td>155</td><td>0</td><td>3</td><td>Olsen, Mr. Ole Martin</td><td>male</td><td>null</td><td>0</td><td>0</td><td>Fa 265302</td><td>7.3125</td><td>null</td><td>S</td></tr><tr><td>366</td><td>0</td><td>3</td><td>Adahl, Mr. Mauritz Nils Martin</td><td>male</td><td>30</td><td>0</td><td>0</td><td>C 7076</td><td>7.25</td><td>null</td><td>S</td></tr><tr><td>228</td><td>0</td><td>3</td><td>\"Lovell, Mr. John Hall (\"\"Henry\"\")\"</td><td>male</td><td>20.5</td><td>0</td><td>0</td><td>A/5 21173</td><td>7.25</td><td>null</td><td>S</td></tr><tr><td>786</td><td>0</td><td>3</td><td>Harmer, Mr. Abraham (David Lishin)</td><td>male</td><td>25</td><td>0</td><td>0</td><td>374887</td><td>7.25</td><td>null</td><td>S</td></tr><tr><td>471</td><td>0</td><td>3</td><td>Keefe, Mr. Arthur</td><td>male</td><td>null</td><td>0</td><td>0</td><td>323592</td><td>7.25</td><td>null</td><td>S</td></tr><tr><td>251</td><td>0</td><td>3</td><td>Reed, Mr. James George</td><td>male</td><td>null</td><td>0</td><td>0</td><td>362316</td><td>7.25</td><td>null</td><td>S</td></tr><tr><td>492</td><td>0</td><td>3</td><td>Windelov, Mr. Einar</td><td>male</td><td>21</td><td>0</td><td>0</td><td>SOTON/OQ 3101317</td><td>7.25</td><td>null</td><td>S</td></tr><tr><td>377</td><td>1</td><td>3</td><td>Landergren, Miss. Aurora Adelia</td><td>female</td><td>22</td><td>0</td><td>0</td><td>C 7077</td><td>7.25</td><td>null</td><td>S</td></tr><tr><td>213</td><td>0</td><td>3</td><td>Perkin, Mr. John Henry</td><td>male</td><td>22</td><td>0</td><td>0</td><td>A/5 21174</td><td>7.25</td><td>null</td><td>S</td></tr><tr><td>426</td><td>0</td><td>3</td><td>Wiseman, Mr. Phillippe</td><td>male</td><td>null</td><td>0</td><td>0</td><td>A/4. 34244</td><td>7.25</td><td>null</td><td>S</td></tr><tr><td>321</td><td>0</td><td>3</td><td>Dennis, Mr. Samuel</td><td>male</td><td>22</td><td>0</td><td>0</td><td>A/5 21172</td><td>7.25</td><td>null</td><td>S</td></tr><tr><td>593</td><td>0</td><td>3</td><td>Elsbury, Mr. William James</td><td>male</td><td>47</td><td>0</td><td>0</td><td>A/5 3902</td><td>7.25</td><td>null</td><td>S</td></tr><tr><td>95</td><td>0</td><td>3</td><td>Coxon, Mr. Daniel</td><td>male</td><td>59</td><td>0</td><td>0</td><td>364500</td><td>7.25</td><td>null</td><td>S</td></tr><tr><td>1</td><td>0</td><td>3</td><td>Braund, Mr. Owen Harris</td><td>male</td><td>22</td><td>1</td><td>0</td><td>A/5 21171</td><td>7.25</td><td>null</td><td>S</td></tr><tr><td>532</td><td>0</td><td>3</td><td>Toufik, Mr. Nakli</td><td>male</td><td>null</td><td>0</td><td>0</td><td>2641</td><td>7.2292</td><td>null</td><td>C</td></tr><tr><td>525</td><td>0</td><td>3</td><td>Kassem, Mr. Fared</td><td>male</td><td>null</td><td>0</td><td>0</td><td>2700</td><td>7.2292</td><td>null</td><td>C</td></tr><tr><td>763</td><td>1</td><td>3</td><td>Barah, Mr. Hanna Assi</td><td>male</td><td>20</td><td>0</td><td>0</td><td>2663</td><td>7.2292</td><td>null</td><td>C</td></tr><tr><td>297</td><td>0</td><td>3</td><td>Hanna, Mr. Mansour</td><td>male</td><td>23.5</td><td>0</td><td>0</td><td>2693</td><td>7.2292</td><td>null</td><td>C</td></tr><tr><td>799</td><td>0</td><td>3</td><td>Ibrahim Shawah, Mr. Yousseff</td><td>male</td><td>30</td><td>0</td><td>0</td><td>2685</td><td>7.2292</td><td>null</td><td>C</td></tr><tr><td>37</td><td>1</td><td>3</td><td>Mamee, Mr. Hanna</td><td>male</td><td>null</td><td>0</td><td>0</td><td>2677</td><td>7.2292</td><td>null</td><td>C</td></tr><tr><td>781</td><td>1</td><td>3</td><td>Ayoub, Miss. Banoura</td><td>female</td><td>13</td><td>0</td><td>0</td><td>2687</td><td>7.2292</td><td>null</td><td>C</td></tr><tr><td>833</td><td>0</td><td>3</td><td>Saad, Mr. Amin</td><td>male</td><td>null</td><td>0</td><td>0</td><td>2671</td><td>7.2292</td><td>null</td><td>C</td></tr><tr><td>860</td><td>0</td><td>3</td><td>Razi, Mr. Raihed</td><td>male</td><td>null</td><td>0</td><td>0</td><td>2629</td><td>7.2292</td><td>null</td><td>C</td></tr><tr><td>61</td><td>0</td><td>3</td><td>Sirayanian, Mr. Orsen</td><td>male</td><td>22</td><td>0</td><td>0</td><td>2669</td><td>7.2292</td><td>null</td><td>C</td></tr><tr><td>353</td><td>0</td><td>3</td><td>Elias, Mr. Tannous</td><td>male</td><td>15</td><td>1</td><td>1</td><td>2695</td><td>7.2292</td><td>null</td><td>C</td></tr><tr><td>58</td><td>0</td><td>3</td><td>Novel, Mr. Mansouer</td><td>male</td><td>28.5</td><td>0</td><td>0</td><td>2697</td><td>7.2292</td><td>null</td><td>C</td></tr><tr><td>569</td><td>0</td><td>3</td><td>Doharr, Mr. Tannous</td><td>male</td><td>null</td><td>0</td><td>0</td><td>2686</td><td>7.2292</td><td>null</td><td>C</td></tr><tr><td>533</td><td>0</td><td>3</td><td>Elias, Mr. Joseph Jr</td><td>male</td><td>17</td><td>1</td><td>1</td><td>2690</td><td>7.2292</td><td>null</td><td>C</td></tr><tr><td>368</td><td>1</td><td>3</td><td>Moussa, Mrs. (Mantoura Boulos)</td><td>female</td><td>null</td><td>0</td><td>0</td><td>2626</td><td>7.2292</td><td>null</td><td>C</td></tr><tr><td>554</td><td>1</td><td>3</td><td>\"Leeni, Mr. Fahim (\"\"Philip Zenni\"\")\"</td><td>male</td><td>22</td><td>0</td><td>0</td><td>2620</td><td>7.225</td><td>null</td><td>C</td></tr><tr><td>523</td><td>0</td><td>3</td><td>Lahoud, Mr. Sarkis</td><td>male</td><td>null</td><td>0</td><td>0</td><td>2624</td><td>7.225</td><td>null</td><td>C</td></tr><tr><td>355</td><td>0</td><td>3</td><td>Yousif, Mr. Wazli</td><td>male</td><td>null</td><td>0</td><td>0</td><td>2647</td><td>7.225</td><td>null</td><td>C</td></tr><tr><td>662</td><td>0</td><td>3</td><td>Badt, Mr. Mohamed</td><td>male</td><td>40</td><td>0</td><td>0</td><td>2623</td><td>7.225</td><td>null</td><td>C</td></tr><tr><td>694</td><td>0</td><td>3</td><td>Saad, Mr. Khalil</td><td>male</td><td>25</td><td>0</td><td>0</td><td>2672</td><td>7.225</td><td>null</td><td>C</td></tr><tr><td>20</td><td>1</td><td>3</td><td>Masselmani, Mrs. Fatima</td><td>female</td><td>null</td><td>0</td><td>0</td><td>2649</td><td>7.225</td><td>null</td><td>C</td></tr><tr><td>876</td><td>1</td><td>3</td><td>\"Najib, Miss. Adele Kiamie \"\"Jane\"\"\"</td><td>female</td><td>15</td><td>0</td><td>0</td><td>2667</td><td>7.225</td><td>null</td><td>C</td></tr><tr><td>204</td><td>0</td><td>3</td><td>Youseff, Mr. Gerious</td><td>male</td><td>45.5</td><td>0</td><td>0</td><td>2628</td><td>7.225</td><td>null</td><td>C</td></tr><tr><td>774</td><td>0</td><td>3</td><td>Elias, Mr. Dibo</td><td>male</td><td>null</td><td>0</td><td>0</td><td>2674</td><td>7.225</td><td>null</td><td>C</td></tr><tr><td>245</td><td>0</td><td>3</td><td>Attalah, Mr. Sleiman</td><td>male</td><td>30</td><td>0</td><td>0</td><td>2694</td><td>7.225</td><td>null</td><td>C</td></tr><tr><td>27</td><td>0</td><td>3</td><td>Emir, Mr. Farred Chehab</td><td>male</td><td>null</td><td>0</td><td>0</td><td>2631</td><td>7.225</td><td>null</td><td>C</td></tr><tr><td>599</td><td>0</td><td>3</td><td>Boulos, Mr. Hanna</td><td>male</td><td>null</td><td>0</td><td>0</td><td>2664</td><td>7.225</td><td>null</td><td>C</td></tr><tr><td>128</td><td>1</td><td>3</td><td>Madsen, Mr. Fridtjof Arne</td><td>male</td><td>24</td><td>0</td><td>0</td><td>C 17369</td><td>7.1417</td><td>null</td><td>S</td></tr><tr><td>591</td><td>0</td><td>3</td><td>Rintamaki, Mr. Matti</td><td>male</td><td>35</td><td>0</td><td>0</td><td>STON/O 2. 3101273</td><td>7.125</td><td>null</td><td>S</td></tr><tr><td>762</td><td>0</td><td>3</td><td>Nirva, Mr. Iisakki Antino Aijo</td><td>male</td><td>41</td><td>0</td><td>0</td><td>SOTON/O2 3101272</td><td>7.125</td><td>null</td><td>S</td></tr><tr><td>244</td><td>0</td><td>3</td><td>Maenpaa, Mr. Matti Alexanteri</td><td>male</td><td>22</td><td>0</td><td>0</td><td>STON/O 2. 3101275</td><td>7.125</td><td>null</td><td>S</td></tr><tr><td>434</td><td>0</td><td>3</td><td>Kallio, Mr. Nikolai Erland</td><td>male</td><td>17</td><td>0</td><td>0</td><td>STON/O 2. 3101274</td><td>7.125</td><td>null</td><td>S</td></tr><tr><td>722</td><td>0</td><td>3</td><td>Jensen, Mr. Svend Lauritz</td><td>male</td><td>17</td><td>1</td><td>0</td><td>350048</td><td>7.0542</td><td>null</td><td>S</td></tr><tr><td>632</td><td>0</td><td>3</td><td>Lundahl, Mr. Johan Svensson</td><td>male</td><td>51</td><td>0</td><td>0</td><td>347743</td><td>7.0542</td><td>null</td><td>S</td></tr><tr><td>132</td><td>0</td><td>3</td><td>Coelho, Mr. Domingos Fernandeo</td><td>male</td><td>20</td><td>0</td><td>0</td><td>SOTON/O.Q. 3101307</td><td>7.05</td><td>null</td><td>S</td></tr><tr><td>612</td><td>0</td><td>3</td><td>Jardin, Mr. Jose Neto</td><td>male</td><td>null</td><td>0</td><td>0</td><td>SOTON/O.Q. 3101305</td><td>7.05</td><td>null</td><td>S</td></tr><tr><td>785</td><td>0</td><td>3</td><td>Ali, Mr. William</td><td>male</td><td>25</td><td>0</td><td>0</td><td>SOTON/O.Q. 3101312</td><td>7.05</td><td>null</td><td>S</td></tr><tr><td>211</td><td>0</td><td>3</td><td>Ali, Mr. Ahmed</td><td>male</td><td>24</td><td>0</td><td>0</td><td>SOTON/O.Q. 3101311</td><td>7.05</td><td>null</td><td>S</td></tr><tr><td>364</td><td>0</td><td>3</td><td>Asim, Mr. Adola</td><td>male</td><td>35</td><td>0</td><td>0</td><td>SOTON/O.Q. 3101310</td><td>7.05</td><td>null</td><td>S</td></tr><tr><td>466</td><td>0</td><td>3</td><td>Goncalves, Mr. Manuel Estanslas</td><td>male</td><td>38</td><td>0</td><td>0</td><td>SOTON/O.Q. 3101306</td><td>7.05</td><td>null</td><td>S</td></tr><tr><td>885</td><td>0</td><td>3</td><td>Sutehall, Mr. Henry Jr</td><td>male</td><td>25</td><td>0</td><td>0</td><td>SOTON/OQ 392076</td><td>7.05</td><td>null</td><td>S</td></tr><tr><td>478</td><td>0</td><td>3</td><td>Braund, Mr. Lewis Richard</td><td>male</td><td>29</td><td>1</td><td>0</td><td>3460</td><td>7.0458</td><td>null</td><td>S</td></tr><tr><td>202</td><td>0</td><td>3</td><td>Sage, Mr. Frederick</td><td>male</td><td>null</td><td>8</td><td>2</td><td>CA. 2343</td><td>69.55</td><td>null</td><td>S</td></tr><tr><td>160</td><td>0</td><td>3</td><td>Sage, Master. Thomas Henry</td><td>male</td><td>null</td><td>8</td><td>2</td><td>CA. 2343</td><td>69.55</td><td>null</td><td>S</td></tr><tr><td>864</td><td>0</td><td>3</td><td>\"Sage, Miss. Dorothy Edith \"\"Dolly\"\"\"</td><td>female</td><td>null</td><td>8</td><td>2</td><td>CA. 2343</td><td>69.55</td><td>null</td><td>S</td></tr><tr><td>325</td><td>0</td><td>3</td><td>Sage, Mr. George John Jr</td><td>male</td><td>null</td><td>8</td><td>2</td><td>CA. 2343</td><td>69.55</td><td>null</td><td>S</td></tr><tr><td>847</td><td>0</td><td>3</td><td>Sage, Mr. Douglas Bullen</td><td>male</td><td>null</td><td>8</td><td>2</td><td>CA. 2343</td><td>69.55</td><td>null</td><td>S</td></tr><tr><td>793</td><td>0</td><td>3</td><td>Sage, Miss. Stella Anna</td><td>female</td><td>null</td><td>8</td><td>2</td><td>CA. 2343</td><td>69.55</td><td>null</td><td>S</td></tr><tr><td>181</td><td>0</td><td>3</td><td>Sage, Miss. Constance Gladys</td><td>female</td><td>null</td><td>8</td><td>2</td><td>CA. 2343</td><td>69.55</td><td>null</td><td>S</td></tr><tr><td>642</td><td>1</td><td>1</td><td>Sagesser, Mlle. Emma</td><td>female</td><td>24</td><td>0</td><td>0</td><td>PC 17477</td><td>69.3</td><td>B35</td><td>C</td></tr><tr><td>370</td><td>1</td><td>1</td><td>Aubart, Mme. Leontine Pauline</td><td>female</td><td>24</td><td>0</td><td>0</td><td>PC 17477</td><td>69.3</td><td>B35</td><td>C</td></tr><tr><td>152</td><td>1</td><td>1</td><td>Pears, Mrs. Thomas (Edith Wearne)</td><td>female</td><td>22</td><td>1</td><td>0</td><td>113776</td><td>66.6</td><td>C2</td><td>S</td></tr><tr><td>337</td><td>0</td><td>1</td><td>Pears, Mr. Thomas Clinton</td><td>male</td><td>29</td><td>1</td><td>0</td><td>113776</td><td>66.6</td><td>C2</td><td>S</td></tr><tr><td>755</td><td>1</td><td>2</td><td>Herman, Mrs. Samuel (Jane Laver)</td><td>female</td><td>48</td><td>1</td><td>2</td><td>220845</td><td>65</td><td>null</td><td>S</td></tr><tr><td>616</td><td>1</td><td>2</td><td>Herman, Miss. Alice</td><td>female</td><td>24</td><td>1</td><td>2</td><td>220845</td><td>65</td><td>null</td><td>S</td></tr><tr><td>98</td><td>1</td><td>1</td><td>Greenfield, Mr. William Bertram</td><td>male</td><td>23</td><td>0</td><td>1</td><td>PC 17759</td><td>63.3583</td><td>D10 D12</td><td>C</td></tr><tr><td>55</td><td>0</td><td>1</td><td>Ostby, Mr. Engelhart Cornelius</td><td>male</td><td>65</td><td>0</td><td>1</td><td>113509</td><td>61.9792</td><td>B30</td><td>C</td></tr><tr><td>156</td><td>0</td><td>1</td><td>Williams, Mr. Charles Duane</td><td>male</td><td>51</td><td>0</td><td>1</td><td>PC 17597</td><td>61.3792</td><td>null</td><td>C</td></tr><tr><td>93</td><td>0</td><td>1</td><td>Chaffee, Mr. Herbert Fuller</td><td>male</td><td>46</td><td>1</td><td>0</td><td>W.E.P. 5734</td><td>61.175</td><td>E31</td><td>S</td></tr><tr><td>805</td><td>1</td><td>3</td><td>Hedman, Mr. Oskar Arvid</td><td>male</td><td>27</td><td>0</td><td>0</td><td>347089</td><td>6.975</td><td>null</td><td>S</td></tr><tr><td>130</td><td>0</td><td>3</td><td>Ekstrom, Mr. Johan</td><td>male</td><td>45</td><td>0</td><td>0</td><td>347061</td><td>6.975</td><td>null</td><td>S</td></tr><tr><td>826</td><td>0</td><td>3</td><td>Flynn, Mr. John</td><td>male</td><td>null</td><td>0</td><td>0</td><td>368323</td><td>6.95</td><td>null</td><td>Q</td></tr><tr><td>412</td><td>0</td><td>3</td><td>Hart, Mr. Henry</td><td>male</td><td>null</td><td>0</td><td>0</td><td>394140</td><td>6.8583</td><td>null</td><td>Q</td></tr><tr><td>144</td><td>0</td><td>3</td><td>Burke, Mr. Jeremiah</td><td>male</td><td>19</td><td>0</td><td>0</td><td>365222</td><td>6.75</td><td>null</td><td>Q</td></tr><tr><td>655</td><td>0</td><td>3</td><td>\"Hegarty, Miss. Hanora \"\"Nora\"\"\"</td><td>female</td><td>18</td><td>0</td><td>0</td><td>365226</td><td>6.75</td><td>null</td><td>Q</td></tr><tr><td>203</td><td>0</td><td>3</td><td>Johanson, Mr. Jakob Alfred</td><td>male</td><td>34</td><td>0</td><td>0</td><td>3101264</td><td>6.4958</td><td>null</td><td>S</td></tr><tr><td>372</td><td>0</td><td>3</td><td>Wiklund, Mr. Jakob Alfred</td><td>male</td><td>18</td><td>1</td><td>0</td><td>3101267</td><td>6.4958</td><td>null</td><td>S</td></tr><tr><td>819</td><td>0</td><td>3</td><td>Holm, Mr. John Fredrik Alexander</td><td>male</td><td>43</td><td>0</td><td>0</td><td>C 7075</td><td>6.45</td><td>null</td><td>S</td></tr><tr><td>844</td><td>0</td><td>3</td><td>Lemberopolous, Mr. Peter L</td><td>male</td><td>34.5</td><td>0</td><td>0</td><td>2683</td><td>6.4375</td><td>null</td><td>C</td></tr><tr><td>327</td><td>0</td><td>3</td><td>Nysveen, Mr. Johan Hansen</td><td>male</td><td>61</td><td>0</td><td>0</td><td>345364</td><td>6.2375</td><td>null</td><td>S</td></tr><tr><td>514</td><td>1</td><td>1</td><td>Rothschild, Mrs. Martin (Elizabeth L. Barrett)</td><td>female</td><td>54</td><td>1</td><td>0</td><td>PC 17603</td><td>59.4</td><td>null</td><td>C</td></tr><tr><td>330</td><td>1</td><td>1</td><td>Hippach, Miss. Jean Gertrude</td><td>female</td><td>16</td><td>0</td><td>1</td><td>111361</td><td>57.9792</td><td>B18</td><td>C</td></tr><tr><td>524</td><td>1</td><td>1</td><td>Hippach, Mrs. Louis Albert (Ida Sophia Fischer)</td><td>female</td><td>44</td><td>0</td><td>1</td><td>111361</td><td>57.9792</td><td>B18</td><td>C</td></tr><tr><td>691</td><td>1</td><td>1</td><td>Dick, Mr. Albert Adrian</td><td>male</td><td>31</td><td>1</td><td>0</td><td>17474</td><td>57</td><td>B20</td><td>S</td></tr><tr><td>782</td><td>1</td><td>1</td><td>Dick, Mrs. Albert Adrian (Vera Gillespie)</td><td>female</td><td>17</td><td>1</td><td>0</td><td>17474</td><td>57</td><td>B20</td><td>S</td></tr><tr><td>310</td><td>1</td><td>1</td><td>Francatelli, Miss. Laura Mabel</td><td>female</td><td>30</td><td>0</td><td>0</td><td>PC 17485</td><td>56.9292</td><td>E36</td><td>C</td></tr><tr><td>600</td><td>1</td><td>1</td><td>\"Duff Gordon, Sir. Cosmo Edmund (\"\"Mr Morgan\"\")\"</td><td>male</td><td>49</td><td>1</td><td>0</td><td>PC 17485</td><td>56.9292</td><td>A20</td><td>C</td></tr><tr><td>644</td><td>1</td><td>3</td><td>Foo, Mr. Choong</td><td>male</td><td>null</td><td>0</td><td>0</td><td>1601</td><td>56.4958</td><td>null</td><td>S</td></tr><tr><td>75</td><td>1</td><td>3</td><td>Bing, Mr. Lee</td><td>male</td><td>32</td><td>0</td><td>0</td><td>1601</td><td>56.4958</td><td>null</td><td>S</td></tr><tr><td>827</td><td>0</td><td>3</td><td>Lam, Mr. Len</td><td>male</td><td>null</td><td>0</td><td>0</td><td>1601</td><td>56.4958</td><td>null</td><td>S</td></tr><tr><td>170</td><td>0</td><td>3</td><td>Ling, Mr. Lee</td><td>male</td><td>28</td><td>0</td><td>0</td><td>1601</td><td>56.4958</td><td>null</td><td>S</td></tr><tr><td>693</td><td>1</td><td>3</td><td>Lam, Mr. Ali</td><td>male</td><td>null</td><td>0</td><td>0</td><td>1601</td><td>56.4958</td><td>null</td><td>S</td></tr><tr><td>839</td><td>1</td><td>3</td><td>Chip, Mr. Chang</td><td>male</td><td>32</td><td>0</td><td>0</td><td>1601</td><td>56.4958</td><td>null</td><td>S</td></tr><tr><td>510</td><td>1</td><td>3</td><td>Lang, Mr. Fang</td><td>male</td><td>26</td><td>0</td><td>0</td><td>1601</td><td>56.4958</td><td>null</td><td>S</td></tr><tr><td>578</td><td>1</td><td>1</td><td>Silvey, Mrs. William Baird (Alice Munger)</td><td>female</td><td>39</td><td>1</td><td>0</td><td>13507</td><td>55.9</td><td>E44</td><td>S</td></tr><tr><td>435</td><td>0</td><td>1</td><td>Silvey, Mr. William Baird</td><td>male</td><td>50</td><td>1</td><td>0</td><td>13507</td><td>55.9</td><td>E44</td><td>S</td></tr><tr><td>371</td><td>1</td><td>1</td><td>Harder, Mr. George Achilles</td><td>male</td><td>25</td><td>1</td><td>0</td><td>11765</td><td>55.4417</td><td>E50</td><td>C</td></tr><tr><td>167</td><td>1</td><td>1</td><td>Chibnall, Mrs. (Edith Martha Bowerman)</td><td>female</td><td>null</td><td>0</td><td>1</td><td>113505</td><td>55</td><td>E33</td><td>S</td></tr><tr><td>357</td><td>1</td><td>1</td><td>Bowerman, Miss. Elsie Edith</td><td>female</td><td>22</td><td>0</td><td>1</td><td>113505</td><td>55</td><td>E33</td><td>S</td></tr><tr><td>810</td><td>1</td><td>1</td><td>Chambers, Mrs. Norman Campbell (Bertha Griggs)</td><td>female</td><td>33</td><td>1</td><td>0</td><td>113806</td><td>53.1</td><td>E8</td><td>S</td></tr><tr><td>749</td><td>0</td><td>1</td><td>Marvin, Mr. Daniel Warner</td><td>male</td><td>19</td><td>1</td><td>0</td><td>113773</td><td>53.1</td><td>D30</td><td>S</td></tr><tr><td>725</td><td>1</td><td>1</td><td>Chambers, Mr. Norman Campbell</td><td>male</td><td>27</td><td>1</td><td>0</td><td>113806</td><td>53.1</td><td>E8</td><td>S</td></tr><tr><td>4</td><td>1</td><td>1</td><td>Futrelle, Mrs. Jacques Heath (Lily May Peel)</td><td>female</td><td>35</td><td>1</td><td>0</td><td>113803</td><td>53.1</td><td>C123</td><td>S</td></tr><tr><td>138</td><td>0</td><td>1</td><td>Futrelle, Mr. Jacques Heath</td><td>male</td><td>37</td><td>1</td><td>0</td><td>113803</td><td>53.1</td><td>C123</td><td>S</td></tr><tr><td>622</td><td>1</td><td>1</td><td>Kimball, Mr. Edwin Nelson Jr</td><td>male</td><td>42</td><td>1</td><td>0</td><td>11753</td><td>52.5542</td><td>D19</td><td>S</td></tr><tr><td>872</td><td>1</td><td>1</td><td>Beckwith, Mrs. Richard Leonard (Sallie Monypeny)</td><td>female</td><td>47</td><td>1</td><td>1</td><td>11751</td><td>52.5542</td><td>D35</td><td>S</td></tr><tr><td>249</td><td>1</td><td>1</td><td>Beckwith, Mr. Richard Leonard</td><td>male</td><td>37</td><td>1</td><td>1</td><td>11751</td><td>52.5542</td><td>D35</td><td>S</td></tr><tr><td>672</td><td>0</td><td>1</td><td>Davidson, Mr. Thornton</td><td>male</td><td>31</td><td>1</td><td>0</td><td>F.C. 12750</td><td>52</td><td>B71</td><td>S</td></tr><tr><td>36</td><td>0</td><td>1</td><td>Holverson, Mr. Alexander Oskar</td><td>male</td><td>42</td><td>1</td><td>0</td><td>113789</td><td>52</td><td>null</td><td>S</td></tr><tr><td>670</td><td>1</td><td>1</td><td>Taylor, Mrs. Elmer Zebley (Juliet Cummins Wright)</td><td>female</td><td>null</td><td>1</td><td>0</td><td>19996</td><td>52</td><td>C126</td><td>S</td></tr><tr><td>111</td><td>0</td><td>1</td><td>Porter, Mr. Walter Chamberlain</td><td>male</td><td>47</td><td>0</td><td>0</td><td>110465</td><td>52</td><td>C110</td><td>S</td></tr><tr><td>476</td><td>0</td><td>1</td><td>Clifford, Mr. George Quincy</td><td>male</td><td>null</td><td>0</td><td>0</td><td>110465</td><td>52</td><td>A14</td><td>S</td></tr><tr><td>384</td><td>1</td><td>1</td><td>Holverson, Mrs. Alexander Oskar (Mary Aline Towner)</td><td>female</td><td>35</td><td>1</td><td>0</td><td>113789</td><td>52</td><td>null</td><td>S</td></tr><tr><td>713</td><td>1</td><td>1</td><td>Taylor, Mr. Elmer Zebley</td><td>male</td><td>48</td><td>1</td><td>0</td><td>19996</td><td>52</td><td>C126</td><td>S</td></tr><tr><td>680</td><td>1</td><td>1</td><td>Cardeza, Mr. Thomas Drake Martinez</td><td>male</td><td>36</td><td>0</td><td>1</td><td>PC 17755</td><td>512.3292</td><td>B51 B53 B55</td><td>C</td></tr><tr><td>738</td><td>1</td><td>1</td><td>Lesurer, Mr. Gustave J</td><td>male</td><td>35</td><td>0</td><td>0</td><td>PC 17755</td><td>512.3292</td><td>B101</td><td>C</td></tr><tr><td>259</td><td>1</td><td>1</td><td>Ward, Miss. Anna</td><td>female</td><td>35</td><td>0</td><td>0</td><td>PC 17755</td><td>512.3292</td><td>null</td><td>C</td></tr><tr><td>458</td><td>1</td><td>1</td><td>Kenyon, Mrs. Frederick R (Marion)</td><td>female</td><td>null</td><td>1</td><td>0</td><td>17464</td><td>51.8625</td><td>D21</td><td>S</td></tr><tr><td>7</td><td>0</td><td>1</td><td>McCarthy, Mr. Timothy J</td><td>male</td><td>54</td><td>0</td><td>0</td><td>17463</td><td>51.8625</td><td>E46</td><td>S</td></tr><tr><td>572</td><td>1</td><td>1</td><td>Appleton, Mrs. Edward Dale (Charlotte Lamson)</td><td>female</td><td>53</td><td>2</td><td>0</td><td>11769</td><td>51.4792</td><td>C101</td><td>S</td></tr><tr><td>868</td><td>0</td><td>1</td><td>Roebling, Mr. Washington Augustus II</td><td>male</td><td>31</td><td>0</td><td>0</td><td>PC 17590</td><td>50.4958</td><td>A24</td><td>S</td></tr><tr><td>186</td><td>0</td><td>1</td><td>Rood, Mr. Hugh Roscoe</td><td>male</td><td>null</td><td>0</td><td>0</td><td>113767</td><td>50</td><td>A32</td><td>S</td></tr><tr><td>873</td><td>0</td><td>1</td><td>Carlsson, Mr. Frans Olof</td><td>male</td><td>33</td><td>0</td><td>0</td><td>695</td><td>5</td><td>B51 B53 B55</td><td>S</td></tr><tr><td>711</td><td>1</td><td>1</td><td>\"Mayne, Mlle. Berthe Antonine (\"\"Mrs de Villiers\"\")\"</td><td>female</td><td>24</td><td>0</td><td>0</td><td>PC 17482</td><td>49.5042</td><td>C90</td><td>C</td></tr><tr><td>494</td><td>0</td><td>1</td><td>Artagaveytia, Mr. Ramon</td><td>male</td><td>71</td><td>0</td><td>0</td><td>PC 17609</td><td>49.5042</td><td>null</td><td>C</td></tr><tr><td>540</td><td>1</td><td>1</td><td>Frolicher, Miss. Hedwig Margaritha</td><td>female</td><td>22</td><td>0</td><td>2</td><td>13568</td><td>49.5</td><td>B39</td><td>C</td></tr><tr><td>84</td><td>0</td><td>1</td><td>Carrau, Mr. Francisco M</td><td>male</td><td>28</td><td>0</td><td>0</td><td>113059</td><td>47.1</td><td>null</td><td>S</td></tr><tr><td>679</td><td>0</td><td>3</td><td>Goodwin, Mrs. Frederick (Augusta Tyler)</td><td>female</td><td>43</td><td>1</td><td>6</td><td>CA 2144</td><td>46.9</td><td>null</td><td>S</td></tr><tr><td>72</td><td>0</td><td>3</td><td>Goodwin, Miss. Lillian Amy</td><td>female</td><td>16</td><td>5</td><td>2</td><td>CA 2144</td><td>46.9</td><td>null</td><td>S</td></tr><tr><td>684</td><td>0</td><td>3</td><td>Goodwin, Mr. Charles Edward</td><td>male</td><td>14</td><td>5</td><td>2</td><td>CA 2144</td><td>46.9</td><td>null</td><td>S</td></tr><tr><td>60</td><td>0</td><td>3</td><td>Goodwin, Master. William Frederick</td><td>male</td><td>11</td><td>5</td><td>2</td><td>CA 2144</td><td>46.9</td><td>null</td><td>S</td></tr><tr><td>481</td><td>0</td><td>3</td><td>Goodwin, Master. Harold Victor</td><td>male</td><td>9</td><td>5</td><td>2</td><td>CA 2144</td><td>46.9</td><td>null</td><td>S</td></tr><tr><td>387</td><td>0</td><td>3</td><td>Goodwin, Master. Sidney Leonard</td><td>male</td><td>1</td><td>5</td><td>2</td><td>CA 2144</td><td>46.9</td><td>null</td><td>S</td></tr><tr><td>603</td><td>0</td><td>1</td><td>Harrington, Mr. Charles H</td><td>male</td><td>null</td><td>0</td><td>0</td><td>113796</td><td>42.4</td><td>null</td><td>S</td></tr><tr><td>44</td><td>1</td><td>2</td><td>Laroche, Miss. Simonne Marie Anne Andree</td><td>female</td><td>3</td><td>1</td><td>2</td><td>SC/Paris 2123</td><td>41.5792</td><td>null</td><td>C</td></tr><tr><td>609</td><td>1</td><td>2</td><td>Laroche, Mrs. Joseph (Juliette Marie Louise Lafargue)</td><td>female</td><td>22</td><td>1</td><td>2</td><td>SC/Paris 2123</td><td>41.5792</td><td>null</td><td>C</td></tr><tr><td>686</td><td>0</td><td>2</td><td>Laroche, Mr. Joseph Philippe Lemercier</td><td>male</td><td>25</td><td>1</td><td>2</td><td>SC/Paris 2123</td><td>41.5792</td><td>null</td><td>C</td></tr><tr><td>584</td><td>0</td><td>1</td><td>Ross, Mr. John Hugo</td><td>male</td><td>36</td><td>0</td><td>0</td><td>13049</td><td>40.125</td><td>A10</td><td>C</td></tr><tr><td>379</td><td>0</td><td>3</td><td>Betros, Mr. Tannous</td><td>male</td><td>20</td><td>0</td><td>0</td><td>2648</td><td>4.0125</td><td>null</td><td>C</td></tr><tr><td>639</td><td>0</td><td>3</td><td>Panula, Mrs. Juha (Maria Emilia Ojala)</td><td>female</td><td>41</td><td>0</td><td>5</td><td>3101295</td><td>39.6875</td><td>null</td><td>S</td></tr><tr><td>267</td><td>0</td><td>3</td><td>Panula, Mr. Ernesti Arvid</td><td>male</td><td>16</td><td>4</td><td>1</td><td>3101295</td><td>39.6875</td><td>null</td><td>S</td></tr><tr><td>165</td><td>0</td><td>3</td><td>Panula, Master. Eino Viljami</td><td>male</td><td>1</td><td>4</td><td>1</td><td>3101295</td><td>39.6875</td><td>null</td><td>S</td></tr><tr><td>51</td><td>0</td><td>3</td><td>Panula, Master. Juha Niilo</td><td>male</td><td>7</td><td>4</td><td>1</td><td>3101295</td><td>39.6875</td><td>null</td><td>S</td></tr><tr><td>825</td><td>0</td><td>3</td><td>Panula, Master. Urho Abraham</td><td>male</td><td>2</td><td>4</td><td>1</td><td>3101295</td><td>39.6875</td><td>null</td><td>S</td></tr><tr><td>687</td><td>0</td><td>3</td><td>Panula, Mr. Jaako Arnold</td><td>male</td><td>14</td><td>4</td><td>1</td><td>3101295</td><td>39.6875</td><td>null</td><td>S</td></tr><tr><td>557</td><td>1</td><td>1</td><td>\"Duff Gordon, Lady. (Lucille Christiana Sutherland) (\"\"Mrs Morgan\"\")\"</td><td>female</td><td>48</td><td>1</td><td>0</td><td>11755</td><td>39.6</td><td>A16</td><td>C</td></tr><tr><td>767</td><td>0</td><td>1</td><td>Brewe, Dr. Arthur Jackson</td><td>male</td><td>null</td><td>0</td><td>0</td><td>112379</td><td>39.6</td><td>null</td><td>C</td></tr><tr><td>854</td><td>1</td><td>1</td><td>Lines, Miss. Mary Conover</td><td>female</td><td>16</td><td>0</td><td>1</td><td>PC 17592</td><td>39.4</td><td>D28</td><td>S</td></tr><tr><td>619</td><td>1</td><td>2</td><td>Becker, Miss. Marion Louise</td><td>female</td><td>4</td><td>2</td><td>1</td><td>230136</td><td>39</td><td>F4</td><td>S</td></tr><tr><td>184</td><td>1</td><td>2</td><td>Becker, Master. Richard F</td><td>male</td><td>1</td><td>2</td><td>1</td><td>230136</td><td>39</td><td>F4</td><td>S</td></tr><tr><td>685</td><td>0</td><td>2</td><td>Brown, Mr. Thomas William Solomon</td><td>male</td><td>60</td><td>1</td><td>1</td><td>29750</td><td>39</td><td>null</td><td>S</td></tr><tr><td>671</td><td>1</td><td>2</td><td>Brown, Mrs. Thomas William Solomon (Elizabeth Catherine Ford)</td><td>female</td><td>40</td><td>1</td><td>1</td><td>29750</td><td>39</td><td>null</td><td>S</td></tr><tr><td>463</td><td>0</td><td>1</td><td>Gee, Mr. Arthur H</td><td>male</td><td>47</td><td>0</td><td>0</td><td>111320</td><td>38.5</td><td>E63</td><td>S</td></tr><tr><td>818</td><td>0</td><td>2</td><td>Mallet, Mr. Albert</td><td>male</td><td>31</td><td>1</td><td>1</td><td>S.C./PARIS 2079</td><td>37.0042</td><td>null</td><td>C</td></tr><tr><td>828</td><td>1</td><td>2</td><td>Mallet, Master. Andre</td><td>male</td><td>1</td><td>0</td><td>2</td><td>S.C./PARIS 2079</td><td>37.0042</td><td>null</td><td>C</td></tr><tr><td>146</td><td>0</td><td>2</td><td>Nicholls, Mr. Joseph Charles</td><td>male</td><td>19</td><td>1</td><td>1</td><td>C.A. 33112</td><td>36.75</td><td>null</td><td>S</td></tr><tr><td>550</td><td>1</td><td>2</td><td>Davies, Master. John Morgan Jr</td><td>male</td><td>8</td><td>1</td><td>1</td><td>C.A. 33112</td><td>36.75</td><td>null</td><td>S</td></tr><tr><td>340</td><td>0</td><td>1</td><td>Blackwell, Mr. Stephen Weart</td><td>male</td><td>45</td><td>0</td><td>0</td><td>113784</td><td>35.5</td><td>T</td><td>S</td></tr><tr><td>648</td><td>1</td><td>1</td><td>Simonius-Blumer, Col. Oberst Alfons</td><td>male</td><td>56</td><td>0</td><td>0</td><td>13213</td><td>35.5</td><td>A26</td><td>C</td></tr><tr><td>24</td><td>1</td><td>1</td><td>Sloper, Mr. William Thompson</td><td>male</td><td>28</td><td>0</td><td>0</td><td>113788</td><td>35.5</td><td>A6</td><td>S</td></tr><tr><td>56</td><td>1</td><td>1</td><td>Woolner, Mr. Hugh</td><td>male</td><td>null</td><td>0</td><td>0</td><td>19947</td><td>35.5</td><td>C52</td><td>S</td></tr><tr><td>352</td><td>0</td><td>1</td><td>Williams-Lambert, Mr. Fletcher Fellows</td><td>male</td><td>null</td><td>0</td><td>0</td><td>113510</td><td>35</td><td>C128</td><td>S</td></tr><tr><td>97</td><td>0</td><td>1</td><td>Goldschmidt, Mr. George B</td><td>male</td><td>71</td><td>0</td><td>0</td><td>PC 17754</td><td>34.6542</td><td>A5</td><td>C</td></tr><tr><td>437</td><td>0</td><td>3</td><td>\"Ford, Miss. Doolina Margaret \"\"Daisy\"\"\"</td><td>female</td><td>21</td><td>2</td><td>2</td><td>W./C. 6608</td><td>34.375</td><td>null</td><td>S</td></tr><tr><td>737</td><td>0</td><td>3</td><td>Ford, Mrs. Edward (Margaret Ann Watson)</td><td>female</td><td>48</td><td>1</td><td>3</td><td>W./C. 6608</td><td>34.375</td><td>null</td><td>S</td></tr><tr><td>87</td><td>0</td><td>3</td><td>Ford, Mr. William Neal</td><td>male</td><td>16</td><td>1</td><td>3</td><td>W./C. 6608</td><td>34.375</td><td>null</td><td>S</td></tr><tr><td>148</td><td>0</td><td>3</td><td>\"Ford, Miss. Robina Maggie \"\"Ruby\"\"\"</td><td>female</td><td>9</td><td>2</td><td>2</td><td>W./C. 6608</td><td>34.375</td><td>null</td><td>S</td></tr><tr><td>516</td><td>0</td><td>1</td><td>Walker, Mr. William Anderson</td><td>male</td><td>47</td><td>0</td><td>0</td><td>36967</td><td>34.0208</td><td>D46</td><td>S</td></tr><tr><td>171</td><td>0</td><td>1</td><td>Van der hoef, Mr. Wyckoff</td><td>male</td><td>61</td><td>0</td><td>0</td><td>111240</td><td>33.5</td><td>B19</td><td>S</td></tr><tr><td>597</td><td>1</td><td>2</td><td>Leitch, Miss. Jessie Wills</td><td>female</td><td>null</td><td>0</td><td>0</td><td>248727</td><td>33</td><td>null</td><td>S</td></tr><tr><td>849</td><td>0</td><td>2</td><td>Harper, Rev. John</td><td>male</td><td>28</td><td>0</td><td>1</td><td>248727</td><td>33</td><td>null</td><td>S</td></tr><tr><td>721</td><td>1</td><td>2</td><td>\"Harper, Miss. Annie Jessie \"\"Nina\"\"\"</td><td>female</td><td>6</td><td>0</td><td>1</td><td>248727</td><td>33</td><td>null</td><td>S</td></tr><tr><td>417</td><td>1</td><td>2</td><td>Drew, Mrs. James Vivian (Lulu Thorne Christian)</td><td>female</td><td>34</td><td>1</td><td>1</td><td>28220</td><td>32.5</td><td>null</td><td>S</td></tr><tr><td>626</td><td>0</td><td>1</td><td>Sutton, Mr. Frederick</td><td>male</td><td>61</td><td>0</td><td>0</td><td>36963</td><td>32.3208</td><td>D50</td><td>S</td></tr><tr><td>262</td><td>1</td><td>3</td><td>Asplund, Master. Edvin Rojj Felix</td><td>male</td><td>3</td><td>4</td><td>2</td><td>347077</td><td>31.3875</td><td>null</td><td>S</td></tr><tr><td>234</td><td>1</td><td>3</td><td>Asplund, Miss. Lillian Gertrud</td><td>female</td><td>5</td><td>4</td><td>2</td><td>347077</td><td>31.3875</td><td>null</td><td>S</td></tr><tr><td>26</td><td>1</td><td>3</td><td>Asplund, Mrs. Carl Oscar (Selma Augusta Emilia Johansson)</td><td>female</td><td>38</td><td>1</td><td>5</td><td>347077</td><td>31.3875</td><td>null</td><td>S</td></tr><tr><td>183</td><td>0</td><td>3</td><td>Asplund, Master. Clarence Gustaf Hugo</td><td>male</td><td>9</td><td>4</td><td>2</td><td>347077</td><td>31.3875</td><td>null</td><td>S</td></tr><tr><td>543</td><td>0</td><td>3</td><td>Andersson, Miss. Sigrid Elisabeth</td><td>female</td><td>11</td><td>4</td><td>2</td><td>347082</td><td>31.275</td><td>null</td><td>S</td></tr><tr><td>542</td><td>0</td><td>3</td><td>Andersson, Miss. Ingeborg Constanzia</td><td>female</td><td>9</td><td>4</td><td>2</td><td>347082</td><td>31.275</td><td>null</td><td>S</td></tr><tr><td>120</td><td>0</td><td>3</td><td>Andersson, Miss. Ellis Anna Maria</td><td>female</td><td>2</td><td>4</td><td>2</td><td>347082</td><td>31.275</td><td>null</td><td>S</td></tr><tr><td>14</td><td>0</td><td>3</td><td>Andersson, Mr. Anders Johan</td><td>male</td><td>39</td><td>1</td><td>5</td><td>347082</td><td>31.275</td><td>null</td><td>S</td></tr><tr><td>851</td><td>0</td><td>3</td><td>Andersson, Master. Sigvard Harald Elias</td><td>male</td><td>4</td><td>4</td><td>2</td><td>347082</td><td>31.275</td><td>null</td><td>S</td></tr><tr><td>814</td><td>0</td><td>3</td><td>Andersson, Miss. Ebba Iris Alfrida</td><td>female</td><td>6</td><td>4</td><td>2</td><td>347082</td><td>31.275</td><td>null</td><td>S</td></tr><tr><td>611</td><td>0</td><td>3</td><td>Andersson, Mrs. Anders Johan (Alfrida Konstantia Brogren)</td><td>female</td><td>39</td><td>1</td><td>5</td><td>347082</td><td>31.275</td><td>null</td><td>S</td></tr><tr><td>271</td><td>0</td><td>1</td><td>Cairns, Mr. Alexander</td><td>male</td><td>null</td><td>0</td><td>0</td><td>113798</td><td>31</td><td>null</td><td>S</td></tr><tr><td>843</td><td>1</td><td>1</td><td>Serepeca, Miss. Augusta</td><td>female</td><td>30</td><td>0</td><td>0</td><td>113798</td><td>31</td><td>null</td><td>C</td></tr><tr><td>210</td><td>1</td><td>1</td><td>Blank, Mr. Henry</td><td>male</td><td>40</td><td>0</td><td>0</td><td>112277</td><td>31</td><td>A31</td><td>C</td></tr><tr><td>794</td><td>0</td><td>1</td><td>Hoyt, Mr. William Fisher</td><td>male</td><td>null</td><td>0</td><td>0</td><td>PC 17600</td><td>30.6958</td><td>null</td><td>C</td></tr><tr><td>175</td><td>0</td><td>1</td><td>Smith, Mr. James Clinch</td><td>male</td><td>56</td><td>0</td><td>0</td><td>17764</td><td>30.6958</td><td>A7</td><td>C</td></tr><tr><td>299</td><td>1</td><td>1</td><td>Saalfeld, Mr. Adolphe</td><td>male</td><td>null</td><td>0</td><td>0</td><td>19988</td><td>30.5</td><td>C106</td><td>S</td></tr><tr><td>608</td><td>1</td><td>1</td><td>Daniel, Mr. Robert Williams</td><td>male</td><td>27</td><td>0</td><td>0</td><td>113804</td><td>30.5</td><td>null</td><td>S</td></tr><tr><td>493</td><td>0</td><td>1</td><td>Molson, Mr. Harry Markland</td><td>male</td><td>55</td><td>0</td><td>0</td><td>113787</td><td>30.5</td><td>C30</td><td>S</td></tr><tr><td>450</td><td>1</td><td>1</td><td>Peuchen, Major. Arthur Godfrey</td><td>male</td><td>52</td><td>0</td><td>0</td><td>113786</td><td>30.5</td><td>C104</td><td>S</td></tr><tr><td>633</td><td>1</td><td>1</td><td>Stahelin-Maeglin, Dr. Max</td><td>male</td><td>32</td><td>0</td><td>0</td><td>13214</td><td>30.5</td><td>B50</td><td>C</td></tr><tr><td>123</td><td>0</td><td>2</td><td>Nasser, Mr. Nicholas</td><td>male</td><td>32.5</td><td>1</td><td>0</td><td>237736</td><td>30.0708</td><td>null</td><td>C</td></tr><tr><td>10</td><td>1</td><td>2</td><td>Nasser, Mrs. Nicholas (Adele Achem)</td><td>female</td><td>14</td><td>1</td><td>0</td><td>237736</td><td>30.0708</td><td>null</td><td>C</td></tr><tr><td>890</td><td>1</td><td>1</td><td>Behr, Mr. Karl Howell</td><td>male</td><td>26</td><td>0</td><td>0</td><td>111369</td><td>30</td><td>C148</td><td>C</td></tr><tr><td>783</td><td>0</td><td>1</td><td>Long, Mr. Milton Clyde</td><td>male</td><td>29</td><td>0</td><td>0</td><td>113501</td><td>30</td><td>D6</td><td>S</td></tr><tr><td>741</td><td>1</td><td>1</td><td>Hawksford, Mr. Walter James</td><td>male</td><td>null</td><td>0</td><td>0</td><td>16988</td><td>30</td><td>D45</td><td>S</td></tr><tr><td>888</td><td>1</td><td>1</td><td>Graham, Miss. Margaret Edith</td><td>female</td><td>19</td><td>0</td><td>0</td><td>112053</td><td>30</td><td>B42</td><td>S</td></tr><tr><td>631</td><td>1</td><td>1</td><td>Barkworth, Mr. Algernon Henry Wilson</td><td>male</td><td>80</td><td>0</td><td>0</td><td>27042</td><td>30</td><td>A23</td><td>S</td></tr><tr><td>581</td><td>1</td><td>2</td><td>Christy, Miss. Julie Rachel</td><td>female</td><td>25</td><td>1</td><td>1</td><td>237789</td><td>30</td><td>null</td><td>S</td></tr><tr><td>274</td><td>0</td><td>1</td><td>Natsch, Mr. Charles H</td><td>male</td><td>37</td><td>0</td><td>1</td><td>PC 17596</td><td>29.7</td><td>C118</td><td>C</td></tr><tr><td>488</td><td>0</td><td>1</td><td>Kent, Mr. Edward Austin</td><td>male</td><td>58</td><td>0</td><td>0</td><td>11771</td><td>29.7</td><td>B37</td><td>C</td></tr><tr><td>840</td><td>1</td><td>1</td><td>Marechal, Mr. Pierre</td><td>male</td><td>null</td><td>0</td><td>0</td><td>11774</td><td>29.7</td><td>C47</td><td>C</td></tr><tr><td>886</td><td>0</td><td>3</td><td>Rice, Mrs. William (Margaret Norton)</td><td>female</td><td>39</td><td>0</td><td>5</td><td>382652</td><td>29.125</td><td>null</td><td>Q</td></tr><tr><td>279</td><td>0</td><td>3</td><td>Rice, Master. Eric</td><td>male</td><td>7</td><td>4</td><td>1</td><td>382652</td><td>29.125</td><td>null</td><td>Q</td></tr><tr><td>17</td><td>0</td><td>3</td><td>Rice, Master. Eugene</td><td>male</td><td>2</td><td>4</td><td>1</td><td>382652</td><td>29.125</td><td>null</td><td>Q</td></tr><tr><td>788</td><td>0</td><td>3</td><td>Rice, Master. George Hugh</td><td>male</td><td>8</td><td>4</td><td>1</td><td>382652</td><td>29.125</td><td>null</td><td>Q</td></tr><tr><td>172</td><td>0</td><td>3</td><td>Rice, Master. Arthur</td><td>male</td><td>4</td><td>4</td><td>1</td><td>382652</td><td>29.125</td><td>null</td><td>Q</td></tr><tr><td>324</td><td>1</td><td>2</td><td>Caldwell, Mrs. Albert Francis (Sylvia Mae Harbaugh)</td><td>female</td><td>22</td><td>1</td><td>1</td><td>248738</td><td>29</td><td>null</td><td>S</td></tr><tr><td>79</td><td>1</td><td>2</td><td>Caldwell, Master. Alden Gates</td><td>male</td><td>0.83</td><td>0</td><td>2</td><td>248738</td><td>29</td><td>null</td><td>S</td></tr><tr><td>178</td><td>0</td><td>1</td><td>Isham, Miss. Ann Elizabeth</td><td>female</td><td>50</td><td>0</td><td>0</td><td>PC 17595</td><td>28.7125</td><td>C49</td><td>C</td></tr><tr><td>332</td><td>0</td><td>1</td><td>Partner, Mr. Austen</td><td>male</td><td>45.5</td><td>0</td><td>0</td><td>113043</td><td>28.5</td><td>C124</td><td>S</td></tr><tr><td>643</td><td>0</td><td>3</td><td>Skoog, Miss. Margit Elizabeth</td><td>female</td><td>2</td><td>3</td><td>2</td><td>347088</td><td>27.9</td><td>null</td><td>S</td></tr><tr><td>361</td><td>0</td><td>3</td><td>Skoog, Mr. Wilhelm</td><td>male</td><td>40</td><td>1</td><td>4</td><td>347088</td><td>27.9</td><td>null</td><td>S</td></tr><tr><td>635</td><td>0</td><td>3</td><td>Skoog, Miss. Mabel</td><td>female</td><td>9</td><td>3</td><td>2</td><td>347088</td><td>27.9</td><td>null</td><td>S</td></tr><tr><td>820</td><td>0</td><td>3</td><td>Skoog, Master. Karl Thorsten</td><td>male</td><td>10</td><td>3</td><td>2</td><td>347088</td><td>27.9</td><td>null</td><td>S</td></tr><tr><td>64</td><td>0</td><td>3</td><td>Skoog, Master. Harald</td><td>male</td><td>4</td><td>3</td><td>2</td><td>347088</td><td>27.9</td><td>null</td><td>S</td></tr><tr><td>168</td><td>0</td><td>3</td><td>Skoog, Mrs. William (Anna Bernhardina Karlsson)</td><td>female</td><td>45</td><td>1</td><td>4</td><td>347088</td><td>27.9</td><td>null</td><td>S</td></tr><tr><td>451</td><td>0</td><td>2</td><td>West, Mr. Edwy Arthur</td><td>male</td><td>36</td><td>1</td><td>2</td><td>C.A. 34651</td><td>27.75</td><td>null</td><td>S</td></tr><tr><td>59</td><td>1</td><td>2</td><td>West, Miss. Constance Mirium</td><td>female</td><td>5</td><td>1</td><td>2</td><td>C.A. 34651</td><td>27.75</td><td>null</td><td>S</td></tr><tr><td>473</td><td>1</td><td>2</td><td>West, Mrs. Edwy Arthur (Ada Mary Worth)</td><td>female</td><td>33</td><td>1</td><td>2</td><td>C.A. 34651</td><td>27.75</td><td>null</td><td>S</td></tr><tr><td>453</td><td>0</td><td>1</td><td>Foreman, Mr. Benjamin Laventall</td><td>male</td><td>30</td><td>0</td><td>0</td><td>113051</td><td>27.75</td><td>C111</td><td>C</td></tr><tr><td>31</td><td>0</td><td>1</td><td>Uruchurtu, Don. Manuel E</td><td>male</td><td>40</td><td>0</td><td>0</td><td>PC 17601</td><td>27.7208</td><td>null</td><td>C</td></tr><tr><td>195</td><td>1</td><td>1</td><td>Brown, Mrs. James Joseph (Margaret Tobin)</td><td>female</td><td>44</td><td>0</td><td>0</td><td>PC 17610</td><td>27.7208</td><td>B4</td><td>C</td></tr><tr><td>362</td><td>0</td><td>2</td><td>del Carlo, Mr. Sebastiano</td><td>male</td><td>29</td><td>1</td><td>0</td><td>SC/PARIS 2167</td><td>27.7208</td><td>null</td><td>C</td></tr><tr><td>296</td><td>0</td><td>1</td><td>Lewy, Mr. Ervin G</td><td>male</td><td>null</td><td>0</td><td>0</td><td>PC 17612</td><td>27.7208</td><td>null</td><td>C</td></tr><tr><td>65</td><td>0</td><td>1</td><td>Stewart, Mr. Albert A</td><td>male</td><td>null</td><td>0</td><td>0</td><td>PC 17605</td><td>27.7208</td><td>null</td><td>C</td></tr><tr><td>601</td><td>1</td><td>2</td><td>Jacobsohn, Mrs. Sidney Samuel (Amy Frances Christy)</td><td>female</td><td>24</td><td>2</td><td>1</td><td>243847</td><td>27</td><td>null</td><td>S</td></tr><tr><td>218</td><td>0</td><td>2</td><td>Jacobsohn, Mr. Sidney Samuel</td><td>male</td><td>42</td><td>1</td><td>0</td><td>243847</td><td>27</td><td>null</td><td>S</td></tr><tr><td>439</td><td>0</td><td>1</td><td>Fortune, Mr. Mark</td><td>male</td><td>64</td><td>1</td><td>4</td><td>19950</td><td>263</td><td>C23 C25 C27</td><td>S</td></tr><tr><td>89</td><td>1</td><td>1</td><td>Fortune, Miss. Mabel Helen</td><td>female</td><td>23</td><td>3</td><td>2</td><td>19950</td><td>263</td><td>C23 C25 C27</td><td>S</td></tr><tr><td>28</td><td>0</td><td>1</td><td>Fortune, Mr. Charles Alexander</td><td>male</td><td>19</td><td>3</td><td>2</td><td>19950</td><td>263</td><td>C23 C25 C27</td><td>S</td></tr><tr><td>342</td><td>1</td><td>1</td><td>Fortune, Miss. Alice Elizabeth</td><td>female</td><td>24</td><td>3</td><td>2</td><td>19950</td><td>263</td><td>C23 C25 C27</td><td>S</td></tr><tr><td>312</td><td>1</td><td>1</td><td>Ryerson, Miss. Emily Borie</td><td>female</td><td>18</td><td>2</td><td>2</td><td>PC 17608</td><td>262.375</td><td>B57 B59 B63 B66</td><td>C</td></tr><tr><td>743</td><td>1</td><td>1</td><td>\"Ryerson, Miss. Susan Parker \"\"Suzette\"\"\"</td><td>female</td><td>21</td><td>2</td><td>2</td><td>PC 17608</td><td>262.375</td><td>B57 B59 B63 B66</td><td>C</td></tr><tr><td>605</td><td>1</td><td>1</td><td>\"Homer, Mr. Harry (\"\"Mr E Haven\"\")\"</td><td>male</td><td>35</td><td>0</td><td>0</td><td>111426</td><td>26.55</td><td>null</td><td>C</td></tr><tr><td>712</td><td>0</td><td>1</td><td>Klaber, Mr. Herman</td><td>male</td><td>null</td><td>0</td><td>0</td><td>113028</td><td>26.55</td><td>C124</td><td>S</td></tr><tr><td>556</td><td>0</td><td>1</td><td>Wright, Mr. George</td><td>male</td><td>62</td><td>0</td><td>0</td><td>113807</td><td>26.55</td><td>null</td><td>S</td></tr><tr><td>12</td><td>1</td><td>1</td><td>Bonnell, Miss. Elizabeth</td><td>female</td><td>58</td><td>0</td><td>0</td><td>113783</td><td>26.55</td><td>C103</td><td>S</td></tr><tr><td>188</td><td>1</td><td>1</td><td>\"Romaine, Mr. Charles Hallace (\"\"Mr C Rolmane\"\")\"</td><td>male</td><td>45</td><td>0</td><td>0</td><td>111428</td><td>26.55</td><td>null</td><td>S</td></tr><tr><td>537</td><td>0</td><td>1</td><td>Butt, Major. Archibald Willingham</td><td>male</td><td>45</td><td>0</td><td>0</td><td>113050</td><td>26.55</td><td>B38</td><td>S</td></tr><tr><td>695</td><td>0</td><td>1</td><td>Weir, Col. John</td><td>male</td><td>60</td><td>0</td><td>0</td><td>113800</td><td>26.55</td><td>null</td><td>S</td></tr><tr><td>461</td><td>1</td><td>1</td><td>Anderson, Mr. Harry</td><td>male</td><td>48</td><td>0</td><td>0</td><td>19952</td><td>26.55</td><td>E12</td><td>S</td></tr><tr><td>457</td><td>0</td><td>1</td><td>Millet, Mr. Francis Davis</td><td>male</td><td>65</td><td>0</td><td>0</td><td>13509</td><td>26.55</td><td>E38</td><td>S</td></tr><tr><td>468</td><td>0</td><td>1</td><td>Smart, Mr. John Montgomery</td><td>male</td><td>56</td><td>0</td><td>0</td><td>113792</td><td>26.55</td><td>null</td><td>S</td></tr><tr><td>448</td><td>1</td><td>1</td><td>Seward, Mr. Frederic Kimber</td><td>male</td><td>34</td><td>0</td><td>0</td><td>113794</td><td>26.55</td><td>null</td><td>S</td></tr><tr><td>508</td><td>1</td><td>1</td><td>\"Bradley, Mr. George (\"\"George Arthur Brayton\"\")\"</td><td>male</td><td>null</td><td>0</td><td>0</td><td>111427</td><td>26.55</td><td>null</td><td>S</td></tr><tr><td>253</td><td>0</td><td>1</td><td>Stead, Mr. William Thomas</td><td>male</td><td>62</td><td>0</td><td>0</td><td>113514</td><td>26.55</td><td>C87</td><td>S</td></tr><tr><td>858</td><td>1</td><td>1</td><td>Daly, Mr. Peter Denis </td><td>male</td><td>51</td><td>0</td><td>0</td><td>113055</td><td>26.55</td><td>E17</td><td>S</td></tr><tr><td>431</td><td>1</td><td>1</td><td>Bjornstrom-Steffansson, Mr. Mauritz Hakan</td><td>male</td><td>28</td><td>0</td><td>0</td><td>110564</td><td>26.55</td><td>C52</td><td>S</td></tr><tr><td>573</td><td>1</td><td>1</td><td>\"Flynn, Mr. John Irwin (\"\"Irving\"\")\"</td><td>male</td><td>36</td><td>0</td><td>0</td><td>PC 17474</td><td>26.3875</td><td>E25</td><td>S</td></tr><tr><td>513</td><td>1</td><td>1</td><td>McGough, Mr. James Robert</td><td>male</td><td>36</td><td>0</td><td>0</td><td>PC 17473</td><td>26.2875</td><td>E25</td><td>S</td></tr><tr><td>708</td><td>1</td><td>1</td><td>Calderhead, Mr. Edward Pennington</td><td>male</td><td>42</td><td>0</td><td>0</td><td>PC 17476</td><td>26.2875</td><td>E24</td><td>S</td></tr><tr><td>702</td><td>1</td><td>1</td><td>Silverthorne, Mr. Spencer Victor</td><td>male</td><td>35</td><td>0</td><td>0</td><td>PC 17475</td><td>26.2875</td><td>E24</td><td>S</td></tr><tr><td>137</td><td>1</td><td>1</td><td>Newsom, Miss. Helen Monypeny</td><td>female</td><td>19</td><td>0</td><td>2</td><td>11752</td><td>26.2833</td><td>D47</td><td>S</td></tr><tr><td>238</td><td>1</td><td>2</td><td>\"Collyer, Miss. Marjorie \"\"Lottie\"\"\"</td><td>female</td><td>8</td><td>0</td><td>2</td><td>C.A. 31921</td><td>26.25</td><td>null</td><td>S</td></tr><tr><td>441</td><td>1</td><td>2</td><td>Hart, Mrs. Benjamin (Esther Ada Bloomfield)</td><td>female</td><td>45</td><td>1</td><td>1</td><td>F.C.C. 13529</td><td>26.25</td><td>null</td><td>S</td></tr><tr><td>802</td><td>1</td><td>2</td><td>Collyer, Mrs. Harvey (Charlotte Annie Tate)</td><td>female</td><td>31</td><td>1</td><td>1</td><td>C.A. 31921</td><td>26.25</td><td>null</td><td>S</td></tr><tr><td>638</td><td>0</td><td>2</td><td>Collyer, Mr. Harvey</td><td>male</td><td>31</td><td>1</td><td>1</td><td>C.A. 31921</td><td>26.25</td><td>null</td><td>S</td></tr><tr><td>315</td><td>0</td><td>2</td><td>Hart, Mr. Benjamin</td><td>male</td><td>43</td><td>1</td><td>1</td><td>F.C.C. 13529</td><td>26.25</td><td>null</td><td>S</td></tr><tr><td>536</td><td>1</td><td>2</td><td>Hart, Miss. Eva Miriam</td><td>female</td><td>7</td><td>0</td><td>2</td><td>F.C.C. 13529</td><td>26.25</td><td>null</td><td>S</td></tr><tr><td>544</td><td>1</td><td>2</td><td>Beane, Mr. Edward</td><td>male</td><td>32</td><td>1</td><td>0</td><td>2908</td><td>26</td><td>null</td><td>S</td></tr><tr><td>546</td><td>0</td><td>1</td><td>Nicholson, Mr. Arthur Ernest</td><td>male</td><td>64</td><td>0</td><td>0</td><td>693</td><td>26</td><td>null</td><td>S</td></tr><tr><td>134</td><td>1</td><td>2</td><td>Weisz, Mrs. Leopold (Mathilde Francoise Pede)</td><td>female</td><td>29</td><td>1</td><td>0</td><td>228414</td><td>26</td><td>null</td><td>S</td></tr><tr><td>285</td><td>0</td><td>1</td><td>Smith, Mr. Richard William</td><td>male</td><td>null</td><td>0</td><td>0</td><td>113056</td><td>26</td><td>A19</td><td>S</td></tr><tr><td>552</td><td>0</td><td>2</td><td>Sharp, Mr. Percival James R</td><td>male</td><td>27</td><td>0</td><td>0</td><td>244358</td><td>26</td><td>null</td><td>S</td></tr><tr><td>531</td><td>1</td><td>2</td><td>Quick, Miss. Phyllis May</td><td>female</td><td>2</td><td>1</td><td>1</td><td>26360</td><td>26</td><td>null</td><td>S</td></tr><tr><td>313</td><td>0</td><td>2</td><td>Lahtinen, Mrs. William (Anna Sylfven)</td><td>female</td><td>26</td><td>1</td><td>1</td><td>250651</td><td>26</td><td>null</td><td>S</td></tr><tr><td>21</td><td>0</td><td>2</td><td>Fynney, Mr. Joseph J</td><td>male</td><td>35</td><td>0</td><td>0</td><td>239865</td><td>26</td><td>null</td><td>S</td></tr><tr><td>149</td><td>0</td><td>2</td><td>\"Navratil, Mr. Michel (\"\"Louis M Hoffman\"\")\"</td><td>male</td><td>36.5</td><td>0</td><td>2</td><td>230080</td><td>26</td><td>F2</td><td>S</td></tr><tr><td>706</td><td>0</td><td>2</td><td>\"Morley, Mr. Henry Samuel (\"\"Mr Henry Marshall\"\")\"</td><td>male</td><td>39</td><td>0</td><td>0</td><td>250655</td><td>26</td><td>null</td><td>S</td></tr><tr><td>341</td><td>1</td><td>2</td><td>Navratil, Master. Edmond Roger</td><td>male</td><td>2</td><td>1</td><td>1</td><td>230080</td><td>26</td><td>F2</td><td>S</td></tr><tr><td>595</td><td>0</td><td>2</td><td>Chapman, Mr. John Henry</td><td>male</td><td>37</td><td>1</td><td>0</td><td>SC/AH 29037</td><td>26</td><td>null</td><td>S</td></tr><tr><td>260</td><td>1</td><td>2</td><td>Parrish, Mrs. (Lutie Davis)</td><td>female</td><td>50</td><td>0</td><td>1</td><td>230433</td><td>26</td><td>null</td><td>S</td></tr><tr><td>398</td><td>0</td><td>2</td><td>McKane, Mr. Peter David</td><td>male</td><td>46</td><td>0</td><td>0</td><td>28403</td><td>26</td><td>null</td><td>S</td></tr><tr><td>792</td><td>0</td><td>2</td><td>Gaskell, Mr. Alfred</td><td>male</td><td>16</td><td>0</td><td>0</td><td>239865</td><td>26</td><td>null</td><td>S</td></tr><tr><td>100</td><td>0</td><td>2</td><td>Kantor, Mr. Sinai</td><td>male</td><td>34</td><td>1</td><td>0</td><td>244367</td><td>26</td><td>null</td><td>S</td></tr><tr><td>194</td><td>1</td><td>2</td><td>Navratil, Master. Michel M</td><td>male</td><td>3</td><td>1</td><td>1</td><td>230080</td><td>26</td><td>F2</td><td>S</td></tr><tr><td>428</td><td>1</td><td>2</td><td>\"Phillips, Miss. Kate Florence (\"\"Mrs Kate Louise Phillips Marshall\"\")\"</td><td>female</td><td>19</td><td>0</td><td>0</td><td>250655</td><td>26</td><td>null</td><td>S</td></tr><tr><td>855</td><td>0</td><td>2</td><td>Carter, Mrs. Ernest Courtenay (Lilian Hughes)</td><td>female</td><td>44</td><td>1</td><td>0</td><td>244252</td><td>26</td><td>null</td><td>S</td></tr><tr><td>427</td><td>1</td><td>2</td><td>Clarke, Mrs. Charles V (Ada Maria Winfield)</td><td>female</td><td>28</td><td>1</td><td>0</td><td>2003</td><td>26</td><td>null</td><td>S</td></tr><tr><td>729</td><td>0</td><td>2</td><td>Bryhl, Mr. Kurt Arnold Gottfrid</td><td>male</td><td>25</td><td>1</td><td>0</td><td>236853</td><td>26</td><td>null</td><td>S</td></tr><tr><td>250</td><td>0</td><td>2</td><td>Carter, Rev. Ernest Courtenay</td><td>male</td><td>54</td><td>1</td><td>0</td><td>244252</td><td>26</td><td>null</td><td>S</td></tr><tr><td>237</td><td>0</td><td>2</td><td>Hold, Mr. Stephen</td><td>male</td><td>44</td><td>1</td><td>0</td><td>26707</td><td>26</td><td>null</td><td>S</td></tr><tr><td>507</td><td>1</td><td>2</td><td>Quick, Mrs. Frederick Charles (Jane Richards)</td><td>female</td><td>33</td><td>0</td><td>2</td><td>26360</td><td>26</td><td>null</td><td>S</td></tr><tr><td>881</td><td>1</td><td>2</td><td>Shelley, Mrs. William (Imanita Parrish Hall)</td><td>female</td><td>25</td><td>0</td><td>1</td><td>230433</td><td>26</td><td>null</td><td>S</td></tr><tr><td>317</td><td>1</td><td>2</td><td>Kantor, Mrs. Sinai (Miriam Sternin)</td><td>female</td><td>24</td><td>1</td><td>0</td><td>244367</td><td>26</td><td>null</td><td>S</td></tr><tr><td>54</td><td>1</td><td>2</td><td>Faunthorpe, Mrs. Lizzie (Elizabeth Anne Wilkinson)</td><td>female</td><td>29</td><td>1</td><td>0</td><td>2926</td><td>26</td><td>null</td><td>S</td></tr><tr><td>433</td><td>1</td><td>2</td><td>Louch, Mrs. Charles Alexander (Alice Adelaide Slow)</td><td>female</td><td>42</td><td>1</td><td>0</td><td>SC/AH 3085</td><td>26</td><td>null</td><td>S</td></tr><tr><td>519</td><td>1</td><td>2</td><td>\"Angle, Mrs. William A (Florence \"\"Mary\"\" Agnes Hughes)\"</td><td>female</td><td>36</td><td>1</td><td>0</td><td>226875</td><td>26</td><td>null</td><td>S</td></tr><tr><td>583</td><td>0</td><td>2</td><td>Downton, Mr. William James</td><td>male</td><td>54</td><td>0</td><td>0</td><td>28403</td><td>26</td><td>null</td><td>S</td></tr><tr><td>547</td><td>1</td><td>2</td><td>Beane, Mrs. Edward (Ethel Clarke)</td><td>female</td><td>19</td><td>1</td><td>0</td><td>2908</td><td>26</td><td>null</td><td>S</td></tr><tr><td>797</td><td>1</td><td>1</td><td>Leader, Dr. Alice (Farnham)</td><td>female</td><td>49</td><td>0</td><td>0</td><td>17465</td><td>25.9292</td><td>D17</td><td>S</td></tr><tr><td>863</td><td>1</td><td>1</td><td>Swift, Mrs. Frederick Joel (Margaret Welles Barron)</td><td>female</td><td>48</td><td>0</td><td>0</td><td>17466</td><td>25.9292</td><td>D17</td><td>S</td></tr><tr><td>169</td><td>0</td><td>1</td><td>Baumann, Mr. John D</td><td>male</td><td>null</td><td>0</td><td>0</td><td>PC 17318</td><td>25.925</td><td>null</td><td>S</td></tr><tr><td>663</td><td>0</td><td>1</td><td>Colley, Mr. Edward Pomeroy</td><td>male</td><td>47</td><td>0</td><td>0</td><td>5727</td><td>25.5875</td><td>E58</td><td>S</td></tr><tr><td>410</td><td>0</td><td>3</td><td>Lefebre, Miss. Ida</td><td>female</td><td>null</td><td>3</td><td>1</td><td>4133</td><td>25.4667</td><td>null</td><td>S</td></tr><tr><td>177</td><td>0</td><td>3</td><td>Lefebre, Master. Henry Forbes</td><td>male</td><td>null</td><td>3</td><td>1</td><td>4133</td><td>25.4667</td><td>null</td><td>S</td></tr><tr><td>486</td><td>0</td><td>3</td><td>Lefebre, Miss. Jeannie</td><td>female</td><td>null</td><td>3</td><td>1</td><td>4133</td><td>25.4667</td><td>null</td><td>S</td></tr><tr><td>230</td><td>0</td><td>3</td><td>Lefebre, Miss. Mathilde</td><td>female</td><td>null</td><td>3</td><td>1</td><td>4133</td><td>25.4667</td><td>null</td><td>S</td></tr><tr><td>300</td><td>1</td><td>1</td><td>Baxter, Mrs. James (Helene DeLaudeniere Chaput)</td><td>female</td><td>50</td><td>0</td><td>1</td><td>PC 17558</td><td>247.5208</td><td>B58 B60</td><td>C</td></tr><tr><td>119</td><td>0</td><td>1</td><td>Baxter, Mr. Quigg Edmond</td><td>male</td><td>24</td><td>0</td><td>1</td><td>PC 17558</td><td>247.5208</td><td>B58 B60</td><td>C</td></tr><tr><td>518</td><td>0</td><td>3</td><td>Ryan, Mr. Patrick</td><td>male</td><td>null</td><td>0</td><td>0</td><td>371110</td><td>24.15</td><td>null</td><td>Q</td></tr><tr><td>596</td><td>0</td><td>3</td><td>Van Impe, Mr. Jean Baptiste</td><td>male</td><td>36</td><td>1</td><td>1</td><td>345773</td><td>24.15</td><td>null</td><td>S</td></tr><tr><td>566</td><td>0</td><td>3</td><td>Davies, Mr. Alfred J</td><td>male</td><td>24</td><td>2</td><td>0</td><td>A/4 48871</td><td>24.15</td><td>null</td><td>S</td></tr><tr><td>110</td><td>1</td><td>3</td><td>Moran, Miss. Bertha</td><td>female</td><td>null</td><td>1</td><td>0</td><td>371110</td><td>24.15</td><td>null</td><td>Q</td></tr><tr><td>420</td><td>0</td><td>3</td><td>Van Impe, Miss. Catharina</td><td>female</td><td>10</td><td>0</td><td>2</td><td>345773</td><td>24.15</td><td>null</td><td>S</td></tr><tr><td>812</td><td>0</td><td>3</td><td>Lester, Mr. James</td><td>male</td><td>39</td><td>0</td><td>0</td><td>A/4 48871</td><td>24.15</td><td>null</td><td>S</td></tr><tr><td>800</td><td>0</td><td>3</td><td>Van Impe, Mrs. Jean Baptiste (Rosalie Paula Govaert)</td><td>female</td><td>30</td><td>1</td><td>1</td><td>345773</td><td>24.15</td><td>null</td><td>S</td></tr><tr><td>769</td><td>0</td><td>3</td><td>Moran, Mr. Daniel J</td><td>male</td><td>null</td><td>1</td><td>0</td><td>371110</td><td>24.15</td><td>null</td><td>Q</td></tr><tr><td>309</td><td>0</td><td>2</td><td>Abelson, Mr. Samuel</td><td>male</td><td>30</td><td>1</td><td>0</td><td>P/PP 3381</td><td>24</td><td>null</td><td>C</td></tr><tr><td>875</td><td>1</td><td>2</td><td>Abelson, Mrs. Samuel (Hannah Wizosky)</td><td>female</td><td>28</td><td>1</td><td>0</td><td>P/PP 3381</td><td>24</td><td>null</td><td>C</td></tr><tr><td>889</td><td>0</td><td>3</td><td>\"Johnston, Miss. Catherine Helen \"\"Carrie\"\"\"</td><td>female</td><td>null</td><td>1</td><td>2</td><td>W./C. 6607</td><td>23.45</td><td>null</td><td>S</td></tr><tr><td>784</td><td>0</td><td>3</td><td>Johnston, Mr. Andrew G</td><td>male</td><td>null</td><td>1</td><td>2</td><td>W./C. 6607</td><td>23.45</td><td>null</td><td>S</td></tr><tr><td>331</td><td>1</td><td>3</td><td>McCoy, Miss. Agnes</td><td>female</td><td>null</td><td>2</td><td>0</td><td>367226</td><td>23.25</td><td>null</td><td>Q</td></tr><tr><td>302</td><td>1</td><td>3</td><td>McCoy, Mr. Bernard</td><td>male</td><td>null</td><td>2</td><td>0</td><td>367226</td><td>23.25</td><td>null</td><td>Q</td></tr><tr><td>751</td><td>1</td><td>2</td><td>Wells, Miss. Joan</td><td>female</td><td>4</td><td>1</td><td>1</td><td>29103</td><td>23</td><td>null</td><td>S</td></tr><tr><td>775</td><td>1</td><td>2</td><td>Hocking, Mrs. Elizabeth (Eliza Needs)</td><td>female</td><td>54</td><td>1</td><td>3</td><td>29105</td><td>23</td><td>null</td><td>S</td></tr><tr><td>652</td><td>1</td><td>2</td><td>Doling, Miss. Elsie</td><td>female</td><td>18</td><td>0</td><td>1</td><td>231919</td><td>23</td><td>null</td><td>S</td></tr><tr><td>99</td><td>1</td><td>2</td><td>Doling, Mrs. John T (Ada Julia Bone)</td><td>female</td><td>34</td><td>0</td><td>1</td><td>231919</td><td>23</td><td>null</td><td>S</td></tr><tr><td>381</td><td>1</td><td>1</td><td>Bidois, Miss. Rosalie</td><td>female</td><td>42</td><td>0</td><td>0</td><td>PC 17757</td><td>227.525</td><td>null</td><td>C</td></tr><tr><td>717</td><td>1</td><td>1</td><td>Endres, Miss. Caroline Louise</td><td>female</td><td>38</td><td>0</td><td>0</td><td>PC 17757</td><td>227.525</td><td>C45</td><td>C</td></tr><tr><td>701</td><td>1</td><td>1</td><td>Astor, Mrs. John Jacob (Madeleine Talmadge Force)</td><td>female</td><td>18</td><td>1</td><td>0</td><td>PC 17757</td><td>227.525</td><td>C62 C64</td><td>C</td></tr><tr><td>558</td><td>0</td><td>1</td><td>Robbins, Mr. Victor</td><td>male</td><td>null</td><td>0</td><td>0</td><td>PC 17757</td><td>227.525</td><td>null</td><td>C</td></tr><tr><td>528</td><td>0</td><td>1</td><td>Farthing, Mr. John</td><td>male</td><td>null</td><td>0</td><td>0</td><td>PC 17483</td><td>221.7792</td><td>C95</td><td>S</td></tr><tr><td>509</td><td>0</td><td>3</td><td>Olsen, Mr. Henry Margido</td><td>male</td><td>28</td><td>0</td><td>0</td><td>C 4001</td><td>22.525</td><td>null</td><td>S</td></tr><tr><td>129</td><td>1</td><td>3</td><td>Peter, Miss. Anna</td><td>female</td><td>null</td><td>1</td><td>1</td><td>2668</td><td>22.3583</td><td>F E69</td><td>C</td></tr><tr><td>534</td><td>1</td><td>3</td><td>Peter, Mrs. Catherine (Catherine Rizk)</td><td>female</td><td>null</td><td>0</td><td>2</td><td>2668</td><td>22.3583</td><td>null</td><td>C</td></tr><tr><td>185</td><td>1</td><td>3</td><td>Kink-Heilmann, Miss. Luise Gretchen</td><td>female</td><td>4</td><td>0</td><td>2</td><td>315153</td><td>22.025</td><td>null</td><td>S</td></tr><tr><td>378</td><td>0</td><td>1</td><td>Widener, Mr. Harry Elkins</td><td>male</td><td>27</td><td>0</td><td>2</td><td>113503</td><td>211.5</td><td>C82</td><td>C</td></tr><tr><td>731</td><td>1</td><td>1</td><td>Allen, Miss. Elisabeth Walton</td><td>female</td><td>29</td><td>0</td><td>0</td><td>24160</td><td>211.3375</td><td>B5</td><td>S</td></tr><tr><td>690</td><td>1</td><td>1</td><td>Madill, Miss. Georgette Alexandra</td><td>female</td><td>15</td><td>0</td><td>1</td><td>24160</td><td>211.3375</td><td>B5</td><td>S</td></tr><tr><td>780</td><td>1</td><td>1</td><td>Robert, Mrs. Edward Scott (Elisabeth Walton McMillan)</td><td>female</td><td>43</td><td>0</td><td>1</td><td>24160</td><td>211.3375</td><td>B3</td><td>S</td></tr><tr><td>49</td><td>0</td><td>3</td><td>Samaan, Mr. Youssef</td><td>male</td><td>null</td><td>2</td><td>0</td><td>2662</td><td>21.6792</td><td>null</td><td>C</td></tr><tr><td>25</td><td>0</td><td>3</td><td>Palsson, Miss. Torborg Danira</td><td>female</td><td>8</td><td>3</td><td>1</td><td>349909</td><td>21.075</td><td>null</td><td>S</td></tr><tr><td>8</td><td>0</td><td>3</td><td>Palsson, Master. Gosta Leonard</td><td>male</td><td>2</td><td>3</td><td>1</td><td>349909</td><td>21.075</td><td>null</td><td>S</td></tr><tr><td>375</td><td>0</td><td>3</td><td>Palsson, Miss. Stina Viola</td><td>female</td><td>3</td><td>3</td><td>1</td><td>349909</td><td>21.075</td><td>null</td><td>S</td></tr><tr><td>568</td><td>0</td><td>3</td><td>Palsson, Mrs. Nils (Alma Cornelia Berglund)</td><td>female</td><td>29</td><td>0</td><td>4</td><td>349909</td><td>21.075</td><td>null</td><td>S</td></tr><tr><td>42</td><td>0</td><td>2</td><td>Turpin, Mrs. William John Robert (Dorothy Ann Wonnacott)</td><td>female</td><td>27</td><td>1</td><td>0</td><td>11668</td><td>21</td><td>null</td><td>S</td></tr><tr><td>406</td><td>0</td><td>2</td><td>Gale, Mr. Shadrach</td><td>male</td><td>34</td><td>1</td><td>0</td><td>28664</td><td>21</td><td>null</td><td>S</td></tr><tr><td>727</td><td>1</td><td>2</td><td>Renouf, Mrs. Peter Henry (Lillian Jefferys)</td><td>female</td><td>30</td><td>3</td><td>0</td><td>31027</td><td>21</td><td>null</td><td>S</td></tr><tr><td>118</td><td>0</td><td>2</td><td>Turpin, Mr. William John Robert</td><td>male</td><td>29</td><td>1</td><td>0</td><td>11668</td><td>21</td><td>null</td><td>S</td></tr><tr><td>212</td><td>1</td><td>2</td><td>Cameron, Miss. Clear Annie</td><td>female</td><td>35</td><td>0</td><td>0</td><td>F.C.C. 13528</td><td>21</td><td>null</td><td>S</td></tr><tr><td>477</td><td>0</td><td>2</td><td>Renouf, Mr. Peter Henry</td><td>male</td><td>34</td><td>1</td><td>0</td><td>31027</td><td>21</td><td>null</td><td>S</td></tr><tr><td>789</td><td>1</td><td>3</td><td>Dean, Master. Bertram Vere</td><td>male</td><td>1</td><td>1</td><td>2</td><td>C.A. 2315</td><td>20.575</td><td>null</td><td>S</td></tr><tr><td>94</td><td>0</td><td>3</td><td>Dean, Mr. Bertram Frank</td><td>male</td><td>26</td><td>1</td><td>2</td><td>C.A. 2315</td><td>20.575</td><td>null</td><td>S</td></tr><tr><td>329</td><td>1</td><td>3</td><td>Goldsmith, Mrs. Frank John (Emily Alice Brown)</td><td>female</td><td>31</td><td>1</td><td>1</td><td>363291</td><td>20.525</td><td>null</td><td>S</td></tr><tr><td>549</td><td>0</td><td>3</td><td>Goldsmith, Mr. Frank John</td><td>male</td><td>33</td><td>1</td><td>1</td><td>363291</td><td>20.525</td><td>null</td><td>S</td></tr><tr><td>166</td><td>1</td><td>3</td><td>\"Goldsmith, Master. Frank John William \"\"Frankie\"\"\"</td><td>male</td><td>9</td><td>0</td><td>2</td><td>363291</td><td>20.525</td><td>null</td><td>S</td></tr><tr><td>280</td><td>1</td><td>3</td><td>Abbott, Mrs. Stanton (Rosa Hunt)</td><td>female</td><td>35</td><td>1</td><td>1</td><td>C.A. 2673</td><td>20.25</td><td>null</td><td>S</td></tr><tr><td>747</td><td>0</td><td>3</td><td>Abbott, Mr. Rossmore Edward</td><td>male</td><td>16</td><td>1</td><td>1</td><td>C.A. 2673</td><td>20.25</td><td>null</td><td>S</td></tr><tr><td>255</td><td>0</td><td>3</td><td>Rosblom, Mrs. Viktor (Helena Wilhelmina)</td><td>female</td><td>41</td><td>0</td><td>2</td><td>370129</td><td>20.2125</td><td>null</td><td>S</td></tr><tr><td>425</td><td>0</td><td>3</td><td>Rosblom, Mr. Viktor Richard</td><td>male</td><td>18</td><td>1</td><td>1</td><td>370129</td><td>20.2125</td><td>null</td><td>S</td></tr><tr><td>491</td><td>0</td><td>3</td><td>Hagland, Mr. Konrad Mathias Reiersen</td><td>male</td><td>null</td><td>1</td><td>0</td><td>65304</td><td>19.9667</td><td>null</td><td>S</td></tr><tr><td>452</td><td>0</td><td>3</td><td>Hagland, Mr. Ingvald Olai Olsen</td><td>male</td><td>null</td><td>1</td><td>0</td><td>65303</td><td>19.9667</td><td>null</td><td>S</td></tr><tr><td>273</td><td>1</td><td>2</td><td>Mellinger, Mrs. (Elizabeth Anne Maidment)</td><td>female</td><td>41</td><td>0</td><td>1</td><td>250644</td><td>19.5</td><td>null</td><td>S</td></tr><tr><td>447</td><td>1</td><td>2</td><td>Mellinger, Miss. Madeleine Violet</td><td>female</td><td>13</td><td>0</td><td>1</td><td>250644</td><td>19.5</td><td>null</td><td>S</td></tr><tr><td>449</td><td>1</td><td>3</td><td>Baclini, Miss. Marie Catherine</td><td>female</td><td>5</td><td>2</td><td>1</td><td>2666</td><td>19.2583</td><td>null</td><td>C</td></tr><tr><td>859</td><td>1</td><td>3</td><td>Baclini, Mrs. Solomon (Latifa Qurban)</td><td>female</td><td>24</td><td>0</td><td>3</td><td>2666</td><td>19.2583</td><td>null</td><td>C</td></tr><tr><td>470</td><td>1</td><td>3</td><td>Baclini, Miss. Helene Barbara</td><td>female</td><td>0.75</td><td>2</td><td>1</td><td>2666</td><td>19.2583</td><td>null</td><td>C</td></tr><tr><td>645</td><td>1</td><td>3</td><td>Baclini, Miss. Eugenie</td><td>female</td><td>0.75</td><td>2</td><td>1</td><td>2666</td><td>19.2583</td><td>null</td><td>C</td></tr><tr><td>732</td><td>0</td><td>3</td><td>Hassan, Mr. Houssein G N</td><td>male</td><td>11</td><td>0</td><td>0</td><td>2699</td><td>18.7875</td><td>null</td><td>C</td></tr><tr><td>208</td><td>1</td><td>3</td><td>Albimona, Mr. Nassef Cassem</td><td>male</td><td>26</td><td>0</td><td>0</td><td>2699</td><td>18.7875</td><td>null</td><td>C</td></tr><tr><td>408</td><td>1</td><td>2</td><td>Richards, Master. William Rowe</td><td>male</td><td>3</td><td>1</td><td>1</td><td>29106</td><td>18.75</td><td>null</td><td>S</td></tr><tr><td>438</td><td>1</td><td>2</td><td>Richards, Mrs. Sidney (Emily Hocking)</td><td>female</td><td>24</td><td>2</td><td>3</td><td>29106</td><td>18.75</td><td>null</td><td>S</td></tr><tr><td>832</td><td>1</td><td>2</td><td>Richards, Master. George Sibley</td><td>male</td><td>0.83</td><td>1</td><td>1</td><td>29106</td><td>18.75</td><td>null</td><td>S</td></tr><tr><td>19</td><td>0</td><td>3</td><td>Vander Planke, Mrs. Julius (Emelia Maria Vandemoortele)</td><td>female</td><td>31</td><td>1</td><td>0</td><td>345763</td><td>18</td><td>null</td><td>S</td></tr><tr><td>39</td><td>0</td><td>3</td><td>Vander Planke, Miss. Augusta Maria</td><td>female</td><td>18</td><td>2</td><td>0</td><td>345764</td><td>18</td><td>null</td><td>S</td></tr><tr><td>334</td><td>0</td><td>3</td><td>Vander Planke, Mr. Leo Edmondus</td><td>male</td><td>16</td><td>2</td><td>0</td><td>345764</td><td>18</td><td>null</td><td>S</td></tr><tr><td>50</td><td>0</td><td>3</td><td>Arnold-Franchi, Mrs. Josef (Josefine Franchi)</td><td>female</td><td>18</td><td>1</td><td>0</td><td>349237</td><td>17.8</td><td>null</td><td>S</td></tr><tr><td>354</td><td>0</td><td>3</td><td>Arnold-Franchi, Mr. Josef</td><td>male</td><td>25</td><td>1</td><td>0</td><td>349237</td><td>17.8</td><td>null</td><td>S</td></tr><tr><td>560</td><td>1</td><td>3</td><td>de Messemaeker, Mrs. Guillaume Joseph (Emma)</td><td>female</td><td>36</td><td>1</td><td>0</td><td>345572</td><td>17.4</td><td>null</td><td>S</td></tr><tr><td>319</td><td>1</td><td>1</td><td>Wick, Miss. Mary Natalie</td><td>female</td><td>31</td><td>0</td><td>2</td><td>36928</td><td>164.8667</td><td>C7</td><td>S</td></tr><tr><td>857</td><td>1</td><td>1</td><td>Wick, Mrs. George Dennick (Mary Hitchcock)</td><td>female</td><td>45</td><td>1</td><td>1</td><td>36928</td><td>164.8667</td><td>null</td><td>S</td></tr><tr><td>395</td><td>1</td><td>3</td><td>Sandstrom, Mrs. Hjalmar (Agnes Charlotta Bengtsson)</td><td>female</td><td>24</td><td>0</td><td>2</td><td>PP 9549</td><td>16.7</td><td>G6</td><td>S</td></tr><tr><td>11</td><td>1</td><td>3</td><td>Sandstrom, Miss. Marguerite Rut</td><td>female</td><td>4</td><td>1</td><td>1</td><td>PP 9549</td><td>16.7</td><td>G6</td><td>S</td></tr><tr><td>625</td><td>0</td><td>3</td><td>\"Bowen, Mr. David John \"\"Dai\"\"\"</td><td>male</td><td>21</td><td>0</td><td>0</td><td>54636</td><td>16.1</td><td>null</td><td>S</td></tr><tr><td>161</td><td>0</td><td>3</td><td>Cribb, Mr. John Hatfield</td><td>male</td><td>44</td><td>0</td><td>1</td><td>371362</td><td>16.1</td><td>null</td><td>S</td></tr><tr><td>618</td><td>0</td><td>3</td><td>Lobb, Mrs. William Arthur (Cordelia K Stanlick)</td><td>female</td><td>26</td><td>1</td><td>0</td><td>A/5. 3336</td><td>16.1</td><td>null</td><td>S</td></tr><tr><td>744</td><td>0</td><td>3</td><td>McNamee, Mr. Neal</td><td>male</td><td>24</td><td>1</td><td>0</td><td>376566</td><td>16.1</td><td>null</td><td>S</td></tr><tr><td>736</td><td>0</td><td>3</td><td>Williams, Mr. Leslie</td><td>male</td><td>28.5</td><td>0</td><td>0</td><td>54636</td><td>16.1</td><td>null</td><td>S</td></tr><tr><td>348</td><td>1</td><td>3</td><td>Davison, Mrs. Thomas Henry (Mary E Finck)</td><td>female</td><td>null</td><td>1</td><td>0</td><td>386525</td><td>16.1</td><td>null</td><td>S</td></tr><tr><td>640</td><td>0</td><td>3</td><td>Thorneycroft, Mr. Percival</td><td>male</td><td>null</td><td>1</td><td>0</td><td>376564</td><td>16.1</td><td>null</td><td>S</td></tr><tr><td>254</td><td>0</td><td>3</td><td>Lobb, Mr. William Arthur</td><td>male</td><td>30</td><td>1</td><td>0</td><td>A/5. 3336</td><td>16.1</td><td>null</td><td>S</td></tr><tr><td>432</td><td>1</td><td>3</td><td>Thorneycroft, Mrs. Percival (Florence Kate White)</td><td>female</td><td>null</td><td>1</td><td>0</td><td>376564</td><td>16.1</td><td>null</td><td>S</td></tr><tr><td>16</td><td>1</td><td>2</td><td>Hewlett, Mrs. (Mary D Kingcome) </td><td>female</td><td>55</td><td>0</td><td>0</td><td>248706</td><td>16</td><td>null</td><td>S</td></tr><tr><td>333</td><td>0</td><td>1</td><td>Graham, Mr. George Edward</td><td>male</td><td>38</td><td>0</td><td>1</td><td>PC 17582</td><td>153.4625</td><td>C91</td><td>S</td></tr><tr><td>610</td><td>1</td><td>1</td><td>Shutes, Miss. Elizabeth W</td><td>female</td><td>40</td><td>0</td><td>0</td><td>PC 17582</td><td>153.4625</td><td>C125</td><td>S</td></tr><tr><td>269</td><td>1</td><td>1</td><td>Graham, Mrs. William Thompson (Edith Junkins)</td><td>female</td><td>58</td><td>0</td><td>1</td><td>PC 17582</td><td>153.4625</td><td>C125</td><td>S</td></tr><tr><td>709</td><td>1</td><td>1</td><td>Cleaver, Miss. Alice</td><td>female</td><td>22</td><td>0</td><td>0</td><td>113781</td><td>151.55</td><td>null</td><td>S</td></tr><tr><td>306</td><td>1</td><td>1</td><td>Allison, Master. Hudson Trevor</td><td>male</td><td>0.92</td><td>1</td><td>2</td><td>113781</td><td>151.55</td><td>C22 C26</td><td>S</td></tr><tr><td>499</td><td>0</td><td>1</td><td>Allison, Mrs. Hudson J C (Bessie Waldo Daniels)</td><td>female</td><td>25</td><td>1</td><td>2</td><td>113781</td><td>151.55</td><td>C22 C26</td><td>S</td></tr><tr><td>298</td><td>0</td><td>1</td><td>Allison, Miss. Helen Loraine</td><td>female</td><td>2</td><td>1</td><td>2</td><td>113781</td><td>151.55</td><td>C22 C26</td><td>S</td></tr><tr><td>349</td><td>1</td><td>3</td><td>\"Coutts, Master. William Loch \"\"William\"\"\"</td><td>male</td><td>3</td><td>1</td><td>1</td><td>C.A. 37671</td><td>15.9</td><td>null</td><td>S</td></tr><tr><td>490</td><td>1</td><td>3</td><td>\"Coutts, Master. Eden Leslie \"\"Neville\"\"\"</td><td>male</td><td>9</td><td>1</td><td>1</td><td>C.A. 37671</td><td>15.9</td><td>null</td><td>S</td></tr><tr><td>143</td><td>1</td><td>3</td><td>Hakkarainen, Mrs. Pekka Pietari (Elin Matilda Dolck)</td><td>female</td><td>24</td><td>1</td><td>0</td><td>STON/O2. 3101279</td><td>15.85</td><td>null</td><td>S</td></tr><tr><td>86</td><td>1</td><td>3</td><td>Backstrom, Mrs. Karl Alfred (Maria Mathilda Gustafsson)</td><td>female</td><td>33</td><td>3</td><td>0</td><td>3101278</td><td>15.85</td><td>null</td><td>S</td></tr><tr><td>207</td><td>0</td><td>3</td><td>Backstrom, Mr. Karl Alfred</td><td>male</td><td>32</td><td>1</td><td>0</td><td>3101278</td><td>15.85</td><td>null</td><td>S</td></tr><tr><td>404</td><td>0</td><td>3</td><td>Hakkarainen, Mr. Pekka Pietari</td><td>male</td><td>28</td><td>1</td><td>0</td><td>STON/O2. 3101279</td><td>15.85</td><td>null</td><td>S</td></tr><tr><td>162</td><td>1</td><td>2</td><td>\"Watt, Mrs. James (Elizabeth \"\"Bessie\"\" Inglis Milne)\"</td><td>female</td><td>40</td><td>0</td><td>0</td><td>C.A. 33595</td><td>15.75</td><td>null</td><td>S</td></tr><tr><td>382</td><td>1</td><td>3</td><td>\"Nakid, Miss. Maria (\"\"Mary\"\")\"</td><td>female</td><td>1</td><td>0</td><td>2</td><td>2653</td><td>15.7417</td><td>null</td><td>C</td></tr><tr><td>623</td><td>1</td><td>3</td><td>Nakid, Mr. Sahid</td><td>male</td><td>20</td><td>1</td><td>1</td><td>2653</td><td>15.7417</td><td>null</td><td>C</td></tr><tr><td>606</td><td>0</td><td>3</td><td>Lindell, Mr. Edvard Bengtsson</td><td>male</td><td>36</td><td>1</td><td>0</td><td>349910</td><td>15.55</td><td>null</td><td>S</td></tr><tr><td>613</td><td>1</td><td>3</td><td>Murphy, Miss. Margaret Jane</td><td>female</td><td>null</td><td>1</td><td>0</td><td>367230</td><td>15.5</td><td>null</td><td>Q</td></tr><tr><td>47</td><td>0</td><td>3</td><td>Lennon, Mr. Denis</td><td>male</td><td>null</td><td>1</td><td>0</td><td>370371</td><td>15.5</td><td>null</td><td>Q</td></tr><tr><td>189</td><td>0</td><td>3</td><td>Bourke, Mr. John</td><td>male</td><td>40</td><td>1</td><td>1</td><td>364849</td><td>15.5</td><td>null</td><td>Q</td></tr><tr><td>719</td><td>0</td><td>3</td><td>McEvoy, Mr. Michael</td><td>male</td><td>null</td><td>0</td><td>0</td><td>36568</td><td>15.5</td><td>null</td><td>Q</td></tr><tr><td>242</td><td>1</td><td>3</td><td>\"Murphy, Miss. Katherine \"\"Kate\"\"\"</td><td>female</td><td>null</td><td>1</td><td>0</td><td>367230</td><td>15.5</td><td>null</td><td>Q</td></tr><tr><td>187</td><td>1</td><td>3</td><td>\"O'Brien, Mrs. Thomas (Johanna \"\"Hannah\"\" Godfrey)\"</td><td>female</td><td>null</td><td>1</td><td>0</td><td>370365</td><td>15.5</td><td>null</td><td>Q</td></tr><tr><td>658</td><td>0</td><td>3</td><td>Bourke, Mrs. John (Catherine)</td><td>female</td><td>32</td><td>1</td><td>1</td><td>364849</td><td>15.5</td><td>null</td><td>Q</td></tr><tr><td>365</td><td>0</td><td>3</td><td>O'Brien, Mr. Thomas</td><td>male</td><td>null</td><td>1</td><td>0</td><td>370365</td><td>15.5</td><td>null</td><td>Q</td></tr><tr><td>256</td><td>1</td><td>3</td><td>Touma, Mrs. Darwis (Hanne Youssef Razi)</td><td>female</td><td>29</td><td>0</td><td>2</td><td>2650</td><td>15.2458</td><td>null</td><td>C</td></tr><tr><td>141</td><td>0</td><td>3</td><td>Boulos, Mrs. Joseph (Sultana)</td><td>female</td><td>null</td><td>0</td><td>2</td><td>2678</td><td>15.2458</td><td>null</td><td>C</td></tr><tr><td>66</td><td>1</td><td>3</td><td>Moubarek, Master. Gerios</td><td>male</td><td>null</td><td>1</td><td>1</td><td>2661</td><td>15.2458</td><td>null</td><td>C</td></tr><tr><td>853</td><td>0</td><td>3</td><td>Boulos, Miss. Nourelain</td><td>female</td><td>9</td><td>1</td><td>1</td><td>2678</td><td>15.2458</td><td>null</td><td>C</td></tr><tr><td>710</td><td>1</td><td>3</td><td>\"Moubarek, Master. Halim Gonios (\"\"William George\"\")\"</td><td>male</td><td>null</td><td>1</td><td>1</td><td>2661</td><td>15.2458</td><td>null</td><td>C</td></tr><tr><td>498</td><td>0</td><td>3</td><td>Shellard, Mr. Frederick William</td><td>male</td><td>null</td><td>0</td><td>0</td><td>C.A. 6212</td><td>15.1</td><td>null</td><td>S</td></tr><tr><td>182</td><td>0</td><td>2</td><td>Pernot, Mr. Rene</td><td>male</td><td>null</td><td>0</td><td>0</td><td>SC/PARIS 2131</td><td>15.05</td><td>null</td><td>C</td></tr><tr><td>136</td><td>0</td><td>2</td><td>Richard, Mr. Emile</td><td>male</td><td>23</td><td>0</td><td>0</td><td>SC/PARIS 2133</td><td>15.0458</td><td>null</td><td>C</td></tr><tr><td>587</td><td>0</td><td>2</td><td>Jarvis, Mr. John Denzil</td><td>male</td><td>47</td><td>0</td><td>0</td><td>237565</td><td>15</td><td>null</td><td>S</td></tr><tr><td>32</td><td>1</td><td>1</td><td>Spencer, Mrs. William Augustus (Marie Eugenie)</td><td>female</td><td>null</td><td>1</td><td>0</td><td>PC 17569</td><td>146.5208</td><td>B78</td><td>C</td></tr><tr><td>196</td><td>1</td><td>1</td><td>Lurette, Miss. Elise</td><td>female</td><td>58</td><td>0</td><td>0</td><td>PC 17569</td><td>146.5208</td><td>B80</td><td>C</td></tr><tr><td>539</td><td>0</td><td>3</td><td>Risien, Mr. Samuel Beard</td><td>male</td><td>null</td><td>0</td><td>0</td><td>364498</td><td>14.5</td><td>null</td><td>S</td></tr><tr><td>133</td><td>0</td><td>3</td><td>Robins, Mrs. Alexander A (Grace Charity Laury)</td><td>female</td><td>47</td><td>1</td><td>0</td><td>A/5. 3337</td><td>14.5</td><td>null</td><td>S</td></tr><tr><td>576</td><td>0</td><td>3</td><td>Patchett, Mr. George</td><td>male</td><td>19</td><td>0</td><td>0</td><td>358585</td><td>14.5</td><td>null</td><td>S</td></tr><tr><td>248</td><td>1</td><td>2</td><td>Hamalainen, Mrs. William (Anna)</td><td>female</td><td>24</td><td>0</td><td>2</td><td>250649</td><td>14.5</td><td>null</td><td>S</td></tr><tr><td>761</td><td>0</td><td>3</td><td>Garfirth, Mr. John</td><td>male</td><td>null</td><td>0</td><td>0</td><td>358585</td><td>14.5</td><td>null</td><td>S</td></tr><tr><td>756</td><td>1</td><td>2</td><td>Hamalainen, Master. Viljo</td><td>male</td><td>0.67</td><td>1</td><td>1</td><td>250649</td><td>14.5</td><td>null</td><td>S</td></tr><tr><td>154</td><td>0</td><td>3</td><td>van Billiard, Mr. Austin Blyler</td><td>male</td><td>40.5</td><td>0</td><td>2</td><td>A/5. 851</td><td>14.5</td><td>null</td><td>S</td></tr><tr><td>115</td><td>0</td><td>3</td><td>Attalah, Miss. Malake</td><td>female</td><td>17</td><td>0</td><td>0</td><td>2627</td><td>14.4583</td><td>null</td><td>C</td></tr><tr><td>579</td><td>0</td><td>3</td><td>Caram, Mrs. Joseph (Maria Elias)</td><td>female</td><td>null</td><td>1</td><td>0</td><td>2689</td><td>14.4583</td><td>null</td><td>C</td></tr><tr><td>496</td><td>0</td><td>3</td><td>Yousseff, Mr. Gerious</td><td>male</td><td>null</td><td>0</td><td>0</td><td>2627</td><td>14.4583</td><td>null</td><td>C</td></tr><tr><td>74</td><td>0</td><td>3</td><td>Chronopoulos, Mr. Apostolos</td><td>male</td><td>26</td><td>1</td><td>0</td><td>2680</td><td>14.4542</td><td>null</td><td>C</td></tr><tr><td>621</td><td>0</td><td>3</td><td>Yasbeck, Mr. Antoni</td><td>male</td><td>27</td><td>1</td><td>0</td><td>2659</td><td>14.4542</td><td>null</td><td>C</td></tr><tr><td>363</td><td>0</td><td>3</td><td>Barbara, Mrs. (Catherine David)</td><td>female</td><td>45</td><td>0</td><td>1</td><td>2691</td><td>14.4542</td><td>null</td><td>C</td></tr><tr><td>703</td><td>0</td><td>3</td><td>Barbara, Miss. Saiide</td><td>female</td><td>18</td><td>0</td><td>1</td><td>2691</td><td>14.4542</td><td>null</td><td>C</td></tr><tr><td>112</td><td>0</td><td>3</td><td>Zabour, Miss. Hileni</td><td>female</td><td>14.5</td><td>1</td><td>0</td><td>2665</td><td>14.4542</td><td>null</td><td>C</td></tr><tr><td>241</td><td>0</td><td>3</td><td>Zabour, Miss. Thamine</td><td>female</td><td>null</td><td>1</td><td>0</td><td>2665</td><td>14.4542</td><td>null</td><td>C</td></tr><tr><td>831</td><td>1</td><td>3</td><td>Yasbeck, Mrs. Antoni (Selini Alexander)</td><td>female</td><td>15</td><td>1</td><td>0</td><td>2659</td><td>14.4542</td><td>null</td><td>C</td></tr><tr><td>424</td><td>0</td><td>3</td><td>Danbom, Mrs. Ernst Gilbert (Anna Sigrid Maria Brogren)</td><td>female</td><td>28</td><td>1</td><td>1</td><td>347080</td><td>14.4</td><td>null</td><td>S</td></tr><tr><td>617</td><td>0</td><td>3</td><td>Danbom, Mr. Ernst Gilbert</td><td>male</td><td>34</td><td>1</td><td>1</td><td>347080</td><td>14.4</td><td>null</td><td>S</td></tr><tr><td>861</td><td>0</td><td>3</td><td>Hansen, Mr. Claus Peter</td><td>male</td><td>41</td><td>2</td><td>0</td><td>350026</td><td>14.1083</td><td>null</td><td>S</td></tr><tr><td>318</td><td>0</td><td>2</td><td>Moraweck, Dr. Ernest</td><td>male</td><td>54</td><td>0</td><td>0</td><td>29011</td><td>14</td><td>null</td><td>S</td></tr><tr><td>270</td><td>1</td><td>1</td><td>Bissette, Miss. Amelia</td><td>female</td><td>35</td><td>0</td><td>0</td><td>PC 17760</td><td>135.6333</td><td>C99</td><td>S</td></tr><tr><td>374</td><td>0</td><td>1</td><td>Ringhini, Mr. Sante</td><td>male</td><td>22</td><td>0</td><td>0</td><td>PC 17760</td><td>135.6333</td><td>null</td><td>C</td></tr><tr><td>326</td><td>1</td><td>1</td><td>Young, Miss. Marie Grice</td><td>female</td><td>36</td><td>0</td><td>0</td><td>PC 17760</td><td>135.6333</td><td>C32</td><td>C</td></tr><tr><td>338</td><td>1</td><td>1</td><td>Burns, Miss. Elizabeth Margaret</td><td>female</td><td>41</td><td>0</td><td>0</td><td>16966</td><td>134.5</td><td>E40</td><td>C</td></tr><tr><td>320</td><td>1</td><td>1</td><td>Spedden, Mrs. Frederic Oakley (Margaretta Corning Stone)</td><td>female</td><td>40</td><td>1</td><td>1</td><td>16966</td><td>134.5</td><td>E34</td><td>C</td></tr><tr><td>335</td><td>1</td><td>1</td><td>Frauenthal, Mrs. Henry William (Clara Heinsheimer)</td><td>female</td><td>null</td><td>1</td><td>0</td><td>PC 17611</td><td>133.65</td><td>null</td><td>S</td></tr><tr><td>661</td><td>1</td><td>1</td><td>Frauenthal, Dr. Henry William</td><td>male</td><td>50</td><td>2</td><td>0</td><td>PC 17611</td><td>133.65</td><td>null</td><td>S</td></tr><tr><td>548</td><td>1</td><td>2</td><td>Padro y Manent, Mr. Julian</td><td>male</td><td>null</td><td>0</td><td>0</td><td>SC/PARIS 2146</td><td>13.8625</td><td>null</td><td>C</td></tr><tr><td>867</td><td>1</td><td>2</td><td>Duran y More, Miss. Asuncion</td><td>female</td><td>27</td><td>1</td><td>0</td><td>SC/PARIS 2149</td><td>13.8583</td><td>null</td><td>C</td></tr><tr><td>474</td><td>1</td><td>2</td><td>Jerwan, Mrs. Amin S (Marie Marthe Thuillard)</td><td>female</td><td>23</td><td>0</td><td>0</td><td>SC/AH Basle 541</td><td>13.7917</td><td>D</td><td>C</td></tr><tr><td>696</td><td>0</td><td>2</td><td>Chapman, Mr. Charles Henry</td><td>male</td><td>52</td><td>0</td><td>0</td><td>248731</td><td>13.5</td><td>null</td><td>S</td></tr><tr><td>563</td><td>0</td><td>2</td><td>Norman, Mr. Robert Douglas</td><td>male</td><td>28</td><td>0</td><td>0</td><td>218629</td><td>13.5</td><td>null</td><td>S</td></tr><tr><td>233</td><td>0</td><td>2</td><td>Sjostedt, Mr. Ernst Adolf</td><td>male</td><td>59</td><td>0</td><td>0</td><td>237442</td><td>13.5</td><td>null</td><td>S</td></tr><tr><td>707</td><td>1</td><td>2</td><td>\"Kelly, Mrs. Florence \"\"Fannie\"\"\"</td><td>female</td><td>45</td><td>0</td><td>0</td><td>223596</td><td>13.5</td><td>null</td><td>S</td></tr><tr><td>692</td><td>1</td><td>3</td><td>Karun, Miss. Manca</td><td>female</td><td>4</td><td>0</td><td>1</td><td>349256</td><td>13.4167</td><td>null</td><td>C</td></tr><tr><td>135</td><td>0</td><td>2</td><td>Sobey, Mr. Samuel James Hayden</td><td>male</td><td>25</td><td>0</td><td>0</td><td>C.A. 29178</td><td>13</td><td>null</td><td>S</td></tr><tr><td>150</td><td>0</td><td>2</td><td>Byles, Rev. Thomas Roussel Davids</td><td>male</td><td>42</td><td>0</td><td>0</td><td>244310</td><td>13</td><td>null</td><td>S</td></tr><tr><td>18</td><td>1</td><td>2</td><td>Williams, Mr. Charles Eugene</td><td>male</td><td>null</td><td>0</td><td>0</td><td>244373</td><td>13</td><td>null</td><td>S</td></tr><tr><td>289</td><td>1</td><td>2</td><td>Hosono, Mr. Masabumi</td><td>male</td><td>42</td><td>0</td><td>0</td><td>237798</td><td>13</td><td>null</td><td>S</td></tr><tr><td>328</td><td>1</td><td>2</td><td>Ball, Mrs. (Ada E Hall)</td><td>female</td><td>36</td><td>0</td><td>0</td><td>28551</td><td>13</td><td>D</td><td>S</td></tr><tr><td>659</td><td>0</td><td>2</td><td>Eitemiller, Mr. George Floyd</td><td>male</td><td>23</td><td>0</td><td>0</td><td>29751</td><td>13</td><td>null</td><td>S</td></tr><tr><td>577</td><td>1</td><td>2</td><td>Garside, Miss. Ethel</td><td>female</td><td>34</td><td>0</td><td>0</td><td>243880</td><td>13</td><td>null</td><td>S</td></tr><tr><td>347</td><td>1</td><td>2</td><td>Smith, Miss. Marion Elsie</td><td>female</td><td>40</td><td>0</td><td>0</td><td>31418</td><td>13</td><td>null</td><td>S</td></tr><tr><td>346</td><td>1</td><td>2</td><td>\"Brown, Miss. Amelia \"\"Mildred\"\"\"</td><td>female</td><td>24</td><td>0</td><td>0</td><td>248733</td><td>13</td><td>F33</td><td>S</td></tr><tr><td>343</td><td>0</td><td>2</td><td>Collander, Mr. Erik Gustaf</td><td>male</td><td>28</td><td>0</td><td>0</td><td>248740</td><td>13</td><td>null</td><td>S</td></tr><tr><td>345</td><td>0</td><td>2</td><td>Fox, Mr. Stanley Hubert</td><td>male</td><td>36</td><td>0</td><td>0</td><td>229236</td><td>13</td><td>null</td><td>S</td></tr><tr><td>674</td><td>1</td><td>2</td><td>Wilhelms, Mr. Charles</td><td>male</td><td>31</td><td>0</td><td>0</td><td>244270</td><td>13</td><td>null</td><td>S</td></tr><tr><td>22</td><td>1</td><td>2</td><td>Beesley, Mr. Lawrence</td><td>male</td><td>34</td><td>0</td><td>0</td><td>248698</td><td>13</td><td>D56</td><td>S</td></tr><tr><td>735</td><td>0</td><td>2</td><td>Troupiansky, Mr. Moses Aaron</td><td>male</td><td>23</td><td>0</td><td>0</td><td>233639</td><td>13</td><td>null</td><td>S</td></tr><tr><td>724</td><td>0</td><td>2</td><td>Hodges, Mr. Henry Price</td><td>male</td><td>50</td><td>0</td><td>0</td><td>250643</td><td>13</td><td>null</td><td>S</td></tr><tr><td>723</td><td>0</td><td>2</td><td>Gillespie, Mr. William Henry</td><td>male</td><td>34</td><td>0</td><td>0</td><td>12233</td><td>13</td><td>null</td><td>S</td></tr><tr><td>748</td><td>1</td><td>2</td><td>Sinkkonen, Miss. Anna</td><td>female</td><td>30</td><td>0</td><td>0</td><td>250648</td><td>13</td><td>null</td><td>S</td></tr><tr><td>191</td><td>1</td><td>2</td><td>Pinsky, Mrs. (Rosa)</td><td>female</td><td>32</td><td>0</td><td>0</td><td>234604</td><td>13</td><td>null</td><td>S</td></tr><tr><td>179</td><td>0</td><td>2</td><td>Hale, Mr. Reginald</td><td>male</td><td>30</td><td>0</td><td>0</td><td>250653</td><td>13</td><td>null</td><td>S</td></tr><tr><td>801</td><td>0</td><td>2</td><td>Ponesell, Mr. Martin</td><td>male</td><td>34</td><td>0</td><td>0</td><td>250647</td><td>13</td><td>null</td><td>S</td></tr><tr><td>192</td><td>0</td><td>2</td><td>Carbines, Mr. William</td><td>male</td><td>19</td><td>0</td><td>0</td><td>28424</td><td>13</td><td>null</td><td>S</td></tr><tr><td>809</td><td>0</td><td>2</td><td>Meyer, Mr. August</td><td>male</td><td>39</td><td>0</td><td>0</td><td>248723</td><td>13</td><td>null</td><td>S</td></tr><tr><td>796</td><td>0</td><td>2</td><td>Otter, Mr. Richard</td><td>male</td><td>39</td><td>0</td><td>0</td><td>28213</td><td>13</td><td>null</td><td>S</td></tr><tr><td>418</td><td>1</td><td>2</td><td>Silven, Miss. Lyyli Karoliina</td><td>female</td><td>18</td><td>0</td><td>2</td><td>250652</td><td>13</td><td>null</td><td>S</td></tr><tr><td>388</td><td>1</td><td>2</td><td>Buss, Miss. Kate</td><td>female</td><td>36</td><td>0</td><td>0</td><td>27849</td><td>13</td><td>null</td><td>S</td></tr><tr><td>419</td><td>0</td><td>2</td><td>Matthews, Mr. William John</td><td>male</td><td>30</td><td>0</td><td>0</td><td>28228</td><td>13</td><td>null</td><td>S</td></tr><tr><td>200</td><td>0</td><td>2</td><td>\"Yrois, Miss. Henriette (\"\"Mrs Harbeck\"\")\"</td><td>female</td><td>24</td><td>0</td><td>0</td><td>248747</td><td>13</td><td>null</td><td>S</td></tr><tr><td>358</td><td>0</td><td>2</td><td>Funk, Miss. Annie Clemmer</td><td>female</td><td>38</td><td>0</td><td>0</td><td>237671</td><td>13</td><td>null</td><td>S</td></tr><tr><td>734</td><td>0</td><td>2</td><td>Berriman, Mr. William John</td><td>male</td><td>23</td><td>0</td><td>0</td><td>28425</td><td>13</td><td>null</td><td>S</td></tr><tr><td>444</td><td>1</td><td>2</td><td>Reynaldo, Ms. Encarnacion</td><td>female</td><td>28</td><td>0</td><td>0</td><td>230434</td><td>13</td><td>null</td><td>S</td></tr><tr><td>887</td><td>0</td><td>2</td><td>Montvila, Rev. Juozas</td><td>male</td><td>27</td><td>0</td><td>0</td><td>211536</td><td>13</td><td>null</td><td>S</td></tr><tr><td>214</td><td>0</td><td>2</td><td>Givard, Mr. Hans Kristensen</td><td>male</td><td>30</td><td>0</td><td>0</td><td>250646</td><td>13</td><td>null</td><td>S</td></tr><tr><td>222</td><td>0</td><td>2</td><td>Bracken, Mr. James H</td><td>male</td><td>27</td><td>0</td><td>0</td><td>220367</td><td>13</td><td>null</td><td>S</td></tr><tr><td>124</td><td>1</td><td>2</td><td>Webber, Miss. Susan</td><td>female</td><td>32.5</td><td>0</td><td>0</td><td>27267</td><td>13</td><td>E101</td><td>S</td></tr><tr><td>464</td><td>0</td><td>2</td><td>Milling, Mr. Jacob Christian</td><td>male</td><td>48</td><td>0</td><td>0</td><td>234360</td><td>13</td><td>null</td><td>S</td></tr><tr><td>229</td><td>0</td><td>2</td><td>Fahlstrom, Mr. Arne Jonas</td><td>male</td><td>18</td><td>0</td><td>0</td><td>236171</td><td>13</td><td>null</td><td>S</td></tr><tr><td>344</td><td>0</td><td>2</td><td>Sedgwick, Mr. Charles Frederick Waddington</td><td>male</td><td>25</td><td>0</td><td>0</td><td>244361</td><td>13</td><td>null</td><td>S</td></tr><tr><td>866</td><td>1</td><td>2</td><td>Bystrom, Mrs. (Karolina)</td><td>female</td><td>42</td><td>0</td><td>0</td><td>236852</td><td>13</td><td>null</td><td>S</td></tr><tr><td>865</td><td>0</td><td>2</td><td>Gill, Mr. John William</td><td>male</td><td>24</td><td>0</td><td>0</td><td>233866</td><td>13</td><td>null</td><td>S</td></tr><tr><td>715</td><td>0</td><td>2</td><td>Greenberg, Mr. Samuel</td><td>male</td><td>52</td><td>0</td><td>0</td><td>250647</td><td>13</td><td>null</td><td>S</td></tr><tr><td>667</td><td>0</td><td>2</td><td>Butler, Mr. Reginald Fenton</td><td>male</td><td>25</td><td>0</td><td>0</td><td>234686</td><td>13</td><td>null</td><td>S</td></tr><tr><td>636</td><td>1</td><td>2</td><td>Davis, Miss. Mary</td><td>female</td><td>28</td><td>0</td><td>0</td><td>237668</td><td>13</td><td>null</td><td>S</td></tr><tr><td>764</td><td>1</td><td>1</td><td>Carter, Mrs. William Ernest (Lucile Polk)</td><td>female</td><td>36</td><td>1</td><td>2</td><td>113760</td><td>120</td><td>B96 B98</td><td>S</td></tr><tr><td>803</td><td>1</td><td>1</td><td>Carter, Master. William Thornton II</td><td>male</td><td>11</td><td>1</td><td>2</td><td>113760</td><td>120</td><td>B96 B98</td><td>S</td></tr><tr><td>391</td><td>1</td><td>1</td><td>Carter, Mr. William Ernest</td><td>male</td><td>36</td><td>1</td><td>2</td><td>113760</td><td>120</td><td>B96 B98</td><td>S</td></tr><tr><td>436</td><td>1</td><td>1</td><td>Carter, Miss. Lucile Polk</td><td>female</td><td>14</td><td>1</td><td>2</td><td>113760</td><td>120</td><td>B96 B98</td><td>S</td></tr><tr><td>293</td><td>0</td><td>2</td><td>Levy, Mr. Rene Jacques</td><td>male</td><td>36</td><td>0</td><td>0</td><td>SC/Paris 2163</td><td>12.875</td><td>D</td><td>C</td></tr><tr><td>400</td><td>1</td><td>2</td><td>Trout, Mrs. William H (Jessie L)</td><td>female</td><td>28</td><td>0</td><td>0</td><td>240929</td><td>12.65</td><td>null</td><td>S</td></tr><tr><td>151</td><td>0</td><td>2</td><td>Bateman, Rev. Robert James</td><td>male</td><td>51</td><td>0</td><td>0</td><td>S.O.P. 1166</td><td>12.525</td><td>null</td><td>S</td></tr><tr><td>80</td><td>1</td><td>3</td><td>Dowdell, Miss. Elizabeth</td><td>female</td><td>30</td><td>0</td><td>0</td><td>364516</td><td>12.475</td><td>null</td><td>S</td></tr><tr><td>752</td><td>1</td><td>3</td><td>Moor, Master. Meier</td><td>male</td><td>6</td><td>0</td><td>1</td><td>392096</td><td>12.475</td><td>E121</td><td>S</td></tr><tr><td>824</td><td>1</td><td>3</td><td>Moor, Mrs. (Beila)</td><td>female</td><td>27</td><td>0</td><td>1</td><td>392096</td><td>12.475</td><td>E121</td><td>S</td></tr><tr><td>778</td><td>1</td><td>3</td><td>Emanuel, Miss. Virginia Ethel</td><td>female</td><td>5</td><td>0</td><td>0</td><td>364516</td><td>12.475</td><td>null</td><td>S</td></tr><tr><td>323</td><td>1</td><td>2</td><td>Slayter, Miss. Hilda Mary</td><td>female</td><td>30</td><td>0</td><td>0</td><td>234818</td><td>12.35</td><td>null</td><td>Q</td></tr><tr><td>627</td><td>0</td><td>2</td><td>Kirkland, Rev. Charles Leonard</td><td>male</td><td>57</td><td>0</td><td>0</td><td>219533</td><td>12.35</td><td>null</td><td>Q</td></tr><tr><td>304</td><td>1</td><td>2</td><td>Keane, Miss. Nora A</td><td>female</td><td>null</td><td>0</td><td>0</td><td>226593</td><td>12.35</td><td>E101</td><td>Q</td></tr><tr><td>480</td><td>1</td><td>3</td><td>Hirvonen, Miss. Hildur E</td><td>female</td><td>2</td><td>0</td><td>1</td><td>3101298</td><td>12.2875</td><td>null</td><td>S</td></tr><tr><td>240</td><td>0</td><td>2</td><td>Hunt, Mr. George Henry</td><td>male</td><td>33</td><td>0</td><td>0</td><td>SCO/W 1585</td><td>12.275</td><td>null</td><td>S</td></tr><tr><td>390</td><td>1</td><td>2</td><td>Lehmann, Miss. Bertha</td><td>female</td><td>17</td><td>0</td><td>0</td><td>SC 1748</td><td>12</td><td>null</td><td>C</td></tr><tr><td>394</td><td>1</td><td>1</td><td>Newell, Miss. Marjorie</td><td>female</td><td>23</td><td>1</td><td>0</td><td>35273</td><td>113.275</td><td>D36</td><td>C</td></tr><tr><td>660</td><td>0</td><td>1</td><td>Newell, Mr. Arthur Webster</td><td>male</td><td>58</td><td>0</td><td>2</td><td>35273</td><td>113.275</td><td>D48</td><td>C</td></tr><tr><td>216</td><td>1</td><td>1</td><td>Newell, Miss. Madeleine</td><td>female</td><td>31</td><td>1</td><td>0</td><td>35273</td><td>113.275</td><td>D36</td><td>C</td></tr><tr><td>582</td><td>1</td><td>1</td><td>Thayer, Mrs. John Borland (Marian Longstreth Morris)</td><td>female</td><td>39</td><td>1</td><td>1</td><td>17421</td><td>110.8833</td><td>C68</td><td>C</td></tr><tr><td>551</td><td>1</td><td>1</td><td>Thayer, Mr. John Borland Jr</td><td>male</td><td>17</td><td>0</td><td>2</td><td>17421</td><td>110.8833</td><td>C70</td><td>C</td></tr><tr><td>699</td><td>0</td><td>1</td><td>Thayer, Mr. John Borland</td><td>male</td><td>49</td><td>1</td><td>1</td><td>17421</td><td>110.8833</td><td>C68</td><td>C</td></tr><tr><td>307</td><td>1</td><td>1</td><td>Fleming, Miss. Margaret</td><td>female</td><td>null</td><td>0</td><td>0</td><td>17421</td><td>110.8833</td><td>null</td><td>C</td></tr><tr><td>145</td><td>0</td><td>2</td><td>Andrew, Mr. Edgardo Samuel</td><td>male</td><td>18</td><td>0</td><td>0</td><td>231945</td><td>11.5</td><td>null</td><td>S</td></tr><tr><td>530</td><td>0</td><td>2</td><td>Hocking, Mr. Richard George</td><td>male</td><td>23</td><td>2</td><td>1</td><td>29104</td><td>11.5</td><td>null</td><td>S</td></tr><tr><td>758</td><td>0</td><td>2</td><td>Bailey, Mr. Percy Andrew</td><td>male</td><td>18</td><td>0</td><td>0</td><td>29108</td><td>11.5</td><td>null</td><td>S</td></tr><tr><td>862</td><td>0</td><td>2</td><td>Giles, Mr. Frederick Edward</td><td>male</td><td>21</td><td>1</td><td>0</td><td>28134</td><td>11.5</td><td>null</td><td>S</td></tr><tr><td>126</td><td>1</td><td>3</td><td>Nicola-Yarred, Master. Elias</td><td>male</td><td>12</td><td>1</td><td>0</td><td>2651</td><td>11.2417</td><td>null</td><td>C</td></tr><tr><td>40</td><td>1</td><td>3</td><td>Nicola-Yarred, Miss. Jamila</td><td>female</td><td>14</td><td>1</td><td>0</td><td>2651</td><td>11.2417</td><td>null</td><td>C</td></tr><tr><td>173</td><td>1</td><td>3</td><td>Johnson, Miss. Eleanor Ileen</td><td>female</td><td>1</td><td>1</td><td>1</td><td>347742</td><td>11.1333</td><td>null</td><td>S</td></tr><tr><td>9</td><td>1</td><td>3</td><td>Johnson, Mrs. Oscar W (Elisabeth Vilhelmina Berg)</td><td>female</td><td>27</td><td>0</td><td>2</td><td>347742</td><td>11.1333</td><td>null</td><td>S</td></tr><tr><td>870</td><td>1</td><td>3</td><td>Johnson, Master. Harold Theodor</td><td>male</td><td>4</td><td>1</td><td>1</td><td>347742</td><td>11.1333</td><td>null</td><td>S</td></tr><tr><td>308</td><td>1</td><td>1</td><td>Penasco y Castellana, Mrs. Victor de Satode (Maria Josefa Perez de Soto y Vallejo)</td><td>female</td><td>17</td><td>1</td><td>0</td><td>PC 17758</td><td>108.9</td><td>C65</td><td>C</td></tr><tr><td>506</td><td>0</td><td>1</td><td>Penasco y Castellana, Mr. Victor de Satode</td><td>male</td><td>18</td><td>1</td><td>0</td><td>PC 17758</td><td>108.9</td><td>C65</td><td>C</td></tr><tr><td>545</td><td>0</td><td>1</td><td>Douglas, Mr. Walter Donald</td><td>male</td><td>50</td><td>1</td><td>0</td><td>PC 17761</td><td>106.425</td><td>C86</td><td>C</td></tr><tr><td>538</td><td>1</td><td>1</td><td>LeRoy, Miss. Bertha</td><td>female</td><td>30</td><td>0</td><td>0</td><td>PC 17761</td><td>106.425</td><td>null</td><td>C</td></tr><tr><td>883</td><td>0</td><td>3</td><td>Dahlberg, Miss. Gerda Ulrika</td><td>female</td><td>22</td><td>0</td><td>0</td><td>7552</td><td>10.5167</td><td>null</td><td>S</td></tr><tr><td>571</td><td>1</td><td>2</td><td>Harris, Mr. George</td><td>male</td><td>62</td><td>0</td><td>0</td><td>S.W./PP 752</td><td>10.5</td><td>null</td><td>S</td></tr><tr><td>57</td><td>1</td><td>2</td><td>Rugg, Miss. Emily</td><td>female</td><td>21</td><td>0</td><td>0</td><td>C.A. 31026</td><td>10.5</td><td>null</td><td>S</td></tr><tr><td>85</td><td>1</td><td>2</td><td>Ilett, Miss. Bertha</td><td>female</td><td>17</td><td>0</td><td>0</td><td>SO/C 14885</td><td>10.5</td><td>null</td><td>S</td></tr><tr><td>517</td><td>1</td><td>2</td><td>Lemore, Mrs. (Amelia Milley)</td><td>female</td><td>34</td><td>0</td><td>0</td><td>C.A. 34260</td><td>10.5</td><td>F33</td><td>S</td></tr><tr><td>620</td><td>0</td><td>2</td><td>Gavey, Mr. Lawrence</td><td>male</td><td>26</td><td>0</td><td>0</td><td>31028</td><td>10.5</td><td>null</td><td>S</td></tr><tr><td>266</td><td>0</td><td>2</td><td>Reeves, Mr. David</td><td>male</td><td>36</td><td>0</td><td>0</td><td>C.A. 17248</td><td>10.5</td><td>null</td><td>S</td></tr><tr><td>527</td><td>1</td><td>2</td><td>Ridsdale, Miss. Lucy</td><td>female</td><td>50</td><td>0</td><td>0</td><td>W./C. 14258</td><td>10.5</td><td>null</td><td>S</td></tr><tr><td>67</td><td>1</td><td>2</td><td>Nye, Mrs. (Elizabeth Ramell)</td><td>female</td><td>29</td><td>0</td><td>0</td><td>C.A. 29395</td><td>10.5</td><td>F33</td><td>S</td></tr><tr><td>773</td><td>0</td><td>2</td><td>Mack, Mrs. (Mary)</td><td>female</td><td>57</td><td>0</td><td>0</td><td>S.O./P.P. 3</td><td>10.5</td><td>E77</td><td>S</td></tr><tr><td>718</td><td>1</td><td>2</td><td>\"Troutt, Miss. Edwina Celia \"\"Winnie\"\"\"</td><td>female</td><td>27</td><td>0</td><td>0</td><td>34218</td><td>10.5</td><td>E101</td><td>S</td></tr><tr><td>220</td><td>0</td><td>2</td><td>Harris, Mr. Walter</td><td>male</td><td>30</td><td>0</td><td>0</td><td>W/C 14208</td><td>10.5</td><td>null</td><td>S</td></tr><tr><td>71</td><td>0</td><td>2</td><td>Jenkin, Mr. Stephen Curnow</td><td>male</td><td>32</td><td>0</td><td>0</td><td>C.A. 33111</td><td>10.5</td><td>null</td><td>S</td></tr><tr><td>235</td><td>0</td><td>2</td><td>Leyson, Mr. Robert William Norman</td><td>male</td><td>24</td><td>0</td><td>0</td><td>C.A. 29566</td><td>10.5</td><td>null</td><td>S</td></tr><tr><td>34</td><td>0</td><td>2</td><td>Wheadon, Mr. Edward H</td><td>male</td><td>66</td><td>0</td><td>0</td><td>C.A. 24579</td><td>10.5</td><td>null</td><td>S</td></tr><tr><td>459</td><td>1</td><td>2</td><td>Toomey, Miss. Ellen</td><td>female</td><td>50</td><td>0</td><td>0</td><td>F.C.C. 13531</td><td>10.5</td><td>null</td><td>S</td></tr><tr><td>842</td><td>0</td><td>2</td><td>Mudd, Mr. Thomas Charles</td><td>male</td><td>16</td><td>0</td><td>0</td><td>S.O./P.P. 3</td><td>10.5</td><td>null</td><td>S</td></tr><tr><td>239</td><td>0</td><td>2</td><td>Pengelly, Mr. Frederick William</td><td>male</td><td>19</td><td>0</td><td>0</td><td>28665</td><td>10.5</td><td>null</td><td>S</td></tr><tr><td>243</td><td>0</td><td>2</td><td>Coleridge, Mr. Reginald Charles</td><td>male</td><td>29</td><td>0</td><td>0</td><td>W./C. 14263</td><td>10.5</td><td>null</td><td>S</td></tr><tr><td>227</td><td>1</td><td>2</td><td>Mellors, Mr. William John</td><td>male</td><td>19</td><td>0</td><td>0</td><td>SW/PP 751</td><td>10.5</td><td>null</td><td>S</td></tr><tr><td>440</td><td>0</td><td>2</td><td>Kvillner, Mr. Johan Henrik Johannesson</td><td>male</td><td>31</td><td>0</td><td>0</td><td>C.A. 18723</td><td>10.5</td><td>null</td><td>S</td></tr><tr><td>399</td><td>0</td><td>2</td><td>Pain, Dr. Alfred</td><td>male</td><td>23</td><td>0</td><td>0</td><td>244278</td><td>10.5</td><td>null</td><td>S</td></tr><tr><td>884</td><td>0</td><td>2</td><td>Banfield, Mr. Frederick James</td><td>male</td><td>28</td><td>0</td><td>0</td><td>C.A./SOTON 34068</td><td>10.5</td><td>null</td><td>S</td></tr><tr><td>813</td><td>0</td><td>2</td><td>Slemen, Mr. Richard James</td><td>male</td><td>35</td><td>0</td><td>0</td><td>28206</td><td>10.5</td><td>null</td><td>S</td></tr><tr><td>673</td><td>0</td><td>2</td><td>Mitchell, Mr. Henry Michael</td><td>male</td><td>70</td><td>0</td><td>0</td><td>C.A. 24580</td><td>10.5</td><td>null</td><td>S</td></tr><tr><td>252</td><td>0</td><td>3</td><td>Strom, Mrs. Wilhelm (Elna Matilda Persson)</td><td>female</td><td>29</td><td>1</td><td>1</td><td>347054</td><td>10.4625</td><td>G6</td><td>S</td></tr><tr><td>206</td><td>0</td><td>3</td><td>Strom, Miss. Telma Matilda</td><td>female</td><td>2</td><td>0</td><td>1</td><td>347054</td><td>10.4625</td><td>G6</td><td>S</td></tr><tr><td>688</td><td>0</td><td>3</td><td>Dakic, Mr. Branko</td><td>male</td><td>19</td><td>0</td><td>0</td><td>349228</td><td>10.1708</td><td>null</td><td>S</td></tr><tr><td>598</td><td>0</td><td>3</td><td>Johnson, Mr. Alfred</td><td>male</td><td>49</td><td>0</td><td>0</td><td>LINE</td><td>0</td><td>null</td><td>S</td></tr><tr><td>634</td><td>0</td><td>1</td><td>Parr, Mr. William Henry Marsh</td><td>male</td><td>null</td><td>0</td><td>0</td><td>112052</td><td>0</td><td>null</td><td>S</td></tr><tr><td>272</td><td>1</td><td>3</td><td>Tornquist, Mr. William Henry</td><td>male</td><td>25</td><td>0</td><td>0</td><td>LINE</td><td>0</td><td>null</td><td>S</td></tr><tr><td>414</td><td>0</td><td>2</td><td>Cunningham, Mr. Alfred Fleming</td><td>male</td><td>null</td><td>0</td><td>0</td><td>239853</td><td>0</td><td>null</td><td>S</td></tr><tr><td>467</td><td>0</td><td>2</td><td>Campbell, Mr. William</td><td>male</td><td>null</td><td>0</td><td>0</td><td>239853</td><td>0</td><td>null</td><td>S</td></tr><tr><td>303</td><td>0</td><td>3</td><td>Johnson, Mr. William Cahoone Jr</td><td>male</td><td>19</td><td>0</td><td>0</td><td>LINE</td><td>0</td><td>null</td><td>S</td></tr><tr><td>733</td><td>0</td><td>2</td><td>Knight, Mr. Robert J</td><td>male</td><td>null</td><td>0</td><td>0</td><td>239855</td><td>0</td><td>null</td><td>S</td></tr><tr><td>807</td><td>0</td><td>1</td><td>Andrews, Mr. Thomas Jr</td><td>male</td><td>39</td><td>0</td><td>0</td><td>112050</td><td>0</td><td>A36</td><td>S</td></tr><tr><td>264</td><td>0</td><td>1</td><td>Harrison, Mr. William</td><td>male</td><td>40</td><td>0</td><td>0</td><td>112059</td><td>0</td><td>B94</td><td>S</td></tr><tr><td>278</td><td>0</td><td>2</td><td>\"Parkes, Mr. Francis \"\"Frank\"\"\"</td><td>male</td><td>null</td><td>0</td><td>0</td><td>239853</td><td>0</td><td>null</td><td>S</td></tr><tr><td>180</td><td>0</td><td>3</td><td>Leonard, Mr. Lionel</td><td>male</td><td>36</td><td>0</td><td>0</td><td>LINE</td><td>0</td><td>null</td><td>S</td></tr><tr><td>482</td><td>0</td><td>2</td><td>\"Frost, Mr. Anthony Wood \"\"Archie\"\"\"</td><td>male</td><td>null</td><td>0</td><td>0</td><td>239854</td><td>0</td><td>null</td><td>S</td></tr><tr><td>675</td><td>0</td><td>2</td><td>Watson, Mr. Ennis Hastings</td><td>male</td><td>null</td><td>0</td><td>0</td><td>239856</td><td>0</td><td>null</td><td>S</td></tr><tr><td>816</td><td>0</td><td>1</td><td>Fry, Mr. Richard</td><td>male</td><td>null</td><td>0</td><td>0</td><td>112058</td><td>0</td><td>B102</td><td>S</td></tr><tr><td>823</td><td>0</td><td>1</td><td>Reuchlin, Jonkheer. John George</td><td>male</td><td>38</td><td>0</td><td>0</td><td>19972</td><td>0</td><td>null</td><td>S</td></tr></tbody></table></div>"
      ]
     },
     "metadata": {
      "application/vnd.databricks.v1+output": {
       "addedWidgets": {},
       "aggData": [],
       "aggError": "",
       "aggOverflow": false,
       "aggSchema": [],
       "aggSeriesLimitReached": false,
       "aggType": "",
       "arguments": {},
       "columnCustomDisplayInfos": {},
       "data": [
        [
         "521",
         "1",
         "1",
         "Perreault, Miss. Anne",
         "female",
         "30",
         "0",
         "0",
         "12749",
         "93.5",
         "B73",
         "S"
        ],
        [
         "821",
         "1",
         "1",
         "Hays, Mrs. Charles Melville (Clara Jennings Gregg)",
         "female",
         "52",
         "1",
         "1",
         "12749",
         "93.5",
         "B69",
         "S"
        ],
        [
         "485",
         "1",
         "1",
         "Bishop, Mr. Dickinson H",
         "male",
         "25",
         "1",
         "0",
         "11967",
         "91.0792",
         "B49",
         "C"
        ],
        [
         "292",
         "1",
         "1",
         "Bishop, Mrs. Dickinson H (Helen Walton)",
         "female",
         "19",
         "1",
         "0",
         "11967",
         "91.0792",
         "B49",
         "C"
        ],
        [
         "487",
         "1",
         "1",
         "Hoyt, Mrs. Frederick Maxfield (Jane Anne Forby)",
         "female",
         "35",
         "1",
         "0",
         "19943",
         "90",
         "C93",
         "S"
        ],
        [
         "413",
         "1",
         "1",
         "Minahan, Miss. Daisy E",
         "female",
         "33",
         "1",
         "0",
         "19928",
         "90",
         "C78",
         "Q"
        ],
        [
         "225",
         "1",
         "1",
         "Hoyt, Mr. Frederick Maxfield",
         "male",
         "38",
         "1",
         "0",
         "19943",
         "90",
         "C93",
         "S"
        ],
        [
         "246",
         "0",
         "1",
         "Minahan, Dr. William Edward",
         "male",
         "44",
         "2",
         "0",
         "19928",
         "90",
         "C78",
         "Q"
        ],
        [
         "877",
         "0",
         "3",
         "Gustafsson, Mr. Alfred Ossian",
         "male",
         "20",
         "0",
         "0",
         "7534",
         "9.8458",
         null,
         "S"
        ],
        [
         "678",
         "1",
         "3",
         "Turja, Miss. Anna Sofia",
         "female",
         "18",
         "0",
         "0",
         "4138",
         "9.8417",
         null,
         "S"
        ],
        [
         "475",
         "0",
         "3",
         "Strandberg, Miss. Ida Sofia",
         "female",
         "22",
         "0",
         "0",
         "7553",
         "9.8375",
         null,
         "S"
        ],
        [
         "403",
         "0",
         "3",
         "Jussila, Miss. Mari Aina",
         "female",
         "21",
         "1",
         "0",
         "4137",
         "9.825",
         null,
         "S"
        ],
        [
         "114",
         "0",
         "3",
         "Jussila, Miss. Katriina",
         "female",
         "20",
         "1",
         "0",
         "4136",
         "9.825",
         null,
         "S"
        ],
        [
         "484",
         "1",
         "3",
         "Turkula, Mrs. (Hedwig)",
         "female",
         "63",
         "0",
         "0",
         "4134",
         "9.5875",
         null,
         "S"
        ],
        [
         "504",
         "0",
         "3",
         "Laitinen, Miss. Kristina Sofia",
         "female",
         "37",
         "0",
         "0",
         "4135",
         "9.5875",
         null,
         "S"
        ],
        [
         "442",
         "0",
         "3",
         "Hampe, Mr. Leon",
         "male",
         "20",
         "0",
         "0",
         "345769",
         "9.5",
         null,
         "S"
        ],
        [
         "356",
         "0",
         "3",
         "Vanden Steen, Mr. Leo Peter",
         "male",
         "28",
         "0",
         "0",
         "345783",
         "9.5",
         null,
         "S"
        ],
        [
         "771",
         "0",
         "3",
         "Lievens, Mr. Rene Aime",
         "male",
         "24",
         "0",
         "0",
         "345781",
         "9.5",
         null,
         "S"
        ],
        [
         "201",
         "0",
         "3",
         "Vande Walle, Mr. Nestor Cyriel",
         "male",
         "28",
         "0",
         "0",
         "345770",
         "9.5",
         null,
         "S"
        ],
        [
         "283",
         "0",
         "3",
         "de Pelsmaeker, Mr. Alfons",
         "male",
         "16",
         "0",
         "0",
         "345778",
         "9.5",
         null,
         "S"
        ],
        [
         "869",
         "0",
         "3",
         "van Melkebeke, Mr. Philemon",
         "male",
         null,
         "0",
         "0",
         "345777",
         "9.5",
         null,
         "S"
        ],
        [
         "753",
         "0",
         "3",
         "Vande Velde, Mr. Johannes Joseph",
         "male",
         "33",
         "0",
         "0",
         "345780",
         "9.5",
         null,
         "S"
        ],
        [
         "82",
         "1",
         "3",
         "Sheerlinck, Mr. Jan Baptist",
         "male",
         "29",
         "0",
         "0",
         "345779",
         "9.5",
         null,
         "S"
        ],
        [
         "287",
         "1",
         "3",
         "de Mulder, Mr. Theodore",
         "male",
         "30",
         "0",
         "0",
         "345774",
         "9.5",
         null,
         "S"
        ],
        [
         "714",
         "0",
         "3",
         "Larsson, Mr. August Viktor",
         "male",
         "29",
         "0",
         "0",
         "7545",
         "9.4833",
         null,
         "S"
        ],
        [
         "41",
         "0",
         "3",
         "Ahlin, Mrs. Johan (Johanna Persdotter Larsson)",
         "female",
         "40",
         "1",
         "0",
         "7546",
         "9.475",
         null,
         "S"
        ],
        [
         "226",
         "0",
         "3",
         "Berglund, Mr. Karl Ivar Sven",
         "male",
         "22",
         "0",
         "0",
         "PP 4348",
         "9.35",
         null,
         "S"
        ],
        [
         "856",
         "1",
         "3",
         "Aks, Mrs. Sam (Leah Rosen)",
         "female",
         "18",
         "0",
         "1",
         "392091",
         "9.35",
         null,
         "S"
        ],
        [
         "683",
         "0",
         "3",
         "Olsvigen, Mr. Thor Anderson",
         "male",
         "20",
         "0",
         "0",
         "6563",
         "9.225",
         null,
         "S"
        ],
        [
         "351",
         "0",
         "3",
         "Odahl, Mr. Nils Martin",
         "male",
         "23",
         "0",
         "0",
         "7267",
         "9.225",
         null,
         "S"
        ],
        [
         "139",
         "0",
         "3",
         "Osen, Mr. Olaf Elon",
         "male",
         "16",
         "0",
         "0",
         "7534",
         "9.2167",
         null,
         "S"
        ],
        [
         "874",
         "0",
         "3",
         "Vander Cruyssen, Mr. Victor",
         "male",
         "47",
         "0",
         "0",
         "345765",
         "9",
         null,
         "S"
        ],
        [
         "81",
         "0",
         "3",
         "Waelens, Mr. Achille",
         "male",
         "22",
         "0",
         "0",
         "345767",
         "9",
         null,
         "S"
        ],
        [
         "454",
         "1",
         "1",
         "Goldenberg, Mr. Samuel L",
         "male",
         "49",
         "1",
         "0",
         "17453",
         "89.1042",
         "C92",
         "C"
        ],
        [
         "850",
         "1",
         "1",
         "Goldenberg, Mrs. Samuel L (Edwiga Grabowska)",
         "female",
         null,
         "1",
         "0",
         "17453",
         "89.1042",
         "C92",
         "C"
        ],
        [
         "505",
         "1",
         "1",
         "Maioni, Miss. Roberta",
         "female",
         "16",
         "0",
         "0",
         "110152",
         "86.5",
         "B79",
         "S"
        ],
        [
         "258",
         "1",
         "1",
         "Cherry, Miss. Gladys",
         "female",
         "30",
         "0",
         "0",
         "110152",
         "86.5",
         "B77",
         "S"
        ],
        [
         "760",
         "1",
         "1",
         "Rothes, the Countess. of (Lucy Noel Martha Dyer-Edwards)",
         "female",
         "33",
         "0",
         "0",
         "110152",
         "86.5",
         "B77",
         "S"
        ],
        [
         "231",
         "1",
         "1",
         "Harris, Mrs. Henry Birkhardt (Irene Wallach)",
         "female",
         "35",
         "1",
         "0",
         "36973",
         "83.475",
         "C83",
         "S"
        ],
        [
         "63",
         "0",
         "1",
         "Harris, Mr. Henry Birkhardt",
         "male",
         "45",
         "1",
         "0",
         "36973",
         "83.475",
         "C83",
         "S"
        ],
        [
         "836",
         "1",
         "1",
         "Compton, Miss. Sara Rebecca",
         "female",
         "39",
         "1",
         "1",
         "PC 17756",
         "83.1583",
         "E49",
         "C"
        ],
        [
         "311",
         "1",
         "1",
         "Hays, Miss. Margaret Bechstein",
         "female",
         "24",
         "0",
         "0",
         "11767",
         "83.1583",
         "C54",
         "C"
        ],
        [
         "880",
         "1",
         "1",
         "Potter, Mrs. Thomas Jr (Lily Alexenia Wilson)",
         "female",
         "56",
         "0",
         "1",
         "11767",
         "83.1583",
         "C50",
         "C"
        ],
        [
         "35",
         "0",
         "1",
         "Meyer, Mr. Edgar Joseph",
         "male",
         "28",
         "1",
         "0",
         "PC 17604",
         "82.1708",
         null,
         "C"
        ],
        [
         "376",
         "1",
         "1",
         "Meyer, Mrs. Edgar Joseph (Leila Saks)",
         "female",
         null,
         "1",
         "0",
         "PC 17604",
         "82.1708",
         null,
         "C"
        ],
        [
         "446",
         "1",
         "1",
         "Dodge, Master. Washington",
         "male",
         "4",
         "0",
         "2",
         "33638",
         "81.8583",
         "A34",
         "S"
        ],
        [
         "62",
         "1",
         "1",
         "Icard, Miss. Amelie",
         "female",
         "38",
         "0",
         "0",
         "113572",
         "80",
         "B28",
         null
        ],
        [
         "830",
         "1",
         "1",
         "Stone, Mrs. George Nelson (Martha Evelyn)",
         "female",
         "62",
         "0",
         "0",
         "113572",
         "80",
         "B28",
         null
        ],
        [
         "294",
         "0",
         "3",
         "Haas, Miss. Aloisia",
         "female",
         "24",
         "0",
         "0",
         "349236",
         "8.85",
         null,
         "S"
        ],
        [
         "585",
         "0",
         "3",
         "Paulner, Mr. Uscher",
         "male",
         null,
         "0",
         "0",
         "3411",
         "8.7125",
         null,
         "C"
        ],
        [
         "798",
         "1",
         "3",
         "Osman, Mrs. Mara",
         "female",
         "31",
         "0",
         "0",
         "349244",
         "8.6833",
         null,
         "S"
        ],
        [
         "535",
         "0",
         "3",
         "Cacic, Miss. Marija",
         "female",
         "30",
         "0",
         "0",
         "315084",
         "8.6625",
         null,
         "S"
        ],
        [
         "837",
         "0",
         "3",
         "Pasic, Mr. Jakob",
         "male",
         "21",
         "0",
         "0",
         "315097",
         "8.6625",
         null,
         "S"
        ],
        [
         "350",
         "0",
         "3",
         "Dimic, Mr. Jovan",
         "male",
         "42",
         "0",
         "0",
         "315088",
         "8.6625",
         null,
         "S"
        ],
        [
         "845",
         "0",
         "3",
         "Culumovic, Mr. Jeso",
         "male",
         "17",
         "0",
         "0",
         "315090",
         "8.6625",
         null,
         "S"
        ],
        [
         "472",
         "0",
         "3",
         "Cacic, Mr. Luka",
         "male",
         "38",
         "0",
         "0",
         "315089",
         "8.6625",
         null,
         "S"
        ],
        [
         "405",
         "0",
         "3",
         "Oreskovic, Miss. Marija",
         "female",
         "20",
         "0",
         "0",
         "315096",
         "8.6625",
         null,
         "S"
        ],
        [
         "70",
         "0",
         "3",
         "Kink, Mr. Vincenz",
         "male",
         "26",
         "2",
         "0",
         "315151",
         "8.6625",
         null,
         "S"
        ],
        [
         "501",
         "0",
         "3",
         "Calic, Mr. Petar",
         "male",
         "17",
         "0",
         "0",
         "315086",
         "8.6625",
         null,
         "S"
        ],
        [
         "726",
         "0",
         "3",
         "Oreskovic, Mr. Luka",
         "male",
         "20",
         "0",
         "0",
         "315094",
         "8.6625",
         null,
         "S"
        ],
        [
         "159",
         "0",
         "3",
         "Smiljanic, Mr. Mile",
         "male",
         null,
         "0",
         "0",
         "315037",
         "8.6625",
         null,
         "S"
        ],
        [
         "822",
         "1",
         "3",
         "Lulic, Mr. Nikola",
         "male",
         "27",
         "0",
         "0",
         "315098",
         "8.6625",
         null,
         "S"
        ],
        [
         "164",
         "0",
         "3",
         "Calic, Mr. Jovo",
         "male",
         "17",
         "0",
         "0",
         "315093",
         "8.6625",
         null,
         "S"
        ],
        [
         "286",
         "0",
         "3",
         "Stankovic, Mr. Ivan",
         "male",
         "33",
         "0",
         "0",
         "349239",
         "8.6625",
         null,
         "C"
        ],
        [
         "104",
         "0",
         "3",
         "Johansson, Mr. Gustaf Joel",
         "male",
         "33",
         "0",
         "0",
         "7540",
         "8.6542",
         null,
         "S"
        ],
        [
         "804",
         "1",
         "3",
         "Thomas, Master. Assad Alexander",
         "male",
         "0.42",
         "0",
         "1",
         "2625",
         "8.5167",
         null,
         "C"
        ],
        [
         "6",
         "0",
         "3",
         "Moran, Mr. James",
         "male",
         null,
         "0",
         "0",
         "330877",
         "8.4583",
         null,
         "Q"
        ],
        [
         "653",
         "0",
         "3",
         "Kalvik, Mr. Johannes Halvorsen",
         "male",
         "21",
         "0",
         "0",
         "8475",
         "8.4333",
         null,
         "S"
        ],
        [
         "198",
         "0",
         "3",
         "Olsen, Mr. Karl Siegwart Andreas",
         "male",
         "42",
         "0",
         "1",
         "4579",
         "8.4042",
         null,
         "S"
        ],
        [
         "770",
         "0",
         "3",
         "Gronnestad, Mr. Daniel Danielsen",
         "male",
         "32",
         "0",
         "0",
         "8471",
         "8.3625",
         null,
         "S"
        ],
        [
         "835",
         "0",
         "3",
         "Allum, Mr. Owen George",
         "male",
         "18",
         "0",
         "0",
         "2223",
         "8.3",
         null,
         "S"
        ],
        [
         "68",
         "0",
         "3",
         "Crease, Mr. Ernest James",
         "male",
         "19",
         "0",
         "0",
         "S.P. 3464",
         "8.1583",
         null,
         "S"
        ],
        [
         "681",
         "0",
         "3",
         "Peters, Miss. Katie",
         "female",
         null,
         "0",
         "0",
         "330935",
         "8.1375",
         null,
         "Q"
        ],
        [
         "445",
         "1",
         "3",
         "Johannesen-Bratthammer, Mr. Bernt",
         "male",
         null,
         "0",
         "0",
         "65306",
         "8.1125",
         null,
         "S"
        ],
        [
         "402",
         "0",
         "3",
         "Adams, Mr. John",
         "male",
         "26",
         "0",
         "0",
         "341826",
         "8.05",
         null,
         "S"
        ],
        [
         "91",
         "0",
         "3",
         "Christmann, Mr. Emil",
         "male",
         "29",
         "0",
         "0",
         "343276",
         "8.05",
         null,
         "S"
        ],
        [
         "38",
         "0",
         "3",
         "Cann, Mr. Ernest Charles",
         "male",
         "21",
         "0",
         "0",
         "A./5. 2152",
         "8.05",
         null,
         "S"
        ],
        [
         "575",
         "0",
         "3",
         "Rush, Mr. Alfred George John",
         "male",
         "16",
         "0",
         "0",
         "A/4. 20589",
         "8.05",
         null,
         "S"
        ],
        [
         "615",
         "0",
         "3",
         "Brocklebank, Mr. William Alfred",
         "male",
         "35",
         "0",
         "0",
         "364512",
         "8.05",
         null,
         "S"
        ],
        [
         "284",
         "1",
         "3",
         "Dorking, Mr. Edward Arthur",
         "male",
         "19",
         "0",
         "0",
         "A/5. 10482",
         "8.05",
         null,
         "S"
        ],
        [
         "838",
         "0",
         "3",
         "Sirota, Mr. Maurice",
         "male",
         null,
         "0",
         "0",
         "392092",
         "8.05",
         null,
         "S"
        ],
        [
         "339",
         "1",
         "3",
         "Dahl, Mr. Karl Edwart",
         "male",
         "45",
         "0",
         "0",
         "7598",
         "8.05",
         null,
         "S"
        ],
        [
         "78",
         "0",
         "3",
         "Moutal, Mr. Rahamin Haim",
         "male",
         null,
         "0",
         "0",
         "374746",
         "8.05",
         null,
         "S"
        ],
        [
         "677",
         "0",
         "3",
         "Sawyer, Mr. Frederick Charles",
         "male",
         "24.5",
         "0",
         "0",
         "342826",
         "8.05",
         null,
         "S"
        ],
        [
         "5",
         "0",
         "3",
         "Allen, Mr. William Henry",
         "male",
         "35",
         "0",
         "0",
         "373450",
         "8.05",
         null,
         "S"
        ],
        [
         "305",
         "0",
         "3",
         "\"Williams, Mr. Howard Hugh \"\"Harry\"\"\"",
         "male",
         null,
         "0",
         "0",
         "A/5 2466",
         "8.05",
         null,
         "S"
        ],
        [
         "564",
         "0",
         "3",
         "Simmons, Mr. John",
         "male",
         null,
         "0",
         "0",
         "SOTON/OQ 392082",
         "8.05",
         null,
         "S"
        ],
        [
         "153",
         "0",
         "3",
         "Meo, Mr. Alfonzo",
         "male",
         "55.5",
         "0",
         "0",
         "A.5. 11206",
         "8.05",
         null,
         "S"
        ],
        [
         "416",
         "0",
         "3",
         "Meek, Mrs. Thomas (Annie Louise Rowley)",
         "female",
         null,
         "0",
         "0",
         "343095",
         "8.05",
         null,
         "S"
        ],
        [
         "759",
         "0",
         "3",
         "Theobald, Mr. Thomas Leonard",
         "male",
         "34",
         "0",
         "0",
         "363294",
         "8.05",
         null,
         "S"
        ],
        [
         "483",
         "0",
         "3",
         "Rouse, Mr. Richard Henry",
         "male",
         "50",
         "0",
         "0",
         "A/5 3594",
         "8.05",
         null,
         "S"
        ],
        [
         "590",
         "0",
         "3",
         "Murdlin, Mr. Joseph",
         "male",
         null,
         "0",
         "0",
         "A./5. 3235",
         "8.05",
         null,
         "S"
        ],
        [
         "455",
         "0",
         "3",
         "Peduzzi, Mr. Joseph",
         "male",
         null,
         "0",
         "0",
         "A/5 2817",
         "8.05",
         null,
         "S"
        ],
        [
         "589",
         "0",
         "3",
         "Gilinski, Mr. Eliezer",
         "male",
         "22",
         "0",
         "0",
         "14973",
         "8.05",
         null,
         "S"
        ],
        [
         "90",
         "0",
         "3",
         "Celotti, Mr. Francesco",
         "male",
         "24",
         "0",
         "0",
         "343275",
         "8.05",
         null,
         "S"
        ],
        [
         "465",
         "0",
         "3",
         "Maisner, Mr. Simon",
         "male",
         null,
         "0",
         "0",
         "A/S 2816",
         "8.05",
         null,
         "S"
        ],
        [
         "221",
         "1",
         "3",
         "Sunderland, Mr. Victor Francis",
         "male",
         "16",
         "0",
         "0",
         "SOTON/OQ 392089",
         "8.05",
         null,
         "S"
        ],
        [
         "495",
         "0",
         "3",
         "Stanley, Mr. Edward Roland",
         "male",
         "21",
         "0",
         "0",
         "A/4 45380",
         "8.05",
         null,
         "S"
        ],
        [
         "430",
         "1",
         "3",
         "Pickard, Mr. Berk (Berk Trembisky)",
         "male",
         "32",
         "0",
         "0",
         "SOTON/O.Q. 392078",
         "8.05",
         "E10",
         "S"
        ],
        [
         "604",
         "0",
         "3",
         "Torber, Mr. Ernst William",
         "male",
         "44",
         "0",
         "0",
         "364511",
         "8.05",
         null,
         "S"
        ],
        [
         "13",
         "0",
         "3",
         "Saundercock, Mr. William Henry",
         "male",
         "20",
         "0",
         "0",
         "A/5. 2151",
         "8.05",
         null,
         "S"
        ],
        [
         "565",
         "0",
         "3",
         "Meanwell, Miss. (Marion Ogden)",
         "female",
         null,
         "0",
         "0",
         "SOTON/O.Q. 392087",
         "8.05",
         null,
         "S"
        ],
        [
         "462",
         "0",
         "3",
         "Morley, Mr. William",
         "male",
         "34",
         "0",
         "0",
         "364506",
         "8.05",
         null,
         "S"
        ],
        [
         "669",
         "0",
         "3",
         "Cook, Mr. Jacob",
         "male",
         "43",
         "0",
         "0",
         "A/5 3536",
         "8.05",
         null,
         "S"
        ],
        [
         "373",
         "0",
         "3",
         "Beavan, Mr. William Thomas",
         "male",
         "19",
         "0",
         "0",
         "323951",
         "8.05",
         null,
         "S"
        ],
        [
         "205",
         "1",
         "3",
         "\"Cohen, Mr. Gurshon \"\"Gus\"\"\"",
         "male",
         "18",
         "0",
         "0",
         "A/5 3540",
         "8.05",
         null,
         "S"
        ],
        [
         "46",
         "0",
         "3",
         "Rogers, Mr. William John",
         "male",
         null,
         "0",
         "0",
         "S.C./A.4. 23567",
         "8.05",
         null,
         "S"
        ],
        [
         "489",
         "0",
         "3",
         "Somerton, Mr. Francis William",
         "male",
         "30",
         "0",
         "0",
         "A.5. 18509",
         "8.05",
         null,
         "S"
        ],
        [
         "512",
         "0",
         "3",
         "Webber, Mr. James",
         "male",
         null,
         "0",
         "0",
         "SOTON/OQ 3101316",
         "8.05",
         null,
         "S"
        ],
        [
         "697",
         "0",
         "3",
         "Kelly, Mr. James",
         "male",
         "44",
         "0",
         "0",
         "363592",
         "8.05",
         null,
         "S"
        ],
        [
         "815",
         "0",
         "3",
         "Tomlin, Mr. Ernest Portage",
         "male",
         "30.5",
         "0",
         "0",
         "364499",
         "8.05",
         null,
         "S"
        ],
        [
         "223",
         "0",
         "3",
         "Green, Mr. George Henry",
         "male",
         "51",
         "0",
         "0",
         "21440",
         "8.05",
         null,
         "S"
        ],
        [
         "96",
         "0",
         "3",
         "Shorney, Mr. Charles Joseph",
         "male",
         null,
         "0",
         "0",
         "374910",
         "8.05",
         null,
         "S"
        ],
        [
         "88",
         "0",
         "3",
         "Slocovski, Mr. Selman Francis",
         "male",
         null,
         "0",
         "0",
         "SOTON/OQ 392086",
         "8.05",
         null,
         "S"
        ],
        [
         "122",
         "0",
         "3",
         "Moore, Mr. Leonard Charles",
         "male",
         null,
         "0",
         "0",
         "A4. 54510",
         "8.05",
         null,
         "S"
        ],
        [
         "158",
         "0",
         "3",
         "Corn, Mr. Harry",
         "male",
         "30",
         "0",
         "0",
         "SOTON/OQ 392090",
         "8.05",
         null,
         "S"
        ],
        [
         "113",
         "0",
         "3",
         "Barton, Mr. David John",
         "male",
         "22",
         "0",
         "0",
         "324669",
         "8.05",
         null,
         "S"
        ],
        [
         "23",
         "1",
         "3",
         "\"McGowan, Miss. Anna \"\"Annie\"\"\"",
         "female",
         "15",
         "0",
         "0",
         "330923",
         "8.0292",
         null,
         "Q"
        ],
        [
         "559",
         "1",
         "1",
         "Taussig, Mrs. Emil (Tillie Mandelbaum)",
         "female",
         "39",
         "1",
         "1",
         "110413",
         "79.65",
         "E67",
         "S"
        ],
        [
         "263",
         "0",
         "1",
         "Taussig, Mr. Emil",
         "male",
         "52",
         "1",
         "1",
         "110413",
         "79.65",
         "E67",
         "S"
        ],
        [
         "586",
         "1",
         "1",
         "Taussig, Miss. Ruth",
         "female",
         "18",
         "0",
         "2",
         "110413",
         "79.65",
         "E68",
         "S"
        ],
        [
         "790",
         "0",
         "1",
         "Guggenheim, Mr. Benjamin",
         "male",
         "46",
         "0",
         "0",
         "PC 17593",
         "79.2",
         "B82 B84",
         "C"
        ],
        [
         "588",
         "1",
         "1",
         "Frolicher-Stehli, Mr. Maxmillian",
         "male",
         "60",
         "1",
         "1",
         "13567",
         "79.2",
         "B41",
         "C"
        ],
        [
         "140",
         "0",
         "1",
         "Giglio, Mr. Victor",
         "male",
         "24",
         "0",
         "0",
         "PC 17593",
         "79.2",
         "B86",
         "C"
        ],
        [
         "257",
         "1",
         "1",
         "Thorne, Mrs. Gertrude Maybelle",
         "female",
         null,
         "0",
         "0",
         "PC 17585",
         "79.2",
         null,
         "C"
        ],
        [
         "291",
         "1",
         "1",
         "\"Barber, Miss. Ellen \"\"Nellie\"\"\"",
         "female",
         "26",
         "0",
         "0",
         "19877",
         "78.85",
         null,
         "S"
        ],
        [
         "742",
         "0",
         "1",
         "Cavendish, Mr. Tyrell William",
         "male",
         "36",
         "1",
         "0",
         "19877",
         "78.85",
         "C46",
         "S"
        ],
        [
         "592",
         "1",
         "1",
         "Stephenson, Mrs. Walter Bertram (Martha Eustis)",
         "female",
         "52",
         "1",
         "0",
         "36947",
         "78.2667",
         "D20",
         "C"
        ],
        [
         "497",
         "1",
         "1",
         "Eustis, Miss. Elizabeth Mussey",
         "female",
         "54",
         "1",
         "0",
         "36947",
         "78.2667",
         "D20",
         "C"
        ],
        [
         "766",
         "1",
         "1",
         "Hogeboom, Mrs. John C (Anna Andrews)",
         "female",
         "51",
         "1",
         "0",
         "13502",
         "77.9583",
         "D11",
         "S"
        ],
        [
         "628",
         "1",
         "1",
         "Longley, Miss. Gretchen Fiske",
         "female",
         "21",
         "0",
         "0",
         "13502",
         "77.9583",
         "D9",
         "S"
        ],
        [
         "276",
         "1",
         "1",
         "Andrews, Miss. Kornelia Theodosia",
         "female",
         "63",
         "1",
         "0",
         "13502",
         "77.9583",
         "D7",
         "S"
        ],
        [
         "125",
         "0",
         "1",
         "White, Mr. Percival Wayland",
         "male",
         "54",
         "0",
         "1",
         "35281",
         "77.2875",
         "D26",
         "S"
        ],
        [
         "103",
         "0",
         "1",
         "White, Mr. Richard Frasar",
         "male",
         "21",
         "0",
         "1",
         "35281",
         "77.2875",
         "D26",
         "S"
        ],
        [
         "682",
         "1",
         "1",
         "Hassab, Mr. Hammad",
         "male",
         "27",
         "0",
         "0",
         "PC 17572",
         "76.7292",
         "D49",
         "C"
        ],
        [
         "646",
         "1",
         "1",
         "Harper, Mr. Henry Sleeper",
         "male",
         "48",
         "1",
         "0",
         "PC 17572",
         "76.7292",
         "D33",
         "C"
        ],
        [
         "53",
         "1",
         "1",
         "Harper, Mrs. Henry Sleeper (Myna Haxtun)",
         "female",
         "49",
         "1",
         "0",
         "PC 17572",
         "76.7292",
         "D33",
         "C"
        ],
        [
         "219",
         "1",
         "1",
         "Bazzani, Miss. Albina",
         "female",
         "32",
         "0",
         "0",
         "11813",
         "76.2917",
         "D15",
         "C"
        ],
        [
         "367",
         "1",
         "1",
         "Warren, Mrs. Frank Manley (Anna Sophia Atkinson)",
         "female",
         "60",
         "1",
         "0",
         "110813",
         "75.25",
         "D37",
         "C"
        ],
        [
         "656",
         "0",
         "2",
         "Hickman, Mr. Leonard Mark",
         "male",
         "24",
         "2",
         "0",
         "S.O.C. 14879",
         "73.5",
         null,
         "S"
        ],
        [
         "121",
         "0",
         "2",
         "Hickman, Mr. Stanley George",
         "male",
         "21",
         "2",
         "0",
         "S.O.C. 14879",
         "73.5",
         null,
         "S"
        ],
        [
         "386",
         "0",
         "2",
         "Davies, Mr. Charles Henry",
         "male",
         "18",
         "0",
         "0",
         "S.O.C. 14879",
         "73.5",
         null,
         "S"
        ],
        [
         "666",
         "0",
         "2",
         "Hickman, Mr. Lewis",
         "male",
         "32",
         "2",
         "0",
         "S.O.C. 14879",
         "73.5",
         null,
         "S"
        ],
        [
         "73",
         "0",
         "2",
         "Hood, Mr. Ambrose Jr",
         "male",
         "21",
         "0",
         "0",
         "S.O.C. 14879",
         "73.5",
         null,
         "S"
        ],
        [
         "2",
         "1",
         "1",
         "Cumings, Mrs. John Bradley (Florence Briggs Thayer)",
         "female",
         "38",
         "1",
         "0",
         "PC 17599",
         "71.2833",
         "C85",
         "C"
        ],
        [
         "541",
         "1",
         "1",
         "Crosby, Miss. Harriet R",
         "female",
         "36",
         "0",
         "2",
         "WE/P 5735",
         "71",
         "B22",
         "S"
        ],
        [
         "746",
         "0",
         "1",
         "Crosby, Capt. Edward Gifford",
         "male",
         "70",
         "1",
         "1",
         "WE/P 5735",
         "71",
         "B22",
         "S"
        ],
        [
         "745",
         "1",
         "3",
         "Stranden, Mr. Juho",
         "male",
         "31",
         "0",
         "0",
         "STON/O 2. 3101288",
         "7.925",
         null,
         "S"
        ],
        [
         "730",
         "0",
         "3",
         "Ilmakangas, Miss. Pieta Sofia",
         "female",
         "25",
         "1",
         "0",
         "STON/O2. 3101271",
         "7.925",
         null,
         "S"
        ],
        [
         "817",
         "0",
         "3",
         "Heininen, Miss. Wendla Maria",
         "female",
         "23",
         "0",
         "0",
         "STON/O2. 3101290",
         "7.925",
         null,
         "S"
        ],
        [
         "217",
         "1",
         "3",
         "Honkanen, Miss. Eliina",
         "female",
         "27",
         "0",
         "0",
         "STON/O2. 3101283",
         "7.925",
         null,
         "S"
        ],
        [
         "529",
         "0",
         "3",
         "Salonen, Mr. Johan Werner",
         "male",
         "39",
         "0",
         "0",
         "3101296",
         "7.925",
         null,
         "S"
        ],
        [
         "383",
         "0",
         "3",
         "Tikkanen, Mr. Juho",
         "male",
         "32",
         "0",
         "0",
         "STON/O 2. 3101293",
         "7.925",
         null,
         "S"
        ],
        [
         "116",
         "0",
         "3",
         "Pekoniemi, Mr. Edvard",
         "male",
         "21",
         "0",
         "0",
         "STON/O 2. 3101294",
         "7.925",
         null,
         "S"
        ],
        [
         "580",
         "1",
         "3",
         "Jussila, Mr. Eiriik",
         "male",
         "32",
         "0",
         "0",
         "STON/O 2. 3101286",
         "7.925",
         null,
         "S"
        ],
        [
         "841",
         "0",
         "3",
         "Alhomaki, Mr. Ilmari Rudolf",
         "male",
         "20",
         "0",
         "0",
         "SOTON/O2 3101287",
         "7.925",
         null,
         "S"
        ],
        [
         "665",
         "1",
         "3",
         "Lindqvist, Mr. Eino William",
         "male",
         "20",
         "1",
         "0",
         "STON/O 2. 3101285",
         "7.925",
         null,
         "S"
        ],
        [
         "393",
         "0",
         "3",
         "Gustafsson, Mr. Johan Birger",
         "male",
         "28",
         "2",
         "0",
         "3101277",
         "7.925",
         null,
         "S"
        ],
        [
         "3",
         "1",
         "3",
         "Heikkinen, Miss. Laina",
         "female",
         "26",
         "0",
         "0",
         "STON/O2. 3101282",
         "7.925",
         null,
         "S"
        ],
        [
         "415",
         "1",
         "3",
         "Sundman, Mr. Johan Julian",
         "male",
         "44",
         "0",
         "0",
         "STON/O 2. 3101269",
         "7.925",
         null,
         "S"
        ],
        [
         "637",
         "0",
         "3",
         "Leinonen, Mr. Antti Gustaf",
         "male",
         "32",
         "0",
         "0",
         "STON/O 2. 3101292",
         "7.925",
         null,
         "S"
        ],
        [
         "105",
         "0",
         "3",
         "Gustafsson, Mr. Anders Vilhelm",
         "male",
         "37",
         "2",
         "0",
         "3101276",
         "7.925",
         null,
         "S"
        ],
        [
         "69",
         "1",
         "3",
         "Andersson, Miss. Erna Alexandra",
         "female",
         "17",
         "4",
         "2",
         "3101281",
         "7.925",
         null,
         "S"
        ],
        [
         "401",
         "1",
         "3",
         "Niskanen, Mr. Juha",
         "male",
         "39",
         "0",
         "0",
         "STON/O 2. 3101289",
         "7.925",
         null,
         "S"
        ],
        [
         "174",
         "0",
         "3",
         "Sivola, Mr. Antti Wilhelm",
         "male",
         "21",
         "0",
         "0",
         "STON/O 2. 3101280",
         "7.925",
         null,
         "S"
        ],
        [
         "607",
         "0",
         "3",
         "Karaic, Mr. Milan",
         "male",
         "30",
         "0",
         "0",
         "349246",
         "7.8958",
         null,
         "S"
        ],
        [
         "739",
         "0",
         "3",
         "Ivanoff, Mr. Kanio",
         "male",
         null,
         "0",
         "0",
         "349201",
         "7.8958",
         null,
         "S"
        ],
        [
         "421",
         "0",
         "3",
         "Gheorgheff, Mr. Stanio",
         "male",
         null,
         "0",
         "0",
         "349254",
         "7.8958",
         null,
         "C"
        ],
        [
         "43",
         "0",
         "3",
         "Kraeff, Mr. Theodor",
         "male",
         null,
         "0",
         "0",
         "349253",
         "7.8958",
         null,
         "C"
        ],
        [
         "602",
         "0",
         "3",
         "Slabenoff, Mr. Petco",
         "male",
         null,
         "0",
         "0",
         "349214",
         "7.8958",
         null,
         "S"
        ],
        [
         "562",
         "0",
         "3",
         "Sivic, Mr. Husein",
         "male",
         "40",
         "0",
         "0",
         "349251",
         "7.8958",
         null,
         "S"
        ],
        [
         "629",
         "0",
         "3",
         "Bostandyeff, Mr. Guentcho",
         "male",
         "26",
         "0",
         "0",
         "349224",
         "7.8958",
         null,
         "S"
        ],
        [
         "740",
         "0",
         "3",
         "Nankoff, Mr. Minko",
         "male",
         null,
         "0",
         "0",
         "349218",
         "7.8958",
         null,
         "S"
        ],
        [
         "131",
         "0",
         "3",
         "Drazenoic, Mr. Jozef",
         "male",
         "33",
         "0",
         "0",
         "349241",
         "7.8958",
         null,
         "C"
        ],
        [
         "288",
         "0",
         "3",
         "Naidenoff, Mr. Penko",
         "male",
         "22",
         "0",
         "0",
         "349206",
         "7.8958",
         null,
         "S"
        ],
        [
         "520",
         "0",
         "3",
         "Pavlovic, Mr. Stefo",
         "male",
         "32",
         "0",
         "0",
         "349242",
         "7.8958",
         null,
         "S"
        ],
        [
         "567",
         "0",
         "3",
         "Stoytcheff, Mr. Ilia",
         "male",
         "19",
         "0",
         "0",
         "349205",
         "7.8958",
         null,
         "S"
        ],
        [
         "882",
         "0",
         "3",
         "Markun, Mr. Johann",
         "male",
         "33",
         "0",
         "0",
         "349257",
         "7.8958",
         null,
         "S"
        ],
        [
         "878",
         "0",
         "3",
         "Petroff, Mr. Nedelio",
         "male",
         "19",
         "0",
         "0",
         "349212",
         "7.8958",
         null,
         "S"
        ],
        [
         "522",
         "0",
         "3",
         "Vovk, Mr. Janko",
         "male",
         "22",
         "0",
         "0",
         "349252",
         "7.8958",
         null,
         "S"
        ],
        [
         "795",
         "0",
         "3",
         "Dantcheff, Mr. Ristiu",
         "male",
         "25",
         "0",
         "0",
         "349203",
         "7.8958",
         null,
         "S"
        ],
        [
         "754",
         "0",
         "3",
         "Jonkoff, Mr. Lalio",
         "male",
         "23",
         "0",
         "0",
         "349204",
         "7.8958",
         null,
         "S"
        ],
        [
         "647",
         "0",
         "3",
         "Cor, Mr. Liudevit",
         "male",
         "19",
         "0",
         "0",
         "349231",
         "7.8958",
         null,
         "S"
        ],
        [
         "322",
         "0",
         "3",
         "Danoff, Mr. Yoto",
         "male",
         "27",
         "0",
         "0",
         "349219",
         "7.8958",
         null,
         "S"
        ],
        [
         "102",
         "0",
         "3",
         "\"Petroff, Mr. Pastcho (\"\"Pentcho\"\")\"",
         "male",
         null,
         "0",
         "0",
         "349215",
         "7.8958",
         null,
         "S"
        ],
        [
         "651",
         "0",
         "3",
         "Mitkoff, Mr. Mito",
         "male",
         null,
         "0",
         "0",
         "349221",
         "7.8958",
         null,
         "S"
        ],
        [
         "879",
         "0",
         "3",
         "Laleff, Mr. Kristo",
         "male",
         null,
         "0",
         "0",
         "349217",
         "7.8958",
         null,
         "S"
        ],
        [
         "77",
         "0",
         "3",
         "Staneff, Mr. Ivan",
         "male",
         null,
         "0",
         "0",
         "349208",
         "7.8958",
         null,
         "S"
        ],
        [
         "385",
         "0",
         "3",
         "Plotcharsky, Mr. Vasil",
         "male",
         null,
         "0",
         "0",
         "349227",
         "7.8958",
         null,
         "S"
        ],
        [
         "295",
         "0",
         "3",
         "Mineff, Mr. Ivan",
         "male",
         "24",
         "0",
         "0",
         "349233",
         "7.8958",
         null,
         "S"
        ],
        [
         "411",
         "0",
         "3",
         "Sdycoff, Mr. Todor",
         "male",
         null,
         "0",
         "0",
         "349222",
         "7.8958",
         null,
         "S"
        ],
        [
         "30",
         "0",
         "3",
         "Todoroff, Mr. Lalio",
         "male",
         null,
         "0",
         "0",
         "349216",
         "7.8958",
         null,
         "S"
        ],
        [
         "871",
         "0",
         "3",
         "Balkic, Mr. Cerin",
         "male",
         "26",
         "0",
         "0",
         "349248",
         "7.8958",
         null,
         "S"
        ],
        [
         "224",
         "0",
         "3",
         "Nenkoff, Mr. Christo",
         "male",
         null,
         "0",
         "0",
         "349234",
         "7.8958",
         null,
         "S"
        ],
        [
         "109",
         "0",
         "3",
         "Rekic, Mr. Tido",
         "male",
         "38",
         "0",
         "0",
         "349249",
         "7.8958",
         null,
         "S"
        ],
        [
         "106",
         "0",
         "3",
         "Mionoff, Mr. Stoytcho",
         "male",
         "28",
         "0",
         "0",
         "349207",
         "7.8958",
         null,
         "S"
        ],
        [
         "101",
         "0",
         "3",
         "Petranec, Miss. Matilda",
         "female",
         "28",
         "0",
         "0",
         "349245",
         "7.8958",
         null,
         "S"
        ],
        [
         "336",
         "0",
         "3",
         "Denkoff, Mr. Mitto",
         "male",
         null,
         "0",
         "0",
         "349225",
         "7.8958",
         null,
         "S"
        ],
        [
         "456",
         "1",
         "3",
         "Jalsevac, Mr. Ivan",
         "male",
         "29",
         "0",
         "0",
         "349240",
         "7.8958",
         null,
         "C"
        ],
        [
         "848",
         "0",
         "3",
         "Markoff, Mr. Marin",
         "male",
         "35",
         "0",
         "0",
         "349213",
         "7.8958",
         null,
         "C"
        ],
        [
         "314",
         "0",
         "3",
         "Hendekovic, Mr. Ignjac",
         "male",
         "28",
         "0",
         "0",
         "349243",
         "7.8958",
         null,
         "S"
        ],
        [
         "657",
         "0",
         "3",
         "Radeff, Mr. Alexander",
         "male",
         null,
         "0",
         "0",
         "349223",
         "7.8958",
         null,
         "S"
        ],
        [
         "190",
         "0",
         "3",
         "Turcin, Mr. Stjepan",
         "male",
         "36",
         "0",
         "0",
         "349247",
         "7.8958",
         null,
         "S"
        ],
        [
         "811",
         "0",
         "3",
         "Alexander, Mr. William",
         "male",
         "26",
         "0",
         "0",
         "3474",
         "7.8875",
         null,
         "S"
        ],
        [
         "359",
         "1",
         "3",
         "McGovern, Miss. Mary",
         "female",
         null,
         "0",
         "0",
         "330931",
         "7.8792",
         null,
         "Q"
        ],
        [
         "45",
         "1",
         "3",
         "Devaney, Miss. Margaret Delia",
         "female",
         "19",
         "0",
         "0",
         "330958",
         "7.8792",
         null,
         "Q"
        ],
        [
         "29",
         "1",
         "3",
         "\"O'Dwyer, Miss. Ellen \"\"Nellie\"\"\"",
         "female",
         null,
         "0",
         "0",
         "330959",
         "7.8792",
         null,
         "Q"
        ],
        [
         "360",
         "1",
         "3",
         "\"Mockler, Miss. Helen Mary \"\"Ellie\"\"\"",
         "female",
         null,
         "0",
         "0",
         "330980",
         "7.8792",
         null,
         "Q"
        ],
        [
         "423",
         "0",
         "3",
         "Zimmerman, Mr. Leo",
         "male",
         "29",
         "0",
         "0",
         "315082",
         "7.875",
         null,
         "S"
        ],
        [
         "282",
         "0",
         "3",
         "Olsson, Mr. Nils Johan Goransson",
         "male",
         "28",
         "0",
         "0",
         "347464",
         "7.8542",
         null,
         "S"
        ],
        [
         "624",
         "0",
         "3",
         "Hansen, Mr. Henry Damsgaard",
         "male",
         "21",
         "0",
         "0",
         "350029",
         "7.8542",
         null,
         "S"
        ],
        [
         "316",
         "1",
         "3",
         "Nilsson, Miss. Helmina Josefina",
         "female",
         "26",
         "0",
         "0",
         "347470",
         "7.8542",
         null,
         "S"
        ],
        [
         "570",
         "1",
         "3",
         "Jonsson, Mr. Carl",
         "male",
         "32",
         "0",
         "0",
         "350417",
         "7.8542",
         null,
         "S"
        ],
        [
         "834",
         "0",
         "3",
         "Augustsson, Mr. Albert",
         "male",
         "23",
         "0",
         "0",
         "347468",
         "7.8542",
         null,
         "S"
        ],
        [
         "705",
         "0",
         "3",
         "Hansen, Mr. Henrik Juul",
         "male",
         "26",
         "1",
         "0",
         "350025",
         "7.8542",
         null,
         "S"
        ],
        [
         "397",
         "0",
         "3",
         "Olsson, Miss. Elina",
         "female",
         "31",
         "0",
         "0",
         "350407",
         "7.8542",
         null,
         "S"
        ],
        [
         "193",
         "1",
         "3",
         "Andersen-Jensen, Miss. Carla Christine Nielsine",
         "female",
         "19",
         "1",
         "0",
         "350046",
         "7.8542",
         null,
         "S"
        ],
        [
         "176",
         "0",
         "3",
         "Klasen, Mr. Klas Albin",
         "male",
         "18",
         "1",
         "1",
         "350404",
         "7.8542",
         null,
         "S"
        ],
        [
         "15",
         "0",
         "3",
         "Vestrom, Miss. Hulda Amanda Adolfina",
         "female",
         "14",
         "0",
         "0",
         "350406",
         "7.8542",
         null,
         "S"
        ],
        [
         "772",
         "0",
         "3",
         "Jensen, Mr. Niels Peder",
         "male",
         "48",
         "0",
         "0",
         "350047",
         "7.8542",
         null,
         "S"
        ],
        [
         "92",
         "0",
         "3",
         "Andreasson, Mr. Paul Edvin",
         "male",
         "20",
         "0",
         "0",
         "347466",
         "7.8542",
         null,
         "S"
        ],
        [
         "641",
         "0",
         "3",
         "Jensen, Mr. Hans Peder",
         "male",
         "20",
         "0",
         "0",
         "350050",
         "7.8542",
         null,
         "S"
        ],
        [
         "654",
         "1",
         "3",
         "\"O'Leary, Miss. Hanora \"\"Norah\"\"\"",
         "female",
         null,
         "0",
         "0",
         "330919",
         "7.8292",
         null,
         "Q"
        ],
        [
         "553",
         "0",
         "3",
         "O'Brien, Mr. Timothy",
         "male",
         null,
         "0",
         "0",
         "330979",
         "7.8292",
         null,
         "Q"
        ],
        [
         "52",
         "0",
         "3",
         "Nosworthy, Mr. Richard Cater",
         "male",
         "21",
         "0",
         "0",
         "A/4. 39886",
         "7.8",
         null,
         "S"
        ],
        [
         "147",
         "1",
         "3",
         "\"Andersson, Mr. August Edvard (\"\"Wennerstrom\"\")\"",
         "male",
         "27",
         "0",
         "0",
         "350043",
         "7.7958",
         null,
         "S"
        ],
        [
         "392",
         "1",
         "3",
         "Jansson, Mr. Carl Olof",
         "male",
         "21",
         "0",
         "0",
         "350034",
         "7.7958",
         null,
         "S"
        ],
        [
         "396",
         "0",
         "3",
         "Johansson, Mr. Erik",
         "male",
         "22",
         "0",
         "0",
         "350052",
         "7.7958",
         null,
         "S"
        ],
        [
         "757",
         "0",
         "3",
         "Carlsson, Mr. August Sigfrid",
         "male",
         "28",
         "0",
         "0",
         "350042",
         "7.7958",
         null,
         "S"
        ],
        [
         "500",
         "0",
         "3",
         "Svensson, Mr. Olof",
         "male",
         "24",
         "0",
         "0",
         "350035",
         "7.7958",
         null,
         "S"
        ],
        [
         "689",
         "0",
         "3",
         "Fischer, Mr. Eberhard Thelander",
         "male",
         "18",
         "0",
         "0",
         "350036",
         "7.7958",
         null,
         "S"
        ],
        [
         "83",
         "1",
         "3",
         "McDermott, Miss. Brigdet Delia",
         "female",
         null,
         "0",
         "0",
         "330932",
         "7.7875",
         null,
         "Q"
        ],
        [
         "443",
         "0",
         "3",
         "Petterson, Mr. Johan Emil",
         "male",
         "25",
         "1",
         "0",
         "347076",
         "7.775",
         null,
         "S"
        ],
        [
         "108",
         "1",
         "3",
         "Moss, Mr. Albert Johan",
         "male",
         null,
         "0",
         "0",
         "312991",
         "7.775",
         null,
         "S"
        ],
        [
         "555",
         "1",
         "3",
         "Ohman, Miss. Velin",
         "female",
         "22",
         "0",
         "0",
         "347085",
         "7.775",
         null,
         "S"
        ],
        [
         "765",
         "0",
         "3",
         "Eklund, Mr. Hans Linus",
         "male",
         "16",
         "0",
         "0",
         "347074",
         "7.775",
         null,
         "S"
        ],
        [
         "268",
         "1",
         "3",
         "Persson, Mr. Ernst Ulrik",
         "male",
         "25",
         "1",
         "0",
         "347083",
         "7.775",
         null,
         "S"
        ],
        [
         "806",
         "0",
         "3",
         "Johansson, Mr. Karl Johan",
         "male",
         "31",
         "0",
         "0",
         "347063",
         "7.775",
         null,
         "S"
        ],
        [
         "852",
         "0",
         "3",
         "Svensson, Mr. Johan",
         "male",
         "74",
         "0",
         "0",
         "347060",
         "7.775",
         null,
         "S"
        ],
        [
         "163",
         "0",
         "3",
         "Bengtsson, Mr. John Viktor",
         "male",
         "26",
         "0",
         "0",
         "347068",
         "7.775",
         null,
         "S"
        ],
        [
         "409",
         "0",
         "3",
         "Birkeland, Mr. Hans Martin Monsen",
         "male",
         "21",
         "0",
         "0",
         "312992",
         "7.775",
         null,
         "S"
        ],
        [
         "808",
         "0",
         "3",
         "Pettersson, Miss. Ellen Natalia",
         "female",
         "18",
         "0",
         "0",
         "347087",
         "7.775",
         null,
         "S"
        ],
        [
         "720",
         "0",
         "3",
         "Johnson, Mr. Malkolm Joackim",
         "male",
         "33",
         "0",
         "0",
         "347062",
         "7.775",
         null,
         "S"
        ],
        [
         "668",
         "0",
         "3",
         "Rommetvedt, Mr. Knud Paust",
         "male",
         null,
         "0",
         "0",
         "312993",
         "7.775",
         null,
         "S"
        ],
        [
         "247",
         "0",
         "3",
         "Lindahl, Miss. Agda Thorilda Viktoria",
         "female",
         "25",
         "0",
         "0",
         "347071",
         "7.775",
         null,
         "S"
        ],
        [
         "380",
         "0",
         "3",
         "Gustafsson, Mr. Karl Gideon",
         "male",
         "19",
         "0",
         "0",
         "347069",
         "7.775",
         null,
         "S"
        ],
        [
         "232",
         "0",
         "3",
         "Larsson, Mr. Bengt Edvin",
         "male",
         "29",
         "0",
         "0",
         "347067",
         "7.775",
         null,
         "S"
        ],
        [
         "676",
         "0",
         "3",
         "Edvardsson, Mr. Gustaf Hjalmar",
         "male",
         "18",
         "0",
         "0",
         "349912",
         "7.775",
         null,
         "S"
        ],
        [
         "511",
         "1",
         "3",
         "Daly, Mr. Eugene Patrick",
         "male",
         "29",
         "0",
         "0",
         "382651",
         "7.75",
         null,
         "Q"
        ],
        [
         "127",
         "0",
         "3",
         "McMahon, Mr. Martin",
         "male",
         null,
         "0",
         "0",
         "370372",
         "7.75",
         null,
         "Q"
        ],
        [
         "502",
         "0",
         "3",
         "Canavan, Miss. Mary",
         "female",
         "21",
         "0",
         "0",
         "364846",
         "7.75",
         null,
         "Q"
        ],
        [
         "829",
         "1",
         "3",
         "McCormack, Mr. Thomas Joseph",
         "male",
         null,
         "0",
         "0",
         "367228",
         "7.75",
         null,
         "Q"
        ],
        [
         "117",
         "0",
         "3",
         "Connors, Mr. Patrick",
         "male",
         "70.5",
         "0",
         "0",
         "370369",
         "7.75",
         null,
         "Q"
        ],
        [
         "460",
         "0",
         "3",
         "O'Connor, Mr. Maurice",
         "male",
         null,
         "0",
         "0",
         "371060",
         "7.75",
         null,
         "Q"
        ],
        [
         "261",
         "0",
         "3",
         "Smith, Mr. Thomas",
         "male",
         null,
         "0",
         "0",
         "384461",
         "7.75",
         null,
         "Q"
        ],
        [
         "791",
         "0",
         "3",
         "\"Keane, Mr. Andrew \"\"Andy\"\"\"",
         "male",
         null,
         "0",
         "0",
         "12460",
         "7.75",
         null,
         "Q"
        ],
        [
         "33",
         "1",
         "3",
         "Glynn, Miss. Mary Agatha",
         "female",
         null,
         "0",
         "0",
         "335677",
         "7.75",
         null,
         "Q"
        ],
        [
         "301",
         "1",
         "3",
         "\"Kelly, Miss. Anna Katherine \"\"Annie Kate\"\"\"",
         "female",
         null,
         "0",
         "0",
         "9234",
         "7.75",
         null,
         "Q"
        ],
        [
         "209",
         "1",
         "3",
         "\"Carr, Miss. Helen \"\"Ellen\"\"\"",
         "female",
         "16",
         "0",
         "0",
         "367231",
         "7.75",
         null,
         "Q"
        ],
        [
         "275",
         "1",
         "3",
         "\"Healy, Miss. Hanora \"\"Nora\"\"\"",
         "female",
         null,
         "0",
         "0",
         "370375",
         "7.75",
         null,
         "Q"
        ],
        [
         "142",
         "1",
         "3",
         "Nysten, Miss. Anna Sofia",
         "female",
         "22",
         "0",
         "0",
         "347081",
         "7.75",
         null,
         "S"
        ],
        [
         "290",
         "1",
         "3",
         "Connolly, Miss. Kate",
         "female",
         "22",
         "0",
         "0",
         "370373",
         "7.75",
         null,
         "Q"
        ],
        [
         "281",
         "0",
         "3",
         "Duane, Mr. Frank",
         "male",
         "65",
         "0",
         "0",
         "336439",
         "7.75",
         null,
         "Q"
        ],
        [
         "891",
         "0",
         "3",
         "Dooley, Mr. Patrick",
         "male",
         "32",
         "0",
         "0",
         "370376",
         "7.75",
         null,
         "Q"
        ],
        [
         "614",
         "0",
         "3",
         "Horgan, Mr. John",
         "male",
         null,
         "0",
         "0",
         "370377",
         "7.75",
         null,
         "Q"
        ],
        [
         "561",
         "0",
         "3",
         "Morrow, Mr. Thomas Rowan",
         "male",
         null,
         "0",
         "0",
         "372622",
         "7.75",
         null,
         "Q"
        ],
        [
         "265",
         "0",
         "3",
         "Henry, Miss. Delia",
         "female",
         null,
         "0",
         "0",
         "382649",
         "7.75",
         null,
         "Q"
        ],
        [
         "215",
         "0",
         "3",
         "Kiernan, Mr. Philip",
         "male",
         null,
         "1",
         "0",
         "367229",
         "7.75",
         null,
         "Q"
        ],
        [
         "369",
         "1",
         "3",
         "Jermyn, Miss. Annie",
         "female",
         null,
         "0",
         "0",
         "14313",
         "7.75",
         null,
         "Q"
        ],
        [
         "750",
         "0",
         "3",
         "Connaghton, Mr. Michael",
         "male",
         "31",
         "0",
         "0",
         "335097",
         "7.75",
         null,
         "Q"
        ],
        [
         "407",
         "0",
         "3",
         "Widegren, Mr. Carl/Charles Peter",
         "male",
         "51",
         "0",
         "0",
         "347064",
         "7.75",
         null,
         "S"
        ],
        [
         "777",
         "0",
         "3",
         "Tobin, Mr. Roger",
         "male",
         null,
         "0",
         "0",
         "383121",
         "7.75",
         "F38",
         "Q"
        ],
        [
         "526",
         "0",
         "3",
         "Farrell, Mr. James",
         "male",
         "40.5",
         "0",
         "0",
         "367232",
         "7.75",
         null,
         "Q"
        ],
        [
         "197",
         "0",
         "3",
         "Mernagh, Mr. Robert",
         "male",
         null,
         "0",
         "0",
         "368703",
         "7.75",
         null,
         "Q"
        ],
        [
         "768",
         "0",
         "3",
         "Mangan, Miss. Mary",
         "female",
         "30.5",
         "0",
         "0",
         "364850",
         "7.75",
         null,
         "Q"
        ],
        [
         "277",
         "0",
         "3",
         "Lindblom, Miss. Augusta Charlotta",
         "female",
         "45",
         "0",
         "0",
         "347073",
         "7.75",
         null,
         "S"
        ],
        [
         "776",
         "0",
         "3",
         "Myhrman, Mr. Pehr Fabian Oliver Malkolm",
         "male",
         "18",
         "0",
         "0",
         "347078",
         "7.75",
         null,
         "S"
        ],
        [
         "574",
         "1",
         "3",
         "Kelly, Miss. Mary",
         "female",
         null,
         "0",
         "0",
         "14312",
         "7.75",
         null,
         "Q"
        ],
        [
         "429",
         "0",
         "3",
         "Flynn, Mr. James",
         "male",
         null,
         "0",
         "0",
         "364851",
         "7.75",
         null,
         "Q"
        ],
        [
         "48",
         "1",
         "3",
         "O'Driscoll, Miss. Bridget",
         "female",
         null,
         "0",
         "0",
         "14311",
         "7.75",
         null,
         "Q"
        ],
        [
         "594",
         "0",
         "3",
         "Bourke, Miss. Mary",
         "female",
         null,
         "0",
         "2",
         "364848",
         "7.75",
         null,
         "Q"
        ],
        [
         "199",
         "1",
         "3",
         "\"Madigan, Miss. Margaret \"\"Maggie\"\"\"",
         "female",
         null,
         "0",
         "0",
         "370370",
         "7.75",
         null,
         "Q"
        ],
        [
         "704",
         "0",
         "3",
         "Gallagher, Mr. Martin",
         "male",
         "25",
         "0",
         "0",
         "36864",
         "7.7417",
         null,
         "Q"
        ],
        [
         "728",
         "1",
         "3",
         "Mannion, Miss. Margareth",
         "female",
         null,
         "0",
         "0",
         "36866",
         "7.7375",
         null,
         "Q"
        ],
        [
         "779",
         "0",
         "3",
         "Kilgannon, Mr. Thomas J",
         "male",
         null,
         "0",
         "0",
         "36865",
         "7.7375",
         null,
         "Q"
        ],
        [
         "422",
         "0",
         "3",
         "Charters, Mr. David",
         "male",
         "21",
         "0",
         "0",
         "A/5. 13032",
         "7.7333",
         null,
         "Q"
        ],
        [
         "157",
         "1",
         "3",
         "\"Gilnagh, Miss. Katherine \"\"Katie\"\"\"",
         "female",
         "16",
         "0",
         "0",
         "35851",
         "7.7333",
         null,
         "Q"
        ],
        [
         "630",
         "0",
         "3",
         "O'Connell, Mr. Patrick D",
         "male",
         null,
         "0",
         "0",
         "334912",
         "7.7333",
         null,
         "Q"
        ],
        [
         "698",
         "1",
         "3",
         "\"Mullens, Miss. Katherine \"\"Katie\"\"\"",
         "female",
         null,
         "0",
         "0",
         "35852",
         "7.7333",
         null,
         "Q"
        ],
        [
         "389",
         "0",
         "3",
         "Sadlier, Mr. Matthew",
         "male",
         null,
         "0",
         "0",
         "367655",
         "7.7292",
         null,
         "Q"
        ],
        [
         "469",
         "0",
         "3",
         "Scanlan, Mr. James",
         "male",
         null,
         "0",
         "0",
         "36209",
         "7.725",
         null,
         "Q"
        ],
        [
         "76",
         "0",
         "3",
         "Moen, Mr. Sigurd Hansen",
         "male",
         "25",
         "0",
         "0",
         "348123",
         "7.65",
         "F G73",
         "S"
        ],
        [
         "107",
         "1",
         "3",
         "Salkjelsvik, Miss. Anna Kristine",
         "female",
         "21",
         "0",
         "0",
         "343120",
         "7.65",
         null,
         "S"
        ],
        [
         "700",
         "0",
         "3",
         "Humblen, Mr. Adolf Mathias Nicolai Olsen",
         "male",
         "42",
         "0",
         "0",
         "348121",
         "7.65",
         "F G63",
         "S"
        ],
        [
         "716",
         "0",
         "3",
         "Soholt, Mr. Peter Andreas Lauritz Andersen",
         "male",
         "19",
         "0",
         "0",
         "348124",
         "7.65",
         "F G73",
         "S"
        ],
        [
         "503",
         "0",
         "3",
         "O'Sullivan, Miss. Bridget Mary",
         "female",
         null,
         "0",
         "0",
         "330909",
         "7.6292",
         null,
         "Q"
        ],
        [
         "846",
         "0",
         "3",
         "Abbing, Mr. Anthony",
         "male",
         "42",
         "0",
         "0",
         "C.A. 5547",
         "7.55",
         null,
         "S"
        ],
        [
         "236",
         "0",
         "3",
         "Harknett, Miss. Alice Phoebe",
         "female",
         null,
         "0",
         "0",
         "W./C. 6609",
         "7.55",
         null,
         "S"
        ],
        [
         "650",
         "1",
         "3",
         "Stanley, Miss. Amy Zillah Elsie",
         "female",
         "23",
         "0",
         "0",
         "CA. 2314",
         "7.55",
         null,
         "S"
        ],
        [
         "649",
         "0",
         "3",
         "Willey, Mr. Edward",
         "male",
         null,
         "0",
         "0",
         "S.O./P.P. 751",
         "7.55",
         null,
         "S"
        ],
        [
         "479",
         "0",
         "3",
         "Karlsson, Mr. Nils August",
         "male",
         "22",
         "0",
         "0",
         "350060",
         "7.5208",
         null,
         "S"
        ],
        [
         "664",
         "0",
         "3",
         "Coleff, Mr. Peju",
         "male",
         "36",
         "0",
         "0",
         "349210",
         "7.4958",
         null,
         "S"
        ],
        [
         "515",
         "0",
         "3",
         "Coleff, Mr. Satio",
         "male",
         "24",
         "0",
         "0",
         "349209",
         "7.4958",
         null,
         "S"
        ],
        [
         "787",
         "1",
         "3",
         "Sjoblom, Miss. Anna Sofia",
         "female",
         "18",
         "0",
         "0",
         "3101265",
         "7.4958",
         null,
         "S"
        ],
        [
         "155",
         "0",
         "3",
         "Olsen, Mr. Ole Martin",
         "male",
         null,
         "0",
         "0",
         "Fa 265302",
         "7.3125",
         null,
         "S"
        ],
        [
         "366",
         "0",
         "3",
         "Adahl, Mr. Mauritz Nils Martin",
         "male",
         "30",
         "0",
         "0",
         "C 7076",
         "7.25",
         null,
         "S"
        ],
        [
         "228",
         "0",
         "3",
         "\"Lovell, Mr. John Hall (\"\"Henry\"\")\"",
         "male",
         "20.5",
         "0",
         "0",
         "A/5 21173",
         "7.25",
         null,
         "S"
        ],
        [
         "786",
         "0",
         "3",
         "Harmer, Mr. Abraham (David Lishin)",
         "male",
         "25",
         "0",
         "0",
         "374887",
         "7.25",
         null,
         "S"
        ],
        [
         "471",
         "0",
         "3",
         "Keefe, Mr. Arthur",
         "male",
         null,
         "0",
         "0",
         "323592",
         "7.25",
         null,
         "S"
        ],
        [
         "251",
         "0",
         "3",
         "Reed, Mr. James George",
         "male",
         null,
         "0",
         "0",
         "362316",
         "7.25",
         null,
         "S"
        ],
        [
         "492",
         "0",
         "3",
         "Windelov, Mr. Einar",
         "male",
         "21",
         "0",
         "0",
         "SOTON/OQ 3101317",
         "7.25",
         null,
         "S"
        ],
        [
         "377",
         "1",
         "3",
         "Landergren, Miss. Aurora Adelia",
         "female",
         "22",
         "0",
         "0",
         "C 7077",
         "7.25",
         null,
         "S"
        ],
        [
         "213",
         "0",
         "3",
         "Perkin, Mr. John Henry",
         "male",
         "22",
         "0",
         "0",
         "A/5 21174",
         "7.25",
         null,
         "S"
        ],
        [
         "426",
         "0",
         "3",
         "Wiseman, Mr. Phillippe",
         "male",
         null,
         "0",
         "0",
         "A/4. 34244",
         "7.25",
         null,
         "S"
        ],
        [
         "321",
         "0",
         "3",
         "Dennis, Mr. Samuel",
         "male",
         "22",
         "0",
         "0",
         "A/5 21172",
         "7.25",
         null,
         "S"
        ],
        [
         "593",
         "0",
         "3",
         "Elsbury, Mr. William James",
         "male",
         "47",
         "0",
         "0",
         "A/5 3902",
         "7.25",
         null,
         "S"
        ],
        [
         "95",
         "0",
         "3",
         "Coxon, Mr. Daniel",
         "male",
         "59",
         "0",
         "0",
         "364500",
         "7.25",
         null,
         "S"
        ],
        [
         "1",
         "0",
         "3",
         "Braund, Mr. Owen Harris",
         "male",
         "22",
         "1",
         "0",
         "A/5 21171",
         "7.25",
         null,
         "S"
        ],
        [
         "532",
         "0",
         "3",
         "Toufik, Mr. Nakli",
         "male",
         null,
         "0",
         "0",
         "2641",
         "7.2292",
         null,
         "C"
        ],
        [
         "525",
         "0",
         "3",
         "Kassem, Mr. Fared",
         "male",
         null,
         "0",
         "0",
         "2700",
         "7.2292",
         null,
         "C"
        ],
        [
         "763",
         "1",
         "3",
         "Barah, Mr. Hanna Assi",
         "male",
         "20",
         "0",
         "0",
         "2663",
         "7.2292",
         null,
         "C"
        ],
        [
         "297",
         "0",
         "3",
         "Hanna, Mr. Mansour",
         "male",
         "23.5",
         "0",
         "0",
         "2693",
         "7.2292",
         null,
         "C"
        ],
        [
         "799",
         "0",
         "3",
         "Ibrahim Shawah, Mr. Yousseff",
         "male",
         "30",
         "0",
         "0",
         "2685",
         "7.2292",
         null,
         "C"
        ],
        [
         "37",
         "1",
         "3",
         "Mamee, Mr. Hanna",
         "male",
         null,
         "0",
         "0",
         "2677",
         "7.2292",
         null,
         "C"
        ],
        [
         "781",
         "1",
         "3",
         "Ayoub, Miss. Banoura",
         "female",
         "13",
         "0",
         "0",
         "2687",
         "7.2292",
         null,
         "C"
        ],
        [
         "833",
         "0",
         "3",
         "Saad, Mr. Amin",
         "male",
         null,
         "0",
         "0",
         "2671",
         "7.2292",
         null,
         "C"
        ],
        [
         "860",
         "0",
         "3",
         "Razi, Mr. Raihed",
         "male",
         null,
         "0",
         "0",
         "2629",
         "7.2292",
         null,
         "C"
        ],
        [
         "61",
         "0",
         "3",
         "Sirayanian, Mr. Orsen",
         "male",
         "22",
         "0",
         "0",
         "2669",
         "7.2292",
         null,
         "C"
        ],
        [
         "353",
         "0",
         "3",
         "Elias, Mr. Tannous",
         "male",
         "15",
         "1",
         "1",
         "2695",
         "7.2292",
         null,
         "C"
        ],
        [
         "58",
         "0",
         "3",
         "Novel, Mr. Mansouer",
         "male",
         "28.5",
         "0",
         "0",
         "2697",
         "7.2292",
         null,
         "C"
        ],
        [
         "569",
         "0",
         "3",
         "Doharr, Mr. Tannous",
         "male",
         null,
         "0",
         "0",
         "2686",
         "7.2292",
         null,
         "C"
        ],
        [
         "533",
         "0",
         "3",
         "Elias, Mr. Joseph Jr",
         "male",
         "17",
         "1",
         "1",
         "2690",
         "7.2292",
         null,
         "C"
        ],
        [
         "368",
         "1",
         "3",
         "Moussa, Mrs. (Mantoura Boulos)",
         "female",
         null,
         "0",
         "0",
         "2626",
         "7.2292",
         null,
         "C"
        ],
        [
         "554",
         "1",
         "3",
         "\"Leeni, Mr. Fahim (\"\"Philip Zenni\"\")\"",
         "male",
         "22",
         "0",
         "0",
         "2620",
         "7.225",
         null,
         "C"
        ],
        [
         "523",
         "0",
         "3",
         "Lahoud, Mr. Sarkis",
         "male",
         null,
         "0",
         "0",
         "2624",
         "7.225",
         null,
         "C"
        ],
        [
         "355",
         "0",
         "3",
         "Yousif, Mr. Wazli",
         "male",
         null,
         "0",
         "0",
         "2647",
         "7.225",
         null,
         "C"
        ],
        [
         "662",
         "0",
         "3",
         "Badt, Mr. Mohamed",
         "male",
         "40",
         "0",
         "0",
         "2623",
         "7.225",
         null,
         "C"
        ],
        [
         "694",
         "0",
         "3",
         "Saad, Mr. Khalil",
         "male",
         "25",
         "0",
         "0",
         "2672",
         "7.225",
         null,
         "C"
        ],
        [
         "20",
         "1",
         "3",
         "Masselmani, Mrs. Fatima",
         "female",
         null,
         "0",
         "0",
         "2649",
         "7.225",
         null,
         "C"
        ],
        [
         "876",
         "1",
         "3",
         "\"Najib, Miss. Adele Kiamie \"\"Jane\"\"\"",
         "female",
         "15",
         "0",
         "0",
         "2667",
         "7.225",
         null,
         "C"
        ],
        [
         "204",
         "0",
         "3",
         "Youseff, Mr. Gerious",
         "male",
         "45.5",
         "0",
         "0",
         "2628",
         "7.225",
         null,
         "C"
        ],
        [
         "774",
         "0",
         "3",
         "Elias, Mr. Dibo",
         "male",
         null,
         "0",
         "0",
         "2674",
         "7.225",
         null,
         "C"
        ],
        [
         "245",
         "0",
         "3",
         "Attalah, Mr. Sleiman",
         "male",
         "30",
         "0",
         "0",
         "2694",
         "7.225",
         null,
         "C"
        ],
        [
         "27",
         "0",
         "3",
         "Emir, Mr. Farred Chehab",
         "male",
         null,
         "0",
         "0",
         "2631",
         "7.225",
         null,
         "C"
        ],
        [
         "599",
         "0",
         "3",
         "Boulos, Mr. Hanna",
         "male",
         null,
         "0",
         "0",
         "2664",
         "7.225",
         null,
         "C"
        ],
        [
         "128",
         "1",
         "3",
         "Madsen, Mr. Fridtjof Arne",
         "male",
         "24",
         "0",
         "0",
         "C 17369",
         "7.1417",
         null,
         "S"
        ],
        [
         "591",
         "0",
         "3",
         "Rintamaki, Mr. Matti",
         "male",
         "35",
         "0",
         "0",
         "STON/O 2. 3101273",
         "7.125",
         null,
         "S"
        ],
        [
         "762",
         "0",
         "3",
         "Nirva, Mr. Iisakki Antino Aijo",
         "male",
         "41",
         "0",
         "0",
         "SOTON/O2 3101272",
         "7.125",
         null,
         "S"
        ],
        [
         "244",
         "0",
         "3",
         "Maenpaa, Mr. Matti Alexanteri",
         "male",
         "22",
         "0",
         "0",
         "STON/O 2. 3101275",
         "7.125",
         null,
         "S"
        ],
        [
         "434",
         "0",
         "3",
         "Kallio, Mr. Nikolai Erland",
         "male",
         "17",
         "0",
         "0",
         "STON/O 2. 3101274",
         "7.125",
         null,
         "S"
        ],
        [
         "722",
         "0",
         "3",
         "Jensen, Mr. Svend Lauritz",
         "male",
         "17",
         "1",
         "0",
         "350048",
         "7.0542",
         null,
         "S"
        ],
        [
         "632",
         "0",
         "3",
         "Lundahl, Mr. Johan Svensson",
         "male",
         "51",
         "0",
         "0",
         "347743",
         "7.0542",
         null,
         "S"
        ],
        [
         "132",
         "0",
         "3",
         "Coelho, Mr. Domingos Fernandeo",
         "male",
         "20",
         "0",
         "0",
         "SOTON/O.Q. 3101307",
         "7.05",
         null,
         "S"
        ],
        [
         "612",
         "0",
         "3",
         "Jardin, Mr. Jose Neto",
         "male",
         null,
         "0",
         "0",
         "SOTON/O.Q. 3101305",
         "7.05",
         null,
         "S"
        ],
        [
         "785",
         "0",
         "3",
         "Ali, Mr. William",
         "male",
         "25",
         "0",
         "0",
         "SOTON/O.Q. 3101312",
         "7.05",
         null,
         "S"
        ],
        [
         "211",
         "0",
         "3",
         "Ali, Mr. Ahmed",
         "male",
         "24",
         "0",
         "0",
         "SOTON/O.Q. 3101311",
         "7.05",
         null,
         "S"
        ],
        [
         "364",
         "0",
         "3",
         "Asim, Mr. Adola",
         "male",
         "35",
         "0",
         "0",
         "SOTON/O.Q. 3101310",
         "7.05",
         null,
         "S"
        ],
        [
         "466",
         "0",
         "3",
         "Goncalves, Mr. Manuel Estanslas",
         "male",
         "38",
         "0",
         "0",
         "SOTON/O.Q. 3101306",
         "7.05",
         null,
         "S"
        ],
        [
         "885",
         "0",
         "3",
         "Sutehall, Mr. Henry Jr",
         "male",
         "25",
         "0",
         "0",
         "SOTON/OQ 392076",
         "7.05",
         null,
         "S"
        ],
        [
         "478",
         "0",
         "3",
         "Braund, Mr. Lewis Richard",
         "male",
         "29",
         "1",
         "0",
         "3460",
         "7.0458",
         null,
         "S"
        ],
        [
         "202",
         "0",
         "3",
         "Sage, Mr. Frederick",
         "male",
         null,
         "8",
         "2",
         "CA. 2343",
         "69.55",
         null,
         "S"
        ],
        [
         "160",
         "0",
         "3",
         "Sage, Master. Thomas Henry",
         "male",
         null,
         "8",
         "2",
         "CA. 2343",
         "69.55",
         null,
         "S"
        ],
        [
         "864",
         "0",
         "3",
         "\"Sage, Miss. Dorothy Edith \"\"Dolly\"\"\"",
         "female",
         null,
         "8",
         "2",
         "CA. 2343",
         "69.55",
         null,
         "S"
        ],
        [
         "325",
         "0",
         "3",
         "Sage, Mr. George John Jr",
         "male",
         null,
         "8",
         "2",
         "CA. 2343",
         "69.55",
         null,
         "S"
        ],
        [
         "847",
         "0",
         "3",
         "Sage, Mr. Douglas Bullen",
         "male",
         null,
         "8",
         "2",
         "CA. 2343",
         "69.55",
         null,
         "S"
        ],
        [
         "793",
         "0",
         "3",
         "Sage, Miss. Stella Anna",
         "female",
         null,
         "8",
         "2",
         "CA. 2343",
         "69.55",
         null,
         "S"
        ],
        [
         "181",
         "0",
         "3",
         "Sage, Miss. Constance Gladys",
         "female",
         null,
         "8",
         "2",
         "CA. 2343",
         "69.55",
         null,
         "S"
        ],
        [
         "642",
         "1",
         "1",
         "Sagesser, Mlle. Emma",
         "female",
         "24",
         "0",
         "0",
         "PC 17477",
         "69.3",
         "B35",
         "C"
        ],
        [
         "370",
         "1",
         "1",
         "Aubart, Mme. Leontine Pauline",
         "female",
         "24",
         "0",
         "0",
         "PC 17477",
         "69.3",
         "B35",
         "C"
        ],
        [
         "152",
         "1",
         "1",
         "Pears, Mrs. Thomas (Edith Wearne)",
         "female",
         "22",
         "1",
         "0",
         "113776",
         "66.6",
         "C2",
         "S"
        ],
        [
         "337",
         "0",
         "1",
         "Pears, Mr. Thomas Clinton",
         "male",
         "29",
         "1",
         "0",
         "113776",
         "66.6",
         "C2",
         "S"
        ],
        [
         "755",
         "1",
         "2",
         "Herman, Mrs. Samuel (Jane Laver)",
         "female",
         "48",
         "1",
         "2",
         "220845",
         "65",
         null,
         "S"
        ],
        [
         "616",
         "1",
         "2",
         "Herman, Miss. Alice",
         "female",
         "24",
         "1",
         "2",
         "220845",
         "65",
         null,
         "S"
        ],
        [
         "98",
         "1",
         "1",
         "Greenfield, Mr. William Bertram",
         "male",
         "23",
         "0",
         "1",
         "PC 17759",
         "63.3583",
         "D10 D12",
         "C"
        ],
        [
         "55",
         "0",
         "1",
         "Ostby, Mr. Engelhart Cornelius",
         "male",
         "65",
         "0",
         "1",
         "113509",
         "61.9792",
         "B30",
         "C"
        ],
        [
         "156",
         "0",
         "1",
         "Williams, Mr. Charles Duane",
         "male",
         "51",
         "0",
         "1",
         "PC 17597",
         "61.3792",
         null,
         "C"
        ],
        [
         "93",
         "0",
         "1",
         "Chaffee, Mr. Herbert Fuller",
         "male",
         "46",
         "1",
         "0",
         "W.E.P. 5734",
         "61.175",
         "E31",
         "S"
        ],
        [
         "805",
         "1",
         "3",
         "Hedman, Mr. Oskar Arvid",
         "male",
         "27",
         "0",
         "0",
         "347089",
         "6.975",
         null,
         "S"
        ],
        [
         "130",
         "0",
         "3",
         "Ekstrom, Mr. Johan",
         "male",
         "45",
         "0",
         "0",
         "347061",
         "6.975",
         null,
         "S"
        ],
        [
         "826",
         "0",
         "3",
         "Flynn, Mr. John",
         "male",
         null,
         "0",
         "0",
         "368323",
         "6.95",
         null,
         "Q"
        ],
        [
         "412",
         "0",
         "3",
         "Hart, Mr. Henry",
         "male",
         null,
         "0",
         "0",
         "394140",
         "6.8583",
         null,
         "Q"
        ],
        [
         "144",
         "0",
         "3",
         "Burke, Mr. Jeremiah",
         "male",
         "19",
         "0",
         "0",
         "365222",
         "6.75",
         null,
         "Q"
        ],
        [
         "655",
         "0",
         "3",
         "\"Hegarty, Miss. Hanora \"\"Nora\"\"\"",
         "female",
         "18",
         "0",
         "0",
         "365226",
         "6.75",
         null,
         "Q"
        ],
        [
         "203",
         "0",
         "3",
         "Johanson, Mr. Jakob Alfred",
         "male",
         "34",
         "0",
         "0",
         "3101264",
         "6.4958",
         null,
         "S"
        ],
        [
         "372",
         "0",
         "3",
         "Wiklund, Mr. Jakob Alfred",
         "male",
         "18",
         "1",
         "0",
         "3101267",
         "6.4958",
         null,
         "S"
        ],
        [
         "819",
         "0",
         "3",
         "Holm, Mr. John Fredrik Alexander",
         "male",
         "43",
         "0",
         "0",
         "C 7075",
         "6.45",
         null,
         "S"
        ],
        [
         "844",
         "0",
         "3",
         "Lemberopolous, Mr. Peter L",
         "male",
         "34.5",
         "0",
         "0",
         "2683",
         "6.4375",
         null,
         "C"
        ],
        [
         "327",
         "0",
         "3",
         "Nysveen, Mr. Johan Hansen",
         "male",
         "61",
         "0",
         "0",
         "345364",
         "6.2375",
         null,
         "S"
        ],
        [
         "514",
         "1",
         "1",
         "Rothschild, Mrs. Martin (Elizabeth L. Barrett)",
         "female",
         "54",
         "1",
         "0",
         "PC 17603",
         "59.4",
         null,
         "C"
        ],
        [
         "330",
         "1",
         "1",
         "Hippach, Miss. Jean Gertrude",
         "female",
         "16",
         "0",
         "1",
         "111361",
         "57.9792",
         "B18",
         "C"
        ],
        [
         "524",
         "1",
         "1",
         "Hippach, Mrs. Louis Albert (Ida Sophia Fischer)",
         "female",
         "44",
         "0",
         "1",
         "111361",
         "57.9792",
         "B18",
         "C"
        ],
        [
         "691",
         "1",
         "1",
         "Dick, Mr. Albert Adrian",
         "male",
         "31",
         "1",
         "0",
         "17474",
         "57",
         "B20",
         "S"
        ],
        [
         "782",
         "1",
         "1",
         "Dick, Mrs. Albert Adrian (Vera Gillespie)",
         "female",
         "17",
         "1",
         "0",
         "17474",
         "57",
         "B20",
         "S"
        ],
        [
         "310",
         "1",
         "1",
         "Francatelli, Miss. Laura Mabel",
         "female",
         "30",
         "0",
         "0",
         "PC 17485",
         "56.9292",
         "E36",
         "C"
        ],
        [
         "600",
         "1",
         "1",
         "\"Duff Gordon, Sir. Cosmo Edmund (\"\"Mr Morgan\"\")\"",
         "male",
         "49",
         "1",
         "0",
         "PC 17485",
         "56.9292",
         "A20",
         "C"
        ],
        [
         "644",
         "1",
         "3",
         "Foo, Mr. Choong",
         "male",
         null,
         "0",
         "0",
         "1601",
         "56.4958",
         null,
         "S"
        ],
        [
         "75",
         "1",
         "3",
         "Bing, Mr. Lee",
         "male",
         "32",
         "0",
         "0",
         "1601",
         "56.4958",
         null,
         "S"
        ],
        [
         "827",
         "0",
         "3",
         "Lam, Mr. Len",
         "male",
         null,
         "0",
         "0",
         "1601",
         "56.4958",
         null,
         "S"
        ],
        [
         "170",
         "0",
         "3",
         "Ling, Mr. Lee",
         "male",
         "28",
         "0",
         "0",
         "1601",
         "56.4958",
         null,
         "S"
        ],
        [
         "693",
         "1",
         "3",
         "Lam, Mr. Ali",
         "male",
         null,
         "0",
         "0",
         "1601",
         "56.4958",
         null,
         "S"
        ],
        [
         "839",
         "1",
         "3",
         "Chip, Mr. Chang",
         "male",
         "32",
         "0",
         "0",
         "1601",
         "56.4958",
         null,
         "S"
        ],
        [
         "510",
         "1",
         "3",
         "Lang, Mr. Fang",
         "male",
         "26",
         "0",
         "0",
         "1601",
         "56.4958",
         null,
         "S"
        ],
        [
         "578",
         "1",
         "1",
         "Silvey, Mrs. William Baird (Alice Munger)",
         "female",
         "39",
         "1",
         "0",
         "13507",
         "55.9",
         "E44",
         "S"
        ],
        [
         "435",
         "0",
         "1",
         "Silvey, Mr. William Baird",
         "male",
         "50",
         "1",
         "0",
         "13507",
         "55.9",
         "E44",
         "S"
        ],
        [
         "371",
         "1",
         "1",
         "Harder, Mr. George Achilles",
         "male",
         "25",
         "1",
         "0",
         "11765",
         "55.4417",
         "E50",
         "C"
        ],
        [
         "167",
         "1",
         "1",
         "Chibnall, Mrs. (Edith Martha Bowerman)",
         "female",
         null,
         "0",
         "1",
         "113505",
         "55",
         "E33",
         "S"
        ],
        [
         "357",
         "1",
         "1",
         "Bowerman, Miss. Elsie Edith",
         "female",
         "22",
         "0",
         "1",
         "113505",
         "55",
         "E33",
         "S"
        ],
        [
         "810",
         "1",
         "1",
         "Chambers, Mrs. Norman Campbell (Bertha Griggs)",
         "female",
         "33",
         "1",
         "0",
         "113806",
         "53.1",
         "E8",
         "S"
        ],
        [
         "749",
         "0",
         "1",
         "Marvin, Mr. Daniel Warner",
         "male",
         "19",
         "1",
         "0",
         "113773",
         "53.1",
         "D30",
         "S"
        ],
        [
         "725",
         "1",
         "1",
         "Chambers, Mr. Norman Campbell",
         "male",
         "27",
         "1",
         "0",
         "113806",
         "53.1",
         "E8",
         "S"
        ],
        [
         "4",
         "1",
         "1",
         "Futrelle, Mrs. Jacques Heath (Lily May Peel)",
         "female",
         "35",
         "1",
         "0",
         "113803",
         "53.1",
         "C123",
         "S"
        ],
        [
         "138",
         "0",
         "1",
         "Futrelle, Mr. Jacques Heath",
         "male",
         "37",
         "1",
         "0",
         "113803",
         "53.1",
         "C123",
         "S"
        ],
        [
         "622",
         "1",
         "1",
         "Kimball, Mr. Edwin Nelson Jr",
         "male",
         "42",
         "1",
         "0",
         "11753",
         "52.5542",
         "D19",
         "S"
        ],
        [
         "872",
         "1",
         "1",
         "Beckwith, Mrs. Richard Leonard (Sallie Monypeny)",
         "female",
         "47",
         "1",
         "1",
         "11751",
         "52.5542",
         "D35",
         "S"
        ],
        [
         "249",
         "1",
         "1",
         "Beckwith, Mr. Richard Leonard",
         "male",
         "37",
         "1",
         "1",
         "11751",
         "52.5542",
         "D35",
         "S"
        ],
        [
         "672",
         "0",
         "1",
         "Davidson, Mr. Thornton",
         "male",
         "31",
         "1",
         "0",
         "F.C. 12750",
         "52",
         "B71",
         "S"
        ],
        [
         "36",
         "0",
         "1",
         "Holverson, Mr. Alexander Oskar",
         "male",
         "42",
         "1",
         "0",
         "113789",
         "52",
         null,
         "S"
        ],
        [
         "670",
         "1",
         "1",
         "Taylor, Mrs. Elmer Zebley (Juliet Cummins Wright)",
         "female",
         null,
         "1",
         "0",
         "19996",
         "52",
         "C126",
         "S"
        ],
        [
         "111",
         "0",
         "1",
         "Porter, Mr. Walter Chamberlain",
         "male",
         "47",
         "0",
         "0",
         "110465",
         "52",
         "C110",
         "S"
        ],
        [
         "476",
         "0",
         "1",
         "Clifford, Mr. George Quincy",
         "male",
         null,
         "0",
         "0",
         "110465",
         "52",
         "A14",
         "S"
        ],
        [
         "384",
         "1",
         "1",
         "Holverson, Mrs. Alexander Oskar (Mary Aline Towner)",
         "female",
         "35",
         "1",
         "0",
         "113789",
         "52",
         null,
         "S"
        ],
        [
         "713",
         "1",
         "1",
         "Taylor, Mr. Elmer Zebley",
         "male",
         "48",
         "1",
         "0",
         "19996",
         "52",
         "C126",
         "S"
        ],
        [
         "680",
         "1",
         "1",
         "Cardeza, Mr. Thomas Drake Martinez",
         "male",
         "36",
         "0",
         "1",
         "PC 17755",
         "512.3292",
         "B51 B53 B55",
         "C"
        ],
        [
         "738",
         "1",
         "1",
         "Lesurer, Mr. Gustave J",
         "male",
         "35",
         "0",
         "0",
         "PC 17755",
         "512.3292",
         "B101",
         "C"
        ],
        [
         "259",
         "1",
         "1",
         "Ward, Miss. Anna",
         "female",
         "35",
         "0",
         "0",
         "PC 17755",
         "512.3292",
         null,
         "C"
        ],
        [
         "458",
         "1",
         "1",
         "Kenyon, Mrs. Frederick R (Marion)",
         "female",
         null,
         "1",
         "0",
         "17464",
         "51.8625",
         "D21",
         "S"
        ],
        [
         "7",
         "0",
         "1",
         "McCarthy, Mr. Timothy J",
         "male",
         "54",
         "0",
         "0",
         "17463",
         "51.8625",
         "E46",
         "S"
        ],
        [
         "572",
         "1",
         "1",
         "Appleton, Mrs. Edward Dale (Charlotte Lamson)",
         "female",
         "53",
         "2",
         "0",
         "11769",
         "51.4792",
         "C101",
         "S"
        ],
        [
         "868",
         "0",
         "1",
         "Roebling, Mr. Washington Augustus II",
         "male",
         "31",
         "0",
         "0",
         "PC 17590",
         "50.4958",
         "A24",
         "S"
        ],
        [
         "186",
         "0",
         "1",
         "Rood, Mr. Hugh Roscoe",
         "male",
         null,
         "0",
         "0",
         "113767",
         "50",
         "A32",
         "S"
        ],
        [
         "873",
         "0",
         "1",
         "Carlsson, Mr. Frans Olof",
         "male",
         "33",
         "0",
         "0",
         "695",
         "5",
         "B51 B53 B55",
         "S"
        ],
        [
         "711",
         "1",
         "1",
         "\"Mayne, Mlle. Berthe Antonine (\"\"Mrs de Villiers\"\")\"",
         "female",
         "24",
         "0",
         "0",
         "PC 17482",
         "49.5042",
         "C90",
         "C"
        ],
        [
         "494",
         "0",
         "1",
         "Artagaveytia, Mr. Ramon",
         "male",
         "71",
         "0",
         "0",
         "PC 17609",
         "49.5042",
         null,
         "C"
        ],
        [
         "540",
         "1",
         "1",
         "Frolicher, Miss. Hedwig Margaritha",
         "female",
         "22",
         "0",
         "2",
         "13568",
         "49.5",
         "B39",
         "C"
        ],
        [
         "84",
         "0",
         "1",
         "Carrau, Mr. Francisco M",
         "male",
         "28",
         "0",
         "0",
         "113059",
         "47.1",
         null,
         "S"
        ],
        [
         "679",
         "0",
         "3",
         "Goodwin, Mrs. Frederick (Augusta Tyler)",
         "female",
         "43",
         "1",
         "6",
         "CA 2144",
         "46.9",
         null,
         "S"
        ],
        [
         "72",
         "0",
         "3",
         "Goodwin, Miss. Lillian Amy",
         "female",
         "16",
         "5",
         "2",
         "CA 2144",
         "46.9",
         null,
         "S"
        ],
        [
         "684",
         "0",
         "3",
         "Goodwin, Mr. Charles Edward",
         "male",
         "14",
         "5",
         "2",
         "CA 2144",
         "46.9",
         null,
         "S"
        ],
        [
         "60",
         "0",
         "3",
         "Goodwin, Master. William Frederick",
         "male",
         "11",
         "5",
         "2",
         "CA 2144",
         "46.9",
         null,
         "S"
        ],
        [
         "481",
         "0",
         "3",
         "Goodwin, Master. Harold Victor",
         "male",
         "9",
         "5",
         "2",
         "CA 2144",
         "46.9",
         null,
         "S"
        ],
        [
         "387",
         "0",
         "3",
         "Goodwin, Master. Sidney Leonard",
         "male",
         "1",
         "5",
         "2",
         "CA 2144",
         "46.9",
         null,
         "S"
        ],
        [
         "603",
         "0",
         "1",
         "Harrington, Mr. Charles H",
         "male",
         null,
         "0",
         "0",
         "113796",
         "42.4",
         null,
         "S"
        ],
        [
         "44",
         "1",
         "2",
         "Laroche, Miss. Simonne Marie Anne Andree",
         "female",
         "3",
         "1",
         "2",
         "SC/Paris 2123",
         "41.5792",
         null,
         "C"
        ],
        [
         "609",
         "1",
         "2",
         "Laroche, Mrs. Joseph (Juliette Marie Louise Lafargue)",
         "female",
         "22",
         "1",
         "2",
         "SC/Paris 2123",
         "41.5792",
         null,
         "C"
        ],
        [
         "686",
         "0",
         "2",
         "Laroche, Mr. Joseph Philippe Lemercier",
         "male",
         "25",
         "1",
         "2",
         "SC/Paris 2123",
         "41.5792",
         null,
         "C"
        ],
        [
         "584",
         "0",
         "1",
         "Ross, Mr. John Hugo",
         "male",
         "36",
         "0",
         "0",
         "13049",
         "40.125",
         "A10",
         "C"
        ],
        [
         "379",
         "0",
         "3",
         "Betros, Mr. Tannous",
         "male",
         "20",
         "0",
         "0",
         "2648",
         "4.0125",
         null,
         "C"
        ],
        [
         "639",
         "0",
         "3",
         "Panula, Mrs. Juha (Maria Emilia Ojala)",
         "female",
         "41",
         "0",
         "5",
         "3101295",
         "39.6875",
         null,
         "S"
        ],
        [
         "267",
         "0",
         "3",
         "Panula, Mr. Ernesti Arvid",
         "male",
         "16",
         "4",
         "1",
         "3101295",
         "39.6875",
         null,
         "S"
        ],
        [
         "165",
         "0",
         "3",
         "Panula, Master. Eino Viljami",
         "male",
         "1",
         "4",
         "1",
         "3101295",
         "39.6875",
         null,
         "S"
        ],
        [
         "51",
         "0",
         "3",
         "Panula, Master. Juha Niilo",
         "male",
         "7",
         "4",
         "1",
         "3101295",
         "39.6875",
         null,
         "S"
        ],
        [
         "825",
         "0",
         "3",
         "Panula, Master. Urho Abraham",
         "male",
         "2",
         "4",
         "1",
         "3101295",
         "39.6875",
         null,
         "S"
        ],
        [
         "687",
         "0",
         "3",
         "Panula, Mr. Jaako Arnold",
         "male",
         "14",
         "4",
         "1",
         "3101295",
         "39.6875",
         null,
         "S"
        ],
        [
         "557",
         "1",
         "1",
         "\"Duff Gordon, Lady. (Lucille Christiana Sutherland) (\"\"Mrs Morgan\"\")\"",
         "female",
         "48",
         "1",
         "0",
         "11755",
         "39.6",
         "A16",
         "C"
        ],
        [
         "767",
         "0",
         "1",
         "Brewe, Dr. Arthur Jackson",
         "male",
         null,
         "0",
         "0",
         "112379",
         "39.6",
         null,
         "C"
        ],
        [
         "854",
         "1",
         "1",
         "Lines, Miss. Mary Conover",
         "female",
         "16",
         "0",
         "1",
         "PC 17592",
         "39.4",
         "D28",
         "S"
        ],
        [
         "619",
         "1",
         "2",
         "Becker, Miss. Marion Louise",
         "female",
         "4",
         "2",
         "1",
         "230136",
         "39",
         "F4",
         "S"
        ],
        [
         "184",
         "1",
         "2",
         "Becker, Master. Richard F",
         "male",
         "1",
         "2",
         "1",
         "230136",
         "39",
         "F4",
         "S"
        ],
        [
         "685",
         "0",
         "2",
         "Brown, Mr. Thomas William Solomon",
         "male",
         "60",
         "1",
         "1",
         "29750",
         "39",
         null,
         "S"
        ],
        [
         "671",
         "1",
         "2",
         "Brown, Mrs. Thomas William Solomon (Elizabeth Catherine Ford)",
         "female",
         "40",
         "1",
         "1",
         "29750",
         "39",
         null,
         "S"
        ],
        [
         "463",
         "0",
         "1",
         "Gee, Mr. Arthur H",
         "male",
         "47",
         "0",
         "0",
         "111320",
         "38.5",
         "E63",
         "S"
        ],
        [
         "818",
         "0",
         "2",
         "Mallet, Mr. Albert",
         "male",
         "31",
         "1",
         "1",
         "S.C./PARIS 2079",
         "37.0042",
         null,
         "C"
        ],
        [
         "828",
         "1",
         "2",
         "Mallet, Master. Andre",
         "male",
         "1",
         "0",
         "2",
         "S.C./PARIS 2079",
         "37.0042",
         null,
         "C"
        ],
        [
         "146",
         "0",
         "2",
         "Nicholls, Mr. Joseph Charles",
         "male",
         "19",
         "1",
         "1",
         "C.A. 33112",
         "36.75",
         null,
         "S"
        ],
        [
         "550",
         "1",
         "2",
         "Davies, Master. John Morgan Jr",
         "male",
         "8",
         "1",
         "1",
         "C.A. 33112",
         "36.75",
         null,
         "S"
        ],
        [
         "340",
         "0",
         "1",
         "Blackwell, Mr. Stephen Weart",
         "male",
         "45",
         "0",
         "0",
         "113784",
         "35.5",
         "T",
         "S"
        ],
        [
         "648",
         "1",
         "1",
         "Simonius-Blumer, Col. Oberst Alfons",
         "male",
         "56",
         "0",
         "0",
         "13213",
         "35.5",
         "A26",
         "C"
        ],
        [
         "24",
         "1",
         "1",
         "Sloper, Mr. William Thompson",
         "male",
         "28",
         "0",
         "0",
         "113788",
         "35.5",
         "A6",
         "S"
        ],
        [
         "56",
         "1",
         "1",
         "Woolner, Mr. Hugh",
         "male",
         null,
         "0",
         "0",
         "19947",
         "35.5",
         "C52",
         "S"
        ],
        [
         "352",
         "0",
         "1",
         "Williams-Lambert, Mr. Fletcher Fellows",
         "male",
         null,
         "0",
         "0",
         "113510",
         "35",
         "C128",
         "S"
        ],
        [
         "97",
         "0",
         "1",
         "Goldschmidt, Mr. George B",
         "male",
         "71",
         "0",
         "0",
         "PC 17754",
         "34.6542",
         "A5",
         "C"
        ],
        [
         "437",
         "0",
         "3",
         "\"Ford, Miss. Doolina Margaret \"\"Daisy\"\"\"",
         "female",
         "21",
         "2",
         "2",
         "W./C. 6608",
         "34.375",
         null,
         "S"
        ],
        [
         "737",
         "0",
         "3",
         "Ford, Mrs. Edward (Margaret Ann Watson)",
         "female",
         "48",
         "1",
         "3",
         "W./C. 6608",
         "34.375",
         null,
         "S"
        ],
        [
         "87",
         "0",
         "3",
         "Ford, Mr. William Neal",
         "male",
         "16",
         "1",
         "3",
         "W./C. 6608",
         "34.375",
         null,
         "S"
        ],
        [
         "148",
         "0",
         "3",
         "\"Ford, Miss. Robina Maggie \"\"Ruby\"\"\"",
         "female",
         "9",
         "2",
         "2",
         "W./C. 6608",
         "34.375",
         null,
         "S"
        ],
        [
         "516",
         "0",
         "1",
         "Walker, Mr. William Anderson",
         "male",
         "47",
         "0",
         "0",
         "36967",
         "34.0208",
         "D46",
         "S"
        ],
        [
         "171",
         "0",
         "1",
         "Van der hoef, Mr. Wyckoff",
         "male",
         "61",
         "0",
         "0",
         "111240",
         "33.5",
         "B19",
         "S"
        ],
        [
         "597",
         "1",
         "2",
         "Leitch, Miss. Jessie Wills",
         "female",
         null,
         "0",
         "0",
         "248727",
         "33",
         null,
         "S"
        ],
        [
         "849",
         "0",
         "2",
         "Harper, Rev. John",
         "male",
         "28",
         "0",
         "1",
         "248727",
         "33",
         null,
         "S"
        ],
        [
         "721",
         "1",
         "2",
         "\"Harper, Miss. Annie Jessie \"\"Nina\"\"\"",
         "female",
         "6",
         "0",
         "1",
         "248727",
         "33",
         null,
         "S"
        ],
        [
         "417",
         "1",
         "2",
         "Drew, Mrs. James Vivian (Lulu Thorne Christian)",
         "female",
         "34",
         "1",
         "1",
         "28220",
         "32.5",
         null,
         "S"
        ],
        [
         "626",
         "0",
         "1",
         "Sutton, Mr. Frederick",
         "male",
         "61",
         "0",
         "0",
         "36963",
         "32.3208",
         "D50",
         "S"
        ],
        [
         "262",
         "1",
         "3",
         "Asplund, Master. Edvin Rojj Felix",
         "male",
         "3",
         "4",
         "2",
         "347077",
         "31.3875",
         null,
         "S"
        ],
        [
         "234",
         "1",
         "3",
         "Asplund, Miss. Lillian Gertrud",
         "female",
         "5",
         "4",
         "2",
         "347077",
         "31.3875",
         null,
         "S"
        ],
        [
         "26",
         "1",
         "3",
         "Asplund, Mrs. Carl Oscar (Selma Augusta Emilia Johansson)",
         "female",
         "38",
         "1",
         "5",
         "347077",
         "31.3875",
         null,
         "S"
        ],
        [
         "183",
         "0",
         "3",
         "Asplund, Master. Clarence Gustaf Hugo",
         "male",
         "9",
         "4",
         "2",
         "347077",
         "31.3875",
         null,
         "S"
        ],
        [
         "543",
         "0",
         "3",
         "Andersson, Miss. Sigrid Elisabeth",
         "female",
         "11",
         "4",
         "2",
         "347082",
         "31.275",
         null,
         "S"
        ],
        [
         "542",
         "0",
         "3",
         "Andersson, Miss. Ingeborg Constanzia",
         "female",
         "9",
         "4",
         "2",
         "347082",
         "31.275",
         null,
         "S"
        ],
        [
         "120",
         "0",
         "3",
         "Andersson, Miss. Ellis Anna Maria",
         "female",
         "2",
         "4",
         "2",
         "347082",
         "31.275",
         null,
         "S"
        ],
        [
         "14",
         "0",
         "3",
         "Andersson, Mr. Anders Johan",
         "male",
         "39",
         "1",
         "5",
         "347082",
         "31.275",
         null,
         "S"
        ],
        [
         "851",
         "0",
         "3",
         "Andersson, Master. Sigvard Harald Elias",
         "male",
         "4",
         "4",
         "2",
         "347082",
         "31.275",
         null,
         "S"
        ],
        [
         "814",
         "0",
         "3",
         "Andersson, Miss. Ebba Iris Alfrida",
         "female",
         "6",
         "4",
         "2",
         "347082",
         "31.275",
         null,
         "S"
        ],
        [
         "611",
         "0",
         "3",
         "Andersson, Mrs. Anders Johan (Alfrida Konstantia Brogren)",
         "female",
         "39",
         "1",
         "5",
         "347082",
         "31.275",
         null,
         "S"
        ],
        [
         "271",
         "0",
         "1",
         "Cairns, Mr. Alexander",
         "male",
         null,
         "0",
         "0",
         "113798",
         "31",
         null,
         "S"
        ],
        [
         "843",
         "1",
         "1",
         "Serepeca, Miss. Augusta",
         "female",
         "30",
         "0",
         "0",
         "113798",
         "31",
         null,
         "C"
        ],
        [
         "210",
         "1",
         "1",
         "Blank, Mr. Henry",
         "male",
         "40",
         "0",
         "0",
         "112277",
         "31",
         "A31",
         "C"
        ],
        [
         "794",
         "0",
         "1",
         "Hoyt, Mr. William Fisher",
         "male",
         null,
         "0",
         "0",
         "PC 17600",
         "30.6958",
         null,
         "C"
        ],
        [
         "175",
         "0",
         "1",
         "Smith, Mr. James Clinch",
         "male",
         "56",
         "0",
         "0",
         "17764",
         "30.6958",
         "A7",
         "C"
        ],
        [
         "299",
         "1",
         "1",
         "Saalfeld, Mr. Adolphe",
         "male",
         null,
         "0",
         "0",
         "19988",
         "30.5",
         "C106",
         "S"
        ],
        [
         "608",
         "1",
         "1",
         "Daniel, Mr. Robert Williams",
         "male",
         "27",
         "0",
         "0",
         "113804",
         "30.5",
         null,
         "S"
        ],
        [
         "493",
         "0",
         "1",
         "Molson, Mr. Harry Markland",
         "male",
         "55",
         "0",
         "0",
         "113787",
         "30.5",
         "C30",
         "S"
        ],
        [
         "450",
         "1",
         "1",
         "Peuchen, Major. Arthur Godfrey",
         "male",
         "52",
         "0",
         "0",
         "113786",
         "30.5",
         "C104",
         "S"
        ],
        [
         "633",
         "1",
         "1",
         "Stahelin-Maeglin, Dr. Max",
         "male",
         "32",
         "0",
         "0",
         "13214",
         "30.5",
         "B50",
         "C"
        ],
        [
         "123",
         "0",
         "2",
         "Nasser, Mr. Nicholas",
         "male",
         "32.5",
         "1",
         "0",
         "237736",
         "30.0708",
         null,
         "C"
        ],
        [
         "10",
         "1",
         "2",
         "Nasser, Mrs. Nicholas (Adele Achem)",
         "female",
         "14",
         "1",
         "0",
         "237736",
         "30.0708",
         null,
         "C"
        ],
        [
         "890",
         "1",
         "1",
         "Behr, Mr. Karl Howell",
         "male",
         "26",
         "0",
         "0",
         "111369",
         "30",
         "C148",
         "C"
        ],
        [
         "783",
         "0",
         "1",
         "Long, Mr. Milton Clyde",
         "male",
         "29",
         "0",
         "0",
         "113501",
         "30",
         "D6",
         "S"
        ],
        [
         "741",
         "1",
         "1",
         "Hawksford, Mr. Walter James",
         "male",
         null,
         "0",
         "0",
         "16988",
         "30",
         "D45",
         "S"
        ],
        [
         "888",
         "1",
         "1",
         "Graham, Miss. Margaret Edith",
         "female",
         "19",
         "0",
         "0",
         "112053",
         "30",
         "B42",
         "S"
        ],
        [
         "631",
         "1",
         "1",
         "Barkworth, Mr. Algernon Henry Wilson",
         "male",
         "80",
         "0",
         "0",
         "27042",
         "30",
         "A23",
         "S"
        ],
        [
         "581",
         "1",
         "2",
         "Christy, Miss. Julie Rachel",
         "female",
         "25",
         "1",
         "1",
         "237789",
         "30",
         null,
         "S"
        ],
        [
         "274",
         "0",
         "1",
         "Natsch, Mr. Charles H",
         "male",
         "37",
         "0",
         "1",
         "PC 17596",
         "29.7",
         "C118",
         "C"
        ],
        [
         "488",
         "0",
         "1",
         "Kent, Mr. Edward Austin",
         "male",
         "58",
         "0",
         "0",
         "11771",
         "29.7",
         "B37",
         "C"
        ],
        [
         "840",
         "1",
         "1",
         "Marechal, Mr. Pierre",
         "male",
         null,
         "0",
         "0",
         "11774",
         "29.7",
         "C47",
         "C"
        ],
        [
         "886",
         "0",
         "3",
         "Rice, Mrs. William (Margaret Norton)",
         "female",
         "39",
         "0",
         "5",
         "382652",
         "29.125",
         null,
         "Q"
        ],
        [
         "279",
         "0",
         "3",
         "Rice, Master. Eric",
         "male",
         "7",
         "4",
         "1",
         "382652",
         "29.125",
         null,
         "Q"
        ],
        [
         "17",
         "0",
         "3",
         "Rice, Master. Eugene",
         "male",
         "2",
         "4",
         "1",
         "382652",
         "29.125",
         null,
         "Q"
        ],
        [
         "788",
         "0",
         "3",
         "Rice, Master. George Hugh",
         "male",
         "8",
         "4",
         "1",
         "382652",
         "29.125",
         null,
         "Q"
        ],
        [
         "172",
         "0",
         "3",
         "Rice, Master. Arthur",
         "male",
         "4",
         "4",
         "1",
         "382652",
         "29.125",
         null,
         "Q"
        ],
        [
         "324",
         "1",
         "2",
         "Caldwell, Mrs. Albert Francis (Sylvia Mae Harbaugh)",
         "female",
         "22",
         "1",
         "1",
         "248738",
         "29",
         null,
         "S"
        ],
        [
         "79",
         "1",
         "2",
         "Caldwell, Master. Alden Gates",
         "male",
         "0.83",
         "0",
         "2",
         "248738",
         "29",
         null,
         "S"
        ],
        [
         "178",
         "0",
         "1",
         "Isham, Miss. Ann Elizabeth",
         "female",
         "50",
         "0",
         "0",
         "PC 17595",
         "28.7125",
         "C49",
         "C"
        ],
        [
         "332",
         "0",
         "1",
         "Partner, Mr. Austen",
         "male",
         "45.5",
         "0",
         "0",
         "113043",
         "28.5",
         "C124",
         "S"
        ],
        [
         "643",
         "0",
         "3",
         "Skoog, Miss. Margit Elizabeth",
         "female",
         "2",
         "3",
         "2",
         "347088",
         "27.9",
         null,
         "S"
        ],
        [
         "361",
         "0",
         "3",
         "Skoog, Mr. Wilhelm",
         "male",
         "40",
         "1",
         "4",
         "347088",
         "27.9",
         null,
         "S"
        ],
        [
         "635",
         "0",
         "3",
         "Skoog, Miss. Mabel",
         "female",
         "9",
         "3",
         "2",
         "347088",
         "27.9",
         null,
         "S"
        ],
        [
         "820",
         "0",
         "3",
         "Skoog, Master. Karl Thorsten",
         "male",
         "10",
         "3",
         "2",
         "347088",
         "27.9",
         null,
         "S"
        ],
        [
         "64",
         "0",
         "3",
         "Skoog, Master. Harald",
         "male",
         "4",
         "3",
         "2",
         "347088",
         "27.9",
         null,
         "S"
        ],
        [
         "168",
         "0",
         "3",
         "Skoog, Mrs. William (Anna Bernhardina Karlsson)",
         "female",
         "45",
         "1",
         "4",
         "347088",
         "27.9",
         null,
         "S"
        ],
        [
         "451",
         "0",
         "2",
         "West, Mr. Edwy Arthur",
         "male",
         "36",
         "1",
         "2",
         "C.A. 34651",
         "27.75",
         null,
         "S"
        ],
        [
         "59",
         "1",
         "2",
         "West, Miss. Constance Mirium",
         "female",
         "5",
         "1",
         "2",
         "C.A. 34651",
         "27.75",
         null,
         "S"
        ],
        [
         "473",
         "1",
         "2",
         "West, Mrs. Edwy Arthur (Ada Mary Worth)",
         "female",
         "33",
         "1",
         "2",
         "C.A. 34651",
         "27.75",
         null,
         "S"
        ],
        [
         "453",
         "0",
         "1",
         "Foreman, Mr. Benjamin Laventall",
         "male",
         "30",
         "0",
         "0",
         "113051",
         "27.75",
         "C111",
         "C"
        ],
        [
         "31",
         "0",
         "1",
         "Uruchurtu, Don. Manuel E",
         "male",
         "40",
         "0",
         "0",
         "PC 17601",
         "27.7208",
         null,
         "C"
        ],
        [
         "195",
         "1",
         "1",
         "Brown, Mrs. James Joseph (Margaret Tobin)",
         "female",
         "44",
         "0",
         "0",
         "PC 17610",
         "27.7208",
         "B4",
         "C"
        ],
        [
         "362",
         "0",
         "2",
         "del Carlo, Mr. Sebastiano",
         "male",
         "29",
         "1",
         "0",
         "SC/PARIS 2167",
         "27.7208",
         null,
         "C"
        ],
        [
         "296",
         "0",
         "1",
         "Lewy, Mr. Ervin G",
         "male",
         null,
         "0",
         "0",
         "PC 17612",
         "27.7208",
         null,
         "C"
        ],
        [
         "65",
         "0",
         "1",
         "Stewart, Mr. Albert A",
         "male",
         null,
         "0",
         "0",
         "PC 17605",
         "27.7208",
         null,
         "C"
        ],
        [
         "601",
         "1",
         "2",
         "Jacobsohn, Mrs. Sidney Samuel (Amy Frances Christy)",
         "female",
         "24",
         "2",
         "1",
         "243847",
         "27",
         null,
         "S"
        ],
        [
         "218",
         "0",
         "2",
         "Jacobsohn, Mr. Sidney Samuel",
         "male",
         "42",
         "1",
         "0",
         "243847",
         "27",
         null,
         "S"
        ],
        [
         "439",
         "0",
         "1",
         "Fortune, Mr. Mark",
         "male",
         "64",
         "1",
         "4",
         "19950",
         "263",
         "C23 C25 C27",
         "S"
        ],
        [
         "89",
         "1",
         "1",
         "Fortune, Miss. Mabel Helen",
         "female",
         "23",
         "3",
         "2",
         "19950",
         "263",
         "C23 C25 C27",
         "S"
        ],
        [
         "28",
         "0",
         "1",
         "Fortune, Mr. Charles Alexander",
         "male",
         "19",
         "3",
         "2",
         "19950",
         "263",
         "C23 C25 C27",
         "S"
        ],
        [
         "342",
         "1",
         "1",
         "Fortune, Miss. Alice Elizabeth",
         "female",
         "24",
         "3",
         "2",
         "19950",
         "263",
         "C23 C25 C27",
         "S"
        ],
        [
         "312",
         "1",
         "1",
         "Ryerson, Miss. Emily Borie",
         "female",
         "18",
         "2",
         "2",
         "PC 17608",
         "262.375",
         "B57 B59 B63 B66",
         "C"
        ],
        [
         "743",
         "1",
         "1",
         "\"Ryerson, Miss. Susan Parker \"\"Suzette\"\"\"",
         "female",
         "21",
         "2",
         "2",
         "PC 17608",
         "262.375",
         "B57 B59 B63 B66",
         "C"
        ],
        [
         "605",
         "1",
         "1",
         "\"Homer, Mr. Harry (\"\"Mr E Haven\"\")\"",
         "male",
         "35",
         "0",
         "0",
         "111426",
         "26.55",
         null,
         "C"
        ],
        [
         "712",
         "0",
         "1",
         "Klaber, Mr. Herman",
         "male",
         null,
         "0",
         "0",
         "113028",
         "26.55",
         "C124",
         "S"
        ],
        [
         "556",
         "0",
         "1",
         "Wright, Mr. George",
         "male",
         "62",
         "0",
         "0",
         "113807",
         "26.55",
         null,
         "S"
        ],
        [
         "12",
         "1",
         "1",
         "Bonnell, Miss. Elizabeth",
         "female",
         "58",
         "0",
         "0",
         "113783",
         "26.55",
         "C103",
         "S"
        ],
        [
         "188",
         "1",
         "1",
         "\"Romaine, Mr. Charles Hallace (\"\"Mr C Rolmane\"\")\"",
         "male",
         "45",
         "0",
         "0",
         "111428",
         "26.55",
         null,
         "S"
        ],
        [
         "537",
         "0",
         "1",
         "Butt, Major. Archibald Willingham",
         "male",
         "45",
         "0",
         "0",
         "113050",
         "26.55",
         "B38",
         "S"
        ],
        [
         "695",
         "0",
         "1",
         "Weir, Col. John",
         "male",
         "60",
         "0",
         "0",
         "113800",
         "26.55",
         null,
         "S"
        ],
        [
         "461",
         "1",
         "1",
         "Anderson, Mr. Harry",
         "male",
         "48",
         "0",
         "0",
         "19952",
         "26.55",
         "E12",
         "S"
        ],
        [
         "457",
         "0",
         "1",
         "Millet, Mr. Francis Davis",
         "male",
         "65",
         "0",
         "0",
         "13509",
         "26.55",
         "E38",
         "S"
        ],
        [
         "468",
         "0",
         "1",
         "Smart, Mr. John Montgomery",
         "male",
         "56",
         "0",
         "0",
         "113792",
         "26.55",
         null,
         "S"
        ],
        [
         "448",
         "1",
         "1",
         "Seward, Mr. Frederic Kimber",
         "male",
         "34",
         "0",
         "0",
         "113794",
         "26.55",
         null,
         "S"
        ],
        [
         "508",
         "1",
         "1",
         "\"Bradley, Mr. George (\"\"George Arthur Brayton\"\")\"",
         "male",
         null,
         "0",
         "0",
         "111427",
         "26.55",
         null,
         "S"
        ],
        [
         "253",
         "0",
         "1",
         "Stead, Mr. William Thomas",
         "male",
         "62",
         "0",
         "0",
         "113514",
         "26.55",
         "C87",
         "S"
        ],
        [
         "858",
         "1",
         "1",
         "Daly, Mr. Peter Denis ",
         "male",
         "51",
         "0",
         "0",
         "113055",
         "26.55",
         "E17",
         "S"
        ],
        [
         "431",
         "1",
         "1",
         "Bjornstrom-Steffansson, Mr. Mauritz Hakan",
         "male",
         "28",
         "0",
         "0",
         "110564",
         "26.55",
         "C52",
         "S"
        ],
        [
         "573",
         "1",
         "1",
         "\"Flynn, Mr. John Irwin (\"\"Irving\"\")\"",
         "male",
         "36",
         "0",
         "0",
         "PC 17474",
         "26.3875",
         "E25",
         "S"
        ],
        [
         "513",
         "1",
         "1",
         "McGough, Mr. James Robert",
         "male",
         "36",
         "0",
         "0",
         "PC 17473",
         "26.2875",
         "E25",
         "S"
        ],
        [
         "708",
         "1",
         "1",
         "Calderhead, Mr. Edward Pennington",
         "male",
         "42",
         "0",
         "0",
         "PC 17476",
         "26.2875",
         "E24",
         "S"
        ],
        [
         "702",
         "1",
         "1",
         "Silverthorne, Mr. Spencer Victor",
         "male",
         "35",
         "0",
         "0",
         "PC 17475",
         "26.2875",
         "E24",
         "S"
        ],
        [
         "137",
         "1",
         "1",
         "Newsom, Miss. Helen Monypeny",
         "female",
         "19",
         "0",
         "2",
         "11752",
         "26.2833",
         "D47",
         "S"
        ],
        [
         "238",
         "1",
         "2",
         "\"Collyer, Miss. Marjorie \"\"Lottie\"\"\"",
         "female",
         "8",
         "0",
         "2",
         "C.A. 31921",
         "26.25",
         null,
         "S"
        ],
        [
         "441",
         "1",
         "2",
         "Hart, Mrs. Benjamin (Esther Ada Bloomfield)",
         "female",
         "45",
         "1",
         "1",
         "F.C.C. 13529",
         "26.25",
         null,
         "S"
        ],
        [
         "802",
         "1",
         "2",
         "Collyer, Mrs. Harvey (Charlotte Annie Tate)",
         "female",
         "31",
         "1",
         "1",
         "C.A. 31921",
         "26.25",
         null,
         "S"
        ],
        [
         "638",
         "0",
         "2",
         "Collyer, Mr. Harvey",
         "male",
         "31",
         "1",
         "1",
         "C.A. 31921",
         "26.25",
         null,
         "S"
        ],
        [
         "315",
         "0",
         "2",
         "Hart, Mr. Benjamin",
         "male",
         "43",
         "1",
         "1",
         "F.C.C. 13529",
         "26.25",
         null,
         "S"
        ],
        [
         "536",
         "1",
         "2",
         "Hart, Miss. Eva Miriam",
         "female",
         "7",
         "0",
         "2",
         "F.C.C. 13529",
         "26.25",
         null,
         "S"
        ],
        [
         "544",
         "1",
         "2",
         "Beane, Mr. Edward",
         "male",
         "32",
         "1",
         "0",
         "2908",
         "26",
         null,
         "S"
        ],
        [
         "546",
         "0",
         "1",
         "Nicholson, Mr. Arthur Ernest",
         "male",
         "64",
         "0",
         "0",
         "693",
         "26",
         null,
         "S"
        ],
        [
         "134",
         "1",
         "2",
         "Weisz, Mrs. Leopold (Mathilde Francoise Pede)",
         "female",
         "29",
         "1",
         "0",
         "228414",
         "26",
         null,
         "S"
        ],
        [
         "285",
         "0",
         "1",
         "Smith, Mr. Richard William",
         "male",
         null,
         "0",
         "0",
         "113056",
         "26",
         "A19",
         "S"
        ],
        [
         "552",
         "0",
         "2",
         "Sharp, Mr. Percival James R",
         "male",
         "27",
         "0",
         "0",
         "244358",
         "26",
         null,
         "S"
        ],
        [
         "531",
         "1",
         "2",
         "Quick, Miss. Phyllis May",
         "female",
         "2",
         "1",
         "1",
         "26360",
         "26",
         null,
         "S"
        ],
        [
         "313",
         "0",
         "2",
         "Lahtinen, Mrs. William (Anna Sylfven)",
         "female",
         "26",
         "1",
         "1",
         "250651",
         "26",
         null,
         "S"
        ],
        [
         "21",
         "0",
         "2",
         "Fynney, Mr. Joseph J",
         "male",
         "35",
         "0",
         "0",
         "239865",
         "26",
         null,
         "S"
        ],
        [
         "149",
         "0",
         "2",
         "\"Navratil, Mr. Michel (\"\"Louis M Hoffman\"\")\"",
         "male",
         "36.5",
         "0",
         "2",
         "230080",
         "26",
         "F2",
         "S"
        ],
        [
         "706",
         "0",
         "2",
         "\"Morley, Mr. Henry Samuel (\"\"Mr Henry Marshall\"\")\"",
         "male",
         "39",
         "0",
         "0",
         "250655",
         "26",
         null,
         "S"
        ],
        [
         "341",
         "1",
         "2",
         "Navratil, Master. Edmond Roger",
         "male",
         "2",
         "1",
         "1",
         "230080",
         "26",
         "F2",
         "S"
        ],
        [
         "595",
         "0",
         "2",
         "Chapman, Mr. John Henry",
         "male",
         "37",
         "1",
         "0",
         "SC/AH 29037",
         "26",
         null,
         "S"
        ],
        [
         "260",
         "1",
         "2",
         "Parrish, Mrs. (Lutie Davis)",
         "female",
         "50",
         "0",
         "1",
         "230433",
         "26",
         null,
         "S"
        ],
        [
         "398",
         "0",
         "2",
         "McKane, Mr. Peter David",
         "male",
         "46",
         "0",
         "0",
         "28403",
         "26",
         null,
         "S"
        ],
        [
         "792",
         "0",
         "2",
         "Gaskell, Mr. Alfred",
         "male",
         "16",
         "0",
         "0",
         "239865",
         "26",
         null,
         "S"
        ],
        [
         "100",
         "0",
         "2",
         "Kantor, Mr. Sinai",
         "male",
         "34",
         "1",
         "0",
         "244367",
         "26",
         null,
         "S"
        ],
        [
         "194",
         "1",
         "2",
         "Navratil, Master. Michel M",
         "male",
         "3",
         "1",
         "1",
         "230080",
         "26",
         "F2",
         "S"
        ],
        [
         "428",
         "1",
         "2",
         "\"Phillips, Miss. Kate Florence (\"\"Mrs Kate Louise Phillips Marshall\"\")\"",
         "female",
         "19",
         "0",
         "0",
         "250655",
         "26",
         null,
         "S"
        ],
        [
         "855",
         "0",
         "2",
         "Carter, Mrs. Ernest Courtenay (Lilian Hughes)",
         "female",
         "44",
         "1",
         "0",
         "244252",
         "26",
         null,
         "S"
        ],
        [
         "427",
         "1",
         "2",
         "Clarke, Mrs. Charles V (Ada Maria Winfield)",
         "female",
         "28",
         "1",
         "0",
         "2003",
         "26",
         null,
         "S"
        ],
        [
         "729",
         "0",
         "2",
         "Bryhl, Mr. Kurt Arnold Gottfrid",
         "male",
         "25",
         "1",
         "0",
         "236853",
         "26",
         null,
         "S"
        ],
        [
         "250",
         "0",
         "2",
         "Carter, Rev. Ernest Courtenay",
         "male",
         "54",
         "1",
         "0",
         "244252",
         "26",
         null,
         "S"
        ],
        [
         "237",
         "0",
         "2",
         "Hold, Mr. Stephen",
         "male",
         "44",
         "1",
         "0",
         "26707",
         "26",
         null,
         "S"
        ],
        [
         "507",
         "1",
         "2",
         "Quick, Mrs. Frederick Charles (Jane Richards)",
         "female",
         "33",
         "0",
         "2",
         "26360",
         "26",
         null,
         "S"
        ],
        [
         "881",
         "1",
         "2",
         "Shelley, Mrs. William (Imanita Parrish Hall)",
         "female",
         "25",
         "0",
         "1",
         "230433",
         "26",
         null,
         "S"
        ],
        [
         "317",
         "1",
         "2",
         "Kantor, Mrs. Sinai (Miriam Sternin)",
         "female",
         "24",
         "1",
         "0",
         "244367",
         "26",
         null,
         "S"
        ],
        [
         "54",
         "1",
         "2",
         "Faunthorpe, Mrs. Lizzie (Elizabeth Anne Wilkinson)",
         "female",
         "29",
         "1",
         "0",
         "2926",
         "26",
         null,
         "S"
        ],
        [
         "433",
         "1",
         "2",
         "Louch, Mrs. Charles Alexander (Alice Adelaide Slow)",
         "female",
         "42",
         "1",
         "0",
         "SC/AH 3085",
         "26",
         null,
         "S"
        ],
        [
         "519",
         "1",
         "2",
         "\"Angle, Mrs. William A (Florence \"\"Mary\"\" Agnes Hughes)\"",
         "female",
         "36",
         "1",
         "0",
         "226875",
         "26",
         null,
         "S"
        ],
        [
         "583",
         "0",
         "2",
         "Downton, Mr. William James",
         "male",
         "54",
         "0",
         "0",
         "28403",
         "26",
         null,
         "S"
        ],
        [
         "547",
         "1",
         "2",
         "Beane, Mrs. Edward (Ethel Clarke)",
         "female",
         "19",
         "1",
         "0",
         "2908",
         "26",
         null,
         "S"
        ],
        [
         "797",
         "1",
         "1",
         "Leader, Dr. Alice (Farnham)",
         "female",
         "49",
         "0",
         "0",
         "17465",
         "25.9292",
         "D17",
         "S"
        ],
        [
         "863",
         "1",
         "1",
         "Swift, Mrs. Frederick Joel (Margaret Welles Barron)",
         "female",
         "48",
         "0",
         "0",
         "17466",
         "25.9292",
         "D17",
         "S"
        ],
        [
         "169",
         "0",
         "1",
         "Baumann, Mr. John D",
         "male",
         null,
         "0",
         "0",
         "PC 17318",
         "25.925",
         null,
         "S"
        ],
        [
         "663",
         "0",
         "1",
         "Colley, Mr. Edward Pomeroy",
         "male",
         "47",
         "0",
         "0",
         "5727",
         "25.5875",
         "E58",
         "S"
        ],
        [
         "410",
         "0",
         "3",
         "Lefebre, Miss. Ida",
         "female",
         null,
         "3",
         "1",
         "4133",
         "25.4667",
         null,
         "S"
        ],
        [
         "177",
         "0",
         "3",
         "Lefebre, Master. Henry Forbes",
         "male",
         null,
         "3",
         "1",
         "4133",
         "25.4667",
         null,
         "S"
        ],
        [
         "486",
         "0",
         "3",
         "Lefebre, Miss. Jeannie",
         "female",
         null,
         "3",
         "1",
         "4133",
         "25.4667",
         null,
         "S"
        ],
        [
         "230",
         "0",
         "3",
         "Lefebre, Miss. Mathilde",
         "female",
         null,
         "3",
         "1",
         "4133",
         "25.4667",
         null,
         "S"
        ],
        [
         "300",
         "1",
         "1",
         "Baxter, Mrs. James (Helene DeLaudeniere Chaput)",
         "female",
         "50",
         "0",
         "1",
         "PC 17558",
         "247.5208",
         "B58 B60",
         "C"
        ],
        [
         "119",
         "0",
         "1",
         "Baxter, Mr. Quigg Edmond",
         "male",
         "24",
         "0",
         "1",
         "PC 17558",
         "247.5208",
         "B58 B60",
         "C"
        ],
        [
         "518",
         "0",
         "3",
         "Ryan, Mr. Patrick",
         "male",
         null,
         "0",
         "0",
         "371110",
         "24.15",
         null,
         "Q"
        ],
        [
         "596",
         "0",
         "3",
         "Van Impe, Mr. Jean Baptiste",
         "male",
         "36",
         "1",
         "1",
         "345773",
         "24.15",
         null,
         "S"
        ],
        [
         "566",
         "0",
         "3",
         "Davies, Mr. Alfred J",
         "male",
         "24",
         "2",
         "0",
         "A/4 48871",
         "24.15",
         null,
         "S"
        ],
        [
         "110",
         "1",
         "3",
         "Moran, Miss. Bertha",
         "female",
         null,
         "1",
         "0",
         "371110",
         "24.15",
         null,
         "Q"
        ],
        [
         "420",
         "0",
         "3",
         "Van Impe, Miss. Catharina",
         "female",
         "10",
         "0",
         "2",
         "345773",
         "24.15",
         null,
         "S"
        ],
        [
         "812",
         "0",
         "3",
         "Lester, Mr. James",
         "male",
         "39",
         "0",
         "0",
         "A/4 48871",
         "24.15",
         null,
         "S"
        ],
        [
         "800",
         "0",
         "3",
         "Van Impe, Mrs. Jean Baptiste (Rosalie Paula Govaert)",
         "female",
         "30",
         "1",
         "1",
         "345773",
         "24.15",
         null,
         "S"
        ],
        [
         "769",
         "0",
         "3",
         "Moran, Mr. Daniel J",
         "male",
         null,
         "1",
         "0",
         "371110",
         "24.15",
         null,
         "Q"
        ],
        [
         "309",
         "0",
         "2",
         "Abelson, Mr. Samuel",
         "male",
         "30",
         "1",
         "0",
         "P/PP 3381",
         "24",
         null,
         "C"
        ],
        [
         "875",
         "1",
         "2",
         "Abelson, Mrs. Samuel (Hannah Wizosky)",
         "female",
         "28",
         "1",
         "0",
         "P/PP 3381",
         "24",
         null,
         "C"
        ],
        [
         "889",
         "0",
         "3",
         "\"Johnston, Miss. Catherine Helen \"\"Carrie\"\"\"",
         "female",
         null,
         "1",
         "2",
         "W./C. 6607",
         "23.45",
         null,
         "S"
        ],
        [
         "784",
         "0",
         "3",
         "Johnston, Mr. Andrew G",
         "male",
         null,
         "1",
         "2",
         "W./C. 6607",
         "23.45",
         null,
         "S"
        ],
        [
         "331",
         "1",
         "3",
         "McCoy, Miss. Agnes",
         "female",
         null,
         "2",
         "0",
         "367226",
         "23.25",
         null,
         "Q"
        ],
        [
         "302",
         "1",
         "3",
         "McCoy, Mr. Bernard",
         "male",
         null,
         "2",
         "0",
         "367226",
         "23.25",
         null,
         "Q"
        ],
        [
         "751",
         "1",
         "2",
         "Wells, Miss. Joan",
         "female",
         "4",
         "1",
         "1",
         "29103",
         "23",
         null,
         "S"
        ],
        [
         "775",
         "1",
         "2",
         "Hocking, Mrs. Elizabeth (Eliza Needs)",
         "female",
         "54",
         "1",
         "3",
         "29105",
         "23",
         null,
         "S"
        ],
        [
         "652",
         "1",
         "2",
         "Doling, Miss. Elsie",
         "female",
         "18",
         "0",
         "1",
         "231919",
         "23",
         null,
         "S"
        ],
        [
         "99",
         "1",
         "2",
         "Doling, Mrs. John T (Ada Julia Bone)",
         "female",
         "34",
         "0",
         "1",
         "231919",
         "23",
         null,
         "S"
        ],
        [
         "381",
         "1",
         "1",
         "Bidois, Miss. Rosalie",
         "female",
         "42",
         "0",
         "0",
         "PC 17757",
         "227.525",
         null,
         "C"
        ],
        [
         "717",
         "1",
         "1",
         "Endres, Miss. Caroline Louise",
         "female",
         "38",
         "0",
         "0",
         "PC 17757",
         "227.525",
         "C45",
         "C"
        ],
        [
         "701",
         "1",
         "1",
         "Astor, Mrs. John Jacob (Madeleine Talmadge Force)",
         "female",
         "18",
         "1",
         "0",
         "PC 17757",
         "227.525",
         "C62 C64",
         "C"
        ],
        [
         "558",
         "0",
         "1",
         "Robbins, Mr. Victor",
         "male",
         null,
         "0",
         "0",
         "PC 17757",
         "227.525",
         null,
         "C"
        ],
        [
         "528",
         "0",
         "1",
         "Farthing, Mr. John",
         "male",
         null,
         "0",
         "0",
         "PC 17483",
         "221.7792",
         "C95",
         "S"
        ],
        [
         "509",
         "0",
         "3",
         "Olsen, Mr. Henry Margido",
         "male",
         "28",
         "0",
         "0",
         "C 4001",
         "22.525",
         null,
         "S"
        ],
        [
         "129",
         "1",
         "3",
         "Peter, Miss. Anna",
         "female",
         null,
         "1",
         "1",
         "2668",
         "22.3583",
         "F E69",
         "C"
        ],
        [
         "534",
         "1",
         "3",
         "Peter, Mrs. Catherine (Catherine Rizk)",
         "female",
         null,
         "0",
         "2",
         "2668",
         "22.3583",
         null,
         "C"
        ],
        [
         "185",
         "1",
         "3",
         "Kink-Heilmann, Miss. Luise Gretchen",
         "female",
         "4",
         "0",
         "2",
         "315153",
         "22.025",
         null,
         "S"
        ],
        [
         "378",
         "0",
         "1",
         "Widener, Mr. Harry Elkins",
         "male",
         "27",
         "0",
         "2",
         "113503",
         "211.5",
         "C82",
         "C"
        ],
        [
         "731",
         "1",
         "1",
         "Allen, Miss. Elisabeth Walton",
         "female",
         "29",
         "0",
         "0",
         "24160",
         "211.3375",
         "B5",
         "S"
        ],
        [
         "690",
         "1",
         "1",
         "Madill, Miss. Georgette Alexandra",
         "female",
         "15",
         "0",
         "1",
         "24160",
         "211.3375",
         "B5",
         "S"
        ],
        [
         "780",
         "1",
         "1",
         "Robert, Mrs. Edward Scott (Elisabeth Walton McMillan)",
         "female",
         "43",
         "0",
         "1",
         "24160",
         "211.3375",
         "B3",
         "S"
        ],
        [
         "49",
         "0",
         "3",
         "Samaan, Mr. Youssef",
         "male",
         null,
         "2",
         "0",
         "2662",
         "21.6792",
         null,
         "C"
        ],
        [
         "25",
         "0",
         "3",
         "Palsson, Miss. Torborg Danira",
         "female",
         "8",
         "3",
         "1",
         "349909",
         "21.075",
         null,
         "S"
        ],
        [
         "8",
         "0",
         "3",
         "Palsson, Master. Gosta Leonard",
         "male",
         "2",
         "3",
         "1",
         "349909",
         "21.075",
         null,
         "S"
        ],
        [
         "375",
         "0",
         "3",
         "Palsson, Miss. Stina Viola",
         "female",
         "3",
         "3",
         "1",
         "349909",
         "21.075",
         null,
         "S"
        ],
        [
         "568",
         "0",
         "3",
         "Palsson, Mrs. Nils (Alma Cornelia Berglund)",
         "female",
         "29",
         "0",
         "4",
         "349909",
         "21.075",
         null,
         "S"
        ],
        [
         "42",
         "0",
         "2",
         "Turpin, Mrs. William John Robert (Dorothy Ann Wonnacott)",
         "female",
         "27",
         "1",
         "0",
         "11668",
         "21",
         null,
         "S"
        ],
        [
         "406",
         "0",
         "2",
         "Gale, Mr. Shadrach",
         "male",
         "34",
         "1",
         "0",
         "28664",
         "21",
         null,
         "S"
        ],
        [
         "727",
         "1",
         "2",
         "Renouf, Mrs. Peter Henry (Lillian Jefferys)",
         "female",
         "30",
         "3",
         "0",
         "31027",
         "21",
         null,
         "S"
        ],
        [
         "118",
         "0",
         "2",
         "Turpin, Mr. William John Robert",
         "male",
         "29",
         "1",
         "0",
         "11668",
         "21",
         null,
         "S"
        ],
        [
         "212",
         "1",
         "2",
         "Cameron, Miss. Clear Annie",
         "female",
         "35",
         "0",
         "0",
         "F.C.C. 13528",
         "21",
         null,
         "S"
        ],
        [
         "477",
         "0",
         "2",
         "Renouf, Mr. Peter Henry",
         "male",
         "34",
         "1",
         "0",
         "31027",
         "21",
         null,
         "S"
        ],
        [
         "789",
         "1",
         "3",
         "Dean, Master. Bertram Vere",
         "male",
         "1",
         "1",
         "2",
         "C.A. 2315",
         "20.575",
         null,
         "S"
        ],
        [
         "94",
         "0",
         "3",
         "Dean, Mr. Bertram Frank",
         "male",
         "26",
         "1",
         "2",
         "C.A. 2315",
         "20.575",
         null,
         "S"
        ],
        [
         "329",
         "1",
         "3",
         "Goldsmith, Mrs. Frank John (Emily Alice Brown)",
         "female",
         "31",
         "1",
         "1",
         "363291",
         "20.525",
         null,
         "S"
        ],
        [
         "549",
         "0",
         "3",
         "Goldsmith, Mr. Frank John",
         "male",
         "33",
         "1",
         "1",
         "363291",
         "20.525",
         null,
         "S"
        ],
        [
         "166",
         "1",
         "3",
         "\"Goldsmith, Master. Frank John William \"\"Frankie\"\"\"",
         "male",
         "9",
         "0",
         "2",
         "363291",
         "20.525",
         null,
         "S"
        ],
        [
         "280",
         "1",
         "3",
         "Abbott, Mrs. Stanton (Rosa Hunt)",
         "female",
         "35",
         "1",
         "1",
         "C.A. 2673",
         "20.25",
         null,
         "S"
        ],
        [
         "747",
         "0",
         "3",
         "Abbott, Mr. Rossmore Edward",
         "male",
         "16",
         "1",
         "1",
         "C.A. 2673",
         "20.25",
         null,
         "S"
        ],
        [
         "255",
         "0",
         "3",
         "Rosblom, Mrs. Viktor (Helena Wilhelmina)",
         "female",
         "41",
         "0",
         "2",
         "370129",
         "20.2125",
         null,
         "S"
        ],
        [
         "425",
         "0",
         "3",
         "Rosblom, Mr. Viktor Richard",
         "male",
         "18",
         "1",
         "1",
         "370129",
         "20.2125",
         null,
         "S"
        ],
        [
         "491",
         "0",
         "3",
         "Hagland, Mr. Konrad Mathias Reiersen",
         "male",
         null,
         "1",
         "0",
         "65304",
         "19.9667",
         null,
         "S"
        ],
        [
         "452",
         "0",
         "3",
         "Hagland, Mr. Ingvald Olai Olsen",
         "male",
         null,
         "1",
         "0",
         "65303",
         "19.9667",
         null,
         "S"
        ],
        [
         "273",
         "1",
         "2",
         "Mellinger, Mrs. (Elizabeth Anne Maidment)",
         "female",
         "41",
         "0",
         "1",
         "250644",
         "19.5",
         null,
         "S"
        ],
        [
         "447",
         "1",
         "2",
         "Mellinger, Miss. Madeleine Violet",
         "female",
         "13",
         "0",
         "1",
         "250644",
         "19.5",
         null,
         "S"
        ],
        [
         "449",
         "1",
         "3",
         "Baclini, Miss. Marie Catherine",
         "female",
         "5",
         "2",
         "1",
         "2666",
         "19.2583",
         null,
         "C"
        ],
        [
         "859",
         "1",
         "3",
         "Baclini, Mrs. Solomon (Latifa Qurban)",
         "female",
         "24",
         "0",
         "3",
         "2666",
         "19.2583",
         null,
         "C"
        ],
        [
         "470",
         "1",
         "3",
         "Baclini, Miss. Helene Barbara",
         "female",
         "0.75",
         "2",
         "1",
         "2666",
         "19.2583",
         null,
         "C"
        ],
        [
         "645",
         "1",
         "3",
         "Baclini, Miss. Eugenie",
         "female",
         "0.75",
         "2",
         "1",
         "2666",
         "19.2583",
         null,
         "C"
        ],
        [
         "732",
         "0",
         "3",
         "Hassan, Mr. Houssein G N",
         "male",
         "11",
         "0",
         "0",
         "2699",
         "18.7875",
         null,
         "C"
        ],
        [
         "208",
         "1",
         "3",
         "Albimona, Mr. Nassef Cassem",
         "male",
         "26",
         "0",
         "0",
         "2699",
         "18.7875",
         null,
         "C"
        ],
        [
         "408",
         "1",
         "2",
         "Richards, Master. William Rowe",
         "male",
         "3",
         "1",
         "1",
         "29106",
         "18.75",
         null,
         "S"
        ],
        [
         "438",
         "1",
         "2",
         "Richards, Mrs. Sidney (Emily Hocking)",
         "female",
         "24",
         "2",
         "3",
         "29106",
         "18.75",
         null,
         "S"
        ],
        [
         "832",
         "1",
         "2",
         "Richards, Master. George Sibley",
         "male",
         "0.83",
         "1",
         "1",
         "29106",
         "18.75",
         null,
         "S"
        ],
        [
         "19",
         "0",
         "3",
         "Vander Planke, Mrs. Julius (Emelia Maria Vandemoortele)",
         "female",
         "31",
         "1",
         "0",
         "345763",
         "18",
         null,
         "S"
        ],
        [
         "39",
         "0",
         "3",
         "Vander Planke, Miss. Augusta Maria",
         "female",
         "18",
         "2",
         "0",
         "345764",
         "18",
         null,
         "S"
        ],
        [
         "334",
         "0",
         "3",
         "Vander Planke, Mr. Leo Edmondus",
         "male",
         "16",
         "2",
         "0",
         "345764",
         "18",
         null,
         "S"
        ],
        [
         "50",
         "0",
         "3",
         "Arnold-Franchi, Mrs. Josef (Josefine Franchi)",
         "female",
         "18",
         "1",
         "0",
         "349237",
         "17.8",
         null,
         "S"
        ],
        [
         "354",
         "0",
         "3",
         "Arnold-Franchi, Mr. Josef",
         "male",
         "25",
         "1",
         "0",
         "349237",
         "17.8",
         null,
         "S"
        ],
        [
         "560",
         "1",
         "3",
         "de Messemaeker, Mrs. Guillaume Joseph (Emma)",
         "female",
         "36",
         "1",
         "0",
         "345572",
         "17.4",
         null,
         "S"
        ],
        [
         "319",
         "1",
         "1",
         "Wick, Miss. Mary Natalie",
         "female",
         "31",
         "0",
         "2",
         "36928",
         "164.8667",
         "C7",
         "S"
        ],
        [
         "857",
         "1",
         "1",
         "Wick, Mrs. George Dennick (Mary Hitchcock)",
         "female",
         "45",
         "1",
         "1",
         "36928",
         "164.8667",
         null,
         "S"
        ],
        [
         "395",
         "1",
         "3",
         "Sandstrom, Mrs. Hjalmar (Agnes Charlotta Bengtsson)",
         "female",
         "24",
         "0",
         "2",
         "PP 9549",
         "16.7",
         "G6",
         "S"
        ],
        [
         "11",
         "1",
         "3",
         "Sandstrom, Miss. Marguerite Rut",
         "female",
         "4",
         "1",
         "1",
         "PP 9549",
         "16.7",
         "G6",
         "S"
        ],
        [
         "625",
         "0",
         "3",
         "\"Bowen, Mr. David John \"\"Dai\"\"\"",
         "male",
         "21",
         "0",
         "0",
         "54636",
         "16.1",
         null,
         "S"
        ],
        [
         "161",
         "0",
         "3",
         "Cribb, Mr. John Hatfield",
         "male",
         "44",
         "0",
         "1",
         "371362",
         "16.1",
         null,
         "S"
        ],
        [
         "618",
         "0",
         "3",
         "Lobb, Mrs. William Arthur (Cordelia K Stanlick)",
         "female",
         "26",
         "1",
         "0",
         "A/5. 3336",
         "16.1",
         null,
         "S"
        ],
        [
         "744",
         "0",
         "3",
         "McNamee, Mr. Neal",
         "male",
         "24",
         "1",
         "0",
         "376566",
         "16.1",
         null,
         "S"
        ],
        [
         "736",
         "0",
         "3",
         "Williams, Mr. Leslie",
         "male",
         "28.5",
         "0",
         "0",
         "54636",
         "16.1",
         null,
         "S"
        ],
        [
         "348",
         "1",
         "3",
         "Davison, Mrs. Thomas Henry (Mary E Finck)",
         "female",
         null,
         "1",
         "0",
         "386525",
         "16.1",
         null,
         "S"
        ],
        [
         "640",
         "0",
         "3",
         "Thorneycroft, Mr. Percival",
         "male",
         null,
         "1",
         "0",
         "376564",
         "16.1",
         null,
         "S"
        ],
        [
         "254",
         "0",
         "3",
         "Lobb, Mr. William Arthur",
         "male",
         "30",
         "1",
         "0",
         "A/5. 3336",
         "16.1",
         null,
         "S"
        ],
        [
         "432",
         "1",
         "3",
         "Thorneycroft, Mrs. Percival (Florence Kate White)",
         "female",
         null,
         "1",
         "0",
         "376564",
         "16.1",
         null,
         "S"
        ],
        [
         "16",
         "1",
         "2",
         "Hewlett, Mrs. (Mary D Kingcome) ",
         "female",
         "55",
         "0",
         "0",
         "248706",
         "16",
         null,
         "S"
        ],
        [
         "333",
         "0",
         "1",
         "Graham, Mr. George Edward",
         "male",
         "38",
         "0",
         "1",
         "PC 17582",
         "153.4625",
         "C91",
         "S"
        ],
        [
         "610",
         "1",
         "1",
         "Shutes, Miss. Elizabeth W",
         "female",
         "40",
         "0",
         "0",
         "PC 17582",
         "153.4625",
         "C125",
         "S"
        ],
        [
         "269",
         "1",
         "1",
         "Graham, Mrs. William Thompson (Edith Junkins)",
         "female",
         "58",
         "0",
         "1",
         "PC 17582",
         "153.4625",
         "C125",
         "S"
        ],
        [
         "709",
         "1",
         "1",
         "Cleaver, Miss. Alice",
         "female",
         "22",
         "0",
         "0",
         "113781",
         "151.55",
         null,
         "S"
        ],
        [
         "306",
         "1",
         "1",
         "Allison, Master. Hudson Trevor",
         "male",
         "0.92",
         "1",
         "2",
         "113781",
         "151.55",
         "C22 C26",
         "S"
        ],
        [
         "499",
         "0",
         "1",
         "Allison, Mrs. Hudson J C (Bessie Waldo Daniels)",
         "female",
         "25",
         "1",
         "2",
         "113781",
         "151.55",
         "C22 C26",
         "S"
        ],
        [
         "298",
         "0",
         "1",
         "Allison, Miss. Helen Loraine",
         "female",
         "2",
         "1",
         "2",
         "113781",
         "151.55",
         "C22 C26",
         "S"
        ],
        [
         "349",
         "1",
         "3",
         "\"Coutts, Master. William Loch \"\"William\"\"\"",
         "male",
         "3",
         "1",
         "1",
         "C.A. 37671",
         "15.9",
         null,
         "S"
        ],
        [
         "490",
         "1",
         "3",
         "\"Coutts, Master. Eden Leslie \"\"Neville\"\"\"",
         "male",
         "9",
         "1",
         "1",
         "C.A. 37671",
         "15.9",
         null,
         "S"
        ],
        [
         "143",
         "1",
         "3",
         "Hakkarainen, Mrs. Pekka Pietari (Elin Matilda Dolck)",
         "female",
         "24",
         "1",
         "0",
         "STON/O2. 3101279",
         "15.85",
         null,
         "S"
        ],
        [
         "86",
         "1",
         "3",
         "Backstrom, Mrs. Karl Alfred (Maria Mathilda Gustafsson)",
         "female",
         "33",
         "3",
         "0",
         "3101278",
         "15.85",
         null,
         "S"
        ],
        [
         "207",
         "0",
         "3",
         "Backstrom, Mr. Karl Alfred",
         "male",
         "32",
         "1",
         "0",
         "3101278",
         "15.85",
         null,
         "S"
        ],
        [
         "404",
         "0",
         "3",
         "Hakkarainen, Mr. Pekka Pietari",
         "male",
         "28",
         "1",
         "0",
         "STON/O2. 3101279",
         "15.85",
         null,
         "S"
        ],
        [
         "162",
         "1",
         "2",
         "\"Watt, Mrs. James (Elizabeth \"\"Bessie\"\" Inglis Milne)\"",
         "female",
         "40",
         "0",
         "0",
         "C.A. 33595",
         "15.75",
         null,
         "S"
        ],
        [
         "382",
         "1",
         "3",
         "\"Nakid, Miss. Maria (\"\"Mary\"\")\"",
         "female",
         "1",
         "0",
         "2",
         "2653",
         "15.7417",
         null,
         "C"
        ],
        [
         "623",
         "1",
         "3",
         "Nakid, Mr. Sahid",
         "male",
         "20",
         "1",
         "1",
         "2653",
         "15.7417",
         null,
         "C"
        ],
        [
         "606",
         "0",
         "3",
         "Lindell, Mr. Edvard Bengtsson",
         "male",
         "36",
         "1",
         "0",
         "349910",
         "15.55",
         null,
         "S"
        ],
        [
         "613",
         "1",
         "3",
         "Murphy, Miss. Margaret Jane",
         "female",
         null,
         "1",
         "0",
         "367230",
         "15.5",
         null,
         "Q"
        ],
        [
         "47",
         "0",
         "3",
         "Lennon, Mr. Denis",
         "male",
         null,
         "1",
         "0",
         "370371",
         "15.5",
         null,
         "Q"
        ],
        [
         "189",
         "0",
         "3",
         "Bourke, Mr. John",
         "male",
         "40",
         "1",
         "1",
         "364849",
         "15.5",
         null,
         "Q"
        ],
        [
         "719",
         "0",
         "3",
         "McEvoy, Mr. Michael",
         "male",
         null,
         "0",
         "0",
         "36568",
         "15.5",
         null,
         "Q"
        ],
        [
         "242",
         "1",
         "3",
         "\"Murphy, Miss. Katherine \"\"Kate\"\"\"",
         "female",
         null,
         "1",
         "0",
         "367230",
         "15.5",
         null,
         "Q"
        ],
        [
         "187",
         "1",
         "3",
         "\"O'Brien, Mrs. Thomas (Johanna \"\"Hannah\"\" Godfrey)\"",
         "female",
         null,
         "1",
         "0",
         "370365",
         "15.5",
         null,
         "Q"
        ],
        [
         "658",
         "0",
         "3",
         "Bourke, Mrs. John (Catherine)",
         "female",
         "32",
         "1",
         "1",
         "364849",
         "15.5",
         null,
         "Q"
        ],
        [
         "365",
         "0",
         "3",
         "O'Brien, Mr. Thomas",
         "male",
         null,
         "1",
         "0",
         "370365",
         "15.5",
         null,
         "Q"
        ],
        [
         "256",
         "1",
         "3",
         "Touma, Mrs. Darwis (Hanne Youssef Razi)",
         "female",
         "29",
         "0",
         "2",
         "2650",
         "15.2458",
         null,
         "C"
        ],
        [
         "141",
         "0",
         "3",
         "Boulos, Mrs. Joseph (Sultana)",
         "female",
         null,
         "0",
         "2",
         "2678",
         "15.2458",
         null,
         "C"
        ],
        [
         "66",
         "1",
         "3",
         "Moubarek, Master. Gerios",
         "male",
         null,
         "1",
         "1",
         "2661",
         "15.2458",
         null,
         "C"
        ],
        [
         "853",
         "0",
         "3",
         "Boulos, Miss. Nourelain",
         "female",
         "9",
         "1",
         "1",
         "2678",
         "15.2458",
         null,
         "C"
        ],
        [
         "710",
         "1",
         "3",
         "\"Moubarek, Master. Halim Gonios (\"\"William George\"\")\"",
         "male",
         null,
         "1",
         "1",
         "2661",
         "15.2458",
         null,
         "C"
        ],
        [
         "498",
         "0",
         "3",
         "Shellard, Mr. Frederick William",
         "male",
         null,
         "0",
         "0",
         "C.A. 6212",
         "15.1",
         null,
         "S"
        ],
        [
         "182",
         "0",
         "2",
         "Pernot, Mr. Rene",
         "male",
         null,
         "0",
         "0",
         "SC/PARIS 2131",
         "15.05",
         null,
         "C"
        ],
        [
         "136",
         "0",
         "2",
         "Richard, Mr. Emile",
         "male",
         "23",
         "0",
         "0",
         "SC/PARIS 2133",
         "15.0458",
         null,
         "C"
        ],
        [
         "587",
         "0",
         "2",
         "Jarvis, Mr. John Denzil",
         "male",
         "47",
         "0",
         "0",
         "237565",
         "15",
         null,
         "S"
        ],
        [
         "32",
         "1",
         "1",
         "Spencer, Mrs. William Augustus (Marie Eugenie)",
         "female",
         null,
         "1",
         "0",
         "PC 17569",
         "146.5208",
         "B78",
         "C"
        ],
        [
         "196",
         "1",
         "1",
         "Lurette, Miss. Elise",
         "female",
         "58",
         "0",
         "0",
         "PC 17569",
         "146.5208",
         "B80",
         "C"
        ],
        [
         "539",
         "0",
         "3",
         "Risien, Mr. Samuel Beard",
         "male",
         null,
         "0",
         "0",
         "364498",
         "14.5",
         null,
         "S"
        ],
        [
         "133",
         "0",
         "3",
         "Robins, Mrs. Alexander A (Grace Charity Laury)",
         "female",
         "47",
         "1",
         "0",
         "A/5. 3337",
         "14.5",
         null,
         "S"
        ],
        [
         "576",
         "0",
         "3",
         "Patchett, Mr. George",
         "male",
         "19",
         "0",
         "0",
         "358585",
         "14.5",
         null,
         "S"
        ],
        [
         "248",
         "1",
         "2",
         "Hamalainen, Mrs. William (Anna)",
         "female",
         "24",
         "0",
         "2",
         "250649",
         "14.5",
         null,
         "S"
        ],
        [
         "761",
         "0",
         "3",
         "Garfirth, Mr. John",
         "male",
         null,
         "0",
         "0",
         "358585",
         "14.5",
         null,
         "S"
        ],
        [
         "756",
         "1",
         "2",
         "Hamalainen, Master. Viljo",
         "male",
         "0.67",
         "1",
         "1",
         "250649",
         "14.5",
         null,
         "S"
        ],
        [
         "154",
         "0",
         "3",
         "van Billiard, Mr. Austin Blyler",
         "male",
         "40.5",
         "0",
         "2",
         "A/5. 851",
         "14.5",
         null,
         "S"
        ],
        [
         "115",
         "0",
         "3",
         "Attalah, Miss. Malake",
         "female",
         "17",
         "0",
         "0",
         "2627",
         "14.4583",
         null,
         "C"
        ],
        [
         "579",
         "0",
         "3",
         "Caram, Mrs. Joseph (Maria Elias)",
         "female",
         null,
         "1",
         "0",
         "2689",
         "14.4583",
         null,
         "C"
        ],
        [
         "496",
         "0",
         "3",
         "Yousseff, Mr. Gerious",
         "male",
         null,
         "0",
         "0",
         "2627",
         "14.4583",
         null,
         "C"
        ],
        [
         "74",
         "0",
         "3",
         "Chronopoulos, Mr. Apostolos",
         "male",
         "26",
         "1",
         "0",
         "2680",
         "14.4542",
         null,
         "C"
        ],
        [
         "621",
         "0",
         "3",
         "Yasbeck, Mr. Antoni",
         "male",
         "27",
         "1",
         "0",
         "2659",
         "14.4542",
         null,
         "C"
        ],
        [
         "363",
         "0",
         "3",
         "Barbara, Mrs. (Catherine David)",
         "female",
         "45",
         "0",
         "1",
         "2691",
         "14.4542",
         null,
         "C"
        ],
        [
         "703",
         "0",
         "3",
         "Barbara, Miss. Saiide",
         "female",
         "18",
         "0",
         "1",
         "2691",
         "14.4542",
         null,
         "C"
        ],
        [
         "112",
         "0",
         "3",
         "Zabour, Miss. Hileni",
         "female",
         "14.5",
         "1",
         "0",
         "2665",
         "14.4542",
         null,
         "C"
        ],
        [
         "241",
         "0",
         "3",
         "Zabour, Miss. Thamine",
         "female",
         null,
         "1",
         "0",
         "2665",
         "14.4542",
         null,
         "C"
        ],
        [
         "831",
         "1",
         "3",
         "Yasbeck, Mrs. Antoni (Selini Alexander)",
         "female",
         "15",
         "1",
         "0",
         "2659",
         "14.4542",
         null,
         "C"
        ],
        [
         "424",
         "0",
         "3",
         "Danbom, Mrs. Ernst Gilbert (Anna Sigrid Maria Brogren)",
         "female",
         "28",
         "1",
         "1",
         "347080",
         "14.4",
         null,
         "S"
        ],
        [
         "617",
         "0",
         "3",
         "Danbom, Mr. Ernst Gilbert",
         "male",
         "34",
         "1",
         "1",
         "347080",
         "14.4",
         null,
         "S"
        ],
        [
         "861",
         "0",
         "3",
         "Hansen, Mr. Claus Peter",
         "male",
         "41",
         "2",
         "0",
         "350026",
         "14.1083",
         null,
         "S"
        ],
        [
         "318",
         "0",
         "2",
         "Moraweck, Dr. Ernest",
         "male",
         "54",
         "0",
         "0",
         "29011",
         "14",
         null,
         "S"
        ],
        [
         "270",
         "1",
         "1",
         "Bissette, Miss. Amelia",
         "female",
         "35",
         "0",
         "0",
         "PC 17760",
         "135.6333",
         "C99",
         "S"
        ],
        [
         "374",
         "0",
         "1",
         "Ringhini, Mr. Sante",
         "male",
         "22",
         "0",
         "0",
         "PC 17760",
         "135.6333",
         null,
         "C"
        ],
        [
         "326",
         "1",
         "1",
         "Young, Miss. Marie Grice",
         "female",
         "36",
         "0",
         "0",
         "PC 17760",
         "135.6333",
         "C32",
         "C"
        ],
        [
         "338",
         "1",
         "1",
         "Burns, Miss. Elizabeth Margaret",
         "female",
         "41",
         "0",
         "0",
         "16966",
         "134.5",
         "E40",
         "C"
        ],
        [
         "320",
         "1",
         "1",
         "Spedden, Mrs. Frederic Oakley (Margaretta Corning Stone)",
         "female",
         "40",
         "1",
         "1",
         "16966",
         "134.5",
         "E34",
         "C"
        ],
        [
         "335",
         "1",
         "1",
         "Frauenthal, Mrs. Henry William (Clara Heinsheimer)",
         "female",
         null,
         "1",
         "0",
         "PC 17611",
         "133.65",
         null,
         "S"
        ],
        [
         "661",
         "1",
         "1",
         "Frauenthal, Dr. Henry William",
         "male",
         "50",
         "2",
         "0",
         "PC 17611",
         "133.65",
         null,
         "S"
        ],
        [
         "548",
         "1",
         "2",
         "Padro y Manent, Mr. Julian",
         "male",
         null,
         "0",
         "0",
         "SC/PARIS 2146",
         "13.8625",
         null,
         "C"
        ],
        [
         "867",
         "1",
         "2",
         "Duran y More, Miss. Asuncion",
         "female",
         "27",
         "1",
         "0",
         "SC/PARIS 2149",
         "13.8583",
         null,
         "C"
        ],
        [
         "474",
         "1",
         "2",
         "Jerwan, Mrs. Amin S (Marie Marthe Thuillard)",
         "female",
         "23",
         "0",
         "0",
         "SC/AH Basle 541",
         "13.7917",
         "D",
         "C"
        ],
        [
         "696",
         "0",
         "2",
         "Chapman, Mr. Charles Henry",
         "male",
         "52",
         "0",
         "0",
         "248731",
         "13.5",
         null,
         "S"
        ],
        [
         "563",
         "0",
         "2",
         "Norman, Mr. Robert Douglas",
         "male",
         "28",
         "0",
         "0",
         "218629",
         "13.5",
         null,
         "S"
        ],
        [
         "233",
         "0",
         "2",
         "Sjostedt, Mr. Ernst Adolf",
         "male",
         "59",
         "0",
         "0",
         "237442",
         "13.5",
         null,
         "S"
        ],
        [
         "707",
         "1",
         "2",
         "\"Kelly, Mrs. Florence \"\"Fannie\"\"\"",
         "female",
         "45",
         "0",
         "0",
         "223596",
         "13.5",
         null,
         "S"
        ],
        [
         "692",
         "1",
         "3",
         "Karun, Miss. Manca",
         "female",
         "4",
         "0",
         "1",
         "349256",
         "13.4167",
         null,
         "C"
        ],
        [
         "135",
         "0",
         "2",
         "Sobey, Mr. Samuel James Hayden",
         "male",
         "25",
         "0",
         "0",
         "C.A. 29178",
         "13",
         null,
         "S"
        ],
        [
         "150",
         "0",
         "2",
         "Byles, Rev. Thomas Roussel Davids",
         "male",
         "42",
         "0",
         "0",
         "244310",
         "13",
         null,
         "S"
        ],
        [
         "18",
         "1",
         "2",
         "Williams, Mr. Charles Eugene",
         "male",
         null,
         "0",
         "0",
         "244373",
         "13",
         null,
         "S"
        ],
        [
         "289",
         "1",
         "2",
         "Hosono, Mr. Masabumi",
         "male",
         "42",
         "0",
         "0",
         "237798",
         "13",
         null,
         "S"
        ],
        [
         "328",
         "1",
         "2",
         "Ball, Mrs. (Ada E Hall)",
         "female",
         "36",
         "0",
         "0",
         "28551",
         "13",
         "D",
         "S"
        ],
        [
         "659",
         "0",
         "2",
         "Eitemiller, Mr. George Floyd",
         "male",
         "23",
         "0",
         "0",
         "29751",
         "13",
         null,
         "S"
        ],
        [
         "577",
         "1",
         "2",
         "Garside, Miss. Ethel",
         "female",
         "34",
         "0",
         "0",
         "243880",
         "13",
         null,
         "S"
        ],
        [
         "347",
         "1",
         "2",
         "Smith, Miss. Marion Elsie",
         "female",
         "40",
         "0",
         "0",
         "31418",
         "13",
         null,
         "S"
        ],
        [
         "346",
         "1",
         "2",
         "\"Brown, Miss. Amelia \"\"Mildred\"\"\"",
         "female",
         "24",
         "0",
         "0",
         "248733",
         "13",
         "F33",
         "S"
        ],
        [
         "343",
         "0",
         "2",
         "Collander, Mr. Erik Gustaf",
         "male",
         "28",
         "0",
         "0",
         "248740",
         "13",
         null,
         "S"
        ],
        [
         "345",
         "0",
         "2",
         "Fox, Mr. Stanley Hubert",
         "male",
         "36",
         "0",
         "0",
         "229236",
         "13",
         null,
         "S"
        ],
        [
         "674",
         "1",
         "2",
         "Wilhelms, Mr. Charles",
         "male",
         "31",
         "0",
         "0",
         "244270",
         "13",
         null,
         "S"
        ],
        [
         "22",
         "1",
         "2",
         "Beesley, Mr. Lawrence",
         "male",
         "34",
         "0",
         "0",
         "248698",
         "13",
         "D56",
         "S"
        ],
        [
         "735",
         "0",
         "2",
         "Troupiansky, Mr. Moses Aaron",
         "male",
         "23",
         "0",
         "0",
         "233639",
         "13",
         null,
         "S"
        ],
        [
         "724",
         "0",
         "2",
         "Hodges, Mr. Henry Price",
         "male",
         "50",
         "0",
         "0",
         "250643",
         "13",
         null,
         "S"
        ],
        [
         "723",
         "0",
         "2",
         "Gillespie, Mr. William Henry",
         "male",
         "34",
         "0",
         "0",
         "12233",
         "13",
         null,
         "S"
        ],
        [
         "748",
         "1",
         "2",
         "Sinkkonen, Miss. Anna",
         "female",
         "30",
         "0",
         "0",
         "250648",
         "13",
         null,
         "S"
        ],
        [
         "191",
         "1",
         "2",
         "Pinsky, Mrs. (Rosa)",
         "female",
         "32",
         "0",
         "0",
         "234604",
         "13",
         null,
         "S"
        ],
        [
         "179",
         "0",
         "2",
         "Hale, Mr. Reginald",
         "male",
         "30",
         "0",
         "0",
         "250653",
         "13",
         null,
         "S"
        ],
        [
         "801",
         "0",
         "2",
         "Ponesell, Mr. Martin",
         "male",
         "34",
         "0",
         "0",
         "250647",
         "13",
         null,
         "S"
        ],
        [
         "192",
         "0",
         "2",
         "Carbines, Mr. William",
         "male",
         "19",
         "0",
         "0",
         "28424",
         "13",
         null,
         "S"
        ],
        [
         "809",
         "0",
         "2",
         "Meyer, Mr. August",
         "male",
         "39",
         "0",
         "0",
         "248723",
         "13",
         null,
         "S"
        ],
        [
         "796",
         "0",
         "2",
         "Otter, Mr. Richard",
         "male",
         "39",
         "0",
         "0",
         "28213",
         "13",
         null,
         "S"
        ],
        [
         "418",
         "1",
         "2",
         "Silven, Miss. Lyyli Karoliina",
         "female",
         "18",
         "0",
         "2",
         "250652",
         "13",
         null,
         "S"
        ],
        [
         "388",
         "1",
         "2",
         "Buss, Miss. Kate",
         "female",
         "36",
         "0",
         "0",
         "27849",
         "13",
         null,
         "S"
        ],
        [
         "419",
         "0",
         "2",
         "Matthews, Mr. William John",
         "male",
         "30",
         "0",
         "0",
         "28228",
         "13",
         null,
         "S"
        ],
        [
         "200",
         "0",
         "2",
         "\"Yrois, Miss. Henriette (\"\"Mrs Harbeck\"\")\"",
         "female",
         "24",
         "0",
         "0",
         "248747",
         "13",
         null,
         "S"
        ],
        [
         "358",
         "0",
         "2",
         "Funk, Miss. Annie Clemmer",
         "female",
         "38",
         "0",
         "0",
         "237671",
         "13",
         null,
         "S"
        ],
        [
         "734",
         "0",
         "2",
         "Berriman, Mr. William John",
         "male",
         "23",
         "0",
         "0",
         "28425",
         "13",
         null,
         "S"
        ],
        [
         "444",
         "1",
         "2",
         "Reynaldo, Ms. Encarnacion",
         "female",
         "28",
         "0",
         "0",
         "230434",
         "13",
         null,
         "S"
        ],
        [
         "887",
         "0",
         "2",
         "Montvila, Rev. Juozas",
         "male",
         "27",
         "0",
         "0",
         "211536",
         "13",
         null,
         "S"
        ],
        [
         "214",
         "0",
         "2",
         "Givard, Mr. Hans Kristensen",
         "male",
         "30",
         "0",
         "0",
         "250646",
         "13",
         null,
         "S"
        ],
        [
         "222",
         "0",
         "2",
         "Bracken, Mr. James H",
         "male",
         "27",
         "0",
         "0",
         "220367",
         "13",
         null,
         "S"
        ],
        [
         "124",
         "1",
         "2",
         "Webber, Miss. Susan",
         "female",
         "32.5",
         "0",
         "0",
         "27267",
         "13",
         "E101",
         "S"
        ],
        [
         "464",
         "0",
         "2",
         "Milling, Mr. Jacob Christian",
         "male",
         "48",
         "0",
         "0",
         "234360",
         "13",
         null,
         "S"
        ],
        [
         "229",
         "0",
         "2",
         "Fahlstrom, Mr. Arne Jonas",
         "male",
         "18",
         "0",
         "0",
         "236171",
         "13",
         null,
         "S"
        ],
        [
         "344",
         "0",
         "2",
         "Sedgwick, Mr. Charles Frederick Waddington",
         "male",
         "25",
         "0",
         "0",
         "244361",
         "13",
         null,
         "S"
        ],
        [
         "866",
         "1",
         "2",
         "Bystrom, Mrs. (Karolina)",
         "female",
         "42",
         "0",
         "0",
         "236852",
         "13",
         null,
         "S"
        ],
        [
         "865",
         "0",
         "2",
         "Gill, Mr. John William",
         "male",
         "24",
         "0",
         "0",
         "233866",
         "13",
         null,
         "S"
        ],
        [
         "715",
         "0",
         "2",
         "Greenberg, Mr. Samuel",
         "male",
         "52",
         "0",
         "0",
         "250647",
         "13",
         null,
         "S"
        ],
        [
         "667",
         "0",
         "2",
         "Butler, Mr. Reginald Fenton",
         "male",
         "25",
         "0",
         "0",
         "234686",
         "13",
         null,
         "S"
        ],
        [
         "636",
         "1",
         "2",
         "Davis, Miss. Mary",
         "female",
         "28",
         "0",
         "0",
         "237668",
         "13",
         null,
         "S"
        ],
        [
         "764",
         "1",
         "1",
         "Carter, Mrs. William Ernest (Lucile Polk)",
         "female",
         "36",
         "1",
         "2",
         "113760",
         "120",
         "B96 B98",
         "S"
        ],
        [
         "803",
         "1",
         "1",
         "Carter, Master. William Thornton II",
         "male",
         "11",
         "1",
         "2",
         "113760",
         "120",
         "B96 B98",
         "S"
        ],
        [
         "391",
         "1",
         "1",
         "Carter, Mr. William Ernest",
         "male",
         "36",
         "1",
         "2",
         "113760",
         "120",
         "B96 B98",
         "S"
        ],
        [
         "436",
         "1",
         "1",
         "Carter, Miss. Lucile Polk",
         "female",
         "14",
         "1",
         "2",
         "113760",
         "120",
         "B96 B98",
         "S"
        ],
        [
         "293",
         "0",
         "2",
         "Levy, Mr. Rene Jacques",
         "male",
         "36",
         "0",
         "0",
         "SC/Paris 2163",
         "12.875",
         "D",
         "C"
        ],
        [
         "400",
         "1",
         "2",
         "Trout, Mrs. William H (Jessie L)",
         "female",
         "28",
         "0",
         "0",
         "240929",
         "12.65",
         null,
         "S"
        ],
        [
         "151",
         "0",
         "2",
         "Bateman, Rev. Robert James",
         "male",
         "51",
         "0",
         "0",
         "S.O.P. 1166",
         "12.525",
         null,
         "S"
        ],
        [
         "80",
         "1",
         "3",
         "Dowdell, Miss. Elizabeth",
         "female",
         "30",
         "0",
         "0",
         "364516",
         "12.475",
         null,
         "S"
        ],
        [
         "752",
         "1",
         "3",
         "Moor, Master. Meier",
         "male",
         "6",
         "0",
         "1",
         "392096",
         "12.475",
         "E121",
         "S"
        ],
        [
         "824",
         "1",
         "3",
         "Moor, Mrs. (Beila)",
         "female",
         "27",
         "0",
         "1",
         "392096",
         "12.475",
         "E121",
         "S"
        ],
        [
         "778",
         "1",
         "3",
         "Emanuel, Miss. Virginia Ethel",
         "female",
         "5",
         "0",
         "0",
         "364516",
         "12.475",
         null,
         "S"
        ],
        [
         "323",
         "1",
         "2",
         "Slayter, Miss. Hilda Mary",
         "female",
         "30",
         "0",
         "0",
         "234818",
         "12.35",
         null,
         "Q"
        ],
        [
         "627",
         "0",
         "2",
         "Kirkland, Rev. Charles Leonard",
         "male",
         "57",
         "0",
         "0",
         "219533",
         "12.35",
         null,
         "Q"
        ],
        [
         "304",
         "1",
         "2",
         "Keane, Miss. Nora A",
         "female",
         null,
         "0",
         "0",
         "226593",
         "12.35",
         "E101",
         "Q"
        ],
        [
         "480",
         "1",
         "3",
         "Hirvonen, Miss. Hildur E",
         "female",
         "2",
         "0",
         "1",
         "3101298",
         "12.2875",
         null,
         "S"
        ],
        [
         "240",
         "0",
         "2",
         "Hunt, Mr. George Henry",
         "male",
         "33",
         "0",
         "0",
         "SCO/W 1585",
         "12.275",
         null,
         "S"
        ],
        [
         "390",
         "1",
         "2",
         "Lehmann, Miss. Bertha",
         "female",
         "17",
         "0",
         "0",
         "SC 1748",
         "12",
         null,
         "C"
        ],
        [
         "394",
         "1",
         "1",
         "Newell, Miss. Marjorie",
         "female",
         "23",
         "1",
         "0",
         "35273",
         "113.275",
         "D36",
         "C"
        ],
        [
         "660",
         "0",
         "1",
         "Newell, Mr. Arthur Webster",
         "male",
         "58",
         "0",
         "2",
         "35273",
         "113.275",
         "D48",
         "C"
        ],
        [
         "216",
         "1",
         "1",
         "Newell, Miss. Madeleine",
         "female",
         "31",
         "1",
         "0",
         "35273",
         "113.275",
         "D36",
         "C"
        ],
        [
         "582",
         "1",
         "1",
         "Thayer, Mrs. John Borland (Marian Longstreth Morris)",
         "female",
         "39",
         "1",
         "1",
         "17421",
         "110.8833",
         "C68",
         "C"
        ],
        [
         "551",
         "1",
         "1",
         "Thayer, Mr. John Borland Jr",
         "male",
         "17",
         "0",
         "2",
         "17421",
         "110.8833",
         "C70",
         "C"
        ],
        [
         "699",
         "0",
         "1",
         "Thayer, Mr. John Borland",
         "male",
         "49",
         "1",
         "1",
         "17421",
         "110.8833",
         "C68",
         "C"
        ],
        [
         "307",
         "1",
         "1",
         "Fleming, Miss. Margaret",
         "female",
         null,
         "0",
         "0",
         "17421",
         "110.8833",
         null,
         "C"
        ],
        [
         "145",
         "0",
         "2",
         "Andrew, Mr. Edgardo Samuel",
         "male",
         "18",
         "0",
         "0",
         "231945",
         "11.5",
         null,
         "S"
        ],
        [
         "530",
         "0",
         "2",
         "Hocking, Mr. Richard George",
         "male",
         "23",
         "2",
         "1",
         "29104",
         "11.5",
         null,
         "S"
        ],
        [
         "758",
         "0",
         "2",
         "Bailey, Mr. Percy Andrew",
         "male",
         "18",
         "0",
         "0",
         "29108",
         "11.5",
         null,
         "S"
        ],
        [
         "862",
         "0",
         "2",
         "Giles, Mr. Frederick Edward",
         "male",
         "21",
         "1",
         "0",
         "28134",
         "11.5",
         null,
         "S"
        ],
        [
         "126",
         "1",
         "3",
         "Nicola-Yarred, Master. Elias",
         "male",
         "12",
         "1",
         "0",
         "2651",
         "11.2417",
         null,
         "C"
        ],
        [
         "40",
         "1",
         "3",
         "Nicola-Yarred, Miss. Jamila",
         "female",
         "14",
         "1",
         "0",
         "2651",
         "11.2417",
         null,
         "C"
        ],
        [
         "173",
         "1",
         "3",
         "Johnson, Miss. Eleanor Ileen",
         "female",
         "1",
         "1",
         "1",
         "347742",
         "11.1333",
         null,
         "S"
        ],
        [
         "9",
         "1",
         "3",
         "Johnson, Mrs. Oscar W (Elisabeth Vilhelmina Berg)",
         "female",
         "27",
         "0",
         "2",
         "347742",
         "11.1333",
         null,
         "S"
        ],
        [
         "870",
         "1",
         "3",
         "Johnson, Master. Harold Theodor",
         "male",
         "4",
         "1",
         "1",
         "347742",
         "11.1333",
         null,
         "S"
        ],
        [
         "308",
         "1",
         "1",
         "Penasco y Castellana, Mrs. Victor de Satode (Maria Josefa Perez de Soto y Vallejo)",
         "female",
         "17",
         "1",
         "0",
         "PC 17758",
         "108.9",
         "C65",
         "C"
        ],
        [
         "506",
         "0",
         "1",
         "Penasco y Castellana, Mr. Victor de Satode",
         "male",
         "18",
         "1",
         "0",
         "PC 17758",
         "108.9",
         "C65",
         "C"
        ],
        [
         "545",
         "0",
         "1",
         "Douglas, Mr. Walter Donald",
         "male",
         "50",
         "1",
         "0",
         "PC 17761",
         "106.425",
         "C86",
         "C"
        ],
        [
         "538",
         "1",
         "1",
         "LeRoy, Miss. Bertha",
         "female",
         "30",
         "0",
         "0",
         "PC 17761",
         "106.425",
         null,
         "C"
        ],
        [
         "883",
         "0",
         "3",
         "Dahlberg, Miss. Gerda Ulrika",
         "female",
         "22",
         "0",
         "0",
         "7552",
         "10.5167",
         null,
         "S"
        ],
        [
         "571",
         "1",
         "2",
         "Harris, Mr. George",
         "male",
         "62",
         "0",
         "0",
         "S.W./PP 752",
         "10.5",
         null,
         "S"
        ],
        [
         "57",
         "1",
         "2",
         "Rugg, Miss. Emily",
         "female",
         "21",
         "0",
         "0",
         "C.A. 31026",
         "10.5",
         null,
         "S"
        ],
        [
         "85",
         "1",
         "2",
         "Ilett, Miss. Bertha",
         "female",
         "17",
         "0",
         "0",
         "SO/C 14885",
         "10.5",
         null,
         "S"
        ],
        [
         "517",
         "1",
         "2",
         "Lemore, Mrs. (Amelia Milley)",
         "female",
         "34",
         "0",
         "0",
         "C.A. 34260",
         "10.5",
         "F33",
         "S"
        ],
        [
         "620",
         "0",
         "2",
         "Gavey, Mr. Lawrence",
         "male",
         "26",
         "0",
         "0",
         "31028",
         "10.5",
         null,
         "S"
        ],
        [
         "266",
         "0",
         "2",
         "Reeves, Mr. David",
         "male",
         "36",
         "0",
         "0",
         "C.A. 17248",
         "10.5",
         null,
         "S"
        ],
        [
         "527",
         "1",
         "2",
         "Ridsdale, Miss. Lucy",
         "female",
         "50",
         "0",
         "0",
         "W./C. 14258",
         "10.5",
         null,
         "S"
        ],
        [
         "67",
         "1",
         "2",
         "Nye, Mrs. (Elizabeth Ramell)",
         "female",
         "29",
         "0",
         "0",
         "C.A. 29395",
         "10.5",
         "F33",
         "S"
        ],
        [
         "773",
         "0",
         "2",
         "Mack, Mrs. (Mary)",
         "female",
         "57",
         "0",
         "0",
         "S.O./P.P. 3",
         "10.5",
         "E77",
         "S"
        ],
        [
         "718",
         "1",
         "2",
         "\"Troutt, Miss. Edwina Celia \"\"Winnie\"\"\"",
         "female",
         "27",
         "0",
         "0",
         "34218",
         "10.5",
         "E101",
         "S"
        ],
        [
         "220",
         "0",
         "2",
         "Harris, Mr. Walter",
         "male",
         "30",
         "0",
         "0",
         "W/C 14208",
         "10.5",
         null,
         "S"
        ],
        [
         "71",
         "0",
         "2",
         "Jenkin, Mr. Stephen Curnow",
         "male",
         "32",
         "0",
         "0",
         "C.A. 33111",
         "10.5",
         null,
         "S"
        ],
        [
         "235",
         "0",
         "2",
         "Leyson, Mr. Robert William Norman",
         "male",
         "24",
         "0",
         "0",
         "C.A. 29566",
         "10.5",
         null,
         "S"
        ],
        [
         "34",
         "0",
         "2",
         "Wheadon, Mr. Edward H",
         "male",
         "66",
         "0",
         "0",
         "C.A. 24579",
         "10.5",
         null,
         "S"
        ],
        [
         "459",
         "1",
         "2",
         "Toomey, Miss. Ellen",
         "female",
         "50",
         "0",
         "0",
         "F.C.C. 13531",
         "10.5",
         null,
         "S"
        ],
        [
         "842",
         "0",
         "2",
         "Mudd, Mr. Thomas Charles",
         "male",
         "16",
         "0",
         "0",
         "S.O./P.P. 3",
         "10.5",
         null,
         "S"
        ],
        [
         "239",
         "0",
         "2",
         "Pengelly, Mr. Frederick William",
         "male",
         "19",
         "0",
         "0",
         "28665",
         "10.5",
         null,
         "S"
        ],
        [
         "243",
         "0",
         "2",
         "Coleridge, Mr. Reginald Charles",
         "male",
         "29",
         "0",
         "0",
         "W./C. 14263",
         "10.5",
         null,
         "S"
        ],
        [
         "227",
         "1",
         "2",
         "Mellors, Mr. William John",
         "male",
         "19",
         "0",
         "0",
         "SW/PP 751",
         "10.5",
         null,
         "S"
        ],
        [
         "440",
         "0",
         "2",
         "Kvillner, Mr. Johan Henrik Johannesson",
         "male",
         "31",
         "0",
         "0",
         "C.A. 18723",
         "10.5",
         null,
         "S"
        ],
        [
         "399",
         "0",
         "2",
         "Pain, Dr. Alfred",
         "male",
         "23",
         "0",
         "0",
         "244278",
         "10.5",
         null,
         "S"
        ],
        [
         "884",
         "0",
         "2",
         "Banfield, Mr. Frederick James",
         "male",
         "28",
         "0",
         "0",
         "C.A./SOTON 34068",
         "10.5",
         null,
         "S"
        ],
        [
         "813",
         "0",
         "2",
         "Slemen, Mr. Richard James",
         "male",
         "35",
         "0",
         "0",
         "28206",
         "10.5",
         null,
         "S"
        ],
        [
         "673",
         "0",
         "2",
         "Mitchell, Mr. Henry Michael",
         "male",
         "70",
         "0",
         "0",
         "C.A. 24580",
         "10.5",
         null,
         "S"
        ],
        [
         "252",
         "0",
         "3",
         "Strom, Mrs. Wilhelm (Elna Matilda Persson)",
         "female",
         "29",
         "1",
         "1",
         "347054",
         "10.4625",
         "G6",
         "S"
        ],
        [
         "206",
         "0",
         "3",
         "Strom, Miss. Telma Matilda",
         "female",
         "2",
         "0",
         "1",
         "347054",
         "10.4625",
         "G6",
         "S"
        ],
        [
         "688",
         "0",
         "3",
         "Dakic, Mr. Branko",
         "male",
         "19",
         "0",
         "0",
         "349228",
         "10.1708",
         null,
         "S"
        ],
        [
         "598",
         "0",
         "3",
         "Johnson, Mr. Alfred",
         "male",
         "49",
         "0",
         "0",
         "LINE",
         "0",
         null,
         "S"
        ],
        [
         "634",
         "0",
         "1",
         "Parr, Mr. William Henry Marsh",
         "male",
         null,
         "0",
         "0",
         "112052",
         "0",
         null,
         "S"
        ],
        [
         "272",
         "1",
         "3",
         "Tornquist, Mr. William Henry",
         "male",
         "25",
         "0",
         "0",
         "LINE",
         "0",
         null,
         "S"
        ],
        [
         "414",
         "0",
         "2",
         "Cunningham, Mr. Alfred Fleming",
         "male",
         null,
         "0",
         "0",
         "239853",
         "0",
         null,
         "S"
        ],
        [
         "467",
         "0",
         "2",
         "Campbell, Mr. William",
         "male",
         null,
         "0",
         "0",
         "239853",
         "0",
         null,
         "S"
        ],
        [
         "303",
         "0",
         "3",
         "Johnson, Mr. William Cahoone Jr",
         "male",
         "19",
         "0",
         "0",
         "LINE",
         "0",
         null,
         "S"
        ],
        [
         "733",
         "0",
         "2",
         "Knight, Mr. Robert J",
         "male",
         null,
         "0",
         "0",
         "239855",
         "0",
         null,
         "S"
        ],
        [
         "807",
         "0",
         "1",
         "Andrews, Mr. Thomas Jr",
         "male",
         "39",
         "0",
         "0",
         "112050",
         "0",
         "A36",
         "S"
        ],
        [
         "264",
         "0",
         "1",
         "Harrison, Mr. William",
         "male",
         "40",
         "0",
         "0",
         "112059",
         "0",
         "B94",
         "S"
        ],
        [
         "278",
         "0",
         "2",
         "\"Parkes, Mr. Francis \"\"Frank\"\"\"",
         "male",
         null,
         "0",
         "0",
         "239853",
         "0",
         null,
         "S"
        ],
        [
         "180",
         "0",
         "3",
         "Leonard, Mr. Lionel",
         "male",
         "36",
         "0",
         "0",
         "LINE",
         "0",
         null,
         "S"
        ],
        [
         "482",
         "0",
         "2",
         "\"Frost, Mr. Anthony Wood \"\"Archie\"\"\"",
         "male",
         null,
         "0",
         "0",
         "239854",
         "0",
         null,
         "S"
        ],
        [
         "675",
         "0",
         "2",
         "Watson, Mr. Ennis Hastings",
         "male",
         null,
         "0",
         "0",
         "239856",
         "0",
         null,
         "S"
        ],
        [
         "816",
         "0",
         "1",
         "Fry, Mr. Richard",
         "male",
         null,
         "0",
         "0",
         "112058",
         "0",
         "B102",
         "S"
        ],
        [
         "823",
         "0",
         "1",
         "Reuchlin, Jonkheer. John George",
         "male",
         "38",
         "0",
         "0",
         "19972",
         "0",
         null,
         "S"
        ]
       ],
       "datasetInfos": [],
       "dbfsResultPath": null,
       "isJsonSchema": true,
       "metadata": {},
       "overflow": false,
       "plotOptions": {
        "customPlotOptions": {},
        "displayType": "table",
        "pivotAggregation": null,
        "pivotColumns": null,
        "xColumns": null,
        "yColumns": null
       },
       "removedWidgets": [],
       "schema": [
        {
         "metadata": "{}",
         "name": "PassengerId",
         "type": "\"string\""
        },
        {
         "metadata": "{}",
         "name": "Survived",
         "type": "\"string\""
        },
        {
         "metadata": "{}",
         "name": "Pclass",
         "type": "\"string\""
        },
        {
         "metadata": "{}",
         "name": "Name",
         "type": "\"string\""
        },
        {
         "metadata": "{}",
         "name": "Sex",
         "type": "\"string\""
        },
        {
         "metadata": "{}",
         "name": "Age",
         "type": "\"string\""
        },
        {
         "metadata": "{}",
         "name": "SibSp",
         "type": "\"string\""
        },
        {
         "metadata": "{}",
         "name": "Parch",
         "type": "\"string\""
        },
        {
         "metadata": "{}",
         "name": "Ticket",
         "type": "\"string\""
        },
        {
         "metadata": "{}",
         "name": "Fare",
         "type": "\"string\""
        },
        {
         "metadata": "{}",
         "name": "Cabin",
         "type": "\"string\""
        },
        {
         "metadata": "{}",
         "name": "Embarked",
         "type": "\"string\""
        }
       ],
       "type": "table"
      }
     },
     "output_type": "display_data"
    }
   ],
   "source": [
    "new_df=df.orderBy(df.Fare.desc()).display()\n",
    "new_df"
   ]
  },
  {
   "cell_type": "code",
   "execution_count": 0,
   "metadata": {
    "application/vnd.databricks.v1+cell": {
     "cellMetadata": {
      "byteLimit": 2048000,
      "implicitDf": true,
      "rowLimit": 10000
     },
     "inputWidgets": {},
     "nuid": "50bb4a14-fa03-4d67-87f6-4c3931b84672",
     "showTitle": false,
     "title": ""
    }
   },
   "outputs": [
    {
     "output_type": "display_data",
     "data": {
      "text/html": [
       "<style scoped>\n",
       "  .table-result-container {\n",
       "    max-height: 300px;\n",
       "    overflow: auto;\n",
       "  }\n",
       "  table, th, td {\n",
       "    border: 1px solid black;\n",
       "    border-collapse: collapse;\n",
       "  }\n",
       "  th, td {\n",
       "    padding: 5px;\n",
       "  }\n",
       "  th {\n",
       "    text-align: left;\n",
       "  }\n",
       "</style><div class='table-result-container'><table class='table-result'><thead style='background-color: white'><tr><th>Cabin</th></tr></thead><tbody><tr><td>C85</td></tr><tr><td>C123</td></tr><tr><td>E46</td></tr><tr><td>G6</td></tr><tr><td>C103</td></tr><tr><td>D56</td></tr><tr><td>A6</td></tr><tr><td>C23 C25 C27</td></tr><tr><td>B78</td></tr><tr><td>D33</td></tr><tr><td>B30</td></tr><tr><td>C52</td></tr><tr><td>B28</td></tr><tr><td>C83</td></tr><tr><td>F33</td></tr><tr><td>F G73</td></tr><tr><td>C23 C25 C27</td></tr><tr><td>E31</td></tr><tr><td>A5</td></tr><tr><td>D10 D12</td></tr><tr><td>D26</td></tr><tr><td>C110</td></tr><tr><td>B58 B60</td></tr><tr><td>E101</td></tr><tr><td>D26</td></tr><tr><td>F E69</td></tr><tr><td>D47</td></tr><tr><td>C123</td></tr><tr><td>B86</td></tr><tr><td>F2</td></tr><tr><td>C2</td></tr><tr><td>E33</td></tr><tr><td>B19</td></tr><tr><td>A7</td></tr><tr><td>C49</td></tr><tr><td>F4</td></tr><tr><td>A32</td></tr><tr><td>F2</td></tr><tr><td>B4</td></tr><tr><td>B80</td></tr><tr><td>G6</td></tr><tr><td>A31</td></tr><tr><td>D36</td></tr><tr><td>D15</td></tr><tr><td>C93</td></tr><tr><td>C83</td></tr><tr><td>C78</td></tr><tr><td>D35</td></tr><tr><td>G6</td></tr><tr><td>C87</td></tr><tr><td>B77</td></tr><tr><td>E67</td></tr><tr><td>B94</td></tr><tr><td>C125</td></tr><tr><td>C99</td></tr><tr><td>C118</td></tr><tr><td>D7</td></tr><tr><td>A19</td></tr><tr><td>B49</td></tr><tr><td>D</td></tr><tr><td>C22 C26</td></tr><tr><td>C106</td></tr><tr><td>B58 B60</td></tr><tr><td>E101</td></tr><tr><td>C22 C26</td></tr><tr><td>C65</td></tr><tr><td>E36</td></tr><tr><td>C54</td></tr><tr><td>B57 B59 B63 B66</td></tr><tr><td>C7</td></tr><tr><td>E34</td></tr><tr><td>C32</td></tr><tr><td>D</td></tr><tr><td>B18</td></tr><tr><td>C124</td></tr><tr><td>C91</td></tr><tr><td>C2</td></tr><tr><td>E40</td></tr><tr><td>T</td></tr><tr><td>F2</td></tr><tr><td>C23 C25 C27</td></tr><tr><td>F33</td></tr><tr><td>C128</td></tr><tr><td>E33</td></tr><tr><td>D37</td></tr><tr><td>B35</td></tr><tr><td>E50</td></tr><tr><td>C82</td></tr><tr><td>B96 B98</td></tr><tr><td>D36</td></tr><tr><td>G6</td></tr><tr><td>C78</td></tr><tr><td>E10</td></tr><tr><td>C52</td></tr><tr><td>E44</td></tr><tr><td>B96 B98</td></tr><tr><td>C23 C25 C27</td></tr><tr><td>A34</td></tr><tr><td>C104</td></tr><tr><td>C111</td></tr><tr><td>C92</td></tr><tr><td>E38</td></tr><tr><td>D21</td></tr><tr><td>E12</td></tr><tr><td>E63</td></tr><tr><td>D</td></tr><tr><td>A14</td></tr><tr><td>B49</td></tr><tr><td>C93</td></tr><tr><td>B37</td></tr><tr><td>C30</td></tr><tr><td>D20</td></tr><tr><td>C22 C26</td></tr><tr><td>B79</td></tr><tr><td>C65</td></tr><tr><td>E25</td></tr><tr><td>D46</td></tr><tr><td>F33</td></tr><tr><td>B73</td></tr><tr><td>B18</td></tr><tr><td>C95</td></tr><tr><td>B38</td></tr><tr><td>B39</td></tr><tr><td>B22</td></tr><tr><td>C86</td></tr><tr><td>C70</td></tr><tr><td>A16</td></tr><tr><td>E67</td></tr><tr><td>C101</td></tr><tr><td>E25</td></tr><tr><td>E44</td></tr><tr><td>C68</td></tr><tr><td>A10</td></tr><tr><td>E68</td></tr><tr><td>B41</td></tr><tr><td>D20</td></tr><tr><td>A20</td></tr><tr><td>C125</td></tr><tr><td>F4</td></tr><tr><td>D19</td></tr><tr><td>D50</td></tr><tr><td>D9</td></tr><tr><td>A23</td></tr><tr><td>B50</td></tr><tr><td>B35</td></tr><tr><td>D33</td></tr><tr><td>A26</td></tr><tr><td>D48</td></tr><tr><td>E58</td></tr><tr><td>C126</td></tr><tr><td>B71</td></tr><tr><td>B51 B53 B55</td></tr><tr><td>D49</td></tr><tr><td>B5</td></tr><tr><td>B20</td></tr><tr><td>C68</td></tr><tr><td>F G63</td></tr><tr><td>C62 C64</td></tr><tr><td>E24</td></tr><tr><td>E24</td></tr><tr><td>C90</td></tr><tr><td>C124</td></tr><tr><td>C126</td></tr><tr><td>F G73</td></tr><tr><td>C45</td></tr><tr><td>E101</td></tr><tr><td>E8</td></tr><tr><td>B5</td></tr><tr><td>B101</td></tr><tr><td>D45</td></tr><tr><td>C46</td></tr><tr><td>B57 B59 B63 B66</td></tr><tr><td>B22</td></tr><tr><td>D30</td></tr><tr><td>E121</td></tr><tr><td>B77</td></tr><tr><td>B96 B98</td></tr><tr><td>D11</td></tr><tr><td>E77</td></tr><tr><td>F38</td></tr><tr><td>B3</td></tr><tr><td>B20</td></tr><tr><td>D6</td></tr><tr><td>B82 B84</td></tr><tr><td>D17</td></tr><tr><td>B96 B98</td></tr><tr><td>A36</td></tr><tr><td>E8</td></tr><tr><td>B102</td></tr><tr><td>B69</td></tr><tr><td>E121</td></tr><tr><td>B28</td></tr><tr><td>E49</td></tr><tr><td>C47</td></tr><tr><td>C92</td></tr><tr><td>D28</td></tr><tr><td>E17</td></tr><tr><td>D17</td></tr><tr><td>A24</td></tr><tr><td>D35</td></tr><tr><td>B51 B53 B55</td></tr><tr><td>C50</td></tr><tr><td>B42</td></tr><tr><td>C148</td></tr></tbody></table></div>"
      ]
     },
     "metadata": {
      "application/vnd.databricks.v1+output": {
       "addedWidgets": {},
       "aggData": [],
       "aggError": "",
       "aggOverflow": false,
       "aggSchema": [],
       "aggSeriesLimitReached": false,
       "aggType": "",
       "arguments": {},
       "columnCustomDisplayInfos": {},
       "data": [
        [
         "C85"
        ],
        [
         "C123"
        ],
        [
         "E46"
        ],
        [
         "G6"
        ],
        [
         "C103"
        ],
        [
         "D56"
        ],
        [
         "A6"
        ],
        [
         "C23 C25 C27"
        ],
        [
         "B78"
        ],
        [
         "D33"
        ],
        [
         "B30"
        ],
        [
         "C52"
        ],
        [
         "B28"
        ],
        [
         "C83"
        ],
        [
         "F33"
        ],
        [
         "F G73"
        ],
        [
         "C23 C25 C27"
        ],
        [
         "E31"
        ],
        [
         "A5"
        ],
        [
         "D10 D12"
        ],
        [
         "D26"
        ],
        [
         "C110"
        ],
        [
         "B58 B60"
        ],
        [
         "E101"
        ],
        [
         "D26"
        ],
        [
         "F E69"
        ],
        [
         "D47"
        ],
        [
         "C123"
        ],
        [
         "B86"
        ],
        [
         "F2"
        ],
        [
         "C2"
        ],
        [
         "E33"
        ],
        [
         "B19"
        ],
        [
         "A7"
        ],
        [
         "C49"
        ],
        [
         "F4"
        ],
        [
         "A32"
        ],
        [
         "F2"
        ],
        [
         "B4"
        ],
        [
         "B80"
        ],
        [
         "G6"
        ],
        [
         "A31"
        ],
        [
         "D36"
        ],
        [
         "D15"
        ],
        [
         "C93"
        ],
        [
         "C83"
        ],
        [
         "C78"
        ],
        [
         "D35"
        ],
        [
         "G6"
        ],
        [
         "C87"
        ],
        [
         "B77"
        ],
        [
         "E67"
        ],
        [
         "B94"
        ],
        [
         "C125"
        ],
        [
         "C99"
        ],
        [
         "C118"
        ],
        [
         "D7"
        ],
        [
         "A19"
        ],
        [
         "B49"
        ],
        [
         "D"
        ],
        [
         "C22 C26"
        ],
        [
         "C106"
        ],
        [
         "B58 B60"
        ],
        [
         "E101"
        ],
        [
         "C22 C26"
        ],
        [
         "C65"
        ],
        [
         "E36"
        ],
        [
         "C54"
        ],
        [
         "B57 B59 B63 B66"
        ],
        [
         "C7"
        ],
        [
         "E34"
        ],
        [
         "C32"
        ],
        [
         "D"
        ],
        [
         "B18"
        ],
        [
         "C124"
        ],
        [
         "C91"
        ],
        [
         "C2"
        ],
        [
         "E40"
        ],
        [
         "T"
        ],
        [
         "F2"
        ],
        [
         "C23 C25 C27"
        ],
        [
         "F33"
        ],
        [
         "C128"
        ],
        [
         "E33"
        ],
        [
         "D37"
        ],
        [
         "B35"
        ],
        [
         "E50"
        ],
        [
         "C82"
        ],
        [
         "B96 B98"
        ],
        [
         "D36"
        ],
        [
         "G6"
        ],
        [
         "C78"
        ],
        [
         "E10"
        ],
        [
         "C52"
        ],
        [
         "E44"
        ],
        [
         "B96 B98"
        ],
        [
         "C23 C25 C27"
        ],
        [
         "A34"
        ],
        [
         "C104"
        ],
        [
         "C111"
        ],
        [
         "C92"
        ],
        [
         "E38"
        ],
        [
         "D21"
        ],
        [
         "E12"
        ],
        [
         "E63"
        ],
        [
         "D"
        ],
        [
         "A14"
        ],
        [
         "B49"
        ],
        [
         "C93"
        ],
        [
         "B37"
        ],
        [
         "C30"
        ],
        [
         "D20"
        ],
        [
         "C22 C26"
        ],
        [
         "B79"
        ],
        [
         "C65"
        ],
        [
         "E25"
        ],
        [
         "D46"
        ],
        [
         "F33"
        ],
        [
         "B73"
        ],
        [
         "B18"
        ],
        [
         "C95"
        ],
        [
         "B38"
        ],
        [
         "B39"
        ],
        [
         "B22"
        ],
        [
         "C86"
        ],
        [
         "C70"
        ],
        [
         "A16"
        ],
        [
         "E67"
        ],
        [
         "C101"
        ],
        [
         "E25"
        ],
        [
         "E44"
        ],
        [
         "C68"
        ],
        [
         "A10"
        ],
        [
         "E68"
        ],
        [
         "B41"
        ],
        [
         "D20"
        ],
        [
         "A20"
        ],
        [
         "C125"
        ],
        [
         "F4"
        ],
        [
         "D19"
        ],
        [
         "D50"
        ],
        [
         "D9"
        ],
        [
         "A23"
        ],
        [
         "B50"
        ],
        [
         "B35"
        ],
        [
         "D33"
        ],
        [
         "A26"
        ],
        [
         "D48"
        ],
        [
         "E58"
        ],
        [
         "C126"
        ],
        [
         "B71"
        ],
        [
         "B51 B53 B55"
        ],
        [
         "D49"
        ],
        [
         "B5"
        ],
        [
         "B20"
        ],
        [
         "C68"
        ],
        [
         "F G63"
        ],
        [
         "C62 C64"
        ],
        [
         "E24"
        ],
        [
         "E24"
        ],
        [
         "C90"
        ],
        [
         "C124"
        ],
        [
         "C126"
        ],
        [
         "F G73"
        ],
        [
         "C45"
        ],
        [
         "E101"
        ],
        [
         "E8"
        ],
        [
         "B5"
        ],
        [
         "B101"
        ],
        [
         "D45"
        ],
        [
         "C46"
        ],
        [
         "B57 B59 B63 B66"
        ],
        [
         "B22"
        ],
        [
         "D30"
        ],
        [
         "E121"
        ],
        [
         "B77"
        ],
        [
         "B96 B98"
        ],
        [
         "D11"
        ],
        [
         "E77"
        ],
        [
         "F38"
        ],
        [
         "B3"
        ],
        [
         "B20"
        ],
        [
         "D6"
        ],
        [
         "B82 B84"
        ],
        [
         "D17"
        ],
        [
         "B96 B98"
        ],
        [
         "A36"
        ],
        [
         "E8"
        ],
        [
         "B102"
        ],
        [
         "B69"
        ],
        [
         "E121"
        ],
        [
         "B28"
        ],
        [
         "E49"
        ],
        [
         "C47"
        ],
        [
         "C92"
        ],
        [
         "D28"
        ],
        [
         "E17"
        ],
        [
         "D17"
        ],
        [
         "A24"
        ],
        [
         "D35"
        ],
        [
         "B51 B53 B55"
        ],
        [
         "C50"
        ],
        [
         "B42"
        ],
        [
         "C148"
        ]
       ],
       "datasetInfos": [],
       "dbfsResultPath": null,
       "isJsonSchema": true,
       "metadata": {
        "dataframeName": "_sqldf",
        "executionCount": 18
       },
       "overflow": false,
       "plotOptions": {
        "customPlotOptions": {},
        "displayType": "table",
        "pivotAggregation": null,
        "pivotColumns": null,
        "xColumns": null,
        "yColumns": null
       },
       "removedWidgets": [],
       "schema": [
        {
         "metadata": "{}",
         "name": "Cabin",
         "type": "\"string\""
        }
       ],
       "type": "table"
      }
     },
     "output_type": "display_data"
    }
   ],
   "source": [
    "%sql\n",
    "select Cabin from titanic \n",
    "where Cabin is not null"
   ]
  },
  {
   "cell_type": "code",
   "execution_count": 0,
   "metadata": {
    "application/vnd.databricks.v1+cell": {
     "cellMetadata": {
      "byteLimit": 2048000,
      "implicitDf": true,
      "rowLimit": 10000
     },
     "inputWidgets": {},
     "nuid": "6631a594-2825-4cd5-a612-39674c1184c8",
     "showTitle": false,
     "title": ""
    }
   },
   "outputs": [
    {
     "output_type": "display_data",
     "data": {
      "text/html": [
       "<style scoped>\n",
       "  .table-result-container {\n",
       "    max-height: 300px;\n",
       "    overflow: auto;\n",
       "  }\n",
       "  table, th, td {\n",
       "    border: 1px solid black;\n",
       "    border-collapse: collapse;\n",
       "  }\n",
       "  th, td {\n",
       "    padding: 5px;\n",
       "  }\n",
       "  th {\n",
       "    text-align: left;\n",
       "  }\n",
       "</style><div class='table-result-container'><table class='table-result'><thead style='background-color: white'><tr><th>Name</th><th>Age</th><th>Sex</th><th>Ticket</th></tr></thead><tbody><tr><td>Braund, Mr. Owen Harris</td><td>22.0</td><td>male</td><td>A/5 21171</td></tr><tr><td>Cumings, Mrs. John Bradley (Florence Briggs Thayer)</td><td>38.0</td><td>female</td><td>PC 17599</td></tr><tr><td>Heikkinen, Miss. Laina</td><td>26.0</td><td>female</td><td>STON/O2. 3101282</td></tr><tr><td>Futrelle, Mrs. Jacques Heath (Lily May Peel)</td><td>35.0</td><td>female</td><td>113803</td></tr><tr><td>Allen, Mr. William Henry</td><td>35.0</td><td>male</td><td>373450</td></tr><tr><td>McCarthy, Mr. Timothy J</td><td>54.0</td><td>male</td><td>17463</td></tr><tr><td>Palsson, Master. Gosta Leonard</td><td>2.0</td><td>male</td><td>349909</td></tr><tr><td>Johnson, Mrs. Oscar W (Elisabeth Vilhelmina Berg)</td><td>27.0</td><td>female</td><td>347742</td></tr><tr><td>Nasser, Mrs. Nicholas (Adele Achem)</td><td>14.0</td><td>female</td><td>237736</td></tr><tr><td>Sandstrom, Miss. Marguerite Rut</td><td>4.0</td><td>female</td><td>PP 9549</td></tr><tr><td>Bonnell, Miss. Elizabeth</td><td>58.0</td><td>female</td><td>113783</td></tr><tr><td>Saundercock, Mr. William Henry</td><td>20.0</td><td>male</td><td>A/5. 2151</td></tr><tr><td>Andersson, Mr. Anders Johan</td><td>39.0</td><td>male</td><td>347082</td></tr><tr><td>Vestrom, Miss. Hulda Amanda Adolfina</td><td>14.0</td><td>female</td><td>350406</td></tr><tr><td>Hewlett, Mrs. (Mary D Kingcome) </td><td>55.0</td><td>female</td><td>248706</td></tr><tr><td>Rice, Master. Eugene</td><td>2.0</td><td>male</td><td>382652</td></tr><tr><td>Vander Planke, Mrs. Julius (Emelia Maria Vandemoortele)</td><td>31.0</td><td>female</td><td>345763</td></tr><tr><td>Fynney, Mr. Joseph J</td><td>35.0</td><td>male</td><td>239865</td></tr><tr><td>Beesley, Mr. Lawrence</td><td>34.0</td><td>male</td><td>248698</td></tr><tr><td>McGowan, Miss. Anna \"Annie\"</td><td>15.0</td><td>female</td><td>330923</td></tr><tr><td>Sloper, Mr. William Thompson</td><td>28.0</td><td>male</td><td>113788</td></tr><tr><td>Palsson, Miss. Torborg Danira</td><td>8.0</td><td>female</td><td>349909</td></tr><tr><td>Asplund, Mrs. Carl Oscar (Selma Augusta Emilia Johansson)</td><td>38.0</td><td>female</td><td>347077</td></tr><tr><td>Fortune, Mr. Charles Alexander</td><td>19.0</td><td>male</td><td>19950</td></tr><tr><td>Uruchurtu, Don. Manuel E</td><td>40.0</td><td>male</td><td>PC 17601</td></tr><tr><td>Wheadon, Mr. Edward H</td><td>66.0</td><td>male</td><td>C.A. 24579</td></tr><tr><td>Meyer, Mr. Edgar Joseph</td><td>28.0</td><td>male</td><td>PC 17604</td></tr><tr><td>Holverson, Mr. Alexander Oskar</td><td>42.0</td><td>male</td><td>113789</td></tr><tr><td>Cann, Mr. Ernest Charles</td><td>21.0</td><td>male</td><td>A./5. 2152</td></tr><tr><td>Vander Planke, Miss. Augusta Maria</td><td>18.0</td><td>female</td><td>345764</td></tr><tr><td>Nicola-Yarred, Miss. Jamila</td><td>14.0</td><td>female</td><td>2651</td></tr><tr><td>Ahlin, Mrs. Johan (Johanna Persdotter Larsson)</td><td>40.0</td><td>female</td><td>7546</td></tr><tr><td>Turpin, Mrs. William John Robert (Dorothy Ann Wonnacott)</td><td>27.0</td><td>female</td><td>11668</td></tr><tr><td>Laroche, Miss. Simonne Marie Anne Andree</td><td>3.0</td><td>female</td><td>SC/Paris 2123</td></tr><tr><td>Devaney, Miss. Margaret Delia</td><td>19.0</td><td>female</td><td>330958</td></tr><tr><td>Arnold-Franchi, Mrs. Josef (Josefine Franchi)</td><td>18.0</td><td>female</td><td>349237</td></tr><tr><td>Panula, Master. Juha Niilo</td><td>7.0</td><td>male</td><td>3101295</td></tr><tr><td>Nosworthy, Mr. Richard Cater</td><td>21.0</td><td>male</td><td>A/4. 39886</td></tr><tr><td>Harper, Mrs. Henry Sleeper (Myna Haxtun)</td><td>49.0</td><td>female</td><td>PC 17572</td></tr><tr><td>Faunthorpe, Mrs. Lizzie (Elizabeth Anne Wilkinson)</td><td>29.0</td><td>female</td><td>2926</td></tr><tr><td>Ostby, Mr. Engelhart Cornelius</td><td>65.0</td><td>male</td><td>113509</td></tr><tr><td>Rugg, Miss. Emily</td><td>21.0</td><td>female</td><td>C.A. 31026</td></tr><tr><td>Novel, Mr. Mansouer</td><td>28.5</td><td>male</td><td>2697</td></tr><tr><td>West, Miss. Constance Mirium</td><td>5.0</td><td>female</td><td>C.A. 34651</td></tr><tr><td>Goodwin, Master. William Frederick</td><td>11.0</td><td>male</td><td>CA 2144</td></tr><tr><td>Sirayanian, Mr. Orsen</td><td>22.0</td><td>male</td><td>2669</td></tr><tr><td>Icard, Miss. Amelie</td><td>38.0</td><td>female</td><td>113572</td></tr><tr><td>Harris, Mr. Henry Birkhardt</td><td>45.0</td><td>male</td><td>36973</td></tr><tr><td>Skoog, Master. Harald</td><td>4.0</td><td>male</td><td>347088</td></tr><tr><td>Nye, Mrs. (Elizabeth Ramell)</td><td>29.0</td><td>female</td><td>C.A. 29395</td></tr><tr><td>Crease, Mr. Ernest James</td><td>19.0</td><td>male</td><td>S.P. 3464</td></tr><tr><td>Andersson, Miss. Erna Alexandra</td><td>17.0</td><td>female</td><td>3101281</td></tr><tr><td>Kink, Mr. Vincenz</td><td>26.0</td><td>male</td><td>315151</td></tr><tr><td>Jenkin, Mr. Stephen Curnow</td><td>32.0</td><td>male</td><td>C.A. 33111</td></tr><tr><td>Goodwin, Miss. Lillian Amy</td><td>16.0</td><td>female</td><td>CA 2144</td></tr><tr><td>Hood, Mr. Ambrose Jr</td><td>21.0</td><td>male</td><td>S.O.C. 14879</td></tr><tr><td>Chronopoulos, Mr. Apostolos</td><td>26.0</td><td>male</td><td>2680</td></tr><tr><td>Bing, Mr. Lee</td><td>32.0</td><td>male</td><td>1601</td></tr><tr><td>Moen, Mr. Sigurd Hansen</td><td>25.0</td><td>male</td><td>348123</td></tr><tr><td>Caldwell, Master. Alden Gates</td><td>0.83</td><td>male</td><td>248738</td></tr><tr><td>Dowdell, Miss. Elizabeth</td><td>30.0</td><td>female</td><td>364516</td></tr><tr><td>Waelens, Mr. Achille</td><td>22.0</td><td>male</td><td>345767</td></tr><tr><td>Sheerlinck, Mr. Jan Baptist</td><td>29.0</td><td>male</td><td>345779</td></tr><tr><td>Carrau, Mr. Francisco M</td><td>28.0</td><td>male</td><td>113059</td></tr><tr><td>Ilett, Miss. Bertha</td><td>17.0</td><td>female</td><td>SO/C 14885</td></tr><tr><td>Backstrom, Mrs. Karl Alfred (Maria Mathilda Gustafsson)</td><td>33.0</td><td>female</td><td>3101278</td></tr><tr><td>Ford, Mr. William Neal</td><td>16.0</td><td>male</td><td>W./C. 6608</td></tr><tr><td>Fortune, Miss. Mabel Helen</td><td>23.0</td><td>female</td><td>19950</td></tr><tr><td>Celotti, Mr. Francesco</td><td>24.0</td><td>male</td><td>343275</td></tr><tr><td>Christmann, Mr. Emil</td><td>29.0</td><td>male</td><td>343276</td></tr><tr><td>Andreasson, Mr. Paul Edvin</td><td>20.0</td><td>male</td><td>347466</td></tr><tr><td>Chaffee, Mr. Herbert Fuller</td><td>46.0</td><td>male</td><td>W.E.P. 5734</td></tr><tr><td>Dean, Mr. Bertram Frank</td><td>26.0</td><td>male</td><td>C.A. 2315</td></tr><tr><td>Coxon, Mr. Daniel</td><td>59.0</td><td>male</td><td>364500</td></tr><tr><td>Goldschmidt, Mr. George B</td><td>71.0</td><td>male</td><td>PC 17754</td></tr><tr><td>Greenfield, Mr. William Bertram</td><td>23.0</td><td>male</td><td>PC 17759</td></tr><tr><td>Doling, Mrs. John T (Ada Julia Bone)</td><td>34.0</td><td>female</td><td>231919</td></tr><tr><td>Kantor, Mr. Sinai</td><td>34.0</td><td>male</td><td>244367</td></tr><tr><td>Petranec, Miss. Matilda</td><td>28.0</td><td>female</td><td>349245</td></tr><tr><td>White, Mr. Richard Frasar</td><td>21.0</td><td>male</td><td>35281</td></tr><tr><td>Johansson, Mr. Gustaf Joel</td><td>33.0</td><td>male</td><td>7540</td></tr><tr><td>Gustafsson, Mr. Anders Vilhelm</td><td>37.0</td><td>male</td><td>3101276</td></tr><tr><td>Mionoff, Mr. Stoytcho</td><td>28.0</td><td>male</td><td>349207</td></tr><tr><td>Salkjelsvik, Miss. Anna Kristine</td><td>21.0</td><td>female</td><td>343120</td></tr><tr><td>Rekic, Mr. Tido</td><td>38.0</td><td>male</td><td>349249</td></tr><tr><td>Porter, Mr. Walter Chamberlain</td><td>47.0</td><td>male</td><td>110465</td></tr><tr><td>Zabour, Miss. Hileni</td><td>14.5</td><td>female</td><td>2665</td></tr><tr><td>Barton, Mr. David John</td><td>22.0</td><td>male</td><td>324669</td></tr><tr><td>Jussila, Miss. Katriina</td><td>20.0</td><td>female</td><td>4136</td></tr><tr><td>Attalah, Miss. Malake</td><td>17.0</td><td>female</td><td>2627</td></tr><tr><td>Pekoniemi, Mr. Edvard</td><td>21.0</td><td>male</td><td>STON/O 2. 3101294</td></tr><tr><td>Connors, Mr. Patrick</td><td>70.5</td><td>male</td><td>370369</td></tr><tr><td>Turpin, Mr. William John Robert</td><td>29.0</td><td>male</td><td>11668</td></tr><tr><td>Baxter, Mr. Quigg Edmond</td><td>24.0</td><td>male</td><td>PC 17558</td></tr><tr><td>Andersson, Miss. Ellis Anna Maria</td><td>2.0</td><td>female</td><td>347082</td></tr><tr><td>Hickman, Mr. Stanley George</td><td>21.0</td><td>male</td><td>S.O.C. 14879</td></tr><tr><td>Nasser, Mr. Nicholas</td><td>32.5</td><td>male</td><td>237736</td></tr><tr><td>Webber, Miss. Susan</td><td>32.5</td><td>female</td><td>27267</td></tr><tr><td>White, Mr. Percival Wayland</td><td>54.0</td><td>male</td><td>35281</td></tr><tr><td>Nicola-Yarred, Master. Elias</td><td>12.0</td><td>male</td><td>2651</td></tr><tr><td>Madsen, Mr. Fridtjof Arne</td><td>24.0</td><td>male</td><td>C 17369</td></tr><tr><td>Ekstrom, Mr. Johan</td><td>45.0</td><td>male</td><td>347061</td></tr><tr><td>Drazenoic, Mr. Jozef</td><td>33.0</td><td>male</td><td>349241</td></tr><tr><td>Coelho, Mr. Domingos Fernandeo</td><td>20.0</td><td>male</td><td>SOTON/O.Q. 3101307</td></tr><tr><td>Robins, Mrs. Alexander A (Grace Charity Laury)</td><td>47.0</td><td>female</td><td>A/5. 3337</td></tr><tr><td>Weisz, Mrs. Leopold (Mathilde Francoise Pede)</td><td>29.0</td><td>female</td><td>228414</td></tr><tr><td>Sobey, Mr. Samuel James Hayden</td><td>25.0</td><td>male</td><td>C.A. 29178</td></tr><tr><td>Richard, Mr. Emile</td><td>23.0</td><td>male</td><td>SC/PARIS 2133</td></tr><tr><td>Newsom, Miss. Helen Monypeny</td><td>19.0</td><td>female</td><td>11752</td></tr><tr><td>Futrelle, Mr. Jacques Heath</td><td>37.0</td><td>male</td><td>113803</td></tr><tr><td>Osen, Mr. Olaf Elon</td><td>16.0</td><td>male</td><td>7534</td></tr><tr><td>Giglio, Mr. Victor</td><td>24.0</td><td>male</td><td>PC 17593</td></tr><tr><td>Nysten, Miss. Anna Sofia</td><td>22.0</td><td>female</td><td>347081</td></tr><tr><td>Hakkarainen, Mrs. Pekka Pietari (Elin Matilda Dolck)</td><td>24.0</td><td>female</td><td>STON/O2. 3101279</td></tr><tr><td>Burke, Mr. Jeremiah</td><td>19.0</td><td>male</td><td>365222</td></tr><tr><td>Andrew, Mr. Edgardo Samuel</td><td>18.0</td><td>male</td><td>231945</td></tr><tr><td>Nicholls, Mr. Joseph Charles</td><td>19.0</td><td>male</td><td>C.A. 33112</td></tr><tr><td>Andersson, Mr. August Edvard (\"Wennerstrom\")</td><td>27.0</td><td>male</td><td>350043</td></tr><tr><td>Ford, Miss. Robina Maggie \"Ruby\"</td><td>9.0</td><td>female</td><td>W./C. 6608</td></tr><tr><td>Navratil, Mr. Michel (\"Louis M Hoffman\")</td><td>36.5</td><td>male</td><td>230080</td></tr><tr><td>Byles, Rev. Thomas Roussel Davids</td><td>42.0</td><td>male</td><td>244310</td></tr><tr><td>Bateman, Rev. Robert James</td><td>51.0</td><td>male</td><td>S.O.P. 1166</td></tr><tr><td>Pears, Mrs. Thomas (Edith Wearne)</td><td>22.0</td><td>female</td><td>113776</td></tr><tr><td>Meo, Mr. Alfonzo</td><td>55.5</td><td>male</td><td>A.5. 11206</td></tr><tr><td>van Billiard, Mr. Austin Blyler</td><td>40.5</td><td>male</td><td>A/5. 851</td></tr><tr><td>Williams, Mr. Charles Duane</td><td>51.0</td><td>male</td><td>PC 17597</td></tr><tr><td>Gilnagh, Miss. Katherine \"Katie\"</td><td>16.0</td><td>female</td><td>35851</td></tr><tr><td>Corn, Mr. Harry</td><td>30.0</td><td>male</td><td>SOTON/OQ 392090</td></tr><tr><td>Cribb, Mr. John Hatfield</td><td>44.0</td><td>male</td><td>371362</td></tr><tr><td>Watt, Mrs. James (Elizabeth \"Bessie\" Inglis Milne)</td><td>40.0</td><td>female</td><td>C.A. 33595</td></tr><tr><td>Bengtsson, Mr. John Viktor</td><td>26.0</td><td>male</td><td>347068</td></tr><tr><td>Calic, Mr. Jovo</td><td>17.0</td><td>male</td><td>315093</td></tr><tr><td>Panula, Master. Eino Viljami</td><td>1.0</td><td>male</td><td>3101295</td></tr><tr><td>Goldsmith, Master. Frank John William \"Frankie\"</td><td>9.0</td><td>male</td><td>363291</td></tr><tr><td>Skoog, Mrs. William (Anna Bernhardina Karlsson)</td><td>45.0</td><td>female</td><td>347088</td></tr><tr><td>Ling, Mr. Lee</td><td>28.0</td><td>male</td><td>1601</td></tr><tr><td>Van der hoef, Mr. Wyckoff</td><td>61.0</td><td>male</td><td>111240</td></tr><tr><td>Rice, Master. Arthur</td><td>4.0</td><td>male</td><td>382652</td></tr><tr><td>Johnson, Miss. Eleanor Ileen</td><td>1.0</td><td>female</td><td>347742</td></tr><tr><td>Sivola, Mr. Antti Wilhelm</td><td>21.0</td><td>male</td><td>STON/O 2. 3101280</td></tr><tr><td>Smith, Mr. James Clinch</td><td>56.0</td><td>male</td><td>17764</td></tr><tr><td>Klasen, Mr. Klas Albin</td><td>18.0</td><td>male</td><td>350404</td></tr><tr><td>Isham, Miss. Ann Elizabeth</td><td>50.0</td><td>female</td><td>PC 17595</td></tr><tr><td>Hale, Mr. Reginald</td><td>30.0</td><td>male</td><td>250653</td></tr><tr><td>Leonard, Mr. Lionel</td><td>36.0</td><td>male</td><td>LINE</td></tr><tr><td>Asplund, Master. Clarence Gustaf Hugo</td><td>9.0</td><td>male</td><td>347077</td></tr><tr><td>Becker, Master. Richard F</td><td>1.0</td><td>male</td><td>230136</td></tr><tr><td>Kink-Heilmann, Miss. Luise Gretchen</td><td>4.0</td><td>female</td><td>315153</td></tr><tr><td>Romaine, Mr. Charles Hallace (\"Mr C Rolmane\")</td><td>45.0</td><td>male</td><td>111428</td></tr><tr><td>Bourke, Mr. John</td><td>40.0</td><td>male</td><td>364849</td></tr><tr><td>Turcin, Mr. Stjepan</td><td>36.0</td><td>male</td><td>349247</td></tr><tr><td>Pinsky, Mrs. (Rosa)</td><td>32.0</td><td>female</td><td>234604</td></tr><tr><td>Carbines, Mr. William</td><td>19.0</td><td>male</td><td>28424</td></tr><tr><td>Andersen-Jensen, Miss. Carla Christine Nielsine</td><td>19.0</td><td>female</td><td>350046</td></tr><tr><td>Navratil, Master. Michel M</td><td>3.0</td><td>male</td><td>230080</td></tr><tr><td>Brown, Mrs. James Joseph (Margaret Tobin)</td><td>44.0</td><td>female</td><td>PC 17610</td></tr><tr><td>Lurette, Miss. Elise</td><td>58.0</td><td>female</td><td>PC 17569</td></tr><tr><td>Olsen, Mr. Karl Siegwart Andreas</td><td>42.0</td><td>male</td><td>4579</td></tr><tr><td>Yrois, Miss. Henriette (\"Mrs Harbeck\")</td><td>24.0</td><td>female</td><td>248747</td></tr><tr><td>Vande Walle, Mr. Nestor Cyriel</td><td>28.0</td><td>male</td><td>345770</td></tr><tr><td>Johanson, Mr. Jakob Alfred</td><td>34.0</td><td>male</td><td>3101264</td></tr><tr><td>Youseff, Mr. Gerious</td><td>45.5</td><td>male</td><td>2628</td></tr><tr><td>Cohen, Mr. Gurshon \"Gus\"</td><td>18.0</td><td>male</td><td>A/5 3540</td></tr><tr><td>Strom, Miss. Telma Matilda</td><td>2.0</td><td>female</td><td>347054</td></tr><tr><td>Backstrom, Mr. Karl Alfred</td><td>32.0</td><td>male</td><td>3101278</td></tr><tr><td>Albimona, Mr. Nassef Cassem</td><td>26.0</td><td>male</td><td>2699</td></tr><tr><td>Carr, Miss. Helen \"Ellen\"</td><td>16.0</td><td>female</td><td>367231</td></tr><tr><td>Blank, Mr. Henry</td><td>40.0</td><td>male</td><td>112277</td></tr><tr><td>Ali, Mr. Ahmed</td><td>24.0</td><td>male</td><td>SOTON/O.Q. 3101311</td></tr><tr><td>Cameron, Miss. Clear Annie</td><td>35.0</td><td>female</td><td>F.C.C. 13528</td></tr><tr><td>Perkin, Mr. John Henry</td><td>22.0</td><td>male</td><td>A/5 21174</td></tr><tr><td>Givard, Mr. Hans Kristensen</td><td>30.0</td><td>male</td><td>250646</td></tr><tr><td>Newell, Miss. Madeleine</td><td>31.0</td><td>female</td><td>35273</td></tr><tr><td>Honkanen, Miss. Eliina</td><td>27.0</td><td>female</td><td>STON/O2. 3101283</td></tr><tr><td>Jacobsohn, Mr. Sidney Samuel</td><td>42.0</td><td>male</td><td>243847</td></tr><tr><td>Bazzani, Miss. Albina</td><td>32.0</td><td>female</td><td>11813</td></tr><tr><td>Harris, Mr. Walter</td><td>30.0</td><td>male</td><td>W/C 14208</td></tr><tr><td>Sunderland, Mr. Victor Francis</td><td>16.0</td><td>male</td><td>SOTON/OQ 392089</td></tr><tr><td>Bracken, Mr. James H</td><td>27.0</td><td>male</td><td>220367</td></tr><tr><td>Green, Mr. George Henry</td><td>51.0</td><td>male</td><td>21440</td></tr><tr><td>Hoyt, Mr. Frederick Maxfield</td><td>38.0</td><td>male</td><td>19943</td></tr><tr><td>Berglund, Mr. Karl Ivar Sven</td><td>22.0</td><td>male</td><td>PP 4348</td></tr><tr><td>Mellors, Mr. William John</td><td>19.0</td><td>male</td><td>SW/PP 751</td></tr><tr><td>Lovell, Mr. John Hall (\"Henry\")</td><td>20.5</td><td>male</td><td>A/5 21173</td></tr><tr><td>Fahlstrom, Mr. Arne Jonas</td><td>18.0</td><td>male</td><td>236171</td></tr><tr><td>Harris, Mrs. Henry Birkhardt (Irene Wallach)</td><td>35.0</td><td>female</td><td>36973</td></tr><tr><td>Larsson, Mr. Bengt Edvin</td><td>29.0</td><td>male</td><td>347067</td></tr><tr><td>Sjostedt, Mr. Ernst Adolf</td><td>59.0</td><td>male</td><td>237442</td></tr><tr><td>Asplund, Miss. Lillian Gertrud</td><td>5.0</td><td>female</td><td>347077</td></tr><tr><td>Leyson, Mr. Robert William Norman</td><td>24.0</td><td>male</td><td>C.A. 29566</td></tr><tr><td>Hold, Mr. Stephen</td><td>44.0</td><td>male</td><td>26707</td></tr><tr><td>Collyer, Miss. Marjorie \"Lottie\"</td><td>8.0</td><td>female</td><td>C.A. 31921</td></tr><tr><td>Pengelly, Mr. Frederick William</td><td>19.0</td><td>male</td><td>28665</td></tr><tr><td>Hunt, Mr. George Henry</td><td>33.0</td><td>male</td><td>SCO/W 1585</td></tr><tr><td>Coleridge, Mr. Reginald Charles</td><td>29.0</td><td>male</td><td>W./C. 14263</td></tr><tr><td>Maenpaa, Mr. Matti Alexanteri</td><td>22.0</td><td>male</td><td>STON/O 2. 3101275</td></tr><tr><td>Attalah, Mr. Sleiman</td><td>30.0</td><td>male</td><td>2694</td></tr><tr><td>Minahan, Dr. William Edward</td><td>44.0</td><td>male</td><td>19928</td></tr><tr><td>Lindahl, Miss. Agda Thorilda Viktoria</td><td>25.0</td><td>female</td><td>347071</td></tr><tr><td>Hamalainen, Mrs. William (Anna)</td><td>24.0</td><td>female</td><td>250649</td></tr><tr><td>Beckwith, Mr. Richard Leonard</td><td>37.0</td><td>male</td><td>11751</td></tr><tr><td>Carter, Rev. Ernest Courtenay</td><td>54.0</td><td>male</td><td>244252</td></tr><tr><td>Strom, Mrs. Wilhelm (Elna Matilda Persson)</td><td>29.0</td><td>female</td><td>347054</td></tr><tr><td>Stead, Mr. William Thomas</td><td>62.0</td><td>male</td><td>113514</td></tr><tr><td>Lobb, Mr. William Arthur</td><td>30.0</td><td>male</td><td>A/5. 3336</td></tr><tr><td>Rosblom, Mrs. Viktor (Helena Wilhelmina)</td><td>41.0</td><td>female</td><td>370129</td></tr><tr><td>Touma, Mrs. Darwis (Hanne Youssef Razi)</td><td>29.0</td><td>female</td><td>2650</td></tr><tr><td>Cherry, Miss. Gladys</td><td>30.0</td><td>female</td><td>110152</td></tr><tr><td>Ward, Miss. Anna</td><td>35.0</td><td>female</td><td>PC 17755</td></tr><tr><td>Parrish, Mrs. (Lutie Davis)</td><td>50.0</td><td>female</td><td>230433</td></tr><tr><td>Asplund, Master. Edvin Rojj Felix</td><td>3.0</td><td>male</td><td>347077</td></tr><tr><td>Taussig, Mr. Emil</td><td>52.0</td><td>male</td><td>110413</td></tr><tr><td>Harrison, Mr. William</td><td>40.0</td><td>male</td><td>112059</td></tr><tr><td>Reeves, Mr. David</td><td>36.0</td><td>male</td><td>C.A. 17248</td></tr><tr><td>Panula, Mr. Ernesti Arvid</td><td>16.0</td><td>male</td><td>3101295</td></tr><tr><td>Persson, Mr. Ernst Ulrik</td><td>25.0</td><td>male</td><td>347083</td></tr><tr><td>Graham, Mrs. William Thompson (Edith Junkins)</td><td>58.0</td><td>female</td><td>PC 17582</td></tr><tr><td>Bissette, Miss. Amelia</td><td>35.0</td><td>female</td><td>PC 17760</td></tr><tr><td>Tornquist, Mr. William Henry</td><td>25.0</td><td>male</td><td>LINE</td></tr><tr><td>Mellinger, Mrs. (Elizabeth Anne Maidment)</td><td>41.0</td><td>female</td><td>250644</td></tr><tr><td>Natsch, Mr. Charles H</td><td>37.0</td><td>male</td><td>PC 17596</td></tr><tr><td>Andrews, Miss. Kornelia Theodosia</td><td>63.0</td><td>female</td><td>13502</td></tr><tr><td>Lindblom, Miss. Augusta Charlotta</td><td>45.0</td><td>female</td><td>347073</td></tr><tr><td>Rice, Master. Eric</td><td>7.0</td><td>male</td><td>382652</td></tr><tr><td>Abbott, Mrs. Stanton (Rosa Hunt)</td><td>35.0</td><td>female</td><td>C.A. 2673</td></tr><tr><td>Duane, Mr. Frank</td><td>65.0</td><td>male</td><td>336439</td></tr><tr><td>Olsson, Mr. Nils Johan Goransson</td><td>28.0</td><td>male</td><td>347464</td></tr><tr><td>de Pelsmaeker, Mr. Alfons</td><td>16.0</td><td>male</td><td>345778</td></tr><tr><td>Dorking, Mr. Edward Arthur</td><td>19.0</td><td>male</td><td>A/5. 10482</td></tr><tr><td>Stankovic, Mr. Ivan</td><td>33.0</td><td>male</td><td>349239</td></tr><tr><td>de Mulder, Mr. Theodore</td><td>30.0</td><td>male</td><td>345774</td></tr><tr><td>Naidenoff, Mr. Penko</td><td>22.0</td><td>male</td><td>349206</td></tr><tr><td>Hosono, Mr. Masabumi</td><td>42.0</td><td>male</td><td>237798</td></tr><tr><td>Connolly, Miss. Kate</td><td>22.0</td><td>female</td><td>370373</td></tr><tr><td>Barber, Miss. Ellen \"Nellie\"</td><td>26.0</td><td>female</td><td>19877</td></tr><tr><td>Bishop, Mrs. Dickinson H (Helen Walton)</td><td>19.0</td><td>female</td><td>11967</td></tr><tr><td>Levy, Mr. Rene Jacques</td><td>36.0</td><td>male</td><td>SC/Paris 2163</td></tr><tr><td>Haas, Miss. Aloisia</td><td>24.0</td><td>female</td><td>349236</td></tr><tr><td>Mineff, Mr. Ivan</td><td>24.0</td><td>male</td><td>349233</td></tr><tr><td>Hanna, Mr. Mansour</td><td>23.5</td><td>male</td><td>2693</td></tr><tr><td>Allison, Miss. Helen Loraine</td><td>2.0</td><td>female</td><td>113781</td></tr><tr><td>Baxter, Mrs. James (Helene DeLaudeniere Chaput)</td><td>50.0</td><td>female</td><td>PC 17558</td></tr><tr><td>Johnson, Mr. William Cahoone Jr</td><td>19.0</td><td>male</td><td>LINE</td></tr><tr><td>Allison, Master. Hudson Trevor</td><td>0.92</td><td>male</td><td>113781</td></tr><tr><td>Penasco y Castellana, Mrs. Victor de Satode (Maria Josefa Perez de Soto y Vallejo)</td><td>17.0</td><td>female</td><td>PC 17758</td></tr><tr><td>Abelson, Mr. Samuel</td><td>30.0</td><td>male</td><td>P/PP 3381</td></tr><tr><td>Francatelli, Miss. Laura Mabel</td><td>30.0</td><td>female</td><td>PC 17485</td></tr><tr><td>Hays, Miss. Margaret Bechstein</td><td>24.0</td><td>female</td><td>11767</td></tr><tr><td>Ryerson, Miss. Emily Borie</td><td>18.0</td><td>female</td><td>PC 17608</td></tr><tr><td>Lahtinen, Mrs. William (Anna Sylfven)</td><td>26.0</td><td>female</td><td>250651</td></tr><tr><td>Hendekovic, Mr. Ignjac</td><td>28.0</td><td>male</td><td>349243</td></tr><tr><td>Hart, Mr. Benjamin</td><td>43.0</td><td>male</td><td>F.C.C. 13529</td></tr><tr><td>Nilsson, Miss. Helmina Josefina</td><td>26.0</td><td>female</td><td>347470</td></tr><tr><td>Kantor, Mrs. Sinai (Miriam Sternin)</td><td>24.0</td><td>female</td><td>244367</td></tr><tr><td>Moraweck, Dr. Ernest</td><td>54.0</td><td>male</td><td>29011</td></tr><tr><td>Wick, Miss. Mary Natalie</td><td>31.0</td><td>female</td><td>36928</td></tr><tr><td>Spedden, Mrs. Frederic Oakley (Margaretta Corning Stone)</td><td>40.0</td><td>female</td><td>16966</td></tr><tr><td>Dennis, Mr. Samuel</td><td>22.0</td><td>male</td><td>A/5 21172</td></tr><tr><td>Danoff, Mr. Yoto</td><td>27.0</td><td>male</td><td>349219</td></tr><tr><td>Slayter, Miss. Hilda Mary</td><td>30.0</td><td>female</td><td>234818</td></tr><tr><td>Caldwell, Mrs. Albert Francis (Sylvia Mae Harbaugh)</td><td>22.0</td><td>female</td><td>248738</td></tr><tr><td>Young, Miss. Marie Grice</td><td>36.0</td><td>female</td><td>PC 17760</td></tr><tr><td>Nysveen, Mr. Johan Hansen</td><td>61.0</td><td>male</td><td>345364</td></tr><tr><td>Ball, Mrs. (Ada E Hall)</td><td>36.0</td><td>female</td><td>28551</td></tr><tr><td>Goldsmith, Mrs. Frank John (Emily Alice Brown)</td><td>31.0</td><td>female</td><td>363291</td></tr><tr><td>Hippach, Miss. Jean Gertrude</td><td>16.0</td><td>female</td><td>111361</td></tr><tr><td>Partner, Mr. Austen</td><td>45.5</td><td>male</td><td>113043</td></tr><tr><td>Graham, Mr. George Edward</td><td>38.0</td><td>male</td><td>PC 17582</td></tr><tr><td>Vander Planke, Mr. Leo Edmondus</td><td>16.0</td><td>male</td><td>345764</td></tr><tr><td>Pears, Mr. Thomas Clinton</td><td>29.0</td><td>male</td><td>113776</td></tr><tr><td>Burns, Miss. Elizabeth Margaret</td><td>41.0</td><td>female</td><td>16966</td></tr><tr><td>Dahl, Mr. Karl Edwart</td><td>45.0</td><td>male</td><td>7598</td></tr><tr><td>Blackwell, Mr. Stephen Weart</td><td>45.0</td><td>male</td><td>113784</td></tr><tr><td>Navratil, Master. Edmond Roger</td><td>2.0</td><td>male</td><td>230080</td></tr><tr><td>Fortune, Miss. Alice Elizabeth</td><td>24.0</td><td>female</td><td>19950</td></tr><tr><td>Collander, Mr. Erik Gustaf</td><td>28.0</td><td>male</td><td>248740</td></tr><tr><td>Sedgwick, Mr. Charles Frederick Waddington</td><td>25.0</td><td>male</td><td>244361</td></tr><tr><td>Fox, Mr. Stanley Hubert</td><td>36.0</td><td>male</td><td>229236</td></tr><tr><td>Brown, Miss. Amelia \"Mildred\"</td><td>24.0</td><td>female</td><td>248733</td></tr><tr><td>Smith, Miss. Marion Elsie</td><td>40.0</td><td>female</td><td>31418</td></tr><tr><td>Coutts, Master. William Loch \"William\"</td><td>3.0</td><td>male</td><td>C.A. 37671</td></tr><tr><td>Dimic, Mr. Jovan</td><td>42.0</td><td>male</td><td>315088</td></tr><tr><td>Odahl, Mr. Nils Martin</td><td>23.0</td><td>male</td><td>7267</td></tr><tr><td>Elias, Mr. Tannous</td><td>15.0</td><td>male</td><td>2695</td></tr><tr><td>Arnold-Franchi, Mr. Josef</td><td>25.0</td><td>male</td><td>349237</td></tr><tr><td>Vanden Steen, Mr. Leo Peter</td><td>28.0</td><td>male</td><td>345783</td></tr><tr><td>Bowerman, Miss. Elsie Edith</td><td>22.0</td><td>female</td><td>113505</td></tr><tr><td>Funk, Miss. Annie Clemmer</td><td>38.0</td><td>female</td><td>237671</td></tr><tr><td>Skoog, Mr. Wilhelm</td><td>40.0</td><td>male</td><td>347088</td></tr><tr><td>del Carlo, Mr. Sebastiano</td><td>29.0</td><td>male</td><td>SC/PARIS 2167</td></tr><tr><td>Barbara, Mrs. (Catherine David)</td><td>45.0</td><td>female</td><td>2691</td></tr><tr><td>Asim, Mr. Adola</td><td>35.0</td><td>male</td><td>SOTON/O.Q. 3101310</td></tr><tr><td>Adahl, Mr. Mauritz Nils Martin</td><td>30.0</td><td>male</td><td>C 7076</td></tr><tr><td>Warren, Mrs. Frank Manley (Anna Sophia Atkinson)</td><td>60.0</td><td>female</td><td>110813</td></tr><tr><td>Aubart, Mme. Leontine Pauline</td><td>24.0</td><td>female</td><td>PC 17477</td></tr><tr><td>Harder, Mr. George Achilles</td><td>25.0</td><td>male</td><td>11765</td></tr><tr><td>Wiklund, Mr. Jakob Alfred</td><td>18.0</td><td>male</td><td>3101267</td></tr><tr><td>Beavan, Mr. William Thomas</td><td>19.0</td><td>male</td><td>323951</td></tr><tr><td>Ringhini, Mr. Sante</td><td>22.0</td><td>male</td><td>PC 17760</td></tr><tr><td>Palsson, Miss. Stina Viola</td><td>3.0</td><td>female</td><td>349909</td></tr><tr><td>Landergren, Miss. Aurora Adelia</td><td>22.0</td><td>female</td><td>C 7077</td></tr><tr><td>Widener, Mr. Harry Elkins</td><td>27.0</td><td>male</td><td>113503</td></tr><tr><td>Betros, Mr. Tannous</td><td>20.0</td><td>male</td><td>2648</td></tr><tr><td>Gustafsson, Mr. Karl Gideon</td><td>19.0</td><td>male</td><td>347069</td></tr><tr><td>Bidois, Miss. Rosalie</td><td>42.0</td><td>female</td><td>PC 17757</td></tr><tr><td>Nakid, Miss. Maria (\"Mary\")</td><td>1.0</td><td>female</td><td>2653</td></tr><tr><td>Tikkanen, Mr. Juho</td><td>32.0</td><td>male</td><td>STON/O 2. 3101293</td></tr><tr><td>Holverson, Mrs. Alexander Oskar (Mary Aline Towner)</td><td>35.0</td><td>female</td><td>113789</td></tr><tr><td>Davies, Mr. Charles Henry</td><td>18.0</td><td>male</td><td>S.O.C. 14879</td></tr><tr><td>Goodwin, Master. Sidney Leonard</td><td>1.0</td><td>male</td><td>CA 2144</td></tr><tr><td>Buss, Miss. Kate</td><td>36.0</td><td>female</td><td>27849</td></tr><tr><td>Lehmann, Miss. Bertha</td><td>17.0</td><td>female</td><td>SC 1748</td></tr><tr><td>Carter, Mr. William Ernest</td><td>36.0</td><td>male</td><td>113760</td></tr><tr><td>Jansson, Mr. Carl Olof</td><td>21.0</td><td>male</td><td>350034</td></tr><tr><td>Gustafsson, Mr. Johan Birger</td><td>28.0</td><td>male</td><td>3101277</td></tr><tr><td>Newell, Miss. Marjorie</td><td>23.0</td><td>female</td><td>35273</td></tr><tr><td>Sandstrom, Mrs. Hjalmar (Agnes Charlotta Bengtsson)</td><td>24.0</td><td>female</td><td>PP 9549</td></tr><tr><td>Johansson, Mr. Erik</td><td>22.0</td><td>male</td><td>350052</td></tr><tr><td>Olsson, Miss. Elina</td><td>31.0</td><td>female</td><td>350407</td></tr><tr><td>McKane, Mr. Peter David</td><td>46.0</td><td>male</td><td>28403</td></tr><tr><td>Pain, Dr. Alfred</td><td>23.0</td><td>male</td><td>244278</td></tr><tr><td>Trout, Mrs. William H (Jessie L)</td><td>28.0</td><td>female</td><td>240929</td></tr><tr><td>Niskanen, Mr. Juha</td><td>39.0</td><td>male</td><td>STON/O 2. 3101289</td></tr><tr><td>Adams, Mr. John</td><td>26.0</td><td>male</td><td>341826</td></tr><tr><td>Jussila, Miss. Mari Aina</td><td>21.0</td><td>female</td><td>4137</td></tr><tr><td>Hakkarainen, Mr. Pekka Pietari</td><td>28.0</td><td>male</td><td>STON/O2. 3101279</td></tr><tr><td>Oreskovic, Miss. Marija</td><td>20.0</td><td>female</td><td>315096</td></tr><tr><td>Gale, Mr. Shadrach</td><td>34.0</td><td>male</td><td>28664</td></tr><tr><td>Widegren, Mr. Carl/Charles Peter</td><td>51.0</td><td>male</td><td>347064</td></tr><tr><td>Richards, Master. William Rowe</td><td>3.0</td><td>male</td><td>29106</td></tr><tr><td>Birkeland, Mr. Hans Martin Monsen</td><td>21.0</td><td>male</td><td>312992</td></tr><tr><td>Minahan, Miss. Daisy E</td><td>33.0</td><td>female</td><td>19928</td></tr><tr><td>Sundman, Mr. Johan Julian</td><td>44.0</td><td>male</td><td>STON/O 2. 3101269</td></tr><tr><td>Drew, Mrs. James Vivian (Lulu Thorne Christian)</td><td>34.0</td><td>female</td><td>28220</td></tr><tr><td>Silven, Miss. Lyyli Karoliina</td><td>18.0</td><td>female</td><td>250652</td></tr><tr><td>Matthews, Mr. William John</td><td>30.0</td><td>male</td><td>28228</td></tr><tr><td>Van Impe, Miss. Catharina</td><td>10.0</td><td>female</td><td>345773</td></tr><tr><td>Charters, Mr. David</td><td>21.0</td><td>male</td><td>A/5. 13032</td></tr><tr><td>Zimmerman, Mr. Leo</td><td>29.0</td><td>male</td><td>315082</td></tr><tr><td>Danbom, Mrs. Ernst Gilbert (Anna Sigrid Maria Brogren)</td><td>28.0</td><td>female</td><td>347080</td></tr><tr><td>Rosblom, Mr. Viktor Richard</td><td>18.0</td><td>male</td><td>370129</td></tr><tr><td>Clarke, Mrs. Charles V (Ada Maria Winfield)</td><td>28.0</td><td>female</td><td>2003</td></tr><tr><td>Phillips, Miss. Kate Florence (\"Mrs Kate Louise Phillips Marshall\")</td><td>19.0</td><td>female</td><td>250655</td></tr><tr><td>Pickard, Mr. Berk (Berk Trembisky)</td><td>32.0</td><td>male</td><td>SOTON/O.Q. 392078</td></tr><tr><td>Bjornstrom-Steffansson, Mr. Mauritz Hakan</td><td>28.0</td><td>male</td><td>110564</td></tr><tr><td>Louch, Mrs. Charles Alexander (Alice Adelaide Slow)</td><td>42.0</td><td>female</td><td>SC/AH 3085</td></tr><tr><td>Kallio, Mr. Nikolai Erland</td><td>17.0</td><td>male</td><td>STON/O 2. 3101274</td></tr><tr><td>Silvey, Mr. William Baird</td><td>50.0</td><td>male</td><td>13507</td></tr><tr><td>Carter, Miss. Lucile Polk</td><td>14.0</td><td>female</td><td>113760</td></tr><tr><td>Ford, Miss. Doolina Margaret \"Daisy\"</td><td>21.0</td><td>female</td><td>W./C. 6608</td></tr><tr><td>Richards, Mrs. Sidney (Emily Hocking)</td><td>24.0</td><td>female</td><td>29106</td></tr><tr><td>Fortune, Mr. Mark</td><td>64.0</td><td>male</td><td>19950</td></tr><tr><td>Kvillner, Mr. Johan Henrik Johannesson</td><td>31.0</td><td>male</td><td>C.A. 18723</td></tr><tr><td>Hart, Mrs. Benjamin (Esther Ada Bloomfield)</td><td>45.0</td><td>female</td><td>F.C.C. 13529</td></tr><tr><td>Hampe, Mr. Leon</td><td>20.0</td><td>male</td><td>345769</td></tr><tr><td>Petterson, Mr. Johan Emil</td><td>25.0</td><td>male</td><td>347076</td></tr><tr><td>Reynaldo, Ms. Encarnacion</td><td>28.0</td><td>female</td><td>230434</td></tr><tr><td>Dodge, Master. Washington</td><td>4.0</td><td>male</td><td>33638</td></tr><tr><td>Mellinger, Miss. Madeleine Violet</td><td>13.0</td><td>female</td><td>250644</td></tr><tr><td>Seward, Mr. Frederic Kimber</td><td>34.0</td><td>male</td><td>113794</td></tr><tr><td>Baclini, Miss. Marie Catherine</td><td>5.0</td><td>female</td><td>2666</td></tr><tr><td>Peuchen, Major. Arthur Godfrey</td><td>52.0</td><td>male</td><td>113786</td></tr><tr><td>West, Mr. Edwy Arthur</td><td>36.0</td><td>male</td><td>C.A. 34651</td></tr><tr><td>Foreman, Mr. Benjamin Laventall</td><td>30.0</td><td>male</td><td>113051</td></tr><tr><td>Goldenberg, Mr. Samuel L</td><td>49.0</td><td>male</td><td>17453</td></tr><tr><td>Jalsevac, Mr. Ivan</td><td>29.0</td><td>male</td><td>349240</td></tr><tr><td>Millet, Mr. Francis Davis</td><td>65.0</td><td>male</td><td>13509</td></tr><tr><td>Toomey, Miss. Ellen</td><td>50.0</td><td>female</td><td>F.C.C. 13531</td></tr><tr><td>Anderson, Mr. Harry</td><td>48.0</td><td>male</td><td>19952</td></tr><tr><td>Morley, Mr. William</td><td>34.0</td><td>male</td><td>364506</td></tr><tr><td>Gee, Mr. Arthur H</td><td>47.0</td><td>male</td><td>111320</td></tr><tr><td>Milling, Mr. Jacob Christian</td><td>48.0</td><td>male</td><td>234360</td></tr><tr><td>Goncalves, Mr. Manuel Estanslas</td><td>38.0</td><td>male</td><td>SOTON/O.Q. 3101306</td></tr><tr><td>Smart, Mr. John Montgomery</td><td>56.0</td><td>male</td><td>113792</td></tr><tr><td>Baclini, Miss. Helene Barbara</td><td>0.75</td><td>female</td><td>2666</td></tr><tr><td>Cacic, Mr. Luka</td><td>38.0</td><td>male</td><td>315089</td></tr><tr><td>West, Mrs. Edwy Arthur (Ada Mary Worth)</td><td>33.0</td><td>female</td><td>C.A. 34651</td></tr><tr><td>Jerwan, Mrs. Amin S (Marie Marthe Thuillard)</td><td>23.0</td><td>female</td><td>SC/AH Basle 541</td></tr><tr><td>Strandberg, Miss. Ida Sofia</td><td>22.0</td><td>female</td><td>7553</td></tr><tr><td>Renouf, Mr. Peter Henry</td><td>34.0</td><td>male</td><td>31027</td></tr><tr><td>Braund, Mr. Lewis Richard</td><td>29.0</td><td>male</td><td>3460</td></tr><tr><td>Karlsson, Mr. Nils August</td><td>22.0</td><td>male</td><td>350060</td></tr><tr><td>Hirvonen, Miss. Hildur E</td><td>2.0</td><td>female</td><td>3101298</td></tr><tr><td>Goodwin, Master. Harold Victor</td><td>9.0</td><td>male</td><td>CA 2144</td></tr><tr><td>Rouse, Mr. Richard Henry</td><td>50.0</td><td>male</td><td>A/5 3594</td></tr><tr><td>Turkula, Mrs. (Hedwig)</td><td>63.0</td><td>female</td><td>4134</td></tr><tr><td>Bishop, Mr. Dickinson H</td><td>25.0</td><td>male</td><td>11967</td></tr><tr><td>Hoyt, Mrs. Frederick Maxfield (Jane Anne Forby)</td><td>35.0</td><td>female</td><td>19943</td></tr><tr><td>Kent, Mr. Edward Austin</td><td>58.0</td><td>male</td><td>11771</td></tr><tr><td>Somerton, Mr. Francis William</td><td>30.0</td><td>male</td><td>A.5. 18509</td></tr><tr><td>Coutts, Master. Eden Leslie \"Neville\"</td><td>9.0</td><td>male</td><td>C.A. 37671</td></tr><tr><td>Windelov, Mr. Einar</td><td>21.0</td><td>male</td><td>SOTON/OQ 3101317</td></tr><tr><td>Molson, Mr. Harry Markland</td><td>55.0</td><td>male</td><td>113787</td></tr><tr><td>Artagaveytia, Mr. Ramon</td><td>71.0</td><td>male</td><td>PC 17609</td></tr><tr><td>Stanley, Mr. Edward Roland</td><td>21.0</td><td>male</td><td>A/4 45380</td></tr><tr><td>Eustis, Miss. Elizabeth Mussey</td><td>54.0</td><td>female</td><td>36947</td></tr><tr><td>Allison, Mrs. Hudson J C (Bessie Waldo Daniels)</td><td>25.0</td><td>female</td><td>113781</td></tr><tr><td>Svensson, Mr. Olof</td><td>24.0</td><td>male</td><td>350035</td></tr><tr><td>Calic, Mr. Petar</td><td>17.0</td><td>male</td><td>315086</td></tr><tr><td>Canavan, Miss. Mary</td><td>21.0</td><td>female</td><td>364846</td></tr><tr><td>Laitinen, Miss. Kristina Sofia</td><td>37.0</td><td>female</td><td>4135</td></tr><tr><td>Maioni, Miss. Roberta</td><td>16.0</td><td>female</td><td>110152</td></tr><tr><td>Penasco y Castellana, Mr. Victor de Satode</td><td>18.0</td><td>male</td><td>PC 17758</td></tr><tr><td>Quick, Mrs. Frederick Charles (Jane Richards)</td><td>33.0</td><td>female</td><td>26360</td></tr><tr><td>Olsen, Mr. Henry Margido</td><td>28.0</td><td>male</td><td>C 4001</td></tr><tr><td>Lang, Mr. Fang</td><td>26.0</td><td>male</td><td>1601</td></tr><tr><td>Daly, Mr. Eugene Patrick</td><td>29.0</td><td>male</td><td>382651</td></tr><tr><td>McGough, Mr. James Robert</td><td>36.0</td><td>male</td><td>PC 17473</td></tr><tr><td>Rothschild, Mrs. Martin (Elizabeth L. Barrett)</td><td>54.0</td><td>female</td><td>PC 17603</td></tr><tr><td>Coleff, Mr. Satio</td><td>24.0</td><td>male</td><td>349209</td></tr><tr><td>Walker, Mr. William Anderson</td><td>47.0</td><td>male</td><td>36967</td></tr><tr><td>Lemore, Mrs. (Amelia Milley)</td><td>34.0</td><td>female</td><td>C.A. 34260</td></tr><tr><td>Angle, Mrs. William A (Florence \"Mary\" Agnes Hughes)</td><td>36.0</td><td>female</td><td>226875</td></tr><tr><td>Pavlovic, Mr. Stefo</td><td>32.0</td><td>male</td><td>349242</td></tr><tr><td>Perreault, Miss. Anne</td><td>30.0</td><td>female</td><td>12749</td></tr><tr><td>Vovk, Mr. Janko</td><td>22.0</td><td>male</td><td>349252</td></tr><tr><td>Hippach, Mrs. Louis Albert (Ida Sophia Fischer)</td><td>44.0</td><td>female</td><td>111361</td></tr><tr><td>Farrell, Mr. James</td><td>40.5</td><td>male</td><td>367232</td></tr><tr><td>Ridsdale, Miss. Lucy</td><td>50.0</td><td>female</td><td>W./C. 14258</td></tr><tr><td>Salonen, Mr. Johan Werner</td><td>39.0</td><td>male</td><td>3101296</td></tr><tr><td>Hocking, Mr. Richard George</td><td>23.0</td><td>male</td><td>29104</td></tr><tr><td>Quick, Miss. Phyllis May</td><td>2.0</td><td>female</td><td>26360</td></tr><tr><td>Elias, Mr. Joseph Jr</td><td>17.0</td><td>male</td><td>2690</td></tr><tr><td>Cacic, Miss. Marija</td><td>30.0</td><td>female</td><td>315084</td></tr><tr><td>Hart, Miss. Eva Miriam</td><td>7.0</td><td>female</td><td>F.C.C. 13529</td></tr><tr><td>Butt, Major. Archibald Willingham</td><td>45.0</td><td>male</td><td>113050</td></tr><tr><td>LeRoy, Miss. Bertha</td><td>30.0</td><td>female</td><td>PC 17761</td></tr><tr><td>Frolicher, Miss. Hedwig Margaritha</td><td>22.0</td><td>female</td><td>13568</td></tr><tr><td>Crosby, Miss. Harriet R</td><td>36.0</td><td>female</td><td>WE/P 5735</td></tr><tr><td>Andersson, Miss. Ingeborg Constanzia</td><td>9.0</td><td>female</td><td>347082</td></tr><tr><td>Andersson, Miss. Sigrid Elisabeth</td><td>11.0</td><td>female</td><td>347082</td></tr><tr><td>Beane, Mr. Edward</td><td>32.0</td><td>male</td><td>2908</td></tr><tr><td>Douglas, Mr. Walter Donald</td><td>50.0</td><td>male</td><td>PC 17761</td></tr><tr><td>Nicholson, Mr. Arthur Ernest</td><td>64.0</td><td>male</td><td>693</td></tr><tr><td>Beane, Mrs. Edward (Ethel Clarke)</td><td>19.0</td><td>female</td><td>2908</td></tr><tr><td>Goldsmith, Mr. Frank John</td><td>33.0</td><td>male</td><td>363291</td></tr><tr><td>Davies, Master. John Morgan Jr</td><td>8.0</td><td>male</td><td>C.A. 33112</td></tr><tr><td>Thayer, Mr. John Borland Jr</td><td>17.0</td><td>male</td><td>17421</td></tr><tr><td>Sharp, Mr. Percival James R</td><td>27.0</td><td>male</td><td>244358</td></tr><tr><td>Leeni, Mr. Fahim (\"Philip Zenni\")</td><td>22.0</td><td>male</td><td>2620</td></tr><tr><td>Ohman, Miss. Velin</td><td>22.0</td><td>female</td><td>347085</td></tr><tr><td>Wright, Mr. George</td><td>62.0</td><td>male</td><td>113807</td></tr><tr><td>Duff Gordon, Lady. (Lucille Christiana Sutherland) (\"Mrs Morgan\")</td><td>48.0</td><td>female</td><td>11755</td></tr><tr><td>Taussig, Mrs. Emil (Tillie Mandelbaum)</td><td>39.0</td><td>female</td><td>110413</td></tr><tr><td>de Messemaeker, Mrs. Guillaume Joseph (Emma)</td><td>36.0</td><td>female</td><td>345572</td></tr><tr><td>Sivic, Mr. Husein</td><td>40.0</td><td>male</td><td>349251</td></tr><tr><td>Norman, Mr. Robert Douglas</td><td>28.0</td><td>male</td><td>218629</td></tr><tr><td>Davies, Mr. Alfred J</td><td>24.0</td><td>male</td><td>A/4 48871</td></tr><tr><td>Stoytcheff, Mr. Ilia</td><td>19.0</td><td>male</td><td>349205</td></tr><tr><td>Palsson, Mrs. Nils (Alma Cornelia Berglund)</td><td>29.0</td><td>female</td><td>349909</td></tr><tr><td>Jonsson, Mr. Carl</td><td>32.0</td><td>male</td><td>350417</td></tr><tr><td>Harris, Mr. George</td><td>62.0</td><td>male</td><td>S.W./PP 752</td></tr><tr><td>Appleton, Mrs. Edward Dale (Charlotte Lamson)</td><td>53.0</td><td>female</td><td>11769</td></tr><tr><td>Flynn, Mr. John Irwin (\"Irving\")</td><td>36.0</td><td>male</td><td>PC 17474</td></tr><tr><td>Rush, Mr. Alfred George John</td><td>16.0</td><td>male</td><td>A/4. 20589</td></tr><tr><td>Patchett, Mr. George</td><td>19.0</td><td>male</td><td>358585</td></tr><tr><td>Garside, Miss. Ethel</td><td>34.0</td><td>female</td><td>243880</td></tr><tr><td>Silvey, Mrs. William Baird (Alice Munger)</td><td>39.0</td><td>female</td><td>13507</td></tr><tr><td>Jussila, Mr. Eiriik</td><td>32.0</td><td>male</td><td>STON/O 2. 3101286</td></tr><tr><td>Christy, Miss. Julie Rachel</td><td>25.0</td><td>female</td><td>237789</td></tr><tr><td>Thayer, Mrs. John Borland (Marian Longstreth Morris)</td><td>39.0</td><td>female</td><td>17421</td></tr><tr><td>Downton, Mr. William James</td><td>54.0</td><td>male</td><td>28403</td></tr><tr><td>Ross, Mr. John Hugo</td><td>36.0</td><td>male</td><td>13049</td></tr><tr><td>Taussig, Miss. Ruth</td><td>18.0</td><td>female</td><td>110413</td></tr><tr><td>Jarvis, Mr. John Denzil</td><td>47.0</td><td>male</td><td>237565</td></tr><tr><td>Frolicher-Stehli, Mr. Maxmillian</td><td>60.0</td><td>male</td><td>13567</td></tr><tr><td>Gilinski, Mr. Eliezer</td><td>22.0</td><td>male</td><td>14973</td></tr><tr><td>Rintamaki, Mr. Matti</td><td>35.0</td><td>male</td><td>STON/O 2. 3101273</td></tr><tr><td>Stephenson, Mrs. Walter Bertram (Martha Eustis)</td><td>52.0</td><td>female</td><td>36947</td></tr><tr><td>Elsbury, Mr. William James</td><td>47.0</td><td>male</td><td>A/5 3902</td></tr><tr><td>Chapman, Mr. John Henry</td><td>37.0</td><td>male</td><td>SC/AH 29037</td></tr><tr><td>Van Impe, Mr. Jean Baptiste</td><td>36.0</td><td>male</td><td>345773</td></tr><tr><td>Johnson, Mr. Alfred</td><td>49.0</td><td>male</td><td>LINE</td></tr><tr><td>Duff Gordon, Sir. Cosmo Edmund (\"Mr Morgan\")</td><td>49.0</td><td>male</td><td>PC 17485</td></tr><tr><td>Jacobsohn, Mrs. Sidney Samuel (Amy Frances Christy)</td><td>24.0</td><td>female</td><td>243847</td></tr><tr><td>Torber, Mr. Ernst William</td><td>44.0</td><td>male</td><td>364511</td></tr><tr><td>Homer, Mr. Harry (\"Mr E Haven\")</td><td>35.0</td><td>male</td><td>111426</td></tr><tr><td>Lindell, Mr. Edvard Bengtsson</td><td>36.0</td><td>male</td><td>349910</td></tr><tr><td>Karaic, Mr. Milan</td><td>30.0</td><td>male</td><td>349246</td></tr><tr><td>Daniel, Mr. Robert Williams</td><td>27.0</td><td>male</td><td>113804</td></tr><tr><td>Laroche, Mrs. Joseph (Juliette Marie Louise Lafargue)</td><td>22.0</td><td>female</td><td>SC/Paris 2123</td></tr><tr><td>Shutes, Miss. Elizabeth W</td><td>40.0</td><td>female</td><td>PC 17582</td></tr><tr><td>Andersson, Mrs. Anders Johan (Alfrida Konstantia Brogren)</td><td>39.0</td><td>female</td><td>347082</td></tr><tr><td>Brocklebank, Mr. William Alfred</td><td>35.0</td><td>male</td><td>364512</td></tr><tr><td>Herman, Miss. Alice</td><td>24.0</td><td>female</td><td>220845</td></tr><tr><td>Danbom, Mr. Ernst Gilbert</td><td>34.0</td><td>male</td><td>347080</td></tr><tr><td>Lobb, Mrs. William Arthur (Cordelia K Stanlick)</td><td>26.0</td><td>female</td><td>A/5. 3336</td></tr><tr><td>Becker, Miss. Marion Louise</td><td>4.0</td><td>female</td><td>230136</td></tr><tr><td>Gavey, Mr. Lawrence</td><td>26.0</td><td>male</td><td>31028</td></tr><tr><td>Yasbeck, Mr. Antoni</td><td>27.0</td><td>male</td><td>2659</td></tr><tr><td>Kimball, Mr. Edwin Nelson Jr</td><td>42.0</td><td>male</td><td>11753</td></tr><tr><td>Nakid, Mr. Sahid</td><td>20.0</td><td>male</td><td>2653</td></tr><tr><td>Hansen, Mr. Henry Damsgaard</td><td>21.0</td><td>male</td><td>350029</td></tr><tr><td>Bowen, Mr. David John \"Dai\"</td><td>21.0</td><td>male</td><td>54636</td></tr><tr><td>Sutton, Mr. Frederick</td><td>61.0</td><td>male</td><td>36963</td></tr><tr><td>Kirkland, Rev. Charles Leonard</td><td>57.0</td><td>male</td><td>219533</td></tr><tr><td>Longley, Miss. Gretchen Fiske</td><td>21.0</td><td>female</td><td>13502</td></tr><tr><td>Bostandyeff, Mr. Guentcho</td><td>26.0</td><td>male</td><td>349224</td></tr><tr><td>Barkworth, Mr. Algernon Henry Wilson</td><td>80.0</td><td>male</td><td>27042</td></tr><tr><td>Lundahl, Mr. Johan Svensson</td><td>51.0</td><td>male</td><td>347743</td></tr><tr><td>Stahelin-Maeglin, Dr. Max</td><td>32.0</td><td>male</td><td>13214</td></tr><tr><td>Skoog, Miss. Mabel</td><td>9.0</td><td>female</td><td>347088</td></tr><tr><td>Davis, Miss. Mary</td><td>28.0</td><td>female</td><td>237668</td></tr><tr><td>Leinonen, Mr. Antti Gustaf</td><td>32.0</td><td>male</td><td>STON/O 2. 3101292</td></tr><tr><td>Collyer, Mr. Harvey</td><td>31.0</td><td>male</td><td>C.A. 31921</td></tr><tr><td>Panula, Mrs. Juha (Maria Emilia Ojala)</td><td>41.0</td><td>female</td><td>3101295</td></tr><tr><td>Jensen, Mr. Hans Peder</td><td>20.0</td><td>male</td><td>350050</td></tr><tr><td>Sagesser, Mlle. Emma</td><td>24.0</td><td>female</td><td>PC 17477</td></tr><tr><td>Skoog, Miss. Margit Elizabeth</td><td>2.0</td><td>female</td><td>347088</td></tr><tr><td>Baclini, Miss. Eugenie</td><td>0.75</td><td>female</td><td>2666</td></tr><tr><td>Harper, Mr. Henry Sleeper</td><td>48.0</td><td>male</td><td>PC 17572</td></tr><tr><td>Cor, Mr. Liudevit</td><td>19.0</td><td>male</td><td>349231</td></tr><tr><td>Simonius-Blumer, Col. Oberst Alfons</td><td>56.0</td><td>male</td><td>13213</td></tr><tr><td>Stanley, Miss. Amy Zillah Elsie</td><td>23.0</td><td>female</td><td>CA. 2314</td></tr><tr><td>Doling, Miss. Elsie</td><td>18.0</td><td>female</td><td>231919</td></tr><tr><td>Kalvik, Mr. Johannes Halvorsen</td><td>21.0</td><td>male</td><td>8475</td></tr><tr><td>Hegarty, Miss. Hanora \"Nora\"</td><td>18.0</td><td>female</td><td>365226</td></tr><tr><td>Hickman, Mr. Leonard Mark</td><td>24.0</td><td>male</td><td>S.O.C. 14879</td></tr><tr><td>Bourke, Mrs. John (Catherine)</td><td>32.0</td><td>female</td><td>364849</td></tr><tr><td>Eitemiller, Mr. George Floyd</td><td>23.0</td><td>male</td><td>29751</td></tr><tr><td>Newell, Mr. Arthur Webster</td><td>58.0</td><td>male</td><td>35273</td></tr><tr><td>Frauenthal, Dr. Henry William</td><td>50.0</td><td>male</td><td>PC 17611</td></tr><tr><td>Badt, Mr. Mohamed</td><td>40.0</td><td>male</td><td>2623</td></tr><tr><td>Colley, Mr. Edward Pomeroy</td><td>47.0</td><td>male</td><td>5727</td></tr><tr><td>Coleff, Mr. Peju</td><td>36.0</td><td>male</td><td>349210</td></tr><tr><td>Lindqvist, Mr. Eino William</td><td>20.0</td><td>male</td><td>STON/O 2. 3101285</td></tr><tr><td>Hickman, Mr. Lewis</td><td>32.0</td><td>male</td><td>S.O.C. 14879</td></tr><tr><td>Butler, Mr. Reginald Fenton</td><td>25.0</td><td>male</td><td>234686</td></tr><tr><td>Cook, Mr. Jacob</td><td>43.0</td><td>male</td><td>A/5 3536</td></tr><tr><td>Brown, Mrs. Thomas William Solomon (Elizabeth Catherine Ford)</td><td>40.0</td><td>female</td><td>29750</td></tr><tr><td>Davidson, Mr. Thornton</td><td>31.0</td><td>male</td><td>F.C. 12750</td></tr><tr><td>Mitchell, Mr. Henry Michael</td><td>70.0</td><td>male</td><td>C.A. 24580</td></tr><tr><td>Wilhelms, Mr. Charles</td><td>31.0</td><td>male</td><td>244270</td></tr><tr><td>Edvardsson, Mr. Gustaf Hjalmar</td><td>18.0</td><td>male</td><td>349912</td></tr><tr><td>Sawyer, Mr. Frederick Charles</td><td>24.5</td><td>male</td><td>342826</td></tr><tr><td>Turja, Miss. Anna Sofia</td><td>18.0</td><td>female</td><td>4138</td></tr><tr><td>Goodwin, Mrs. Frederick (Augusta Tyler)</td><td>43.0</td><td>female</td><td>CA 2144</td></tr><tr><td>Cardeza, Mr. Thomas Drake Martinez</td><td>36.0</td><td>male</td><td>PC 17755</td></tr><tr><td>Hassab, Mr. Hammad</td><td>27.0</td><td>male</td><td>PC 17572</td></tr><tr><td>Olsvigen, Mr. Thor Anderson</td><td>20.0</td><td>male</td><td>6563</td></tr><tr><td>Goodwin, Mr. Charles Edward</td><td>14.0</td><td>male</td><td>CA 2144</td></tr><tr><td>Brown, Mr. Thomas William Solomon</td><td>60.0</td><td>male</td><td>29750</td></tr><tr><td>Laroche, Mr. Joseph Philippe Lemercier</td><td>25.0</td><td>male</td><td>SC/Paris 2123</td></tr><tr><td>Panula, Mr. Jaako Arnold</td><td>14.0</td><td>male</td><td>3101295</td></tr><tr><td>Dakic, Mr. Branko</td><td>19.0</td><td>male</td><td>349228</td></tr><tr><td>Fischer, Mr. Eberhard Thelander</td><td>18.0</td><td>male</td><td>350036</td></tr><tr><td>Madill, Miss. Georgette Alexandra</td><td>15.0</td><td>female</td><td>24160</td></tr><tr><td>Dick, Mr. Albert Adrian</td><td>31.0</td><td>male</td><td>17474</td></tr><tr><td>Karun, Miss. Manca</td><td>4.0</td><td>female</td><td>349256</td></tr><tr><td>Saad, Mr. Khalil</td><td>25.0</td><td>male</td><td>2672</td></tr><tr><td>Weir, Col. John</td><td>60.0</td><td>male</td><td>113800</td></tr><tr><td>Chapman, Mr. Charles Henry</td><td>52.0</td><td>male</td><td>248731</td></tr><tr><td>Kelly, Mr. James</td><td>44.0</td><td>male</td><td>363592</td></tr><tr><td>Thayer, Mr. John Borland</td><td>49.0</td><td>male</td><td>17421</td></tr><tr><td>Humblen, Mr. Adolf Mathias Nicolai Olsen</td><td>42.0</td><td>male</td><td>348121</td></tr><tr><td>Astor, Mrs. John Jacob (Madeleine Talmadge Force)</td><td>18.0</td><td>female</td><td>PC 17757</td></tr><tr><td>Silverthorne, Mr. Spencer Victor</td><td>35.0</td><td>male</td><td>PC 17475</td></tr><tr><td>Barbara, Miss. Saiide</td><td>18.0</td><td>female</td><td>2691</td></tr><tr><td>Gallagher, Mr. Martin</td><td>25.0</td><td>male</td><td>36864</td></tr><tr><td>Hansen, Mr. Henrik Juul</td><td>26.0</td><td>male</td><td>350025</td></tr><tr><td>Morley, Mr. Henry Samuel (\"Mr Henry Marshall\")</td><td>39.0</td><td>male</td><td>250655</td></tr><tr><td>Kelly, Mrs. Florence \"Fannie\"</td><td>45.0</td><td>female</td><td>223596</td></tr><tr><td>Calderhead, Mr. Edward Pennington</td><td>42.0</td><td>male</td><td>PC 17476</td></tr><tr><td>Cleaver, Miss. Alice</td><td>22.0</td><td>female</td><td>113781</td></tr><tr><td>Mayne, Mlle. Berthe Antonine (\"Mrs de Villiers\")</td><td>24.0</td><td>female</td><td>PC 17482</td></tr><tr><td>Taylor, Mr. Elmer Zebley</td><td>48.0</td><td>male</td><td>19996</td></tr><tr><td>Larsson, Mr. August Viktor</td><td>29.0</td><td>male</td><td>7545</td></tr><tr><td>Greenberg, Mr. Samuel</td><td>52.0</td><td>male</td><td>250647</td></tr><tr><td>Soholt, Mr. Peter Andreas Lauritz Andersen</td><td>19.0</td><td>male</td><td>348124</td></tr><tr><td>Endres, Miss. Caroline Louise</td><td>38.0</td><td>female</td><td>PC 17757</td></tr><tr><td>Troutt, Miss. Edwina Celia \"Winnie\"</td><td>27.0</td><td>female</td><td>34218</td></tr><tr><td>Johnson, Mr. Malkolm Joackim</td><td>33.0</td><td>male</td><td>347062</td></tr><tr><td>Harper, Miss. Annie Jessie \"Nina\"</td><td>6.0</td><td>female</td><td>248727</td></tr><tr><td>Jensen, Mr. Svend Lauritz</td><td>17.0</td><td>male</td><td>350048</td></tr><tr><td>Gillespie, Mr. William Henry</td><td>34.0</td><td>male</td><td>12233</td></tr><tr><td>Hodges, Mr. Henry Price</td><td>50.0</td><td>male</td><td>250643</td></tr><tr><td>Chambers, Mr. Norman Campbell</td><td>27.0</td><td>male</td><td>113806</td></tr><tr><td>Oreskovic, Mr. Luka</td><td>20.0</td><td>male</td><td>315094</td></tr><tr><td>Renouf, Mrs. Peter Henry (Lillian Jefferys)</td><td>30.0</td><td>female</td><td>31027</td></tr><tr><td>Bryhl, Mr. Kurt Arnold Gottfrid</td><td>25.0</td><td>male</td><td>236853</td></tr><tr><td>Ilmakangas, Miss. Pieta Sofia</td><td>25.0</td><td>female</td><td>STON/O2. 3101271</td></tr><tr><td>Allen, Miss. Elisabeth Walton</td><td>29.0</td><td>female</td><td>24160</td></tr><tr><td>Hassan, Mr. Houssein G N</td><td>11.0</td><td>male</td><td>2699</td></tr><tr><td>Berriman, Mr. William John</td><td>23.0</td><td>male</td><td>28425</td></tr><tr><td>Troupiansky, Mr. Moses Aaron</td><td>23.0</td><td>male</td><td>233639</td></tr><tr><td>Williams, Mr. Leslie</td><td>28.5</td><td>male</td><td>54636</td></tr><tr><td>Ford, Mrs. Edward (Margaret Ann Watson)</td><td>48.0</td><td>female</td><td>W./C. 6608</td></tr><tr><td>Lesurer, Mr. Gustave J</td><td>35.0</td><td>male</td><td>PC 17755</td></tr><tr><td>Cavendish, Mr. Tyrell William</td><td>36.0</td><td>male</td><td>19877</td></tr><tr><td>Ryerson, Miss. Susan Parker \"Suzette\"</td><td>21.0</td><td>female</td><td>PC 17608</td></tr><tr><td>McNamee, Mr. Neal</td><td>24.0</td><td>male</td><td>376566</td></tr><tr><td>Stranden, Mr. Juho</td><td>31.0</td><td>male</td><td>STON/O 2. 3101288</td></tr><tr><td>Crosby, Capt. Edward Gifford</td><td>70.0</td><td>male</td><td>WE/P 5735</td></tr><tr><td>Abbott, Mr. Rossmore Edward</td><td>16.0</td><td>male</td><td>C.A. 2673</td></tr><tr><td>Sinkkonen, Miss. Anna</td><td>30.0</td><td>female</td><td>250648</td></tr><tr><td>Marvin, Mr. Daniel Warner</td><td>19.0</td><td>male</td><td>113773</td></tr><tr><td>Connaghton, Mr. Michael</td><td>31.0</td><td>male</td><td>335097</td></tr><tr><td>Wells, Miss. Joan</td><td>4.0</td><td>female</td><td>29103</td></tr><tr><td>Moor, Master. Meier</td><td>6.0</td><td>male</td><td>392096</td></tr><tr><td>Vande Velde, Mr. Johannes Joseph</td><td>33.0</td><td>male</td><td>345780</td></tr><tr><td>Jonkoff, Mr. Lalio</td><td>23.0</td><td>male</td><td>349204</td></tr><tr><td>Herman, Mrs. Samuel (Jane Laver)</td><td>48.0</td><td>female</td><td>220845</td></tr><tr><td>Hamalainen, Master. Viljo</td><td>0.67</td><td>male</td><td>250649</td></tr><tr><td>Carlsson, Mr. August Sigfrid</td><td>28.0</td><td>male</td><td>350042</td></tr><tr><td>Bailey, Mr. Percy Andrew</td><td>18.0</td><td>male</td><td>29108</td></tr><tr><td>Theobald, Mr. Thomas Leonard</td><td>34.0</td><td>male</td><td>363294</td></tr><tr><td>Rothes, the Countess. of (Lucy Noel Martha Dyer-Edwards)</td><td>33.0</td><td>female</td><td>110152</td></tr><tr><td>Nirva, Mr. Iisakki Antino Aijo</td><td>41.0</td><td>male</td><td>SOTON/O2 3101272</td></tr><tr><td>Barah, Mr. Hanna Assi</td><td>20.0</td><td>male</td><td>2663</td></tr><tr><td>Carter, Mrs. William Ernest (Lucile Polk)</td><td>36.0</td><td>female</td><td>113760</td></tr><tr><td>Eklund, Mr. Hans Linus</td><td>16.0</td><td>male</td><td>347074</td></tr><tr><td>Hogeboom, Mrs. John C (Anna Andrews)</td><td>51.0</td><td>female</td><td>13502</td></tr><tr><td>Mangan, Miss. Mary</td><td>30.5</td><td>female</td><td>364850</td></tr><tr><td>Gronnestad, Mr. Daniel Danielsen</td><td>32.0</td><td>male</td><td>8471</td></tr><tr><td>Lievens, Mr. Rene Aime</td><td>24.0</td><td>male</td><td>345781</td></tr><tr><td>Jensen, Mr. Niels Peder</td><td>48.0</td><td>male</td><td>350047</td></tr><tr><td>Mack, Mrs. (Mary)</td><td>57.0</td><td>female</td><td>S.O./P.P. 3</td></tr><tr><td>Hocking, Mrs. Elizabeth (Eliza Needs)</td><td>54.0</td><td>female</td><td>29105</td></tr><tr><td>Myhrman, Mr. Pehr Fabian Oliver Malkolm</td><td>18.0</td><td>male</td><td>347078</td></tr><tr><td>Emanuel, Miss. Virginia Ethel</td><td>5.0</td><td>female</td><td>364516</td></tr><tr><td>Robert, Mrs. Edward Scott (Elisabeth Walton McMillan)</td><td>43.0</td><td>female</td><td>24160</td></tr><tr><td>Ayoub, Miss. Banoura</td><td>13.0</td><td>female</td><td>2687</td></tr><tr><td>Dick, Mrs. Albert Adrian (Vera Gillespie)</td><td>17.0</td><td>female</td><td>17474</td></tr><tr><td>Long, Mr. Milton Clyde</td><td>29.0</td><td>male</td><td>113501</td></tr><tr><td>Ali, Mr. William</td><td>25.0</td><td>male</td><td>SOTON/O.Q. 3101312</td></tr><tr><td>Harmer, Mr. Abraham (David Lishin)</td><td>25.0</td><td>male</td><td>374887</td></tr><tr><td>Sjoblom, Miss. Anna Sofia</td><td>18.0</td><td>female</td><td>3101265</td></tr><tr><td>Rice, Master. George Hugh</td><td>8.0</td><td>male</td><td>382652</td></tr><tr><td>Dean, Master. Bertram Vere</td><td>1.0</td><td>male</td><td>C.A. 2315</td></tr><tr><td>Guggenheim, Mr. Benjamin</td><td>46.0</td><td>male</td><td>PC 17593</td></tr><tr><td>Gaskell, Mr. Alfred</td><td>16.0</td><td>male</td><td>239865</td></tr><tr><td>Dantcheff, Mr. Ristiu</td><td>25.0</td><td>male</td><td>349203</td></tr><tr><td>Otter, Mr. Richard</td><td>39.0</td><td>male</td><td>28213</td></tr><tr><td>Leader, Dr. Alice (Farnham)</td><td>49.0</td><td>female</td><td>17465</td></tr><tr><td>Osman, Mrs. Mara</td><td>31.0</td><td>female</td><td>349244</td></tr><tr><td>Ibrahim Shawah, Mr. Yousseff</td><td>30.0</td><td>male</td><td>2685</td></tr><tr><td>Van Impe, Mrs. Jean Baptiste (Rosalie Paula Govaert)</td><td>30.0</td><td>female</td><td>345773</td></tr><tr><td>Ponesell, Mr. Martin</td><td>34.0</td><td>male</td><td>250647</td></tr><tr><td>Collyer, Mrs. Harvey (Charlotte Annie Tate)</td><td>31.0</td><td>female</td><td>C.A. 31921</td></tr><tr><td>Carter, Master. William Thornton II</td><td>11.0</td><td>male</td><td>113760</td></tr><tr><td>Thomas, Master. Assad Alexander</td><td>0.42</td><td>male</td><td>2625</td></tr><tr><td>Hedman, Mr. Oskar Arvid</td><td>27.0</td><td>male</td><td>347089</td></tr><tr><td>Johansson, Mr. Karl Johan</td><td>31.0</td><td>male</td><td>347063</td></tr><tr><td>Andrews, Mr. Thomas Jr</td><td>39.0</td><td>male</td><td>112050</td></tr><tr><td>Pettersson, Miss. Ellen Natalia</td><td>18.0</td><td>female</td><td>347087</td></tr><tr><td>Meyer, Mr. August</td><td>39.0</td><td>male</td><td>248723</td></tr><tr><td>Chambers, Mrs. Norman Campbell (Bertha Griggs)</td><td>33.0</td><td>female</td><td>113806</td></tr><tr><td>Alexander, Mr. William</td><td>26.0</td><td>male</td><td>3474</td></tr><tr><td>Lester, Mr. James</td><td>39.0</td><td>male</td><td>A/4 48871</td></tr><tr><td>Slemen, Mr. Richard James</td><td>35.0</td><td>male</td><td>28206</td></tr><tr><td>Andersson, Miss. Ebba Iris Alfrida</td><td>6.0</td><td>female</td><td>347082</td></tr><tr><td>Tomlin, Mr. Ernest Portage</td><td>30.5</td><td>male</td><td>364499</td></tr><tr><td>Heininen, Miss. Wendla Maria</td><td>23.0</td><td>female</td><td>STON/O2. 3101290</td></tr><tr><td>Mallet, Mr. Albert</td><td>31.0</td><td>male</td><td>S.C./PARIS 2079</td></tr><tr><td>Holm, Mr. John Fredrik Alexander</td><td>43.0</td><td>male</td><td>C 7075</td></tr><tr><td>Skoog, Master. Karl Thorsten</td><td>10.0</td><td>male</td><td>347088</td></tr><tr><td>Hays, Mrs. Charles Melville (Clara Jennings Gregg)</td><td>52.0</td><td>female</td><td>12749</td></tr><tr><td>Lulic, Mr. Nikola</td><td>27.0</td><td>male</td><td>315098</td></tr><tr><td>Reuchlin, Jonkheer. John George</td><td>38.0</td><td>male</td><td>19972</td></tr><tr><td>Moor, Mrs. (Beila)</td><td>27.0</td><td>female</td><td>392096</td></tr><tr><td>Panula, Master. Urho Abraham</td><td>2.0</td><td>male</td><td>3101295</td></tr><tr><td>Mallet, Master. Andre</td><td>1.0</td><td>male</td><td>S.C./PARIS 2079</td></tr><tr><td>Stone, Mrs. George Nelson (Martha Evelyn)</td><td>62.0</td><td>female</td><td>113572</td></tr><tr><td>Yasbeck, Mrs. Antoni (Selini Alexander)</td><td>15.0</td><td>female</td><td>2659</td></tr><tr><td>Richards, Master. George Sibley</td><td>0.83</td><td>male</td><td>29106</td></tr><tr><td>Augustsson, Mr. Albert</td><td>23.0</td><td>male</td><td>347468</td></tr><tr><td>Allum, Mr. Owen George</td><td>18.0</td><td>male</td><td>2223</td></tr><tr><td>Compton, Miss. Sara Rebecca</td><td>39.0</td><td>female</td><td>PC 17756</td></tr><tr><td>Pasic, Mr. Jakob</td><td>21.0</td><td>male</td><td>315097</td></tr><tr><td>Chip, Mr. Chang</td><td>32.0</td><td>male</td><td>1601</td></tr><tr><td>Alhomaki, Mr. Ilmari Rudolf</td><td>20.0</td><td>male</td><td>SOTON/O2 3101287</td></tr><tr><td>Mudd, Mr. Thomas Charles</td><td>16.0</td><td>male</td><td>S.O./P.P. 3</td></tr><tr><td>Serepeca, Miss. Augusta</td><td>30.0</td><td>female</td><td>113798</td></tr><tr><td>Lemberopolous, Mr. Peter L</td><td>34.5</td><td>male</td><td>2683</td></tr><tr><td>Culumovic, Mr. Jeso</td><td>17.0</td><td>male</td><td>315090</td></tr><tr><td>Abbing, Mr. Anthony</td><td>42.0</td><td>male</td><td>C.A. 5547</td></tr><tr><td>Markoff, Mr. Marin</td><td>35.0</td><td>male</td><td>349213</td></tr><tr><td>Harper, Rev. John</td><td>28.0</td><td>male</td><td>248727</td></tr><tr><td>Andersson, Master. Sigvard Harald Elias</td><td>4.0</td><td>male</td><td>347082</td></tr><tr><td>Svensson, Mr. Johan</td><td>74.0</td><td>male</td><td>347060</td></tr><tr><td>Boulos, Miss. Nourelain</td><td>9.0</td><td>female</td><td>2678</td></tr><tr><td>Lines, Miss. Mary Conover</td><td>16.0</td><td>female</td><td>PC 17592</td></tr><tr><td>Carter, Mrs. Ernest Courtenay (Lilian Hughes)</td><td>44.0</td><td>female</td><td>244252</td></tr><tr><td>Aks, Mrs. Sam (Leah Rosen)</td><td>18.0</td><td>female</td><td>392091</td></tr><tr><td>Wick, Mrs. George Dennick (Mary Hitchcock)</td><td>45.0</td><td>female</td><td>36928</td></tr><tr><td>Daly, Mr. Peter Denis </td><td>51.0</td><td>male</td><td>113055</td></tr><tr><td>Baclini, Mrs. Solomon (Latifa Qurban)</td><td>24.0</td><td>female</td><td>2666</td></tr><tr><td>Hansen, Mr. Claus Peter</td><td>41.0</td><td>male</td><td>350026</td></tr><tr><td>Giles, Mr. Frederick Edward</td><td>21.0</td><td>male</td><td>28134</td></tr><tr><td>Swift, Mrs. Frederick Joel (Margaret Welles Barron)</td><td>48.0</td><td>female</td><td>17466</td></tr><tr><td>Gill, Mr. John William</td><td>24.0</td><td>male</td><td>233866</td></tr><tr><td>Bystrom, Mrs. (Karolina)</td><td>42.0</td><td>female</td><td>236852</td></tr><tr><td>Duran y More, Miss. Asuncion</td><td>27.0</td><td>female</td><td>SC/PARIS 2149</td></tr><tr><td>Roebling, Mr. Washington Augustus II</td><td>31.0</td><td>male</td><td>PC 17590</td></tr><tr><td>Johnson, Master. Harold Theodor</td><td>4.0</td><td>male</td><td>347742</td></tr><tr><td>Balkic, Mr. Cerin</td><td>26.0</td><td>male</td><td>349248</td></tr><tr><td>Beckwith, Mrs. Richard Leonard (Sallie Monypeny)</td><td>47.0</td><td>female</td><td>11751</td></tr><tr><td>Carlsson, Mr. Frans Olof</td><td>33.0</td><td>male</td><td>695</td></tr><tr><td>Vander Cruyssen, Mr. Victor</td><td>47.0</td><td>male</td><td>345765</td></tr><tr><td>Abelson, Mrs. Samuel (Hannah Wizosky)</td><td>28.0</td><td>female</td><td>P/PP 3381</td></tr><tr><td>Najib, Miss. Adele Kiamie \"Jane\"</td><td>15.0</td><td>female</td><td>2667</td></tr><tr><td>Gustafsson, Mr. Alfred Ossian</td><td>20.0</td><td>male</td><td>7534</td></tr><tr><td>Petroff, Mr. Nedelio</td><td>19.0</td><td>male</td><td>349212</td></tr><tr><td>Potter, Mrs. Thomas Jr (Lily Alexenia Wilson)</td><td>56.0</td><td>female</td><td>11767</td></tr><tr><td>Shelley, Mrs. William (Imanita Parrish Hall)</td><td>25.0</td><td>female</td><td>230433</td></tr><tr><td>Markun, Mr. Johann</td><td>33.0</td><td>male</td><td>349257</td></tr><tr><td>Dahlberg, Miss. Gerda Ulrika</td><td>22.0</td><td>female</td><td>7552</td></tr><tr><td>Banfield, Mr. Frederick James</td><td>28.0</td><td>male</td><td>C.A./SOTON 34068</td></tr><tr><td>Sutehall, Mr. Henry Jr</td><td>25.0</td><td>male</td><td>SOTON/OQ 392076</td></tr><tr><td>Rice, Mrs. William (Margaret Norton)</td><td>39.0</td><td>female</td><td>382652</td></tr><tr><td>Montvila, Rev. Juozas</td><td>27.0</td><td>male</td><td>211536</td></tr><tr><td>Graham, Miss. Margaret Edith</td><td>19.0</td><td>female</td><td>112053</td></tr><tr><td>Behr, Mr. Karl Howell</td><td>26.0</td><td>male</td><td>111369</td></tr><tr><td>Dooley, Mr. Patrick</td><td>32.0</td><td>male</td><td>370376</td></tr></tbody></table></div>"
      ]
     },
     "metadata": {
      "application/vnd.databricks.v1+output": {
       "addedWidgets": {},
       "aggData": [],
       "aggError": "",
       "aggOverflow": false,
       "aggSchema": [],
       "aggSeriesLimitReached": false,
       "aggType": "",
       "arguments": {},
       "columnCustomDisplayInfos": {},
       "data": [
        [
         "Braund, Mr. Owen Harris",
         22.0,
         "male",
         "A/5 21171"
        ],
        [
         "Cumings, Mrs. John Bradley (Florence Briggs Thayer)",
         38.0,
         "female",
         "PC 17599"
        ],
        [
         "Heikkinen, Miss. Laina",
         26.0,
         "female",
         "STON/O2. 3101282"
        ],
        [
         "Futrelle, Mrs. Jacques Heath (Lily May Peel)",
         35.0,
         "female",
         "113803"
        ],
        [
         "Allen, Mr. William Henry",
         35.0,
         "male",
         "373450"
        ],
        [
         "McCarthy, Mr. Timothy J",
         54.0,
         "male",
         "17463"
        ],
        [
         "Palsson, Master. Gosta Leonard",
         2.0,
         "male",
         "349909"
        ],
        [
         "Johnson, Mrs. Oscar W (Elisabeth Vilhelmina Berg)",
         27.0,
         "female",
         "347742"
        ],
        [
         "Nasser, Mrs. Nicholas (Adele Achem)",
         14.0,
         "female",
         "237736"
        ],
        [
         "Sandstrom, Miss. Marguerite Rut",
         4.0,
         "female",
         "PP 9549"
        ],
        [
         "Bonnell, Miss. Elizabeth",
         58.0,
         "female",
         "113783"
        ],
        [
         "Saundercock, Mr. William Henry",
         20.0,
         "male",
         "A/5. 2151"
        ],
        [
         "Andersson, Mr. Anders Johan",
         39.0,
         "male",
         "347082"
        ],
        [
         "Vestrom, Miss. Hulda Amanda Adolfina",
         14.0,
         "female",
         "350406"
        ],
        [
         "Hewlett, Mrs. (Mary D Kingcome) ",
         55.0,
         "female",
         "248706"
        ],
        [
         "Rice, Master. Eugene",
         2.0,
         "male",
         "382652"
        ],
        [
         "Vander Planke, Mrs. Julius (Emelia Maria Vandemoortele)",
         31.0,
         "female",
         "345763"
        ],
        [
         "Fynney, Mr. Joseph J",
         35.0,
         "male",
         "239865"
        ],
        [
         "Beesley, Mr. Lawrence",
         34.0,
         "male",
         "248698"
        ],
        [
         "McGowan, Miss. Anna \"Annie\"",
         15.0,
         "female",
         "330923"
        ],
        [
         "Sloper, Mr. William Thompson",
         28.0,
         "male",
         "113788"
        ],
        [
         "Palsson, Miss. Torborg Danira",
         8.0,
         "female",
         "349909"
        ],
        [
         "Asplund, Mrs. Carl Oscar (Selma Augusta Emilia Johansson)",
         38.0,
         "female",
         "347077"
        ],
        [
         "Fortune, Mr. Charles Alexander",
         19.0,
         "male",
         "19950"
        ],
        [
         "Uruchurtu, Don. Manuel E",
         40.0,
         "male",
         "PC 17601"
        ],
        [
         "Wheadon, Mr. Edward H",
         66.0,
         "male",
         "C.A. 24579"
        ],
        [
         "Meyer, Mr. Edgar Joseph",
         28.0,
         "male",
         "PC 17604"
        ],
        [
         "Holverson, Mr. Alexander Oskar",
         42.0,
         "male",
         "113789"
        ],
        [
         "Cann, Mr. Ernest Charles",
         21.0,
         "male",
         "A./5. 2152"
        ],
        [
         "Vander Planke, Miss. Augusta Maria",
         18.0,
         "female",
         "345764"
        ],
        [
         "Nicola-Yarred, Miss. Jamila",
         14.0,
         "female",
         "2651"
        ],
        [
         "Ahlin, Mrs. Johan (Johanna Persdotter Larsson)",
         40.0,
         "female",
         "7546"
        ],
        [
         "Turpin, Mrs. William John Robert (Dorothy Ann Wonnacott)",
         27.0,
         "female",
         "11668"
        ],
        [
         "Laroche, Miss. Simonne Marie Anne Andree",
         3.0,
         "female",
         "SC/Paris 2123"
        ],
        [
         "Devaney, Miss. Margaret Delia",
         19.0,
         "female",
         "330958"
        ],
        [
         "Arnold-Franchi, Mrs. Josef (Josefine Franchi)",
         18.0,
         "female",
         "349237"
        ],
        [
         "Panula, Master. Juha Niilo",
         7.0,
         "male",
         "3101295"
        ],
        [
         "Nosworthy, Mr. Richard Cater",
         21.0,
         "male",
         "A/4. 39886"
        ],
        [
         "Harper, Mrs. Henry Sleeper (Myna Haxtun)",
         49.0,
         "female",
         "PC 17572"
        ],
        [
         "Faunthorpe, Mrs. Lizzie (Elizabeth Anne Wilkinson)",
         29.0,
         "female",
         "2926"
        ],
        [
         "Ostby, Mr. Engelhart Cornelius",
         65.0,
         "male",
         "113509"
        ],
        [
         "Rugg, Miss. Emily",
         21.0,
         "female",
         "C.A. 31026"
        ],
        [
         "Novel, Mr. Mansouer",
         28.5,
         "male",
         "2697"
        ],
        [
         "West, Miss. Constance Mirium",
         5.0,
         "female",
         "C.A. 34651"
        ],
        [
         "Goodwin, Master. William Frederick",
         11.0,
         "male",
         "CA 2144"
        ],
        [
         "Sirayanian, Mr. Orsen",
         22.0,
         "male",
         "2669"
        ],
        [
         "Icard, Miss. Amelie",
         38.0,
         "female",
         "113572"
        ],
        [
         "Harris, Mr. Henry Birkhardt",
         45.0,
         "male",
         "36973"
        ],
        [
         "Skoog, Master. Harald",
         4.0,
         "male",
         "347088"
        ],
        [
         "Nye, Mrs. (Elizabeth Ramell)",
         29.0,
         "female",
         "C.A. 29395"
        ],
        [
         "Crease, Mr. Ernest James",
         19.0,
         "male",
         "S.P. 3464"
        ],
        [
         "Andersson, Miss. Erna Alexandra",
         17.0,
         "female",
         "3101281"
        ],
        [
         "Kink, Mr. Vincenz",
         26.0,
         "male",
         "315151"
        ],
        [
         "Jenkin, Mr. Stephen Curnow",
         32.0,
         "male",
         "C.A. 33111"
        ],
        [
         "Goodwin, Miss. Lillian Amy",
         16.0,
         "female",
         "CA 2144"
        ],
        [
         "Hood, Mr. Ambrose Jr",
         21.0,
         "male",
         "S.O.C. 14879"
        ],
        [
         "Chronopoulos, Mr. Apostolos",
         26.0,
         "male",
         "2680"
        ],
        [
         "Bing, Mr. Lee",
         32.0,
         "male",
         "1601"
        ],
        [
         "Moen, Mr. Sigurd Hansen",
         25.0,
         "male",
         "348123"
        ],
        [
         "Caldwell, Master. Alden Gates",
         0.83,
         "male",
         "248738"
        ],
        [
         "Dowdell, Miss. Elizabeth",
         30.0,
         "female",
         "364516"
        ],
        [
         "Waelens, Mr. Achille",
         22.0,
         "male",
         "345767"
        ],
        [
         "Sheerlinck, Mr. Jan Baptist",
         29.0,
         "male",
         "345779"
        ],
        [
         "Carrau, Mr. Francisco M",
         28.0,
         "male",
         "113059"
        ],
        [
         "Ilett, Miss. Bertha",
         17.0,
         "female",
         "SO/C 14885"
        ],
        [
         "Backstrom, Mrs. Karl Alfred (Maria Mathilda Gustafsson)",
         33.0,
         "female",
         "3101278"
        ],
        [
         "Ford, Mr. William Neal",
         16.0,
         "male",
         "W./C. 6608"
        ],
        [
         "Fortune, Miss. Mabel Helen",
         23.0,
         "female",
         "19950"
        ],
        [
         "Celotti, Mr. Francesco",
         24.0,
         "male",
         "343275"
        ],
        [
         "Christmann, Mr. Emil",
         29.0,
         "male",
         "343276"
        ],
        [
         "Andreasson, Mr. Paul Edvin",
         20.0,
         "male",
         "347466"
        ],
        [
         "Chaffee, Mr. Herbert Fuller",
         46.0,
         "male",
         "W.E.P. 5734"
        ],
        [
         "Dean, Mr. Bertram Frank",
         26.0,
         "male",
         "C.A. 2315"
        ],
        [
         "Coxon, Mr. Daniel",
         59.0,
         "male",
         "364500"
        ],
        [
         "Goldschmidt, Mr. George B",
         71.0,
         "male",
         "PC 17754"
        ],
        [
         "Greenfield, Mr. William Bertram",
         23.0,
         "male",
         "PC 17759"
        ],
        [
         "Doling, Mrs. John T (Ada Julia Bone)",
         34.0,
         "female",
         "231919"
        ],
        [
         "Kantor, Mr. Sinai",
         34.0,
         "male",
         "244367"
        ],
        [
         "Petranec, Miss. Matilda",
         28.0,
         "female",
         "349245"
        ],
        [
         "White, Mr. Richard Frasar",
         21.0,
         "male",
         "35281"
        ],
        [
         "Johansson, Mr. Gustaf Joel",
         33.0,
         "male",
         "7540"
        ],
        [
         "Gustafsson, Mr. Anders Vilhelm",
         37.0,
         "male",
         "3101276"
        ],
        [
         "Mionoff, Mr. Stoytcho",
         28.0,
         "male",
         "349207"
        ],
        [
         "Salkjelsvik, Miss. Anna Kristine",
         21.0,
         "female",
         "343120"
        ],
        [
         "Rekic, Mr. Tido",
         38.0,
         "male",
         "349249"
        ],
        [
         "Porter, Mr. Walter Chamberlain",
         47.0,
         "male",
         "110465"
        ],
        [
         "Zabour, Miss. Hileni",
         14.5,
         "female",
         "2665"
        ],
        [
         "Barton, Mr. David John",
         22.0,
         "male",
         "324669"
        ],
        [
         "Jussila, Miss. Katriina",
         20.0,
         "female",
         "4136"
        ],
        [
         "Attalah, Miss. Malake",
         17.0,
         "female",
         "2627"
        ],
        [
         "Pekoniemi, Mr. Edvard",
         21.0,
         "male",
         "STON/O 2. 3101294"
        ],
        [
         "Connors, Mr. Patrick",
         70.5,
         "male",
         "370369"
        ],
        [
         "Turpin, Mr. William John Robert",
         29.0,
         "male",
         "11668"
        ],
        [
         "Baxter, Mr. Quigg Edmond",
         24.0,
         "male",
         "PC 17558"
        ],
        [
         "Andersson, Miss. Ellis Anna Maria",
         2.0,
         "female",
         "347082"
        ],
        [
         "Hickman, Mr. Stanley George",
         21.0,
         "male",
         "S.O.C. 14879"
        ],
        [
         "Nasser, Mr. Nicholas",
         32.5,
         "male",
         "237736"
        ],
        [
         "Webber, Miss. Susan",
         32.5,
         "female",
         "27267"
        ],
        [
         "White, Mr. Percival Wayland",
         54.0,
         "male",
         "35281"
        ],
        [
         "Nicola-Yarred, Master. Elias",
         12.0,
         "male",
         "2651"
        ],
        [
         "Madsen, Mr. Fridtjof Arne",
         24.0,
         "male",
         "C 17369"
        ],
        [
         "Ekstrom, Mr. Johan",
         45.0,
         "male",
         "347061"
        ],
        [
         "Drazenoic, Mr. Jozef",
         33.0,
         "male",
         "349241"
        ],
        [
         "Coelho, Mr. Domingos Fernandeo",
         20.0,
         "male",
         "SOTON/O.Q. 3101307"
        ],
        [
         "Robins, Mrs. Alexander A (Grace Charity Laury)",
         47.0,
         "female",
         "A/5. 3337"
        ],
        [
         "Weisz, Mrs. Leopold (Mathilde Francoise Pede)",
         29.0,
         "female",
         "228414"
        ],
        [
         "Sobey, Mr. Samuel James Hayden",
         25.0,
         "male",
         "C.A. 29178"
        ],
        [
         "Richard, Mr. Emile",
         23.0,
         "male",
         "SC/PARIS 2133"
        ],
        [
         "Newsom, Miss. Helen Monypeny",
         19.0,
         "female",
         "11752"
        ],
        [
         "Futrelle, Mr. Jacques Heath",
         37.0,
         "male",
         "113803"
        ],
        [
         "Osen, Mr. Olaf Elon",
         16.0,
         "male",
         "7534"
        ],
        [
         "Giglio, Mr. Victor",
         24.0,
         "male",
         "PC 17593"
        ],
        [
         "Nysten, Miss. Anna Sofia",
         22.0,
         "female",
         "347081"
        ],
        [
         "Hakkarainen, Mrs. Pekka Pietari (Elin Matilda Dolck)",
         24.0,
         "female",
         "STON/O2. 3101279"
        ],
        [
         "Burke, Mr. Jeremiah",
         19.0,
         "male",
         "365222"
        ],
        [
         "Andrew, Mr. Edgardo Samuel",
         18.0,
         "male",
         "231945"
        ],
        [
         "Nicholls, Mr. Joseph Charles",
         19.0,
         "male",
         "C.A. 33112"
        ],
        [
         "Andersson, Mr. August Edvard (\"Wennerstrom\")",
         27.0,
         "male",
         "350043"
        ],
        [
         "Ford, Miss. Robina Maggie \"Ruby\"",
         9.0,
         "female",
         "W./C. 6608"
        ],
        [
         "Navratil, Mr. Michel (\"Louis M Hoffman\")",
         36.5,
         "male",
         "230080"
        ],
        [
         "Byles, Rev. Thomas Roussel Davids",
         42.0,
         "male",
         "244310"
        ],
        [
         "Bateman, Rev. Robert James",
         51.0,
         "male",
         "S.O.P. 1166"
        ],
        [
         "Pears, Mrs. Thomas (Edith Wearne)",
         22.0,
         "female",
         "113776"
        ],
        [
         "Meo, Mr. Alfonzo",
         55.5,
         "male",
         "A.5. 11206"
        ],
        [
         "van Billiard, Mr. Austin Blyler",
         40.5,
         "male",
         "A/5. 851"
        ],
        [
         "Williams, Mr. Charles Duane",
         51.0,
         "male",
         "PC 17597"
        ],
        [
         "Gilnagh, Miss. Katherine \"Katie\"",
         16.0,
         "female",
         "35851"
        ],
        [
         "Corn, Mr. Harry",
         30.0,
         "male",
         "SOTON/OQ 392090"
        ],
        [
         "Cribb, Mr. John Hatfield",
         44.0,
         "male",
         "371362"
        ],
        [
         "Watt, Mrs. James (Elizabeth \"Bessie\" Inglis Milne)",
         40.0,
         "female",
         "C.A. 33595"
        ],
        [
         "Bengtsson, Mr. John Viktor",
         26.0,
         "male",
         "347068"
        ],
        [
         "Calic, Mr. Jovo",
         17.0,
         "male",
         "315093"
        ],
        [
         "Panula, Master. Eino Viljami",
         1.0,
         "male",
         "3101295"
        ],
        [
         "Goldsmith, Master. Frank John William \"Frankie\"",
         9.0,
         "male",
         "363291"
        ],
        [
         "Skoog, Mrs. William (Anna Bernhardina Karlsson)",
         45.0,
         "female",
         "347088"
        ],
        [
         "Ling, Mr. Lee",
         28.0,
         "male",
         "1601"
        ],
        [
         "Van der hoef, Mr. Wyckoff",
         61.0,
         "male",
         "111240"
        ],
        [
         "Rice, Master. Arthur",
         4.0,
         "male",
         "382652"
        ],
        [
         "Johnson, Miss. Eleanor Ileen",
         1.0,
         "female",
         "347742"
        ],
        [
         "Sivola, Mr. Antti Wilhelm",
         21.0,
         "male",
         "STON/O 2. 3101280"
        ],
        [
         "Smith, Mr. James Clinch",
         56.0,
         "male",
         "17764"
        ],
        [
         "Klasen, Mr. Klas Albin",
         18.0,
         "male",
         "350404"
        ],
        [
         "Isham, Miss. Ann Elizabeth",
         50.0,
         "female",
         "PC 17595"
        ],
        [
         "Hale, Mr. Reginald",
         30.0,
         "male",
         "250653"
        ],
        [
         "Leonard, Mr. Lionel",
         36.0,
         "male",
         "LINE"
        ],
        [
         "Asplund, Master. Clarence Gustaf Hugo",
         9.0,
         "male",
         "347077"
        ],
        [
         "Becker, Master. Richard F",
         1.0,
         "male",
         "230136"
        ],
        [
         "Kink-Heilmann, Miss. Luise Gretchen",
         4.0,
         "female",
         "315153"
        ],
        [
         "Romaine, Mr. Charles Hallace (\"Mr C Rolmane\")",
         45.0,
         "male",
         "111428"
        ],
        [
         "Bourke, Mr. John",
         40.0,
         "male",
         "364849"
        ],
        [
         "Turcin, Mr. Stjepan",
         36.0,
         "male",
         "349247"
        ],
        [
         "Pinsky, Mrs. (Rosa)",
         32.0,
         "female",
         "234604"
        ],
        [
         "Carbines, Mr. William",
         19.0,
         "male",
         "28424"
        ],
        [
         "Andersen-Jensen, Miss. Carla Christine Nielsine",
         19.0,
         "female",
         "350046"
        ],
        [
         "Navratil, Master. Michel M",
         3.0,
         "male",
         "230080"
        ],
        [
         "Brown, Mrs. James Joseph (Margaret Tobin)",
         44.0,
         "female",
         "PC 17610"
        ],
        [
         "Lurette, Miss. Elise",
         58.0,
         "female",
         "PC 17569"
        ],
        [
         "Olsen, Mr. Karl Siegwart Andreas",
         42.0,
         "male",
         "4579"
        ],
        [
         "Yrois, Miss. Henriette (\"Mrs Harbeck\")",
         24.0,
         "female",
         "248747"
        ],
        [
         "Vande Walle, Mr. Nestor Cyriel",
         28.0,
         "male",
         "345770"
        ],
        [
         "Johanson, Mr. Jakob Alfred",
         34.0,
         "male",
         "3101264"
        ],
        [
         "Youseff, Mr. Gerious",
         45.5,
         "male",
         "2628"
        ],
        [
         "Cohen, Mr. Gurshon \"Gus\"",
         18.0,
         "male",
         "A/5 3540"
        ],
        [
         "Strom, Miss. Telma Matilda",
         2.0,
         "female",
         "347054"
        ],
        [
         "Backstrom, Mr. Karl Alfred",
         32.0,
         "male",
         "3101278"
        ],
        [
         "Albimona, Mr. Nassef Cassem",
         26.0,
         "male",
         "2699"
        ],
        [
         "Carr, Miss. Helen \"Ellen\"",
         16.0,
         "female",
         "367231"
        ],
        [
         "Blank, Mr. Henry",
         40.0,
         "male",
         "112277"
        ],
        [
         "Ali, Mr. Ahmed",
         24.0,
         "male",
         "SOTON/O.Q. 3101311"
        ],
        [
         "Cameron, Miss. Clear Annie",
         35.0,
         "female",
         "F.C.C. 13528"
        ],
        [
         "Perkin, Mr. John Henry",
         22.0,
         "male",
         "A/5 21174"
        ],
        [
         "Givard, Mr. Hans Kristensen",
         30.0,
         "male",
         "250646"
        ],
        [
         "Newell, Miss. Madeleine",
         31.0,
         "female",
         "35273"
        ],
        [
         "Honkanen, Miss. Eliina",
         27.0,
         "female",
         "STON/O2. 3101283"
        ],
        [
         "Jacobsohn, Mr. Sidney Samuel",
         42.0,
         "male",
         "243847"
        ],
        [
         "Bazzani, Miss. Albina",
         32.0,
         "female",
         "11813"
        ],
        [
         "Harris, Mr. Walter",
         30.0,
         "male",
         "W/C 14208"
        ],
        [
         "Sunderland, Mr. Victor Francis",
         16.0,
         "male",
         "SOTON/OQ 392089"
        ],
        [
         "Bracken, Mr. James H",
         27.0,
         "male",
         "220367"
        ],
        [
         "Green, Mr. George Henry",
         51.0,
         "male",
         "21440"
        ],
        [
         "Hoyt, Mr. Frederick Maxfield",
         38.0,
         "male",
         "19943"
        ],
        [
         "Berglund, Mr. Karl Ivar Sven",
         22.0,
         "male",
         "PP 4348"
        ],
        [
         "Mellors, Mr. William John",
         19.0,
         "male",
         "SW/PP 751"
        ],
        [
         "Lovell, Mr. John Hall (\"Henry\")",
         20.5,
         "male",
         "A/5 21173"
        ],
        [
         "Fahlstrom, Mr. Arne Jonas",
         18.0,
         "male",
         "236171"
        ],
        [
         "Harris, Mrs. Henry Birkhardt (Irene Wallach)",
         35.0,
         "female",
         "36973"
        ],
        [
         "Larsson, Mr. Bengt Edvin",
         29.0,
         "male",
         "347067"
        ],
        [
         "Sjostedt, Mr. Ernst Adolf",
         59.0,
         "male",
         "237442"
        ],
        [
         "Asplund, Miss. Lillian Gertrud",
         5.0,
         "female",
         "347077"
        ],
        [
         "Leyson, Mr. Robert William Norman",
         24.0,
         "male",
         "C.A. 29566"
        ],
        [
         "Hold, Mr. Stephen",
         44.0,
         "male",
         "26707"
        ],
        [
         "Collyer, Miss. Marjorie \"Lottie\"",
         8.0,
         "female",
         "C.A. 31921"
        ],
        [
         "Pengelly, Mr. Frederick William",
         19.0,
         "male",
         "28665"
        ],
        [
         "Hunt, Mr. George Henry",
         33.0,
         "male",
         "SCO/W 1585"
        ],
        [
         "Coleridge, Mr. Reginald Charles",
         29.0,
         "male",
         "W./C. 14263"
        ],
        [
         "Maenpaa, Mr. Matti Alexanteri",
         22.0,
         "male",
         "STON/O 2. 3101275"
        ],
        [
         "Attalah, Mr. Sleiman",
         30.0,
         "male",
         "2694"
        ],
        [
         "Minahan, Dr. William Edward",
         44.0,
         "male",
         "19928"
        ],
        [
         "Lindahl, Miss. Agda Thorilda Viktoria",
         25.0,
         "female",
         "347071"
        ],
        [
         "Hamalainen, Mrs. William (Anna)",
         24.0,
         "female",
         "250649"
        ],
        [
         "Beckwith, Mr. Richard Leonard",
         37.0,
         "male",
         "11751"
        ],
        [
         "Carter, Rev. Ernest Courtenay",
         54.0,
         "male",
         "244252"
        ],
        [
         "Strom, Mrs. Wilhelm (Elna Matilda Persson)",
         29.0,
         "female",
         "347054"
        ],
        [
         "Stead, Mr. William Thomas",
         62.0,
         "male",
         "113514"
        ],
        [
         "Lobb, Mr. William Arthur",
         30.0,
         "male",
         "A/5. 3336"
        ],
        [
         "Rosblom, Mrs. Viktor (Helena Wilhelmina)",
         41.0,
         "female",
         "370129"
        ],
        [
         "Touma, Mrs. Darwis (Hanne Youssef Razi)",
         29.0,
         "female",
         "2650"
        ],
        [
         "Cherry, Miss. Gladys",
         30.0,
         "female",
         "110152"
        ],
        [
         "Ward, Miss. Anna",
         35.0,
         "female",
         "PC 17755"
        ],
        [
         "Parrish, Mrs. (Lutie Davis)",
         50.0,
         "female",
         "230433"
        ],
        [
         "Asplund, Master. Edvin Rojj Felix",
         3.0,
         "male",
         "347077"
        ],
        [
         "Taussig, Mr. Emil",
         52.0,
         "male",
         "110413"
        ],
        [
         "Harrison, Mr. William",
         40.0,
         "male",
         "112059"
        ],
        [
         "Reeves, Mr. David",
         36.0,
         "male",
         "C.A. 17248"
        ],
        [
         "Panula, Mr. Ernesti Arvid",
         16.0,
         "male",
         "3101295"
        ],
        [
         "Persson, Mr. Ernst Ulrik",
         25.0,
         "male",
         "347083"
        ],
        [
         "Graham, Mrs. William Thompson (Edith Junkins)",
         58.0,
         "female",
         "PC 17582"
        ],
        [
         "Bissette, Miss. Amelia",
         35.0,
         "female",
         "PC 17760"
        ],
        [
         "Tornquist, Mr. William Henry",
         25.0,
         "male",
         "LINE"
        ],
        [
         "Mellinger, Mrs. (Elizabeth Anne Maidment)",
         41.0,
         "female",
         "250644"
        ],
        [
         "Natsch, Mr. Charles H",
         37.0,
         "male",
         "PC 17596"
        ],
        [
         "Andrews, Miss. Kornelia Theodosia",
         63.0,
         "female",
         "13502"
        ],
        [
         "Lindblom, Miss. Augusta Charlotta",
         45.0,
         "female",
         "347073"
        ],
        [
         "Rice, Master. Eric",
         7.0,
         "male",
         "382652"
        ],
        [
         "Abbott, Mrs. Stanton (Rosa Hunt)",
         35.0,
         "female",
         "C.A. 2673"
        ],
        [
         "Duane, Mr. Frank",
         65.0,
         "male",
         "336439"
        ],
        [
         "Olsson, Mr. Nils Johan Goransson",
         28.0,
         "male",
         "347464"
        ],
        [
         "de Pelsmaeker, Mr. Alfons",
         16.0,
         "male",
         "345778"
        ],
        [
         "Dorking, Mr. Edward Arthur",
         19.0,
         "male",
         "A/5. 10482"
        ],
        [
         "Stankovic, Mr. Ivan",
         33.0,
         "male",
         "349239"
        ],
        [
         "de Mulder, Mr. Theodore",
         30.0,
         "male",
         "345774"
        ],
        [
         "Naidenoff, Mr. Penko",
         22.0,
         "male",
         "349206"
        ],
        [
         "Hosono, Mr. Masabumi",
         42.0,
         "male",
         "237798"
        ],
        [
         "Connolly, Miss. Kate",
         22.0,
         "female",
         "370373"
        ],
        [
         "Barber, Miss. Ellen \"Nellie\"",
         26.0,
         "female",
         "19877"
        ],
        [
         "Bishop, Mrs. Dickinson H (Helen Walton)",
         19.0,
         "female",
         "11967"
        ],
        [
         "Levy, Mr. Rene Jacques",
         36.0,
         "male",
         "SC/Paris 2163"
        ],
        [
         "Haas, Miss. Aloisia",
         24.0,
         "female",
         "349236"
        ],
        [
         "Mineff, Mr. Ivan",
         24.0,
         "male",
         "349233"
        ],
        [
         "Hanna, Mr. Mansour",
         23.5,
         "male",
         "2693"
        ],
        [
         "Allison, Miss. Helen Loraine",
         2.0,
         "female",
         "113781"
        ],
        [
         "Baxter, Mrs. James (Helene DeLaudeniere Chaput)",
         50.0,
         "female",
         "PC 17558"
        ],
        [
         "Johnson, Mr. William Cahoone Jr",
         19.0,
         "male",
         "LINE"
        ],
        [
         "Allison, Master. Hudson Trevor",
         0.92,
         "male",
         "113781"
        ],
        [
         "Penasco y Castellana, Mrs. Victor de Satode (Maria Josefa Perez de Soto y Vallejo)",
         17.0,
         "female",
         "PC 17758"
        ],
        [
         "Abelson, Mr. Samuel",
         30.0,
         "male",
         "P/PP 3381"
        ],
        [
         "Francatelli, Miss. Laura Mabel",
         30.0,
         "female",
         "PC 17485"
        ],
        [
         "Hays, Miss. Margaret Bechstein",
         24.0,
         "female",
         "11767"
        ],
        [
         "Ryerson, Miss. Emily Borie",
         18.0,
         "female",
         "PC 17608"
        ],
        [
         "Lahtinen, Mrs. William (Anna Sylfven)",
         26.0,
         "female",
         "250651"
        ],
        [
         "Hendekovic, Mr. Ignjac",
         28.0,
         "male",
         "349243"
        ],
        [
         "Hart, Mr. Benjamin",
         43.0,
         "male",
         "F.C.C. 13529"
        ],
        [
         "Nilsson, Miss. Helmina Josefina",
         26.0,
         "female",
         "347470"
        ],
        [
         "Kantor, Mrs. Sinai (Miriam Sternin)",
         24.0,
         "female",
         "244367"
        ],
        [
         "Moraweck, Dr. Ernest",
         54.0,
         "male",
         "29011"
        ],
        [
         "Wick, Miss. Mary Natalie",
         31.0,
         "female",
         "36928"
        ],
        [
         "Spedden, Mrs. Frederic Oakley (Margaretta Corning Stone)",
         40.0,
         "female",
         "16966"
        ],
        [
         "Dennis, Mr. Samuel",
         22.0,
         "male",
         "A/5 21172"
        ],
        [
         "Danoff, Mr. Yoto",
         27.0,
         "male",
         "349219"
        ],
        [
         "Slayter, Miss. Hilda Mary",
         30.0,
         "female",
         "234818"
        ],
        [
         "Caldwell, Mrs. Albert Francis (Sylvia Mae Harbaugh)",
         22.0,
         "female",
         "248738"
        ],
        [
         "Young, Miss. Marie Grice",
         36.0,
         "female",
         "PC 17760"
        ],
        [
         "Nysveen, Mr. Johan Hansen",
         61.0,
         "male",
         "345364"
        ],
        [
         "Ball, Mrs. (Ada E Hall)",
         36.0,
         "female",
         "28551"
        ],
        [
         "Goldsmith, Mrs. Frank John (Emily Alice Brown)",
         31.0,
         "female",
         "363291"
        ],
        [
         "Hippach, Miss. Jean Gertrude",
         16.0,
         "female",
         "111361"
        ],
        [
         "Partner, Mr. Austen",
         45.5,
         "male",
         "113043"
        ],
        [
         "Graham, Mr. George Edward",
         38.0,
         "male",
         "PC 17582"
        ],
        [
         "Vander Planke, Mr. Leo Edmondus",
         16.0,
         "male",
         "345764"
        ],
        [
         "Pears, Mr. Thomas Clinton",
         29.0,
         "male",
         "113776"
        ],
        [
         "Burns, Miss. Elizabeth Margaret",
         41.0,
         "female",
         "16966"
        ],
        [
         "Dahl, Mr. Karl Edwart",
         45.0,
         "male",
         "7598"
        ],
        [
         "Blackwell, Mr. Stephen Weart",
         45.0,
         "male",
         "113784"
        ],
        [
         "Navratil, Master. Edmond Roger",
         2.0,
         "male",
         "230080"
        ],
        [
         "Fortune, Miss. Alice Elizabeth",
         24.0,
         "female",
         "19950"
        ],
        [
         "Collander, Mr. Erik Gustaf",
         28.0,
         "male",
         "248740"
        ],
        [
         "Sedgwick, Mr. Charles Frederick Waddington",
         25.0,
         "male",
         "244361"
        ],
        [
         "Fox, Mr. Stanley Hubert",
         36.0,
         "male",
         "229236"
        ],
        [
         "Brown, Miss. Amelia \"Mildred\"",
         24.0,
         "female",
         "248733"
        ],
        [
         "Smith, Miss. Marion Elsie",
         40.0,
         "female",
         "31418"
        ],
        [
         "Coutts, Master. William Loch \"William\"",
         3.0,
         "male",
         "C.A. 37671"
        ],
        [
         "Dimic, Mr. Jovan",
         42.0,
         "male",
         "315088"
        ],
        [
         "Odahl, Mr. Nils Martin",
         23.0,
         "male",
         "7267"
        ],
        [
         "Elias, Mr. Tannous",
         15.0,
         "male",
         "2695"
        ],
        [
         "Arnold-Franchi, Mr. Josef",
         25.0,
         "male",
         "349237"
        ],
        [
         "Vanden Steen, Mr. Leo Peter",
         28.0,
         "male",
         "345783"
        ],
        [
         "Bowerman, Miss. Elsie Edith",
         22.0,
         "female",
         "113505"
        ],
        [
         "Funk, Miss. Annie Clemmer",
         38.0,
         "female",
         "237671"
        ],
        [
         "Skoog, Mr. Wilhelm",
         40.0,
         "male",
         "347088"
        ],
        [
         "del Carlo, Mr. Sebastiano",
         29.0,
         "male",
         "SC/PARIS 2167"
        ],
        [
         "Barbara, Mrs. (Catherine David)",
         45.0,
         "female",
         "2691"
        ],
        [
         "Asim, Mr. Adola",
         35.0,
         "male",
         "SOTON/O.Q. 3101310"
        ],
        [
         "Adahl, Mr. Mauritz Nils Martin",
         30.0,
         "male",
         "C 7076"
        ],
        [
         "Warren, Mrs. Frank Manley (Anna Sophia Atkinson)",
         60.0,
         "female",
         "110813"
        ],
        [
         "Aubart, Mme. Leontine Pauline",
         24.0,
         "female",
         "PC 17477"
        ],
        [
         "Harder, Mr. George Achilles",
         25.0,
         "male",
         "11765"
        ],
        [
         "Wiklund, Mr. Jakob Alfred",
         18.0,
         "male",
         "3101267"
        ],
        [
         "Beavan, Mr. William Thomas",
         19.0,
         "male",
         "323951"
        ],
        [
         "Ringhini, Mr. Sante",
         22.0,
         "male",
         "PC 17760"
        ],
        [
         "Palsson, Miss. Stina Viola",
         3.0,
         "female",
         "349909"
        ],
        [
         "Landergren, Miss. Aurora Adelia",
         22.0,
         "female",
         "C 7077"
        ],
        [
         "Widener, Mr. Harry Elkins",
         27.0,
         "male",
         "113503"
        ],
        [
         "Betros, Mr. Tannous",
         20.0,
         "male",
         "2648"
        ],
        [
         "Gustafsson, Mr. Karl Gideon",
         19.0,
         "male",
         "347069"
        ],
        [
         "Bidois, Miss. Rosalie",
         42.0,
         "female",
         "PC 17757"
        ],
        [
         "Nakid, Miss. Maria (\"Mary\")",
         1.0,
         "female",
         "2653"
        ],
        [
         "Tikkanen, Mr. Juho",
         32.0,
         "male",
         "STON/O 2. 3101293"
        ],
        [
         "Holverson, Mrs. Alexander Oskar (Mary Aline Towner)",
         35.0,
         "female",
         "113789"
        ],
        [
         "Davies, Mr. Charles Henry",
         18.0,
         "male",
         "S.O.C. 14879"
        ],
        [
         "Goodwin, Master. Sidney Leonard",
         1.0,
         "male",
         "CA 2144"
        ],
        [
         "Buss, Miss. Kate",
         36.0,
         "female",
         "27849"
        ],
        [
         "Lehmann, Miss. Bertha",
         17.0,
         "female",
         "SC 1748"
        ],
        [
         "Carter, Mr. William Ernest",
         36.0,
         "male",
         "113760"
        ],
        [
         "Jansson, Mr. Carl Olof",
         21.0,
         "male",
         "350034"
        ],
        [
         "Gustafsson, Mr. Johan Birger",
         28.0,
         "male",
         "3101277"
        ],
        [
         "Newell, Miss. Marjorie",
         23.0,
         "female",
         "35273"
        ],
        [
         "Sandstrom, Mrs. Hjalmar (Agnes Charlotta Bengtsson)",
         24.0,
         "female",
         "PP 9549"
        ],
        [
         "Johansson, Mr. Erik",
         22.0,
         "male",
         "350052"
        ],
        [
         "Olsson, Miss. Elina",
         31.0,
         "female",
         "350407"
        ],
        [
         "McKane, Mr. Peter David",
         46.0,
         "male",
         "28403"
        ],
        [
         "Pain, Dr. Alfred",
         23.0,
         "male",
         "244278"
        ],
        [
         "Trout, Mrs. William H (Jessie L)",
         28.0,
         "female",
         "240929"
        ],
        [
         "Niskanen, Mr. Juha",
         39.0,
         "male",
         "STON/O 2. 3101289"
        ],
        [
         "Adams, Mr. John",
         26.0,
         "male",
         "341826"
        ],
        [
         "Jussila, Miss. Mari Aina",
         21.0,
         "female",
         "4137"
        ],
        [
         "Hakkarainen, Mr. Pekka Pietari",
         28.0,
         "male",
         "STON/O2. 3101279"
        ],
        [
         "Oreskovic, Miss. Marija",
         20.0,
         "female",
         "315096"
        ],
        [
         "Gale, Mr. Shadrach",
         34.0,
         "male",
         "28664"
        ],
        [
         "Widegren, Mr. Carl/Charles Peter",
         51.0,
         "male",
         "347064"
        ],
        [
         "Richards, Master. William Rowe",
         3.0,
         "male",
         "29106"
        ],
        [
         "Birkeland, Mr. Hans Martin Monsen",
         21.0,
         "male",
         "312992"
        ],
        [
         "Minahan, Miss. Daisy E",
         33.0,
         "female",
         "19928"
        ],
        [
         "Sundman, Mr. Johan Julian",
         44.0,
         "male",
         "STON/O 2. 3101269"
        ],
        [
         "Drew, Mrs. James Vivian (Lulu Thorne Christian)",
         34.0,
         "female",
         "28220"
        ],
        [
         "Silven, Miss. Lyyli Karoliina",
         18.0,
         "female",
         "250652"
        ],
        [
         "Matthews, Mr. William John",
         30.0,
         "male",
         "28228"
        ],
        [
         "Van Impe, Miss. Catharina",
         10.0,
         "female",
         "345773"
        ],
        [
         "Charters, Mr. David",
         21.0,
         "male",
         "A/5. 13032"
        ],
        [
         "Zimmerman, Mr. Leo",
         29.0,
         "male",
         "315082"
        ],
        [
         "Danbom, Mrs. Ernst Gilbert (Anna Sigrid Maria Brogren)",
         28.0,
         "female",
         "347080"
        ],
        [
         "Rosblom, Mr. Viktor Richard",
         18.0,
         "male",
         "370129"
        ],
        [
         "Clarke, Mrs. Charles V (Ada Maria Winfield)",
         28.0,
         "female",
         "2003"
        ],
        [
         "Phillips, Miss. Kate Florence (\"Mrs Kate Louise Phillips Marshall\")",
         19.0,
         "female",
         "250655"
        ],
        [
         "Pickard, Mr. Berk (Berk Trembisky)",
         32.0,
         "male",
         "SOTON/O.Q. 392078"
        ],
        [
         "Bjornstrom-Steffansson, Mr. Mauritz Hakan",
         28.0,
         "male",
         "110564"
        ],
        [
         "Louch, Mrs. Charles Alexander (Alice Adelaide Slow)",
         42.0,
         "female",
         "SC/AH 3085"
        ],
        [
         "Kallio, Mr. Nikolai Erland",
         17.0,
         "male",
         "STON/O 2. 3101274"
        ],
        [
         "Silvey, Mr. William Baird",
         50.0,
         "male",
         "13507"
        ],
        [
         "Carter, Miss. Lucile Polk",
         14.0,
         "female",
         "113760"
        ],
        [
         "Ford, Miss. Doolina Margaret \"Daisy\"",
         21.0,
         "female",
         "W./C. 6608"
        ],
        [
         "Richards, Mrs. Sidney (Emily Hocking)",
         24.0,
         "female",
         "29106"
        ],
        [
         "Fortune, Mr. Mark",
         64.0,
         "male",
         "19950"
        ],
        [
         "Kvillner, Mr. Johan Henrik Johannesson",
         31.0,
         "male",
         "C.A. 18723"
        ],
        [
         "Hart, Mrs. Benjamin (Esther Ada Bloomfield)",
         45.0,
         "female",
         "F.C.C. 13529"
        ],
        [
         "Hampe, Mr. Leon",
         20.0,
         "male",
         "345769"
        ],
        [
         "Petterson, Mr. Johan Emil",
         25.0,
         "male",
         "347076"
        ],
        [
         "Reynaldo, Ms. Encarnacion",
         28.0,
         "female",
         "230434"
        ],
        [
         "Dodge, Master. Washington",
         4.0,
         "male",
         "33638"
        ],
        [
         "Mellinger, Miss. Madeleine Violet",
         13.0,
         "female",
         "250644"
        ],
        [
         "Seward, Mr. Frederic Kimber",
         34.0,
         "male",
         "113794"
        ],
        [
         "Baclini, Miss. Marie Catherine",
         5.0,
         "female",
         "2666"
        ],
        [
         "Peuchen, Major. Arthur Godfrey",
         52.0,
         "male",
         "113786"
        ],
        [
         "West, Mr. Edwy Arthur",
         36.0,
         "male",
         "C.A. 34651"
        ],
        [
         "Foreman, Mr. Benjamin Laventall",
         30.0,
         "male",
         "113051"
        ],
        [
         "Goldenberg, Mr. Samuel L",
         49.0,
         "male",
         "17453"
        ],
        [
         "Jalsevac, Mr. Ivan",
         29.0,
         "male",
         "349240"
        ],
        [
         "Millet, Mr. Francis Davis",
         65.0,
         "male",
         "13509"
        ],
        [
         "Toomey, Miss. Ellen",
         50.0,
         "female",
         "F.C.C. 13531"
        ],
        [
         "Anderson, Mr. Harry",
         48.0,
         "male",
         "19952"
        ],
        [
         "Morley, Mr. William",
         34.0,
         "male",
         "364506"
        ],
        [
         "Gee, Mr. Arthur H",
         47.0,
         "male",
         "111320"
        ],
        [
         "Milling, Mr. Jacob Christian",
         48.0,
         "male",
         "234360"
        ],
        [
         "Goncalves, Mr. Manuel Estanslas",
         38.0,
         "male",
         "SOTON/O.Q. 3101306"
        ],
        [
         "Smart, Mr. John Montgomery",
         56.0,
         "male",
         "113792"
        ],
        [
         "Baclini, Miss. Helene Barbara",
         0.75,
         "female",
         "2666"
        ],
        [
         "Cacic, Mr. Luka",
         38.0,
         "male",
         "315089"
        ],
        [
         "West, Mrs. Edwy Arthur (Ada Mary Worth)",
         33.0,
         "female",
         "C.A. 34651"
        ],
        [
         "Jerwan, Mrs. Amin S (Marie Marthe Thuillard)",
         23.0,
         "female",
         "SC/AH Basle 541"
        ],
        [
         "Strandberg, Miss. Ida Sofia",
         22.0,
         "female",
         "7553"
        ],
        [
         "Renouf, Mr. Peter Henry",
         34.0,
         "male",
         "31027"
        ],
        [
         "Braund, Mr. Lewis Richard",
         29.0,
         "male",
         "3460"
        ],
        [
         "Karlsson, Mr. Nils August",
         22.0,
         "male",
         "350060"
        ],
        [
         "Hirvonen, Miss. Hildur E",
         2.0,
         "female",
         "3101298"
        ],
        [
         "Goodwin, Master. Harold Victor",
         9.0,
         "male",
         "CA 2144"
        ],
        [
         "Rouse, Mr. Richard Henry",
         50.0,
         "male",
         "A/5 3594"
        ],
        [
         "Turkula, Mrs. (Hedwig)",
         63.0,
         "female",
         "4134"
        ],
        [
         "Bishop, Mr. Dickinson H",
         25.0,
         "male",
         "11967"
        ],
        [
         "Hoyt, Mrs. Frederick Maxfield (Jane Anne Forby)",
         35.0,
         "female",
         "19943"
        ],
        [
         "Kent, Mr. Edward Austin",
         58.0,
         "male",
         "11771"
        ],
        [
         "Somerton, Mr. Francis William",
         30.0,
         "male",
         "A.5. 18509"
        ],
        [
         "Coutts, Master. Eden Leslie \"Neville\"",
         9.0,
         "male",
         "C.A. 37671"
        ],
        [
         "Windelov, Mr. Einar",
         21.0,
         "male",
         "SOTON/OQ 3101317"
        ],
        [
         "Molson, Mr. Harry Markland",
         55.0,
         "male",
         "113787"
        ],
        [
         "Artagaveytia, Mr. Ramon",
         71.0,
         "male",
         "PC 17609"
        ],
        [
         "Stanley, Mr. Edward Roland",
         21.0,
         "male",
         "A/4 45380"
        ],
        [
         "Eustis, Miss. Elizabeth Mussey",
         54.0,
         "female",
         "36947"
        ],
        [
         "Allison, Mrs. Hudson J C (Bessie Waldo Daniels)",
         25.0,
         "female",
         "113781"
        ],
        [
         "Svensson, Mr. Olof",
         24.0,
         "male",
         "350035"
        ],
        [
         "Calic, Mr. Petar",
         17.0,
         "male",
         "315086"
        ],
        [
         "Canavan, Miss. Mary",
         21.0,
         "female",
         "364846"
        ],
        [
         "Laitinen, Miss. Kristina Sofia",
         37.0,
         "female",
         "4135"
        ],
        [
         "Maioni, Miss. Roberta",
         16.0,
         "female",
         "110152"
        ],
        [
         "Penasco y Castellana, Mr. Victor de Satode",
         18.0,
         "male",
         "PC 17758"
        ],
        [
         "Quick, Mrs. Frederick Charles (Jane Richards)",
         33.0,
         "female",
         "26360"
        ],
        [
         "Olsen, Mr. Henry Margido",
         28.0,
         "male",
         "C 4001"
        ],
        [
         "Lang, Mr. Fang",
         26.0,
         "male",
         "1601"
        ],
        [
         "Daly, Mr. Eugene Patrick",
         29.0,
         "male",
         "382651"
        ],
        [
         "McGough, Mr. James Robert",
         36.0,
         "male",
         "PC 17473"
        ],
        [
         "Rothschild, Mrs. Martin (Elizabeth L. Barrett)",
         54.0,
         "female",
         "PC 17603"
        ],
        [
         "Coleff, Mr. Satio",
         24.0,
         "male",
         "349209"
        ],
        [
         "Walker, Mr. William Anderson",
         47.0,
         "male",
         "36967"
        ],
        [
         "Lemore, Mrs. (Amelia Milley)",
         34.0,
         "female",
         "C.A. 34260"
        ],
        [
         "Angle, Mrs. William A (Florence \"Mary\" Agnes Hughes)",
         36.0,
         "female",
         "226875"
        ],
        [
         "Pavlovic, Mr. Stefo",
         32.0,
         "male",
         "349242"
        ],
        [
         "Perreault, Miss. Anne",
         30.0,
         "female",
         "12749"
        ],
        [
         "Vovk, Mr. Janko",
         22.0,
         "male",
         "349252"
        ],
        [
         "Hippach, Mrs. Louis Albert (Ida Sophia Fischer)",
         44.0,
         "female",
         "111361"
        ],
        [
         "Farrell, Mr. James",
         40.5,
         "male",
         "367232"
        ],
        [
         "Ridsdale, Miss. Lucy",
         50.0,
         "female",
         "W./C. 14258"
        ],
        [
         "Salonen, Mr. Johan Werner",
         39.0,
         "male",
         "3101296"
        ],
        [
         "Hocking, Mr. Richard George",
         23.0,
         "male",
         "29104"
        ],
        [
         "Quick, Miss. Phyllis May",
         2.0,
         "female",
         "26360"
        ],
        [
         "Elias, Mr. Joseph Jr",
         17.0,
         "male",
         "2690"
        ],
        [
         "Cacic, Miss. Marija",
         30.0,
         "female",
         "315084"
        ],
        [
         "Hart, Miss. Eva Miriam",
         7.0,
         "female",
         "F.C.C. 13529"
        ],
        [
         "Butt, Major. Archibald Willingham",
         45.0,
         "male",
         "113050"
        ],
        [
         "LeRoy, Miss. Bertha",
         30.0,
         "female",
         "PC 17761"
        ],
        [
         "Frolicher, Miss. Hedwig Margaritha",
         22.0,
         "female",
         "13568"
        ],
        [
         "Crosby, Miss. Harriet R",
         36.0,
         "female",
         "WE/P 5735"
        ],
        [
         "Andersson, Miss. Ingeborg Constanzia",
         9.0,
         "female",
         "347082"
        ],
        [
         "Andersson, Miss. Sigrid Elisabeth",
         11.0,
         "female",
         "347082"
        ],
        [
         "Beane, Mr. Edward",
         32.0,
         "male",
         "2908"
        ],
        [
         "Douglas, Mr. Walter Donald",
         50.0,
         "male",
         "PC 17761"
        ],
        [
         "Nicholson, Mr. Arthur Ernest",
         64.0,
         "male",
         "693"
        ],
        [
         "Beane, Mrs. Edward (Ethel Clarke)",
         19.0,
         "female",
         "2908"
        ],
        [
         "Goldsmith, Mr. Frank John",
         33.0,
         "male",
         "363291"
        ],
        [
         "Davies, Master. John Morgan Jr",
         8.0,
         "male",
         "C.A. 33112"
        ],
        [
         "Thayer, Mr. John Borland Jr",
         17.0,
         "male",
         "17421"
        ],
        [
         "Sharp, Mr. Percival James R",
         27.0,
         "male",
         "244358"
        ],
        [
         "Leeni, Mr. Fahim (\"Philip Zenni\")",
         22.0,
         "male",
         "2620"
        ],
        [
         "Ohman, Miss. Velin",
         22.0,
         "female",
         "347085"
        ],
        [
         "Wright, Mr. George",
         62.0,
         "male",
         "113807"
        ],
        [
         "Duff Gordon, Lady. (Lucille Christiana Sutherland) (\"Mrs Morgan\")",
         48.0,
         "female",
         "11755"
        ],
        [
         "Taussig, Mrs. Emil (Tillie Mandelbaum)",
         39.0,
         "female",
         "110413"
        ],
        [
         "de Messemaeker, Mrs. Guillaume Joseph (Emma)",
         36.0,
         "female",
         "345572"
        ],
        [
         "Sivic, Mr. Husein",
         40.0,
         "male",
         "349251"
        ],
        [
         "Norman, Mr. Robert Douglas",
         28.0,
         "male",
         "218629"
        ],
        [
         "Davies, Mr. Alfred J",
         24.0,
         "male",
         "A/4 48871"
        ],
        [
         "Stoytcheff, Mr. Ilia",
         19.0,
         "male",
         "349205"
        ],
        [
         "Palsson, Mrs. Nils (Alma Cornelia Berglund)",
         29.0,
         "female",
         "349909"
        ],
        [
         "Jonsson, Mr. Carl",
         32.0,
         "male",
         "350417"
        ],
        [
         "Harris, Mr. George",
         62.0,
         "male",
         "S.W./PP 752"
        ],
        [
         "Appleton, Mrs. Edward Dale (Charlotte Lamson)",
         53.0,
         "female",
         "11769"
        ],
        [
         "Flynn, Mr. John Irwin (\"Irving\")",
         36.0,
         "male",
         "PC 17474"
        ],
        [
         "Rush, Mr. Alfred George John",
         16.0,
         "male",
         "A/4. 20589"
        ],
        [
         "Patchett, Mr. George",
         19.0,
         "male",
         "358585"
        ],
        [
         "Garside, Miss. Ethel",
         34.0,
         "female",
         "243880"
        ],
        [
         "Silvey, Mrs. William Baird (Alice Munger)",
         39.0,
         "female",
         "13507"
        ],
        [
         "Jussila, Mr. Eiriik",
         32.0,
         "male",
         "STON/O 2. 3101286"
        ],
        [
         "Christy, Miss. Julie Rachel",
         25.0,
         "female",
         "237789"
        ],
        [
         "Thayer, Mrs. John Borland (Marian Longstreth Morris)",
         39.0,
         "female",
         "17421"
        ],
        [
         "Downton, Mr. William James",
         54.0,
         "male",
         "28403"
        ],
        [
         "Ross, Mr. John Hugo",
         36.0,
         "male",
         "13049"
        ],
        [
         "Taussig, Miss. Ruth",
         18.0,
         "female",
         "110413"
        ],
        [
         "Jarvis, Mr. John Denzil",
         47.0,
         "male",
         "237565"
        ],
        [
         "Frolicher-Stehli, Mr. Maxmillian",
         60.0,
         "male",
         "13567"
        ],
        [
         "Gilinski, Mr. Eliezer",
         22.0,
         "male",
         "14973"
        ],
        [
         "Rintamaki, Mr. Matti",
         35.0,
         "male",
         "STON/O 2. 3101273"
        ],
        [
         "Stephenson, Mrs. Walter Bertram (Martha Eustis)",
         52.0,
         "female",
         "36947"
        ],
        [
         "Elsbury, Mr. William James",
         47.0,
         "male",
         "A/5 3902"
        ],
        [
         "Chapman, Mr. John Henry",
         37.0,
         "male",
         "SC/AH 29037"
        ],
        [
         "Van Impe, Mr. Jean Baptiste",
         36.0,
         "male",
         "345773"
        ],
        [
         "Johnson, Mr. Alfred",
         49.0,
         "male",
         "LINE"
        ],
        [
         "Duff Gordon, Sir. Cosmo Edmund (\"Mr Morgan\")",
         49.0,
         "male",
         "PC 17485"
        ],
        [
         "Jacobsohn, Mrs. Sidney Samuel (Amy Frances Christy)",
         24.0,
         "female",
         "243847"
        ],
        [
         "Torber, Mr. Ernst William",
         44.0,
         "male",
         "364511"
        ],
        [
         "Homer, Mr. Harry (\"Mr E Haven\")",
         35.0,
         "male",
         "111426"
        ],
        [
         "Lindell, Mr. Edvard Bengtsson",
         36.0,
         "male",
         "349910"
        ],
        [
         "Karaic, Mr. Milan",
         30.0,
         "male",
         "349246"
        ],
        [
         "Daniel, Mr. Robert Williams",
         27.0,
         "male",
         "113804"
        ],
        [
         "Laroche, Mrs. Joseph (Juliette Marie Louise Lafargue)",
         22.0,
         "female",
         "SC/Paris 2123"
        ],
        [
         "Shutes, Miss. Elizabeth W",
         40.0,
         "female",
         "PC 17582"
        ],
        [
         "Andersson, Mrs. Anders Johan (Alfrida Konstantia Brogren)",
         39.0,
         "female",
         "347082"
        ],
        [
         "Brocklebank, Mr. William Alfred",
         35.0,
         "male",
         "364512"
        ],
        [
         "Herman, Miss. Alice",
         24.0,
         "female",
         "220845"
        ],
        [
         "Danbom, Mr. Ernst Gilbert",
         34.0,
         "male",
         "347080"
        ],
        [
         "Lobb, Mrs. William Arthur (Cordelia K Stanlick)",
         26.0,
         "female",
         "A/5. 3336"
        ],
        [
         "Becker, Miss. Marion Louise",
         4.0,
         "female",
         "230136"
        ],
        [
         "Gavey, Mr. Lawrence",
         26.0,
         "male",
         "31028"
        ],
        [
         "Yasbeck, Mr. Antoni",
         27.0,
         "male",
         "2659"
        ],
        [
         "Kimball, Mr. Edwin Nelson Jr",
         42.0,
         "male",
         "11753"
        ],
        [
         "Nakid, Mr. Sahid",
         20.0,
         "male",
         "2653"
        ],
        [
         "Hansen, Mr. Henry Damsgaard",
         21.0,
         "male",
         "350029"
        ],
        [
         "Bowen, Mr. David John \"Dai\"",
         21.0,
         "male",
         "54636"
        ],
        [
         "Sutton, Mr. Frederick",
         61.0,
         "male",
         "36963"
        ],
        [
         "Kirkland, Rev. Charles Leonard",
         57.0,
         "male",
         "219533"
        ],
        [
         "Longley, Miss. Gretchen Fiske",
         21.0,
         "female",
         "13502"
        ],
        [
         "Bostandyeff, Mr. Guentcho",
         26.0,
         "male",
         "349224"
        ],
        [
         "Barkworth, Mr. Algernon Henry Wilson",
         80.0,
         "male",
         "27042"
        ],
        [
         "Lundahl, Mr. Johan Svensson",
         51.0,
         "male",
         "347743"
        ],
        [
         "Stahelin-Maeglin, Dr. Max",
         32.0,
         "male",
         "13214"
        ],
        [
         "Skoog, Miss. Mabel",
         9.0,
         "female",
         "347088"
        ],
        [
         "Davis, Miss. Mary",
         28.0,
         "female",
         "237668"
        ],
        [
         "Leinonen, Mr. Antti Gustaf",
         32.0,
         "male",
         "STON/O 2. 3101292"
        ],
        [
         "Collyer, Mr. Harvey",
         31.0,
         "male",
         "C.A. 31921"
        ],
        [
         "Panula, Mrs. Juha (Maria Emilia Ojala)",
         41.0,
         "female",
         "3101295"
        ],
        [
         "Jensen, Mr. Hans Peder",
         20.0,
         "male",
         "350050"
        ],
        [
         "Sagesser, Mlle. Emma",
         24.0,
         "female",
         "PC 17477"
        ],
        [
         "Skoog, Miss. Margit Elizabeth",
         2.0,
         "female",
         "347088"
        ],
        [
         "Baclini, Miss. Eugenie",
         0.75,
         "female",
         "2666"
        ],
        [
         "Harper, Mr. Henry Sleeper",
         48.0,
         "male",
         "PC 17572"
        ],
        [
         "Cor, Mr. Liudevit",
         19.0,
         "male",
         "349231"
        ],
        [
         "Simonius-Blumer, Col. Oberst Alfons",
         56.0,
         "male",
         "13213"
        ],
        [
         "Stanley, Miss. Amy Zillah Elsie",
         23.0,
         "female",
         "CA. 2314"
        ],
        [
         "Doling, Miss. Elsie",
         18.0,
         "female",
         "231919"
        ],
        [
         "Kalvik, Mr. Johannes Halvorsen",
         21.0,
         "male",
         "8475"
        ],
        [
         "Hegarty, Miss. Hanora \"Nora\"",
         18.0,
         "female",
         "365226"
        ],
        [
         "Hickman, Mr. Leonard Mark",
         24.0,
         "male",
         "S.O.C. 14879"
        ],
        [
         "Bourke, Mrs. John (Catherine)",
         32.0,
         "female",
         "364849"
        ],
        [
         "Eitemiller, Mr. George Floyd",
         23.0,
         "male",
         "29751"
        ],
        [
         "Newell, Mr. Arthur Webster",
         58.0,
         "male",
         "35273"
        ],
        [
         "Frauenthal, Dr. Henry William",
         50.0,
         "male",
         "PC 17611"
        ],
        [
         "Badt, Mr. Mohamed",
         40.0,
         "male",
         "2623"
        ],
        [
         "Colley, Mr. Edward Pomeroy",
         47.0,
         "male",
         "5727"
        ],
        [
         "Coleff, Mr. Peju",
         36.0,
         "male",
         "349210"
        ],
        [
         "Lindqvist, Mr. Eino William",
         20.0,
         "male",
         "STON/O 2. 3101285"
        ],
        [
         "Hickman, Mr. Lewis",
         32.0,
         "male",
         "S.O.C. 14879"
        ],
        [
         "Butler, Mr. Reginald Fenton",
         25.0,
         "male",
         "234686"
        ],
        [
         "Cook, Mr. Jacob",
         43.0,
         "male",
         "A/5 3536"
        ],
        [
         "Brown, Mrs. Thomas William Solomon (Elizabeth Catherine Ford)",
         40.0,
         "female",
         "29750"
        ],
        [
         "Davidson, Mr. Thornton",
         31.0,
         "male",
         "F.C. 12750"
        ],
        [
         "Mitchell, Mr. Henry Michael",
         70.0,
         "male",
         "C.A. 24580"
        ],
        [
         "Wilhelms, Mr. Charles",
         31.0,
         "male",
         "244270"
        ],
        [
         "Edvardsson, Mr. Gustaf Hjalmar",
         18.0,
         "male",
         "349912"
        ],
        [
         "Sawyer, Mr. Frederick Charles",
         24.5,
         "male",
         "342826"
        ],
        [
         "Turja, Miss. Anna Sofia",
         18.0,
         "female",
         "4138"
        ],
        [
         "Goodwin, Mrs. Frederick (Augusta Tyler)",
         43.0,
         "female",
         "CA 2144"
        ],
        [
         "Cardeza, Mr. Thomas Drake Martinez",
         36.0,
         "male",
         "PC 17755"
        ],
        [
         "Hassab, Mr. Hammad",
         27.0,
         "male",
         "PC 17572"
        ],
        [
         "Olsvigen, Mr. Thor Anderson",
         20.0,
         "male",
         "6563"
        ],
        [
         "Goodwin, Mr. Charles Edward",
         14.0,
         "male",
         "CA 2144"
        ],
        [
         "Brown, Mr. Thomas William Solomon",
         60.0,
         "male",
         "29750"
        ],
        [
         "Laroche, Mr. Joseph Philippe Lemercier",
         25.0,
         "male",
         "SC/Paris 2123"
        ],
        [
         "Panula, Mr. Jaako Arnold",
         14.0,
         "male",
         "3101295"
        ],
        [
         "Dakic, Mr. Branko",
         19.0,
         "male",
         "349228"
        ],
        [
         "Fischer, Mr. Eberhard Thelander",
         18.0,
         "male",
         "350036"
        ],
        [
         "Madill, Miss. Georgette Alexandra",
         15.0,
         "female",
         "24160"
        ],
        [
         "Dick, Mr. Albert Adrian",
         31.0,
         "male",
         "17474"
        ],
        [
         "Karun, Miss. Manca",
         4.0,
         "female",
         "349256"
        ],
        [
         "Saad, Mr. Khalil",
         25.0,
         "male",
         "2672"
        ],
        [
         "Weir, Col. John",
         60.0,
         "male",
         "113800"
        ],
        [
         "Chapman, Mr. Charles Henry",
         52.0,
         "male",
         "248731"
        ],
        [
         "Kelly, Mr. James",
         44.0,
         "male",
         "363592"
        ],
        [
         "Thayer, Mr. John Borland",
         49.0,
         "male",
         "17421"
        ],
        [
         "Humblen, Mr. Adolf Mathias Nicolai Olsen",
         42.0,
         "male",
         "348121"
        ],
        [
         "Astor, Mrs. John Jacob (Madeleine Talmadge Force)",
         18.0,
         "female",
         "PC 17757"
        ],
        [
         "Silverthorne, Mr. Spencer Victor",
         35.0,
         "male",
         "PC 17475"
        ],
        [
         "Barbara, Miss. Saiide",
         18.0,
         "female",
         "2691"
        ],
        [
         "Gallagher, Mr. Martin",
         25.0,
         "male",
         "36864"
        ],
        [
         "Hansen, Mr. Henrik Juul",
         26.0,
         "male",
         "350025"
        ],
        [
         "Morley, Mr. Henry Samuel (\"Mr Henry Marshall\")",
         39.0,
         "male",
         "250655"
        ],
        [
         "Kelly, Mrs. Florence \"Fannie\"",
         45.0,
         "female",
         "223596"
        ],
        [
         "Calderhead, Mr. Edward Pennington",
         42.0,
         "male",
         "PC 17476"
        ],
        [
         "Cleaver, Miss. Alice",
         22.0,
         "female",
         "113781"
        ],
        [
         "Mayne, Mlle. Berthe Antonine (\"Mrs de Villiers\")",
         24.0,
         "female",
         "PC 17482"
        ],
        [
         "Taylor, Mr. Elmer Zebley",
         48.0,
         "male",
         "19996"
        ],
        [
         "Larsson, Mr. August Viktor",
         29.0,
         "male",
         "7545"
        ],
        [
         "Greenberg, Mr. Samuel",
         52.0,
         "male",
         "250647"
        ],
        [
         "Soholt, Mr. Peter Andreas Lauritz Andersen",
         19.0,
         "male",
         "348124"
        ],
        [
         "Endres, Miss. Caroline Louise",
         38.0,
         "female",
         "PC 17757"
        ],
        [
         "Troutt, Miss. Edwina Celia \"Winnie\"",
         27.0,
         "female",
         "34218"
        ],
        [
         "Johnson, Mr. Malkolm Joackim",
         33.0,
         "male",
         "347062"
        ],
        [
         "Harper, Miss. Annie Jessie \"Nina\"",
         6.0,
         "female",
         "248727"
        ],
        [
         "Jensen, Mr. Svend Lauritz",
         17.0,
         "male",
         "350048"
        ],
        [
         "Gillespie, Mr. William Henry",
         34.0,
         "male",
         "12233"
        ],
        [
         "Hodges, Mr. Henry Price",
         50.0,
         "male",
         "250643"
        ],
        [
         "Chambers, Mr. Norman Campbell",
         27.0,
         "male",
         "113806"
        ],
        [
         "Oreskovic, Mr. Luka",
         20.0,
         "male",
         "315094"
        ],
        [
         "Renouf, Mrs. Peter Henry (Lillian Jefferys)",
         30.0,
         "female",
         "31027"
        ],
        [
         "Bryhl, Mr. Kurt Arnold Gottfrid",
         25.0,
         "male",
         "236853"
        ],
        [
         "Ilmakangas, Miss. Pieta Sofia",
         25.0,
         "female",
         "STON/O2. 3101271"
        ],
        [
         "Allen, Miss. Elisabeth Walton",
         29.0,
         "female",
         "24160"
        ],
        [
         "Hassan, Mr. Houssein G N",
         11.0,
         "male",
         "2699"
        ],
        [
         "Berriman, Mr. William John",
         23.0,
         "male",
         "28425"
        ],
        [
         "Troupiansky, Mr. Moses Aaron",
         23.0,
         "male",
         "233639"
        ],
        [
         "Williams, Mr. Leslie",
         28.5,
         "male",
         "54636"
        ],
        [
         "Ford, Mrs. Edward (Margaret Ann Watson)",
         48.0,
         "female",
         "W./C. 6608"
        ],
        [
         "Lesurer, Mr. Gustave J",
         35.0,
         "male",
         "PC 17755"
        ],
        [
         "Cavendish, Mr. Tyrell William",
         36.0,
         "male",
         "19877"
        ],
        [
         "Ryerson, Miss. Susan Parker \"Suzette\"",
         21.0,
         "female",
         "PC 17608"
        ],
        [
         "McNamee, Mr. Neal",
         24.0,
         "male",
         "376566"
        ],
        [
         "Stranden, Mr. Juho",
         31.0,
         "male",
         "STON/O 2. 3101288"
        ],
        [
         "Crosby, Capt. Edward Gifford",
         70.0,
         "male",
         "WE/P 5735"
        ],
        [
         "Abbott, Mr. Rossmore Edward",
         16.0,
         "male",
         "C.A. 2673"
        ],
        [
         "Sinkkonen, Miss. Anna",
         30.0,
         "female",
         "250648"
        ],
        [
         "Marvin, Mr. Daniel Warner",
         19.0,
         "male",
         "113773"
        ],
        [
         "Connaghton, Mr. Michael",
         31.0,
         "male",
         "335097"
        ],
        [
         "Wells, Miss. Joan",
         4.0,
         "female",
         "29103"
        ],
        [
         "Moor, Master. Meier",
         6.0,
         "male",
         "392096"
        ],
        [
         "Vande Velde, Mr. Johannes Joseph",
         33.0,
         "male",
         "345780"
        ],
        [
         "Jonkoff, Mr. Lalio",
         23.0,
         "male",
         "349204"
        ],
        [
         "Herman, Mrs. Samuel (Jane Laver)",
         48.0,
         "female",
         "220845"
        ],
        [
         "Hamalainen, Master. Viljo",
         0.67,
         "male",
         "250649"
        ],
        [
         "Carlsson, Mr. August Sigfrid",
         28.0,
         "male",
         "350042"
        ],
        [
         "Bailey, Mr. Percy Andrew",
         18.0,
         "male",
         "29108"
        ],
        [
         "Theobald, Mr. Thomas Leonard",
         34.0,
         "male",
         "363294"
        ],
        [
         "Rothes, the Countess. of (Lucy Noel Martha Dyer-Edwards)",
         33.0,
         "female",
         "110152"
        ],
        [
         "Nirva, Mr. Iisakki Antino Aijo",
         41.0,
         "male",
         "SOTON/O2 3101272"
        ],
        [
         "Barah, Mr. Hanna Assi",
         20.0,
         "male",
         "2663"
        ],
        [
         "Carter, Mrs. William Ernest (Lucile Polk)",
         36.0,
         "female",
         "113760"
        ],
        [
         "Eklund, Mr. Hans Linus",
         16.0,
         "male",
         "347074"
        ],
        [
         "Hogeboom, Mrs. John C (Anna Andrews)",
         51.0,
         "female",
         "13502"
        ],
        [
         "Mangan, Miss. Mary",
         30.5,
         "female",
         "364850"
        ],
        [
         "Gronnestad, Mr. Daniel Danielsen",
         32.0,
         "male",
         "8471"
        ],
        [
         "Lievens, Mr. Rene Aime",
         24.0,
         "male",
         "345781"
        ],
        [
         "Jensen, Mr. Niels Peder",
         48.0,
         "male",
         "350047"
        ],
        [
         "Mack, Mrs. (Mary)",
         57.0,
         "female",
         "S.O./P.P. 3"
        ],
        [
         "Hocking, Mrs. Elizabeth (Eliza Needs)",
         54.0,
         "female",
         "29105"
        ],
        [
         "Myhrman, Mr. Pehr Fabian Oliver Malkolm",
         18.0,
         "male",
         "347078"
        ],
        [
         "Emanuel, Miss. Virginia Ethel",
         5.0,
         "female",
         "364516"
        ],
        [
         "Robert, Mrs. Edward Scott (Elisabeth Walton McMillan)",
         43.0,
         "female",
         "24160"
        ],
        [
         "Ayoub, Miss. Banoura",
         13.0,
         "female",
         "2687"
        ],
        [
         "Dick, Mrs. Albert Adrian (Vera Gillespie)",
         17.0,
         "female",
         "17474"
        ],
        [
         "Long, Mr. Milton Clyde",
         29.0,
         "male",
         "113501"
        ],
        [
         "Ali, Mr. William",
         25.0,
         "male",
         "SOTON/O.Q. 3101312"
        ],
        [
         "Harmer, Mr. Abraham (David Lishin)",
         25.0,
         "male",
         "374887"
        ],
        [
         "Sjoblom, Miss. Anna Sofia",
         18.0,
         "female",
         "3101265"
        ],
        [
         "Rice, Master. George Hugh",
         8.0,
         "male",
         "382652"
        ],
        [
         "Dean, Master. Bertram Vere",
         1.0,
         "male",
         "C.A. 2315"
        ],
        [
         "Guggenheim, Mr. Benjamin",
         46.0,
         "male",
         "PC 17593"
        ],
        [
         "Gaskell, Mr. Alfred",
         16.0,
         "male",
         "239865"
        ],
        [
         "Dantcheff, Mr. Ristiu",
         25.0,
         "male",
         "349203"
        ],
        [
         "Otter, Mr. Richard",
         39.0,
         "male",
         "28213"
        ],
        [
         "Leader, Dr. Alice (Farnham)",
         49.0,
         "female",
         "17465"
        ],
        [
         "Osman, Mrs. Mara",
         31.0,
         "female",
         "349244"
        ],
        [
         "Ibrahim Shawah, Mr. Yousseff",
         30.0,
         "male",
         "2685"
        ],
        [
         "Van Impe, Mrs. Jean Baptiste (Rosalie Paula Govaert)",
         30.0,
         "female",
         "345773"
        ],
        [
         "Ponesell, Mr. Martin",
         34.0,
         "male",
         "250647"
        ],
        [
         "Collyer, Mrs. Harvey (Charlotte Annie Tate)",
         31.0,
         "female",
         "C.A. 31921"
        ],
        [
         "Carter, Master. William Thornton II",
         11.0,
         "male",
         "113760"
        ],
        [
         "Thomas, Master. Assad Alexander",
         0.42,
         "male",
         "2625"
        ],
        [
         "Hedman, Mr. Oskar Arvid",
         27.0,
         "male",
         "347089"
        ],
        [
         "Johansson, Mr. Karl Johan",
         31.0,
         "male",
         "347063"
        ],
        [
         "Andrews, Mr. Thomas Jr",
         39.0,
         "male",
         "112050"
        ],
        [
         "Pettersson, Miss. Ellen Natalia",
         18.0,
         "female",
         "347087"
        ],
        [
         "Meyer, Mr. August",
         39.0,
         "male",
         "248723"
        ],
        [
         "Chambers, Mrs. Norman Campbell (Bertha Griggs)",
         33.0,
         "female",
         "113806"
        ],
        [
         "Alexander, Mr. William",
         26.0,
         "male",
         "3474"
        ],
        [
         "Lester, Mr. James",
         39.0,
         "male",
         "A/4 48871"
        ],
        [
         "Slemen, Mr. Richard James",
         35.0,
         "male",
         "28206"
        ],
        [
         "Andersson, Miss. Ebba Iris Alfrida",
         6.0,
         "female",
         "347082"
        ],
        [
         "Tomlin, Mr. Ernest Portage",
         30.5,
         "male",
         "364499"
        ],
        [
         "Heininen, Miss. Wendla Maria",
         23.0,
         "female",
         "STON/O2. 3101290"
        ],
        [
         "Mallet, Mr. Albert",
         31.0,
         "male",
         "S.C./PARIS 2079"
        ],
        [
         "Holm, Mr. John Fredrik Alexander",
         43.0,
         "male",
         "C 7075"
        ],
        [
         "Skoog, Master. Karl Thorsten",
         10.0,
         "male",
         "347088"
        ],
        [
         "Hays, Mrs. Charles Melville (Clara Jennings Gregg)",
         52.0,
         "female",
         "12749"
        ],
        [
         "Lulic, Mr. Nikola",
         27.0,
         "male",
         "315098"
        ],
        [
         "Reuchlin, Jonkheer. John George",
         38.0,
         "male",
         "19972"
        ],
        [
         "Moor, Mrs. (Beila)",
         27.0,
         "female",
         "392096"
        ],
        [
         "Panula, Master. Urho Abraham",
         2.0,
         "male",
         "3101295"
        ],
        [
         "Mallet, Master. Andre",
         1.0,
         "male",
         "S.C./PARIS 2079"
        ],
        [
         "Stone, Mrs. George Nelson (Martha Evelyn)",
         62.0,
         "female",
         "113572"
        ],
        [
         "Yasbeck, Mrs. Antoni (Selini Alexander)",
         15.0,
         "female",
         "2659"
        ],
        [
         "Richards, Master. George Sibley",
         0.83,
         "male",
         "29106"
        ],
        [
         "Augustsson, Mr. Albert",
         23.0,
         "male",
         "347468"
        ],
        [
         "Allum, Mr. Owen George",
         18.0,
         "male",
         "2223"
        ],
        [
         "Compton, Miss. Sara Rebecca",
         39.0,
         "female",
         "PC 17756"
        ],
        [
         "Pasic, Mr. Jakob",
         21.0,
         "male",
         "315097"
        ],
        [
         "Chip, Mr. Chang",
         32.0,
         "male",
         "1601"
        ],
        [
         "Alhomaki, Mr. Ilmari Rudolf",
         20.0,
         "male",
         "SOTON/O2 3101287"
        ],
        [
         "Mudd, Mr. Thomas Charles",
         16.0,
         "male",
         "S.O./P.P. 3"
        ],
        [
         "Serepeca, Miss. Augusta",
         30.0,
         "female",
         "113798"
        ],
        [
         "Lemberopolous, Mr. Peter L",
         34.5,
         "male",
         "2683"
        ],
        [
         "Culumovic, Mr. Jeso",
         17.0,
         "male",
         "315090"
        ],
        [
         "Abbing, Mr. Anthony",
         42.0,
         "male",
         "C.A. 5547"
        ],
        [
         "Markoff, Mr. Marin",
         35.0,
         "male",
         "349213"
        ],
        [
         "Harper, Rev. John",
         28.0,
         "male",
         "248727"
        ],
        [
         "Andersson, Master. Sigvard Harald Elias",
         4.0,
         "male",
         "347082"
        ],
        [
         "Svensson, Mr. Johan",
         74.0,
         "male",
         "347060"
        ],
        [
         "Boulos, Miss. Nourelain",
         9.0,
         "female",
         "2678"
        ],
        [
         "Lines, Miss. Mary Conover",
         16.0,
         "female",
         "PC 17592"
        ],
        [
         "Carter, Mrs. Ernest Courtenay (Lilian Hughes)",
         44.0,
         "female",
         "244252"
        ],
        [
         "Aks, Mrs. Sam (Leah Rosen)",
         18.0,
         "female",
         "392091"
        ],
        [
         "Wick, Mrs. George Dennick (Mary Hitchcock)",
         45.0,
         "female",
         "36928"
        ],
        [
         "Daly, Mr. Peter Denis ",
         51.0,
         "male",
         "113055"
        ],
        [
         "Baclini, Mrs. Solomon (Latifa Qurban)",
         24.0,
         "female",
         "2666"
        ],
        [
         "Hansen, Mr. Claus Peter",
         41.0,
         "male",
         "350026"
        ],
        [
         "Giles, Mr. Frederick Edward",
         21.0,
         "male",
         "28134"
        ],
        [
         "Swift, Mrs. Frederick Joel (Margaret Welles Barron)",
         48.0,
         "female",
         "17466"
        ],
        [
         "Gill, Mr. John William",
         24.0,
         "male",
         "233866"
        ],
        [
         "Bystrom, Mrs. (Karolina)",
         42.0,
         "female",
         "236852"
        ],
        [
         "Duran y More, Miss. Asuncion",
         27.0,
         "female",
         "SC/PARIS 2149"
        ],
        [
         "Roebling, Mr. Washington Augustus II",
         31.0,
         "male",
         "PC 17590"
        ],
        [
         "Johnson, Master. Harold Theodor",
         4.0,
         "male",
         "347742"
        ],
        [
         "Balkic, Mr. Cerin",
         26.0,
         "male",
         "349248"
        ],
        [
         "Beckwith, Mrs. Richard Leonard (Sallie Monypeny)",
         47.0,
         "female",
         "11751"
        ],
        [
         "Carlsson, Mr. Frans Olof",
         33.0,
         "male",
         "695"
        ],
        [
         "Vander Cruyssen, Mr. Victor",
         47.0,
         "male",
         "345765"
        ],
        [
         "Abelson, Mrs. Samuel (Hannah Wizosky)",
         28.0,
         "female",
         "P/PP 3381"
        ],
        [
         "Najib, Miss. Adele Kiamie \"Jane\"",
         15.0,
         "female",
         "2667"
        ],
        [
         "Gustafsson, Mr. Alfred Ossian",
         20.0,
         "male",
         "7534"
        ],
        [
         "Petroff, Mr. Nedelio",
         19.0,
         "male",
         "349212"
        ],
        [
         "Potter, Mrs. Thomas Jr (Lily Alexenia Wilson)",
         56.0,
         "female",
         "11767"
        ],
        [
         "Shelley, Mrs. William (Imanita Parrish Hall)",
         25.0,
         "female",
         "230433"
        ],
        [
         "Markun, Mr. Johann",
         33.0,
         "male",
         "349257"
        ],
        [
         "Dahlberg, Miss. Gerda Ulrika",
         22.0,
         "female",
         "7552"
        ],
        [
         "Banfield, Mr. Frederick James",
         28.0,
         "male",
         "C.A./SOTON 34068"
        ],
        [
         "Sutehall, Mr. Henry Jr",
         25.0,
         "male",
         "SOTON/OQ 392076"
        ],
        [
         "Rice, Mrs. William (Margaret Norton)",
         39.0,
         "female",
         "382652"
        ],
        [
         "Montvila, Rev. Juozas",
         27.0,
         "male",
         "211536"
        ],
        [
         "Graham, Miss. Margaret Edith",
         19.0,
         "female",
         "112053"
        ],
        [
         "Behr, Mr. Karl Howell",
         26.0,
         "male",
         "111369"
        ],
        [
         "Dooley, Mr. Patrick",
         32.0,
         "male",
         "370376"
        ]
       ],
       "datasetInfos": [],
       "dbfsResultPath": null,
       "isJsonSchema": true,
       "metadata": {
        "dataframeName": "_sqldf",
        "executionCount": 21
       },
       "overflow": false,
       "plotOptions": {
        "customPlotOptions": {},
        "displayType": "table",
        "pivotAggregation": null,
        "pivotColumns": null,
        "xColumns": null,
        "yColumns": null
       },
       "removedWidgets": [],
       "schema": [
        {
         "metadata": "{}",
         "name": "Name",
         "type": "\"string\""
        },
        {
         "metadata": "{}",
         "name": "Age",
         "type": "\"double\""
        },
        {
         "metadata": "{}",
         "name": "Sex",
         "type": "\"string\""
        },
        {
         "metadata": "{}",
         "name": "Ticket",
         "type": "\"string\""
        }
       ],
       "type": "table"
      }
     },
     "output_type": "display_data"
    }
   ],
   "source": [
    "%sql\n",
    "select Name, Age, Sex, Ticket from titanic\n",
    "where Age is not null"
   ]
  },
  {
   "cell_type": "code",
   "execution_count": 0,
   "metadata": {
    "application/vnd.databricks.v1+cell": {
     "cellMetadata": {
      "byteLimit": 2048000,
      "rowLimit": 10000
     },
     "inputWidgets": {},
     "nuid": "cf230767-ba90-44bd-959c-7bca9fb0d7e2",
     "showTitle": false,
     "title": ""
    }
   },
   "outputs": [],
   "source": [
    "_sqldf.write.format(\"csv\").option(\"header\",True).option(\"sep\",\",\").save(\"wasbs://output@account4st0rage.blob.core.windows.net/sortedfile.csv\")"
   ]
  },
  {
   "cell_type": "code",
   "execution_count": 0,
   "metadata": {
    "application/vnd.databricks.v1+cell": {
     "cellMetadata": {
      "byteLimit": 2048000,
      "rowLimit": 10000
     },
     "inputWidgets": {},
     "nuid": "e7e0a616-0fb9-4ef9-b4c1-aabe321c4490",
     "showTitle": false,
     "title": ""
    }
   },
   "outputs": [
    {
     "output_type": "display_data",
     "data": {
      "text/html": [
       "<style scoped>\n",
       "  .ansiout {\n",
       "    display: block;\n",
       "    unicode-bidi: embed;\n",
       "    white-space: pre-wrap;\n",
       "    word-wrap: break-word;\n",
       "    word-break: break-all;\n",
       "    font-family: \"Source Code Pro\", \"Menlo\", monospace;;\n",
       "    font-size: 13px;\n",
       "    color: #555;\n",
       "    margin-left: 4px;\n",
       "    line-height: 19px;\n",
       "  }\n",
       "</style>"
      ]
     },
     "metadata": {
      "application/vnd.databricks.v1+output": {
       "arguments": {},
       "data": "",
       "errorSummary": "The spark context has stopped and the driver is restarting. Your notebook will be automatically reattached.",
       "errorTraceType": "html",
       "metadata": {},
       "type": "ipynbError"
      }
     },
     "output_type": "display_data"
    }
   ],
   "source": [
    "spark.stop()"
   ]
  },
  {
   "cell_type": "code",
   "execution_count": 0,
   "metadata": {
    "application/vnd.databricks.v1+cell": {
     "cellMetadata": {},
     "inputWidgets": {},
     "nuid": "c5fbf0d8-719b-4705-9b62-f3c4cb2a82fe",
     "showTitle": false,
     "title": ""
    }
   },
   "outputs": [],
   "source": []
  }
 ],
 "metadata": {
  "application/vnd.databricks.v1+notebook": {
   "dashboards": [],
   "language": "python",
   "notebookMetadata": {
    "mostRecentlyExecutedCommandWithImplicitDF": {
     "commandId": 2979889856744178,
     "dataframes": [
      "_sqldf"
     ]
    },
    "pythonIndentUnit": 4
   },
   "notebookName": "Titanic 2023-10-11 12:41:40",
   "widgets": {}
  }
 },
 "nbformat": 4,
 "nbformat_minor": 0
}
